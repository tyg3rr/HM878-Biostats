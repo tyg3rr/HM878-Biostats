{
 "cells": [
  {
   "cell_type": "markdown",
   "metadata": {},
   "source": [
    "# HM 878 Applied Biostatistics Problem Set #1b\n",
    "\n",
    "## T-tests, ANOVA, Chi-Square, Correlation, Simple and Multivariate Linear Regression\n",
    "\n",
    "*This Problem Set will provide students with the opportunity to learn how to use R to conduct basic statistical tests, replicating many tests that were already done in HM 802. The main goal is to make\n",
    "sure you are familiar with R as a system for statistical analysis. Again, output from SPSS from HM 802 is included for comparison.*\n",
    "\n",
    "Analyses include:\n",
    "\n",
    "-   Independent t-test\n",
    "-   ANOVA\n",
    "-   Chi-square\n",
    "-   Correlation\n",
    "-   Simple and multivariate linear regression\n",
    "\n",
    "--------------------------------------------------------------------------------------------------------------------------------------------------------------------------------------------------------\n",
    "\n",
    "*Setting up the code environment*"
   ]
  },
  {
   "cell_type": "code",
   "execution_count": 1,
   "metadata": {
    "vscode": {
     "languageId": "r"
    }
   },
   "outputs": [
    {
     "name": "stderr",
     "output_type": "stream",
     "text": [
      "Warning message:\n",
      "\"package 'car' was built under R version 4.2.3\"\n",
      "Loading required package: carData\n",
      "\n",
      "\n",
      "Attaching package: 'dplyr'\n",
      "\n",
      "\n",
      "The following object is masked from 'package:car':\n",
      "\n",
      "    recode\n",
      "\n",
      "\n",
      "The following objects are masked from 'package:stats':\n",
      "\n",
      "    filter, lag\n",
      "\n",
      "\n",
      "The following objects are masked from 'package:base':\n",
      "\n",
      "    intersect, setdiff, setequal, union\n",
      "\n",
      "\n",
      "── \u001b[1mAttaching core tidyverse packages\u001b[22m ──────────────────────── tidyverse 2.0.0 ──\n",
      "\u001b[32m✔\u001b[39m \u001b[34mforcats  \u001b[39m 1.0.0     \u001b[32m✔\u001b[39m \u001b[34mreadr    \u001b[39m 2.1.4\n",
      "\u001b[32m✔\u001b[39m \u001b[34mggplot2  \u001b[39m 3.4.1     \u001b[32m✔\u001b[39m \u001b[34mstringr  \u001b[39m 1.5.0\n",
      "\u001b[32m✔\u001b[39m \u001b[34mlubridate\u001b[39m 1.9.2     \u001b[32m✔\u001b[39m \u001b[34mtibble   \u001b[39m 3.1.8\n",
      "\u001b[32m✔\u001b[39m \u001b[34mpurrr    \u001b[39m 1.0.1     \u001b[32m✔\u001b[39m \u001b[34mtidyr    \u001b[39m 1.3.0\n",
      "── \u001b[1mConflicts\u001b[22m ────────────────────────────────────────── tidyverse_conflicts() ──\n",
      "\u001b[31m✖\u001b[39m \u001b[34mdplyr\u001b[39m::\u001b[32mfilter()\u001b[39m masks \u001b[34mstats\u001b[39m::filter()\n",
      "\u001b[31m✖\u001b[39m \u001b[34mdplyr\u001b[39m::\u001b[32mlag()\u001b[39m    masks \u001b[34mstats\u001b[39m::lag()\n",
      "\u001b[31m✖\u001b[39m \u001b[34mdplyr\u001b[39m::\u001b[32mrecode()\u001b[39m masks \u001b[34mcar\u001b[39m::recode()\n",
      "\u001b[31m✖\u001b[39m \u001b[34mpurrr\u001b[39m::\u001b[32msome()\u001b[39m   masks \u001b[34mcar\u001b[39m::some()\n",
      "\u001b[36mℹ\u001b[39m Use the conflicted package (\u001b[3m\u001b[34m<http://conflicted.r-lib.org/>\u001b[39m\u001b[23m) to force all conflicts to become errors\n"
     ]
    }
   ],
   "source": [
    "library(car) \n",
    "library(dplyr)\n",
    "library(tidyverse)\n",
    "library(rstatix)"
   ]
  },
  {
   "cell_type": "markdown",
   "metadata": {},
   "source": [
    "--------------------------------------------------------------------------------------------------------------------------------------------------------------------------------------------------------\n",
    "\n",
    "## Question 1\n",
    "\n",
    "Is there a difference in knowledge scores between groups based on sex? Data: COVID-19 Knowledge.csv. Variables: Male and Knowledge Score. Use R to conduct an independent samples t-test using \"Male\" as\n",
    "the grouping variable, and \"Knowledge Score\" as the dependent variable. Calculate and report the appropriate descriptive statistics, and include the Levene's test for equality of variances."
   ]
  },
  {
   "cell_type": "code",
   "execution_count": 2,
   "metadata": {
    "vscode": {
     "languageId": "r"
    }
   },
   "outputs": [],
   "source": [
    "df = read.csv(\"C:\\\\Users\\\\ljens\\\\Downloads\\\\COVID-19 Knowledge, Attitudes, and Behaviors.csv\")"
   ]
  },
  {
   "cell_type": "code",
   "execution_count": 4,
   "metadata": {
    "vscode": {
     "languageId": "r"
    }
   },
   "outputs": [],
   "source": [
    "df$Male <- factor(df$Male)"
   ]
  },
  {
   "cell_type": "code",
   "execution_count": 5,
   "metadata": {
    "vscode": {
     "languageId": "r"
    }
   },
   "outputs": [
    {
     "data": {
      "text/plain": [
       "   Min. 1st Qu.  Median    Mean 3rd Qu.    Max. \n",
       "  0.000   9.000  10.000   9.517  11.000  12.000 "
      ]
     },
     "metadata": {},
     "output_type": "display_data"
    }
   ],
   "source": [
    "df[df$Male == 'Male','KnowledgeScore'] |> summary(KnowledgeScore)"
   ]
  },
  {
   "cell_type": "code",
   "execution_count": 6,
   "metadata": {
    "vscode": {
     "languageId": "r"
    }
   },
   "outputs": [
    {
     "data": {
      "text/plain": [
       "   Min. 1st Qu.  Median    Mean 3rd Qu.    Max. \n",
       "   4.00    9.00   10.00   10.01   11.00   12.00 "
      ]
     },
     "metadata": {},
     "output_type": "display_data"
    }
   ],
   "source": [
    "df[df$Male == 'Female','KnowledgeScore'] |> summary(KnowledgeScore)\n"
   ]
  },
  {
   "cell_type": "code",
   "execution_count": 7,
   "metadata": {
    "vscode": {
     "languageId": "r"
    }
   },
   "outputs": [
    {
     "data": {
      "image/png": "[encoded data removed]",
      "text/plain": [
       "plot without title"
      ]
     },
     "metadata": {
      "image/png": {
       "height": 420,
       "width": 420
      }
     },
     "output_type": "display_data"
    }
   ],
   "source": [
    "ggplot(data = df, aes(x=Male, y=KnowledgeScore)) + \n",
    "  geom_boxplot()"
   ]
  },
  {
   "cell_type": "markdown",
   "metadata": {},
   "source": [
    "Levene’s Test is performed to check for homogeneity of KnowledgeScore variances between Males and Females.\n",
    "\n",
    "Null hypothesis: KnowledgeScore variance is equal between the groups.\n",
    "\n",
    "Alt hypothesis: KnowledgeScore variance is different between the groups.\n",
    "\n",
    "alpha = 0.05"
   ]
  },
  {
   "cell_type": "code",
   "execution_count": 8,
   "metadata": {
    "vscode": {
     "languageId": "r"
    }
   },
   "outputs": [
    {
     "data": {
      "text/html": [
       "<table class=\"dataframe\">\n",
       "<caption>A anova: 2 × 3</caption>\n",
       "<thead>\n",
       "\t<tr><th></th><th scope=col>Df</th><th scope=col>F value</th><th scope=col>Pr(&gt;F)</th></tr>\n",
       "\t<tr><th></th><th scope=col>&lt;int&gt;</th><th scope=col>&lt;dbl&gt;</th><th scope=col>&lt;dbl&gt;</th></tr>\n",
       "</thead>\n",
       "<tbody>\n",
       "\t<tr><th scope=row>group</th><td>   1</td><td>10.79294</td><td>0.001053159</td></tr>\n",
       "\t<tr><th scope=row> </th><td>1032</td><td>      NA</td><td>         NA</td></tr>\n",
       "</tbody>\n",
       "</table>\n"
      ],
      "text/latex": [
       "A anova: 2 × 3\n",
       "\\begin{tabular}{r|lll}\n",
       "  & Df & F value & Pr(>F)\\\\\n",
       "  & <int> & <dbl> & <dbl>\\\\\n",
       "\\hline\n",
       "\tgroup &    1 & 10.79294 & 0.001053159\\\\\n",
       "\t  & 1032 &       NA &          NA\\\\\n",
       "\\end{tabular}\n"
      ],
      "text/markdown": [
       "\n",
       "A anova: 2 × 3\n",
       "\n",
       "| <!--/--> | Df &lt;int&gt; | F value &lt;dbl&gt; | Pr(&gt;F) &lt;dbl&gt; |\n",
       "|---|---|---|---|\n",
       "| group |    1 | 10.79294 | 0.001053159 |\n",
       "| <!----> | 1032 |       NA |          NA |\n",
       "\n"
      ],
      "text/plain": [
       "      Df   F value  Pr(>F)     \n",
       "group    1 10.79294 0.001053159\n",
       "      1032       NA          NA"
      ]
     },
     "metadata": {},
     "output_type": "display_data"
    }
   ],
   "source": [
    "leveneTest(KnowledgeScore ~ Male, df)\n"
   ]
  },
  {
   "cell_type": "markdown",
   "metadata": {},
   "source": [
    "Levene’s test returned p = 0.001, so null is rejected. Mean variances are not homogeneous. We proceed to the t-test.\n",
    "\n",
    "Null hypothesis: There’s no difference in KnowledgeScore means between the two measured genders\n",
    "\n",
    "Alt hypothesis: Mean KnowledgeScore differs between the two measured genders.\n",
    "\n",
    "alpha = 0.05"
   ]
  },
  {
   "cell_type": "code",
   "execution_count": 15,
   "metadata": {
    "vscode": {
     "languageId": "r"
    }
   },
   "outputs": [],
   "source": [
    "t = t.test(df$KnowledgeScore ~ df$Male, var.equal=FALSE)\n"
   ]
  },
  {
   "cell_type": "code",
   "execution_count": 16,
   "metadata": {
    "vscode": {
     "languageId": "r"
    }
   },
   "outputs": [
    {
     "data": {
      "text/plain": [
       "\n",
       "\tWelch Two Sample t-test\n",
       "\n",
       "data:  df$KnowledgeScore by df$Male\n",
       "t = 4.1835, df = 1014.3, p-value = 3.119e-05\n",
       "alternative hypothesis: true difference in means between group Female and group Male is not equal to 0\n",
       "95 percent confidence interval:\n",
       " 0.2603405 0.7203258\n",
       "sample estimates:\n",
       "mean in group Female   mean in group Male \n",
       "           10.006944             9.516611 \n"
      ]
     },
     "metadata": {},
     "output_type": "display_data"
    }
   ],
   "source": [
    "t"
   ]
  },
  {
   "cell_type": "code",
   "execution_count": 16,
   "metadata": {
    "vscode": {
     "languageId": "r"
    }
   },
   "outputs": [
    {
     "name": "stdout",
     "output_type": "stream",
     "text": [
      "[1] \"Female Mean:  10.0069444444444\"\n"
     ]
    }
   ],
   "source": [
    "print(paste('Female Mean: ',as.character(t$estimate)[1]))\n"
   ]
  },
  {
   "cell_type": "code",
   "execution_count": 17,
   "metadata": {
    "vscode": {
     "languageId": "r"
    }
   },
   "outputs": [
    {
     "name": "stdout",
     "output_type": "stream",
     "text": [
      "[1] \"Male Mean:  9.51661129568106\"\n"
     ]
    }
   ],
   "source": [
    "print(paste('Male Mean: ',as.character(t$estimate)[2]))\n"
   ]
  },
  {
   "cell_type": "code",
   "execution_count": 18,
   "metadata": {
    "vscode": {
     "languageId": "r"
    }
   },
   "outputs": [
    {
     "name": "stdout",
     "output_type": "stream",
     "text": [
      "[1] \"p-value:  3.11851265227345e-05\"\n"
     ]
    }
   ],
   "source": [
    "print(paste('p-value: ',as.character(t$p.value)))\n"
   ]
  },
  {
   "cell_type": "markdown",
   "metadata": {},
   "source": [
    "The p-value is lower than alpha, so the null is rejected and we assume that there is a significant difference in mean knowledge scores between the two measured genders."
   ]
  },
  {
   "cell_type": "markdown",
   "metadata": {},
   "source": [
    "--------------------------------------------------------------------------------------------------------------------------------------------------------------------------------------------------------\n",
    "\n",
    "## Question 2\n",
    "\n",
    "Is there a difference in knowledge scores among groups based on generational categories? Data: COVID-19 Knowledge.csv. Variables: Generations and Knowledge Score. Use R to conduct an ANOVA using\n",
    "\"Generations\" as the grouping variable, and \"Knowledge Score\" as the dependent variable. Generate appropriate descriptive stats, and if applicable, generate and interpret post hoc tests."
   ]
  },
  {
   "cell_type": "code",
   "execution_count": 17,
   "metadata": {
    "vscode": {
     "languageId": "r"
    }
   },
   "outputs": [
    {
     "data": {
      "text/html": [
       "<table class=\"dataframe\">\n",
       "<caption>A data.frame: 4 × 2</caption>\n",
       "<thead>\n",
       "\t<tr><th scope=col>Generations</th><th scope=col>KnowledgeScore</th></tr>\n",
       "\t<tr><th scope=col>&lt;chr&gt;</th><th scope=col>&lt;dbl[,2]&gt;</th></tr>\n",
       "</thead>\n",
       "<tbody>\n",
       "\t<tr><td>Baby Boomers</td><td>11, 1</td></tr>\n",
       "\t<tr><td>Gen X       </td><td>10, 2</td></tr>\n",
       "\t<tr><td>Gen Z       </td><td> 9, 2</td></tr>\n",
       "\t<tr><td>Millenials  </td><td>10, 2</td></tr>\n",
       "</tbody>\n",
       "</table>\n"
      ],
      "text/latex": [
       "A data.frame: 4 × 2\n",
       "\\begin{tabular}{ll}\n",
       " Generations & KnowledgeScore\\\\\n",
       " <chr> & <dbl{[},2{]}>\\\\\n",
       "\\hline\n",
       "\t Baby Boomers & 11, 1\\\\\n",
       "\t Gen X        & 10, 2\\\\\n",
       "\t Gen Z        &  9, 2\\\\\n",
       "\t Millenials   & 10, 2\\\\\n",
       "\\end{tabular}\n"
      ],
      "text/markdown": [
       "\n",
       "A data.frame: 4 × 2\n",
       "\n",
       "| Generations &lt;chr&gt; | KnowledgeScore &lt;dbl[,2]&gt; |\n",
       "|---|---|\n",
       "| Baby Boomers | 11, 1 |\n",
       "| Gen X        | 10, 2 |\n",
       "| Gen Z        |  9, 2 |\n",
       "| Millenials   | 10, 2 |\n",
       "\n"
      ],
      "text/plain": [
       "  Generations  KnowledgeScore\n",
       "1 Baby Boomers 11, 1         \n",
       "2 Gen X        10, 2         \n",
       "3 Gen Z         9, 2         \n",
       "4 Millenials   10, 2         "
      ]
     },
     "metadata": {},
     "output_type": "display_data"
    }
   ],
   "source": [
    "aggregate(KnowledgeScore ~ Generations, data=df, function(x) round(c(mean=mean(x), sd=sd(x))))"
   ]
  },
  {
   "cell_type": "code",
   "execution_count": 18,
   "metadata": {
    "vscode": {
     "languageId": "r"
    }
   },
   "outputs": [
    {
     "data": {
      "image/png": "[encoded data removed]",
      "text/plain": [
       "plot without title"
      ]
     },
     "metadata": {
      "image/png": {
       "height": 420,
       "width": 420
      }
     },
     "output_type": "display_data"
    }
   ],
   "source": [
    "ggplot(data = df, aes(x=Generations, y=KnowledgeScore)) + \n",
    "  geom_boxplot()"
   ]
  },
  {
   "cell_type": "code",
   "execution_count": 19,
   "metadata": {
    "vscode": {
     "languageId": "r"
    }
   },
   "outputs": [],
   "source": [
    "nova = aov(KnowledgeScore ~ Generations, data = df)"
   ]
  },
  {
   "cell_type": "code",
   "execution_count": 20,
   "metadata": {
    "vscode": {
     "languageId": "r"
    }
   },
   "outputs": [
    {
     "data": {
      "text/plain": [
       "Call:\n",
       "   aov(formula = KnowledgeScore ~ Generations, data = df)\n",
       "\n",
       "Terms:\n",
       "                Generations Residuals\n",
       "Sum of Squares      100.714  3765.069\n",
       "Deg. of Freedom           3      1030\n",
       "\n",
       "Residual standard error: 1.911912\n",
       "Estimated effects may be unbalanced"
      ]
     },
     "metadata": {},
     "output_type": "display_data"
    }
   ],
   "source": [
    "nova"
   ]
  },
  {
   "cell_type": "code",
   "execution_count": 8,
   "metadata": {
    "vscode": {
     "languageId": "r"
    }
   },
   "outputs": [
    {
     "data": {
      "image/png": "[encoded data removed]",
      "text/plain": [
       "Plot with title \"Histogram of nova$residuals\""
      ]
     },
     "metadata": {
      "image/png": {
       "height": 420,
       "width": 420
      }
     },
     "output_type": "display_data"
    }
   ],
   "source": [
    "hist(nova$residuals)"
   ]
  },
  {
   "cell_type": "code",
   "execution_count": 9,
   "metadata": {
    "vscode": {
     "languageId": "r"
    }
   },
   "outputs": [
    {
     "data": {
      "image/png": "[encoded data removed]",
      "text/plain": [
       "plot without title"
      ]
     },
     "metadata": {
      "image/png": {
       "height": 420,
       "width": 420
      }
     },
     "output_type": "display_data"
    }
   ],
   "source": [
    "qqPlot(nova$residuals, id=FALSE)\n"
   ]
  },
  {
   "cell_type": "code",
   "execution_count": 10,
   "metadata": {
    "vscode": {
     "languageId": "r"
    }
   },
   "outputs": [
    {
     "data": {
      "text/plain": [
       "\n",
       "\tShapiro-Wilk normality test\n",
       "\n",
       "data:  nova$residuals\n",
       "W = 0.90133, p-value < 2.2e-16\n"
      ]
     },
     "metadata": {},
     "output_type": "display_data"
    }
   ],
   "source": [
    "shapiro.test(nova$residuals)\n"
   ]
  },
  {
   "cell_type": "code",
   "execution_count": 20,
   "metadata": {
    "vscode": {
     "languageId": "r"
    }
   },
   "outputs": [
    {
     "data": {
      "text/plain": [
       "              Df Sum Sq Mean Sq F value   Pr(>F)    \n",
       "Generations    3    101   33.57   9.184 5.34e-06 ***\n",
       "Residuals   1030   3765    3.66                     \n",
       "---\n",
       "Signif. codes:  0 '***' 0.001 '**' 0.01 '*' 0.05 '.' 0.1 ' ' 1"
      ]
     },
     "metadata": {},
     "output_type": "display_data"
    }
   ],
   "source": [
    "summary(nova)\n"
   ]
  },
  {
   "cell_type": "code",
   "execution_count": 21,
   "metadata": {
    "vscode": {
     "languageId": "r"
    }
   },
   "outputs": [
    {
     "data": {
      "text/plain": [
       "  Tukey multiple comparisons of means\n",
       "    95% family-wise confidence level\n",
       "\n",
       "Fit: aov(formula = KnowledgeScore ~ Generations, data = df)\n",
       "\n",
       "$Generations\n",
       "                              diff        lwr         upr     p adj\n",
       "Gen X-Baby Boomers      -0.6837912 -1.3206758 -0.04690664 0.0297174\n",
       "Gen Z-Baby Boomers      -1.3562961 -2.1074952 -0.60509705 0.0000227\n",
       "Millenials-Baby Boomers -0.9204619 -1.4366902 -0.40423354 0.0000297\n",
       "Gen Z-Gen X             -0.6725049 -1.3827543  0.03774447 0.0710040\n",
       "Millenials-Gen X        -0.2366707 -0.6912538  0.21791248 0.5377678\n",
       "Millenials-Gen Z         0.4358342 -0.1685861  1.04025453 0.2481295\n"
      ]
     },
     "metadata": {},
     "output_type": "display_data"
    }
   ],
   "source": [
    "TukeyHSD(nova)"
   ]
  },
  {
   "cell_type": "code",
   "execution_count": 22,
   "metadata": {
    "vscode": {
     "languageId": "r"
    }
   },
   "outputs": [
    {
     "data": {
      "image/png": "[encoded data removed]",
      "text/plain": [
       "Plot with title \"95% family-wise confidence level\n",
       "\""
      ]
     },
     "metadata": {
      "image/png": {
       "height": 420,
       "width": 420
      }
     },
     "output_type": "display_data"
    }
   ],
   "source": [
    "plot(TukeyHSD(nova))\n"
   ]
  },
  {
   "cell_type": "markdown",
   "metadata": {},
   "source": [
    "Significant differences are seen between Boomers and basically every other generation. In other words, Boomers had higher Knowledge Scores than every other generation."
   ]
  },
  {
   "cell_type": "code",
   "execution_count": 26,
   "metadata": {
    "vscode": {
     "languageId": "r"
    }
   },
   "outputs": [
    {
     "data": {
      "text/html": [
       "<table class=\"dataframe\">\n",
       "<caption>A rstatix_test: 6 × 8</caption>\n",
       "<thead>\n",
       "\t<tr><th></th><th scope=col>.y.</th><th scope=col>group1</th><th scope=col>group2</th><th scope=col>estimate</th><th scope=col>conf.low</th><th scope=col>conf.high</th><th scope=col>p.adj</th><th scope=col>p.adj.signif</th></tr>\n",
       "\t<tr><th></th><th scope=col>&lt;chr&gt;</th><th scope=col>&lt;chr&gt;</th><th scope=col>&lt;chr&gt;</th><th scope=col>&lt;dbl&gt;</th><th scope=col>&lt;dbl&gt;</th><th scope=col>&lt;dbl&gt;</th><th scope=col>&lt;dbl&gt;</th><th scope=col>&lt;chr&gt;</th></tr>\n",
       "</thead>\n",
       "<tbody>\n",
       "\t<tr><th scope=row>1</th><td>KnowledgeScore</td><td>Baby Boomers</td><td>Gen X     </td><td>-0.6837912</td><td>-1.2183066</td><td>-0.1492759</td><td>6.00e-03</td><td>**  </td></tr>\n",
       "\t<tr><th scope=row>2</th><td>KnowledgeScore</td><td>Baby Boomers</td><td>Gen Z     </td><td>-1.3562961</td><td>-2.1816282</td><td>-0.5309640</td><td>2.26e-04</td><td>*** </td></tr>\n",
       "\t<tr><th scope=row>3</th><td>KnowledgeScore</td><td>Baby Boomers</td><td>Millenials</td><td>-0.9204619</td><td>-1.3418489</td><td>-0.4990749</td><td>3.88e-07</td><td>****</td></tr>\n",
       "\t<tr><th scope=row>4</th><td>KnowledgeScore</td><td>Gen X       </td><td>Gen Z     </td><td>-0.6725049</td><td>-1.4997496</td><td> 0.1547398</td><td>1.53e-01</td><td>ns  </td></tr>\n",
       "\t<tr><th scope=row>5</th><td>KnowledgeScore</td><td>Gen X       </td><td>Millenials</td><td>-0.2366707</td><td>-0.6611437</td><td> 0.1878024</td><td>4.74e-01</td><td>ns  </td></tr>\n",
       "\t<tr><th scope=row>6</th><td>KnowledgeScore</td><td>Gen Z       </td><td>Millenials</td><td> 0.4358342</td><td>-0.3255453</td><td> 1.1972138</td><td>4.41e-01</td><td>ns  </td></tr>\n",
       "</tbody>\n",
       "</table>\n"
      ],
      "text/latex": [
       "A rstatix\\_test: 6 × 8\n",
       "\\begin{tabular}{r|llllllll}\n",
       "  & .y. & group1 & group2 & estimate & conf.low & conf.high & p.adj & p.adj.signif\\\\\n",
       "  & <chr> & <chr> & <chr> & <dbl> & <dbl> & <dbl> & <dbl> & <chr>\\\\\n",
       "\\hline\n",
       "\t1 & KnowledgeScore & Baby Boomers & Gen X      & -0.6837912 & -1.2183066 & -0.1492759 & 6.00e-03 & **  \\\\\n",
       "\t2 & KnowledgeScore & Baby Boomers & Gen Z      & -1.3562961 & -2.1816282 & -0.5309640 & 2.26e-04 & *** \\\\\n",
       "\t3 & KnowledgeScore & Baby Boomers & Millenials & -0.9204619 & -1.3418489 & -0.4990749 & 3.88e-07 & ****\\\\\n",
       "\t4 & KnowledgeScore & Gen X        & Gen Z      & -0.6725049 & -1.4997496 &  0.1547398 & 1.53e-01 & ns  \\\\\n",
       "\t5 & KnowledgeScore & Gen X        & Millenials & -0.2366707 & -0.6611437 &  0.1878024 & 4.74e-01 & ns  \\\\\n",
       "\t6 & KnowledgeScore & Gen Z        & Millenials &  0.4358342 & -0.3255453 &  1.1972138 & 4.41e-01 & ns  \\\\\n",
       "\\end{tabular}\n"
      ],
      "text/markdown": [
       "\n",
       "A rstatix_test: 6 × 8\n",
       "\n",
       "| <!--/--> | .y. &lt;chr&gt; | group1 &lt;chr&gt; | group2 &lt;chr&gt; | estimate &lt;dbl&gt; | conf.low &lt;dbl&gt; | conf.high &lt;dbl&gt; | p.adj &lt;dbl&gt; | p.adj.signif &lt;chr&gt; |\n",
       "|---|---|---|---|---|---|---|---|---|\n",
       "| 1 | KnowledgeScore | Baby Boomers | Gen X      | -0.6837912 | -1.2183066 | -0.1492759 | 6.00e-03 | **   |\n",
       "| 2 | KnowledgeScore | Baby Boomers | Gen Z      | -1.3562961 | -2.1816282 | -0.5309640 | 2.26e-04 | ***  |\n",
       "| 3 | KnowledgeScore | Baby Boomers | Millenials | -0.9204619 | -1.3418489 | -0.4990749 | 3.88e-07 | **** |\n",
       "| 4 | KnowledgeScore | Gen X        | Gen Z      | -0.6725049 | -1.4997496 |  0.1547398 | 1.53e-01 | ns   |\n",
       "| 5 | KnowledgeScore | Gen X        | Millenials | -0.2366707 | -0.6611437 |  0.1878024 | 4.74e-01 | ns   |\n",
       "| 6 | KnowledgeScore | Gen Z        | Millenials |  0.4358342 | -0.3255453 |  1.1972138 | 4.41e-01 | ns   |\n",
       "\n"
      ],
      "text/plain": [
       "  .y.            group1       group2     estimate   conf.low   conf.high \n",
       "1 KnowledgeScore Baby Boomers Gen X      -0.6837912 -1.2183066 -0.1492759\n",
       "2 KnowledgeScore Baby Boomers Gen Z      -1.3562961 -2.1816282 -0.5309640\n",
       "3 KnowledgeScore Baby Boomers Millenials -0.9204619 -1.3418489 -0.4990749\n",
       "4 KnowledgeScore Gen X        Gen Z      -0.6725049 -1.4997496  0.1547398\n",
       "5 KnowledgeScore Gen X        Millenials -0.2366707 -0.6611437  0.1878024\n",
       "6 KnowledgeScore Gen Z        Millenials  0.4358342 -0.3255453  1.1972138\n",
       "  p.adj    p.adj.signif\n",
       "1 6.00e-03 **          \n",
       "2 2.26e-04 ***         \n",
       "3 3.88e-07 ****        \n",
       "4 1.53e-01 ns          \n",
       "5 4.74e-01 ns          \n",
       "6 4.41e-01 ns          "
      ]
     },
     "metadata": {},
     "output_type": "display_data"
    }
   ],
   "source": [
    "games_howell_test(df, KnowledgeScore ~ Generations, conf.level = 0.95, detailed = FALSE)"
   ]
  },
  {
   "cell_type": "markdown",
   "metadata": {},
   "source": [
    "--------------------------------------------------------------------------------------------------------------------------------------------------------------------------------------------------------\n",
    "\n",
    "## Question 3\n",
    "\n",
    "Is there an association between political party ideology/identification and whether respondents report that COVID-19 will be successfully controlled? Data: COVID-19 Knowledge.csv. Variables: RepDemInd\n",
    "and SuccessControl. Use R to conduct a chi-square analysis to determine if there is an association between the two variables.\n"
   ]
  },
  {
   "cell_type": "code",
   "execution_count": 27,
   "metadata": {
    "vscode": {
     "languageId": "r"
    }
   },
   "outputs": [],
   "source": [
    "df = read.csv(\"C:\\\\Users\\\\ljens\\\\Downloads\\\\COVID-19 Knowledge.csv\")\n"
   ]
  },
  {
   "cell_type": "code",
   "execution_count": 34,
   "metadata": {
    "vscode": {
     "languageId": "r"
    }
   },
   "outputs": [],
   "source": [
    "df = df |> mutate(RepDemInd = as.character(factor(RepDemInd)))\n"
   ]
  },
  {
   "cell_type": "code",
   "execution_count": 33,
   "metadata": {
    "vscode": {
     "languageId": "r"
    }
   },
   "outputs": [],
   "source": [
    "df = df |> mutate(SuccessControl = as.character(factor(SuccessControl)))\n"
   ]
  },
  {
   "cell_type": "code",
   "execution_count": 37,
   "metadata": {
    "vscode": {
     "languageId": "r"
    }
   },
   "outputs": [
    {
     "name": "stdout",
     "output_type": "stream",
     "text": [
      "   \n",
      "      1   2   3   4   5\n",
      "  1 123 112  28  13  13\n",
      "  2 118 201 105  51  12\n",
      "  3  55 132  43  19   9\n"
     ]
    }
   ],
   "source": [
    "print(table(df$RepDemInd, df$SuccessControl))"
   ]
  },
  {
   "cell_type": "markdown",
   "metadata": {},
   "source": [
    "Null hypothesis: No association between political ideology and predicted COVID control.\n",
    "\n",
    "Alt hypothesis: Political ideology and predicted COVID control are associated.\n",
    "\n",
    "alpha = 0.05"
   ]
  },
  {
   "cell_type": "code",
   "execution_count": 39,
   "metadata": {
    "vscode": {
     "languageId": "r"
    }
   },
   "outputs": [
    {
     "data": {
      "text/plain": [
       "Number of cases in table: 1034 \n",
       "Number of factors: 2 \n",
       "Test for independence of all factors:\n",
       "\tChisq = 58.87, df = 8, p-value = 7.777e-10"
      ]
     },
     "metadata": {},
     "output_type": "display_data"
    }
   ],
   "source": [
    "summary(table(df$RepDemInd, df$SuccessControl))"
   ]
  },
  {
   "cell_type": "code",
   "execution_count": 38,
   "metadata": {
    "vscode": {
     "languageId": "r"
    }
   },
   "outputs": [
    {
     "data": {
      "text/plain": [
       "\n",
       "\tPearson's Chi-squared test\n",
       "\n",
       "data:  df$RepDemInd and df$SuccessControl\n",
       "X-squared = 58.866, df = 8, p-value = 7.777e-10\n"
      ]
     },
     "metadata": {},
     "output_type": "display_data"
    }
   ],
   "source": [
    "chisq.test(x=df$RepDemInd, y=df$SuccessControl, correct=FALSE)\n"
   ]
  },
  {
   "cell_type": "markdown",
   "metadata": {},
   "source": [
    "P-value is lower than alpha, so we reject the null and assume that the two variables are associated."
   ]
  },
  {
   "cell_type": "markdown",
   "metadata": {},
   "source": [
    "--------------------------------------------------------------------------------------------------------------------------------------------------------------------------------------------------------\n",
    "\n",
    "## Question 4\n",
    "\n",
    "Is there a correlation between the number of cigarettes smoked per day and BMI? Data: Cigarettes Smoked_BMI.csv. Variable: CigarettesSmoked and BMI. Using R, calculate a correlation coefficient and\n",
    "determine statistical significance. Second, using R, conduct a simple linear regression to predict BMI using CigarettesSmoked."
   ]
  },
  {
   "cell_type": "code",
   "execution_count": 41,
   "metadata": {
    "vscode": {
     "languageId": "r"
    }
   },
   "outputs": [],
   "source": [
    "df = read.csv(\"C:\\\\Users\\\\ljens\\\\Downloads\\\\Cigarettes Smoked_BMI.csv\")\n"
   ]
  },
  {
   "cell_type": "markdown",
   "metadata": {},
   "source": [
    "Testing normality of CigarettesSmoked (not normal).\n",
    "\n"
   ]
  },
  {
   "cell_type": "code",
   "execution_count": 31,
   "metadata": {
    "vscode": {
     "languageId": "r"
    }
   },
   "outputs": [
    {
     "data": {
      "text/plain": [
       "\n",
       "\tShapiro-Wilk normality test\n",
       "\n",
       "data:  df$CigarettesSmoked\n",
       "W = 0.95968, p-value = 0.816\n"
      ]
     },
     "metadata": {},
     "output_type": "display_data"
    }
   ],
   "source": [
    "shapiro.test(df$CigarettesSmoked)\n"
   ]
  },
  {
   "cell_type": "markdown",
   "metadata": {},
   "source": [
    "Testing normality of BMI (not normal)\n",
    "\n"
   ]
  },
  {
   "cell_type": "code",
   "execution_count": 32,
   "metadata": {
    "vscode": {
     "languageId": "r"
    }
   },
   "outputs": [
    {
     "data": {
      "text/plain": [
       "\n",
       "\tShapiro-Wilk normality test\n",
       "\n",
       "data:  df$BMI\n",
       "W = 0.94087, p-value = 0.6466\n"
      ]
     },
     "metadata": {},
     "output_type": "display_data"
    }
   ],
   "source": [
    "shapiro.test(df$BMI)\n"
   ]
  },
  {
   "cell_type": "markdown",
   "metadata": {},
   "source": [
    "Using Pearson’s test to test for correlation between CigarettesSmoked and BMI\n",
    "\n"
   ]
  },
  {
   "cell_type": "code",
   "execution_count": 33,
   "metadata": {
    "vscode": {
     "languageId": "r"
    }
   },
   "outputs": [
    {
     "data": {
      "text/plain": [
       "\n",
       "\tPearson's product-moment correlation\n",
       "\n",
       "data:  df$CigarettesSmoked and df$BMI\n",
       "t = 4.3126, df = 5, p-value = 0.007624\n",
       "alternative hypothesis: true correlation is not equal to 0\n",
       "95 percent confidence interval:\n",
       " 0.4063894 0.9833888\n",
       "sample estimates:\n",
       "      cor \n",
       "0.8877615 \n"
      ]
     },
     "metadata": {},
     "output_type": "display_data"
    }
   ],
   "source": [
    "cor.test(x=df$CigarettesSmoked, y=df$BMI, method=\"pearson\")\n"
   ]
  },
  {
   "cell_type": "code",
   "execution_count": 34,
   "metadata": {
    "vscode": {
     "languageId": "r"
    }
   },
   "outputs": [
    {
     "name": "stdout",
     "output_type": "stream",
     "text": [
      "[1] \"Pearson Correlation Coefficient:  0.887761545248006\"\n"
     ]
    }
   ],
   "source": [
    "print(paste(\"Pearson Correlation Coefficient: \", as.character(cor.test(x=df$CigarettesSmoked, y=df$BMI, method=\"pearson\")$estimate)))"
   ]
  },
  {
   "cell_type": "code",
   "execution_count": 35,
   "metadata": {
    "vscode": {
     "languageId": "r"
    }
   },
   "outputs": [
    {
     "name": "stdout",
     "output_type": "stream",
     "text": [
      "[1] \"Pearson P-Value:  0.00762398969022782\"\n"
     ]
    }
   ],
   "source": [
    "print(paste(\"Pearson P-Value: \", as.character(cor.test(x=df$CigarettesSmoked, y=df$BMI, method=\"pearson\")$p.value)))\n"
   ]
  },
  {
   "cell_type": "markdown",
   "metadata": {},
   "source": [
    "As stated, the two variables have statistically significant correlation.\n",
    "\n",
    "Let’s see how the relationship looks in a chart.\n",
    "\n"
   ]
  },
  {
   "cell_type": "code",
   "execution_count": 36,
   "metadata": {
    "vscode": {
     "languageId": "r"
    }
   },
   "outputs": [
    {
     "name": "stderr",
     "output_type": "stream",
     "text": [
      "\u001b[1m\u001b[22m`geom_smooth()` using method = 'loess' and formula = 'y ~ x'\n"
     ]
    },
    {
     "data": {
      "image/png": "[encoded data removed]",
      "text/plain": [
       "plot without title"
      ]
     },
     "metadata": {
      "image/png": {
       "height": 420,
       "width": 420
      }
     },
     "output_type": "display_data"
    }
   ],
   "source": [
    "ggplot(df, aes(x=CigarettesSmoked, y=BMI)) +\n",
    "  geom_point() +\n",
    "  stat_smooth()"
   ]
  },
  {
   "cell_type": "code",
   "execution_count": 37,
   "metadata": {
    "vscode": {
     "languageId": "r"
    }
   },
   "outputs": [],
   "source": [
    "model = lm(BMI ~ CigarettesSmoked, data = df)\n"
   ]
  },
  {
   "cell_type": "code",
   "execution_count": 38,
   "metadata": {
    "vscode": {
     "languageId": "r"
    }
   },
   "outputs": [],
   "source": [
    "corr.coef = model$coefficients[2]\n"
   ]
  },
  {
   "cell_type": "code",
   "execution_count": 39,
   "metadata": {
    "vscode": {
     "languageId": "r"
    }
   },
   "outputs": [],
   "source": [
    "corr.incpt = model$coefficients[1]\n"
   ]
  },
  {
   "cell_type": "code",
   "execution_count": 40,
   "metadata": {
    "vscode": {
     "languageId": "r"
    }
   },
   "outputs": [
    {
     "name": "stdout",
     "output_type": "stream",
     "text": [
      "[1] \"Linear Model: BMI =  0.345375218150087 * CigarettesSmoked +  19.9602094240838\"\n"
     ]
    }
   ],
   "source": [
    "print(paste('Linear Model: BMI = ', corr.coef, '* CigarettesSmoked + ', corr.incpt ))\n"
   ]
  },
  {
   "cell_type": "markdown",
   "metadata": {},
   "source": [
    "Each (daily?) cigarette smoked increased BMI by 0.35\n",
    "\n"
   ]
  },
  {
   "cell_type": "markdown",
   "metadata": {},
   "source": [
    "--------------------------------------------------------------------------------------------------------------------------------------------------------------------------------------------------------\n",
    "\n",
    "## Question 5\n",
    "\n",
    "Run a Multiple Linear Regression. Data: Multiple Linear Regression Data, with Dependent variable: BMI5. Independent variables: HLTHPLN1, RFSMOK3, VEGESU1, and SEX. Remember to test for assumptions for\n",
    "doing a linear regression: equality of variances, multicollinearity, and outliers in the dependent variables. When doing the linear regression remember to also generate Collinearity Statistics and\n",
    "VIF, as well as a Normal P-P Plot to test for normality of residuals.\n"
   ]
  },
  {
   "cell_type": "code",
   "execution_count": 43,
   "metadata": {
    "vscode": {
     "languageId": "r"
    }
   },
   "outputs": [],
   "source": [
    "df <- read.csv(\"C:\\\\Users\\\\ljens\\\\Downloads\\\\Multiple Linear Regression Data.csv\")"
   ]
  },
  {
   "cell_type": "code",
   "execution_count": 44,
   "metadata": {
    "vscode": {
     "languageId": "r"
    }
   },
   "outputs": [
    {
     "data": {
      "text/html": [
       "<style>\n",
       ".list-inline {list-style: none; margin:0; padding: 0}\n",
       ".list-inline>li {display: inline-block}\n",
       ".list-inline>li:not(:last-child)::after {content: \"\\00b7\"; padding: 0 .5ex}\n",
       "</style>\n",
       "<ol class=list-inline><li>'BMI5'</li><li>'SEX'</li><li>'VEGESU1'</li><li>'RFSMOK3'</li><li>'HLTHPLN1'</li></ol>\n"
      ],
      "text/latex": [
       "\\begin{enumerate*}\n",
       "\\item 'BMI5'\n",
       "\\item 'SEX'\n",
       "\\item 'VEGESU1'\n",
       "\\item 'RFSMOK3'\n",
       "\\item 'HLTHPLN1'\n",
       "\\end{enumerate*}\n"
      ],
      "text/markdown": [
       "1. 'BMI5'\n",
       "2. 'SEX'\n",
       "3. 'VEGESU1'\n",
       "4. 'RFSMOK3'\n",
       "5. 'HLTHPLN1'\n",
       "\n",
       "\n"
      ],
      "text/plain": [
       "[1] \"BMI5\"     \"SEX\"      \"VEGESU1\"  \"RFSMOK3\"  \"HLTHPLN1\""
      ]
     },
     "metadata": {},
     "output_type": "display_data"
    }
   ],
   "source": [
    "colnames(df)"
   ]
  },
  {
   "cell_type": "code",
   "execution_count": 48,
   "metadata": {
    "vscode": {
     "languageId": "r"
    }
   },
   "outputs": [],
   "source": [
    "m <- lm(BMI5 ~ HLTHPLN1 + RFSMOK3 + VEGESU1 + SEX, data = df)"
   ]
  },
  {
   "cell_type": "code",
   "execution_count": 49,
   "metadata": {
    "vscode": {
     "languageId": "r"
    }
   },
   "outputs": [
    {
     "data": {
      "text/plain": [
       "\n",
       "Call:\n",
       "lm(formula = BMI5 ~ HLTHPLN1 + RFSMOK3 + VEGESU1 + SEX, data = df)\n",
       "\n",
       "Coefficients:\n",
       "(Intercept)     HLTHPLN1      RFSMOK3      VEGESU1          SEX  \n",
       "   28.33762     -0.16289     -0.21248     -0.05257      0.36618  \n"
      ]
     },
     "metadata": {},
     "output_type": "display_data"
    }
   ],
   "source": [
    "m"
   ]
  },
  {
   "cell_type": "code",
   "execution_count": 50,
   "metadata": {
    "vscode": {
     "languageId": "r"
    }
   },
   "outputs": [
    {
     "data": {
      "text/plain": [
       "\n",
       "Call:\n",
       "lm(formula = BMI5 ~ HLTHPLN1 + RFSMOK3 + VEGESU1 + SEX, data = df)\n",
       "\n",
       "Residuals:\n",
       "    Min      1Q  Median      3Q     Max \n",
       "-16.522  -4.237  -1.102   3.050  71.403 \n",
       "\n",
       "Coefficients:\n",
       "             Estimate Std. Error  t value Pr(>|t|)    \n",
       "(Intercept) 28.337621   0.026376 1074.390  < 2e-16 ***\n",
       "HLTHPLN1    -0.162886   0.022378   -7.279 3.37e-13 ***\n",
       "RFSMOK3     -0.212477   0.014747  -14.409  < 2e-16 ***\n",
       "VEGESU1     -0.052570   0.003251  -16.171  < 2e-16 ***\n",
       "SEX          0.366175   0.019228   19.043  < 2e-16 ***\n",
       "---\n",
       "Signif. codes:  0 '***' 0.001 '**' 0.01 '*' 0.05 '.' 0.1 ' ' 1\n",
       "\n",
       "Residual standard error: 6.277 on 379010 degrees of freedom\n",
       "  (71001 observations deleted due to missingness)\n",
       "Multiple R-squared:  0.002334,\tAdjusted R-squared:  0.002324 \n",
       "F-statistic: 221.7 on 4 and 379010 DF,  p-value: < 2.2e-16\n"
      ]
     },
     "metadata": {},
     "output_type": "display_data"
    }
   ],
   "source": [
    "summary(m)"
   ]
  },
  {
   "cell_type": "code",
   "execution_count": 52,
   "metadata": {
    "vscode": {
     "languageId": "r"
    }
   },
   "outputs": [
    {
     "name": "stdout",
     "output_type": "stream",
     "text": [
      "HLTHPLN1  RFSMOK3  VEGESU1      SEX \n",
      "1.001096 1.001178 1.000677 1.000928 \n"
     ]
    }
   ],
   "source": [
    "print(vif(m))"
   ]
  },
  {
   "cell_type": "code",
   "execution_count": 62,
   "metadata": {
    "vscode": {
     "languageId": "r"
    }
   },
   "outputs": [
    {
     "name": "stdout",
     "output_type": "stream",
     "text": [
      "Call:\n",
      "   aov(formula = m)\n",
      "\n",
      "Terms:\n",
      "                HLTHPLN1  RFSMOK3  VEGESU1      SEX Residuals\n",
      "Sum of Squares      1994     7749    10913    14291  14935139\n",
      "Deg. of Freedom        1        1        1        1    379010\n",
      "\n",
      "Residual standard error: 6.277393\n",
      "Estimated effects may be unbalanced\n",
      "71001 observations deleted due to missingness\n"
     ]
    }
   ],
   "source": [
    "print(aov(m))"
   ]
  },
  {
   "cell_type": "code",
   "execution_count": 63,
   "metadata": {
    "vscode": {
     "languageId": "r"
    }
   },
   "outputs": [
    {
     "data": {
      "text/plain": [
       "                Df   Sum Sq Mean Sq F value   Pr(>F)    \n",
       "HLTHPLN1         1     1994    1994    50.6 1.14e-12 ***\n",
       "RFSMOK3          1     7749    7749   196.6  < 2e-16 ***\n",
       "VEGESU1          1    10913   10913   276.9  < 2e-16 ***\n",
       "SEX              1    14291   14291   362.7  < 2e-16 ***\n",
       "Residuals   379010 14935139      39                     \n",
       "---\n",
       "Signif. codes:  0 '***' 0.001 '**' 0.01 '*' 0.05 '.' 0.1 ' ' 1\n",
       "71001 observations deleted due to missingness"
      ]
     },
     "metadata": {},
     "output_type": "display_data"
    }
   ],
   "source": [
    "summary(aov(m))"
   ]
  },
  {
   "cell_type": "code",
   "execution_count": 59,
   "metadata": {
    "vscode": {
     "languageId": "r"
    }
   },
   "outputs": [],
   "source": [
    "nova <- aov(m)"
   ]
  },
  {
   "cell_type": "code",
   "execution_count": 60,
   "metadata": {
    "vscode": {
     "languageId": "r"
    }
   },
   "outputs": [
    {
     "data": {
      "image/png": "[encoded data removed]",
      "text/plain": [
       "Plot with title \"Histogram of nova$residuals\""
      ]
     },
     "metadata": {
      "image/png": {
       "height": 420,
       "width": 420
      }
     },
     "output_type": "display_data"
    }
   ],
   "source": [
    "hist(nova$residuals)"
   ]
  },
  {
   "cell_type": "code",
   "execution_count": 64,
   "metadata": {
    "vscode": {
     "languageId": "r"
    }
   },
   "outputs": [
    {
     "data": {
      "image/png": "[encoded data removed]",
      "text/plain": [
       "plot without title"
      ]
     },
     "metadata": {
      "image/png": {
       "height": 420,
       "width": 420
      }
     },
     "output_type": "display_data"
    }
   ],
   "source": [
    "qqPlot(nova$residuals, id=FALSE)"
   ]
  }
 ],
 "metadata": {
  "kernelspec": {
   "display_name": "R",
   "language": "R",
   "name": "ir"
  },
  "language_info": {
   "codemirror_mode": "r",
   "file_extension": ".r",
   "mimetype": "text/x-r-source",
   "name": "R",
   "pygments_lexer": "r",
   "version": "4.2.2"
  },
  "orig_nbformat": 4
 },
 "nbformat": 4,
 "nbformat_minor": 2
}
