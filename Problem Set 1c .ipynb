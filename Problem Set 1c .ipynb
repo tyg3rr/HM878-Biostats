{
 "cells": [
  {
   "cell_type": "markdown",
   "metadata": {},
   "source": [
    "# HM 878 Applied Biostatistics Problem Set #1c\n",
    "\n",
    "## Binary Logistic Regression and Cox Proportional Hazards Regression\n",
    "\n",
    "*This Problem Set will provide students with the opportunity to learn\n",
    "how to use R to conduct basic statistical tests, replicating many tests\n",
    "that were already done in HM 802. The main goal is to make sure you are\n",
    "familiar with R as a system for statistical analysis.*\n",
    "\n",
    "Analyses include:\n",
    "\n",
    "-\tBinary logistic regression\n",
    "-\tCox Proportional Hazards Regression\n",
    "\n",
    "\n",
    "------------------------------------------------------------------------\n",
    "\n",
    "*Setting up the code environment*"
   ]
  },
  {
   "cell_type": "code",
   "execution_count": 12,
   "metadata": {
    "vscode": {
     "languageId": "r"
    }
   },
   "outputs": [
    {
     "name": "stderr",
     "output_type": "stream",
     "text": [
      "\n",
      "Attaching package: 'dplyr'\n",
      "\n",
      "\n",
      "The following objects are masked from 'package:stats':\n",
      "\n",
      "    filter, lag\n",
      "\n",
      "\n",
      "The following objects are masked from 'package:base':\n",
      "\n",
      "    intersect, setdiff, setequal, union\n",
      "\n",
      "\n",
      "── \u001b[1mAttaching core tidyverse packages\u001b[22m ──────────────────────── tidyverse 2.0.0 ──\n",
      "\u001b[32m✔\u001b[39m \u001b[34mforcats  \u001b[39m 1.0.0     \u001b[32m✔\u001b[39m \u001b[34mreadr    \u001b[39m 2.1.4\n",
      "\u001b[32m✔\u001b[39m \u001b[34mggplot2  \u001b[39m 3.4.1     \u001b[32m✔\u001b[39m \u001b[34mstringr  \u001b[39m 1.5.0\n",
      "\u001b[32m✔\u001b[39m \u001b[34mlubridate\u001b[39m 1.9.2     \u001b[32m✔\u001b[39m \u001b[34mtibble   \u001b[39m 3.1.8\n",
      "\u001b[32m✔\u001b[39m \u001b[34mpurrr    \u001b[39m 1.0.1     \u001b[32m✔\u001b[39m \u001b[34mtidyr    \u001b[39m 1.3.0\n",
      "── \u001b[1mConflicts\u001b[22m ────────────────────────────────────────── tidyverse_conflicts() ──\n",
      "\u001b[31m✖\u001b[39m \u001b[34mdplyr\u001b[39m::\u001b[32mfilter()\u001b[39m masks \u001b[34mstats\u001b[39m::filter()\n",
      "\u001b[31m✖\u001b[39m \u001b[34mdplyr\u001b[39m::\u001b[32mlag()\u001b[39m    masks \u001b[34mstats\u001b[39m::lag()\n",
      "\u001b[36mℹ\u001b[39m Use the conflicted package (\u001b[3m\u001b[34m<http://conflicted.r-lib.org/>\u001b[39m\u001b[23m) to force all conflicts to become errors\n"
     ]
    }
   ],
   "source": [
    "library(dplyr)\n",
    "library(tidyverse)"
   ]
  },
  {
   "cell_type": "markdown",
   "metadata": {},
   "source": [
    "------------------------------------------------------------------------\n",
    "\n",
    "## Question 1\n",
    "\n",
    "Data: Logistic Regression Data.csv. Variables: Dependent variable: BMI_Categories.  Independent variables: HLTHPLN1, RFSMOK3, VEGESU1, and SEX.  Variables are coded as follows:\n",
    "•\tBMI_Categories (BMI): 0 = Under/Normal Weight, 1 = Overweight/Obese\n",
    "•\tHLTHPLN1 (Has Health care coverage): 0 = No, 1 = Yes\n",
    "•\tRFSMOK3 (Current Smoker): 0 = No, 1 = Yes\n",
    "•\tVEGESU1 (Servings of vegetables per day): continuous, numerical data\n",
    "•\tSEX (Sex): 0 = Female, 1 = Male"
   ]
  },
  {
   "cell_type": "code",
   "execution_count": 2,
   "metadata": {
    "vscode": {
     "languageId": "r"
    }
   },
   "outputs": [],
   "source": [
    "df <- read.csv(\"C:\\\\Users\\\\ljens\\\\Downloads\\\\Logistic  Regression Data.csv\")"
   ]
  },
  {
   "cell_type": "code",
   "execution_count": 3,
   "metadata": {
    "vscode": {
     "languageId": "r"
    }
   },
   "outputs": [
    {
     "data": {
      "text/html": [
       "<style>\n",
       ".list-inline {list-style: none; margin:0; padding: 0}\n",
       ".list-inline>li {display: inline-block}\n",
       ".list-inline>li:not(:last-child)::after {content: \"\\00b7\"; padding: 0 .5ex}\n",
       "</style>\n",
       "<ol class=list-inline><li>'BMI_Categories'</li><li>'SEX'</li><li>'VEGESU1'</li><li>'RFSMOK3'</li><li>'HLTHPLN1'</li></ol>\n"
      ],
      "text/latex": [
       "\\begin{enumerate*}\n",
       "\\item 'BMI\\_Categories'\n",
       "\\item 'SEX'\n",
       "\\item 'VEGESU1'\n",
       "\\item 'RFSMOK3'\n",
       "\\item 'HLTHPLN1'\n",
       "\\end{enumerate*}\n"
      ],
      "text/markdown": [
       "1. 'BMI_Categories'\n",
       "2. 'SEX'\n",
       "3. 'VEGESU1'\n",
       "4. 'RFSMOK3'\n",
       "5. 'HLTHPLN1'\n",
       "\n",
       "\n"
      ],
      "text/plain": [
       "[1] \"BMI_Categories\" \"SEX\"            \"VEGESU1\"        \"RFSMOK3\"       \n",
       "[5] \"HLTHPLN1\"      "
      ]
     },
     "metadata": {},
     "output_type": "display_data"
    }
   ],
   "source": [
    "colnames(df)"
   ]
  },
  {
   "cell_type": "code",
   "execution_count": 4,
   "metadata": {
    "vscode": {
     "languageId": "r"
    }
   },
   "outputs": [
    {
     "data": {
      "text/html": [
       "<table class=\"dataframe\">\n",
       "<caption>A data.frame: 6 × 5</caption>\n",
       "<thead>\n",
       "\t<tr><th></th><th scope=col>BMI_Categories</th><th scope=col>SEX</th><th scope=col>VEGESU1</th><th scope=col>RFSMOK3</th><th scope=col>HLTHPLN1</th></tr>\n",
       "\t<tr><th></th><th scope=col>&lt;int&gt;</th><th scope=col>&lt;int&gt;</th><th scope=col>&lt;dbl&gt;</th><th scope=col>&lt;int&gt;</th><th scope=col>&lt;int&gt;</th></tr>\n",
       "</thead>\n",
       "<tbody>\n",
       "\t<tr><th scope=row>1</th><td>0</td><td>0</td><td>3.00</td><td>0</td><td>1</td></tr>\n",
       "\t<tr><th scope=row>2</th><td>1</td><td>1</td><td>1.17</td><td>1</td><td>1</td></tr>\n",
       "\t<tr><th scope=row>3</th><td>0</td><td>1</td><td>3.29</td><td>0</td><td>1</td></tr>\n",
       "\t<tr><th scope=row>4</th><td>1</td><td>1</td><td>2.58</td><td>0</td><td>1</td></tr>\n",
       "\t<tr><th scope=row>5</th><td>1</td><td>0</td><td>2.29</td><td>0</td><td>1</td></tr>\n",
       "\t<tr><th scope=row>6</th><td>0</td><td>0</td><td>1.50</td><td>0</td><td>1</td></tr>\n",
       "</tbody>\n",
       "</table>\n"
      ],
      "text/latex": [
       "A data.frame: 6 × 5\n",
       "\\begin{tabular}{r|lllll}\n",
       "  & BMI\\_Categories & SEX & VEGESU1 & RFSMOK3 & HLTHPLN1\\\\\n",
       "  & <int> & <int> & <dbl> & <int> & <int>\\\\\n",
       "\\hline\n",
       "\t1 & 0 & 0 & 3.00 & 0 & 1\\\\\n",
       "\t2 & 1 & 1 & 1.17 & 1 & 1\\\\\n",
       "\t3 & 0 & 1 & 3.29 & 0 & 1\\\\\n",
       "\t4 & 1 & 1 & 2.58 & 0 & 1\\\\\n",
       "\t5 & 1 & 0 & 2.29 & 0 & 1\\\\\n",
       "\t6 & 0 & 0 & 1.50 & 0 & 1\\\\\n",
       "\\end{tabular}\n"
      ],
      "text/markdown": [
       "\n",
       "A data.frame: 6 × 5\n",
       "\n",
       "| <!--/--> | BMI_Categories &lt;int&gt; | SEX &lt;int&gt; | VEGESU1 &lt;dbl&gt; | RFSMOK3 &lt;int&gt; | HLTHPLN1 &lt;int&gt; |\n",
       "|---|---|---|---|---|---|\n",
       "| 1 | 0 | 0 | 3.00 | 0 | 1 |\n",
       "| 2 | 1 | 1 | 1.17 | 1 | 1 |\n",
       "| 3 | 0 | 1 | 3.29 | 0 | 1 |\n",
       "| 4 | 1 | 1 | 2.58 | 0 | 1 |\n",
       "| 5 | 1 | 0 | 2.29 | 0 | 1 |\n",
       "| 6 | 0 | 0 | 1.50 | 0 | 1 |\n",
       "\n"
      ],
      "text/plain": [
       "  BMI_Categories SEX VEGESU1 RFSMOK3 HLTHPLN1\n",
       "1 0              0   3.00    0       1       \n",
       "2 1              1   1.17    1       1       \n",
       "3 0              1   3.29    0       1       \n",
       "4 1              1   2.58    0       1       \n",
       "5 1              0   2.29    0       1       \n",
       "6 0              0   1.50    0       1       "
      ]
     },
     "metadata": {},
     "output_type": "display_data"
    }
   ],
   "source": [
    "head(df)"
   ]
  },
  {
   "cell_type": "code",
   "execution_count": 5,
   "metadata": {
    "vscode": {
     "languageId": "r"
    }
   },
   "outputs": [],
   "source": [
    "df$SEX[df$SEX == 9] <- NA\n",
    "df$RFSMOK3[df$RFSMOK3 == 9] <- NA\n",
    "df$HLTHPLN1[df$HLTHPLN1 == 7] <- NA\n",
    "df$HLTHPLN1[df$HLTHPLN1 == 9] <- NA\n"
   ]
  },
  {
   "cell_type": "code",
   "execution_count": 6,
   "metadata": {
    "vscode": {
     "languageId": "r"
    }
   },
   "outputs": [],
   "source": [
    "model <- glm(BMI_Categories ~ SEX + VEGESU1 + RFSMOK3 + HLTHPLN1, family = binomial, data=df)"
   ]
  },
  {
   "cell_type": "code",
   "execution_count": 7,
   "metadata": {
    "vscode": {
     "languageId": "r"
    }
   },
   "outputs": [
    {
     "data": {
      "text/plain": [
       "\n",
       "Call:\n",
       "glm(formula = BMI_Categories ~ SEX + VEGESU1 + RFSMOK3 + HLTHPLN1, \n",
       "    family = binomial, data = df)\n",
       "\n",
       "Deviance Residuals: \n",
       "    Min       1Q   Median       3Q      Max  \n",
       "-1.6728  -1.4246   0.7606   0.9421   1.5062  \n",
       "\n",
       "Coefficients:\n",
       "             Estimate Std. Error z value Pr(>|z|)    \n",
       "(Intercept)  0.596689   0.082172   7.261 3.83e-13 ***\n",
       "SEX          0.516664   0.041701  12.390  < 2e-16 ***\n",
       "VEGESU1     -0.012233   0.007518  -1.627    0.104    \n",
       "RFSMOK3     -0.324687   0.055745  -5.825 5.73e-09 ***\n",
       "HLTHPLN1     0.002817   0.079792   0.035    0.972    \n",
       "---\n",
       "Signif. codes:  0 '***' 0.001 '**' 0.01 '*' 0.05 '.' 0.1 ' ' 1\n",
       "\n",
       "(Dispersion parameter for binomial family taken to be 1)\n",
       "\n",
       "    Null deviance: 13938  on 11101  degrees of freedom\n",
       "Residual deviance: 13750  on 11097  degrees of freedom\n",
       "  (2273 observations deleted due to missingness)\n",
       "AIC: 13760\n",
       "\n",
       "Number of Fisher Scoring iterations: 4\n"
      ]
     },
     "metadata": {},
     "output_type": "display_data"
    }
   ],
   "source": [
    "summary(model)"
   ]
  },
  {
   "cell_type": "code",
   "execution_count": 27,
   "metadata": {
    "vscode": {
     "languageId": "r"
    }
   },
   "outputs": [],
   "source": [
    "int_model <- glm(BMI_Categories ~ 1, family = binomial, data=df)"
   ]
  },
  {
   "cell_type": "code",
   "execution_count": 29,
   "metadata": {
    "vscode": {
     "languageId": "r"
    }
   },
   "outputs": [
    {
     "data": {
      "text/html": [
       "<table class=\"dataframe\">\n",
       "<caption>A data.frame: 1 × 1</caption>\n",
       "<thead>\n",
       "\t<tr><th></th><th scope=col>exp.coef.int_model..</th></tr>\n",
       "\t<tr><th></th><th scope=col>&lt;dbl&gt;</th></tr>\n",
       "</thead>\n",
       "<tbody>\n",
       "\t<tr><th scope=row>(Intercept)</th><td>2.084237</td></tr>\n",
       "</tbody>\n",
       "</table>\n"
      ],
      "text/latex": [
       "A data.frame: 1 × 1\n",
       "\\begin{tabular}{r|l}\n",
       "  & exp.coef.int\\_model..\\\\\n",
       "  & <dbl>\\\\\n",
       "\\hline\n",
       "\t(Intercept) & 2.084237\\\\\n",
       "\\end{tabular}\n"
      ],
      "text/markdown": [
       "\n",
       "A data.frame: 1 × 1\n",
       "\n",
       "| <!--/--> | exp.coef.int_model.. &lt;dbl&gt; |\n",
       "|---|---|\n",
       "| (Intercept) | 2.084237 |\n",
       "\n"
      ],
      "text/plain": [
       "            exp.coef.int_model..\n",
       "(Intercept) 2.084237            "
      ]
     },
     "metadata": {},
     "output_type": "display_data"
    }
   ],
   "source": [
    "data.frame(exp(coef(int_model)))\n"
   ]
  },
  {
   "cell_type": "code",
   "execution_count": 32,
   "metadata": {
    "vscode": {
     "languageId": "r"
    }
   },
   "outputs": [
    {
     "name": "stderr",
     "output_type": "stream",
     "text": [
      "Waiting for profiling to be done...\n",
      "\n"
     ]
    },
    {
     "data": {
      "text/html": [
       "<table class=\"dataframe\">\n",
       "<caption>A data.frame: 2 × 1</caption>\n",
       "<thead>\n",
       "\t<tr><th></th><th scope=col>exp.confint.int_model..</th></tr>\n",
       "\t<tr><th></th><th scope=col>&lt;dbl&gt;</th></tr>\n",
       "</thead>\n",
       "<tbody>\n",
       "\t<tr><th scope=row>2.5 %</th><td>2.006961</td></tr>\n",
       "\t<tr><th scope=row>97.5 %</th><td>2.164852</td></tr>\n",
       "</tbody>\n",
       "</table>\n"
      ],
      "text/latex": [
       "A data.frame: 2 × 1\n",
       "\\begin{tabular}{r|l}\n",
       "  & exp.confint.int\\_model..\\\\\n",
       "  & <dbl>\\\\\n",
       "\\hline\n",
       "\t2.5 \\% & 2.006961\\\\\n",
       "\t97.5 \\% & 2.164852\\\\\n",
       "\\end{tabular}\n"
      ],
      "text/markdown": [
       "\n",
       "A data.frame: 2 × 1\n",
       "\n",
       "| <!--/--> | exp.confint.int_model.. &lt;dbl&gt; |\n",
       "|---|---|\n",
       "| 2.5 % | 2.006961 |\n",
       "| 97.5 % | 2.164852 |\n",
       "\n"
      ],
      "text/plain": [
       "       exp.confint.int_model..\n",
       "2.5 %  2.006961               \n",
       "97.5 % 2.164852               "
      ]
     },
     "metadata": {},
     "output_type": "display_data"
    }
   ],
   "source": [
    "data.frame(exp(confint(int_model)))"
   ]
  },
  {
   "cell_type": "code",
   "execution_count": 21,
   "metadata": {
    "vscode": {
     "languageId": "r"
    }
   },
   "outputs": [
    {
     "name": "stderr",
     "output_type": "stream",
     "text": [
      "Waiting for profiling to be done...\n",
      "\n"
     ]
    },
    {
     "data": {
      "text/html": [
       "<table class=\"dataframe\">\n",
       "<caption>A data.frame: 5 × 3</caption>\n",
       "<thead>\n",
       "\t<tr><th></th><th scope=col>exp.coef.model..</th><th scope=col>X2.5..</th><th scope=col>X97.5..</th></tr>\n",
       "\t<tr><th></th><th scope=col>&lt;dbl&gt;</th><th scope=col>&lt;dbl&gt;</th><th scope=col>&lt;dbl&gt;</th></tr>\n",
       "</thead>\n",
       "<tbody>\n",
       "\t<tr><th scope=row>(Intercept)</th><td>1.8160957</td><td>1.5475785</td><td>2.1360013</td></tr>\n",
       "\t<tr><th scope=row>SEX</th><td>1.6764266</td><td>1.5450610</td><td>1.8194530</td></tr>\n",
       "\t<tr><th scope=row>VEGESU1</th><td>0.9878410</td><td>0.9730151</td><td>1.0026220</td></tr>\n",
       "\t<tr><th scope=row>RFSMOK3</th><td>0.7227536</td><td>0.6481260</td><td>0.8064431</td></tr>\n",
       "\t<tr><th scope=row>HLTHPLN1</th><td>1.0028209</td><td>0.8565683</td><td>1.1712653</td></tr>\n",
       "</tbody>\n",
       "</table>\n"
      ],
      "text/latex": [
       "A data.frame: 5 × 3\n",
       "\\begin{tabular}{r|lll}\n",
       "  & exp.coef.model.. & X2.5.. & X97.5..\\\\\n",
       "  & <dbl> & <dbl> & <dbl>\\\\\n",
       "\\hline\n",
       "\t(Intercept) & 1.8160957 & 1.5475785 & 2.1360013\\\\\n",
       "\tSEX & 1.6764266 & 1.5450610 & 1.8194530\\\\\n",
       "\tVEGESU1 & 0.9878410 & 0.9730151 & 1.0026220\\\\\n",
       "\tRFSMOK3 & 0.7227536 & 0.6481260 & 0.8064431\\\\\n",
       "\tHLTHPLN1 & 1.0028209 & 0.8565683 & 1.1712653\\\\\n",
       "\\end{tabular}\n"
      ],
      "text/markdown": [
       "\n",
       "A data.frame: 5 × 3\n",
       "\n",
       "| <!--/--> | exp.coef.model.. &lt;dbl&gt; | X2.5.. &lt;dbl&gt; | X97.5.. &lt;dbl&gt; |\n",
       "|---|---|---|---|\n",
       "| (Intercept) | 1.8160957 | 1.5475785 | 2.1360013 |\n",
       "| SEX | 1.6764266 | 1.5450610 | 1.8194530 |\n",
       "| VEGESU1 | 0.9878410 | 0.9730151 | 1.0026220 |\n",
       "| RFSMOK3 | 0.7227536 | 0.6481260 | 0.8064431 |\n",
       "| HLTHPLN1 | 1.0028209 | 0.8565683 | 1.1712653 |\n",
       "\n"
      ],
      "text/plain": [
       "            exp.coef.model.. X2.5..    X97.5..  \n",
       "(Intercept) 1.8160957        1.5475785 2.1360013\n",
       "SEX         1.6764266        1.5450610 1.8194530\n",
       "VEGESU1     0.9878410        0.9730151 1.0026220\n",
       "RFSMOK3     0.7227536        0.6481260 0.8064431\n",
       "HLTHPLN1    1.0028209        0.8565683 1.1712653"
      ]
     },
     "metadata": {},
     "output_type": "display_data"
    }
   ],
   "source": [
    "cbind(data.frame(exp(coef(model))), data.frame(exp(confint(model))))"
   ]
  },
  {
   "cell_type": "markdown",
   "metadata": {},
   "source": []
  },
  {
   "cell_type": "markdown",
   "metadata": {},
   "source": [
    "------------------------------------------------------------------------\n",
    "\n",
    "## Question 2\n",
    "\n",
    "Run a Cox Regression. Data: Cox Proportional Hazard Regression Data. Variables: Use TimeDeathYears as the “Time” variable. Death is the Status or Event variable.  Use cursmoke, diabetes, educ, prevchd, age, bmi, and sex as the covariates. For the categorical variables, make sure that not a current smoker, no diabetes, the lowest education category, no CHD, and female sex are all reference categories.  Generate 95% CIs for each hazard ratio. Generate a Kaplan Meijer plot."
   ]
  },
  {
   "cell_type": "code",
   "execution_count": 1,
   "metadata": {
    "vscode": {
     "languageId": "r"
    }
   },
   "outputs": [
    {
     "name": "stderr",
     "output_type": "stream",
     "text": [
      "Warning message:\n",
      "\"package 'survival' was built under R version 4.2.3\"\n"
     ]
    },
    {
     "name": "stderr",
     "output_type": "stream",
     "text": [
      "\n",
      "Attaching package: 'dplyr'\n",
      "\n",
      "\n",
      "The following objects are masked from 'package:stats':\n",
      "\n",
      "    filter, lag\n",
      "\n",
      "\n",
      "The following objects are masked from 'package:base':\n",
      "\n",
      "    intersect, setdiff, setequal, union\n",
      "\n",
      "\n",
      "Warning message:\n",
      "\"package 'fastDummies' was built under R version 4.2.3\"\n",
      "Thank you for using fastDummies!\n",
      "\n",
      "To acknowledge our work, please cite the package:\n",
      "\n",
      "Kaplan, J. & Schlegel, B. (2023). fastDummies: Fast Creation of Dummy (Binary) Columns and Rows from Categorical Variables. Version 1.7.1. URL: https://github.com/jacobkap/fastDummies, https://jacobkap.github.io/fastDummies/.\n",
      "\n"
     ]
    }
   ],
   "source": [
    "library(survival)\n",
    "library(dplyr)\n",
    "# library(tidyverse)\n",
    "library(fastDummies)"
   ]
  },
  {
   "cell_type": "code",
   "execution_count": 10,
   "metadata": {
    "vscode": {
     "languageId": "r"
    }
   },
   "outputs": [],
   "source": [
    "df <- read.csv(\"C:\\\\Users\\\\ljens\\\\Downloads\\\\Cox Prop Hazard Regression Data.csv\")"
   ]
  },
  {
   "cell_type": "code",
   "execution_count": 11,
   "metadata": {
    "vscode": {
     "languageId": "r"
    }
   },
   "outputs": [
    {
     "data": {
      "text/html": [
       "<style>\n",
       ".list-inline {list-style: none; margin:0; padding: 0}\n",
       ".list-inline>li {display: inline-block}\n",
       ".list-inline>li:not(:last-child)::after {content: \"\\00b7\"; padding: 0 .5ex}\n",
       "</style>\n",
       "<ol class=list-inline><li>'randid'</li><li>'TimeDeathYears'</li><li>'death'</li><li>'cursmoke'</li><li>'diabetes'</li><li>'educ'</li><li>'prevchd'</li><li>'age'</li><li>'bmi'</li><li>'sex'</li></ol>\n"
      ],
      "text/latex": [
       "\\begin{enumerate*}\n",
       "\\item 'randid'\n",
       "\\item 'TimeDeathYears'\n",
       "\\item 'death'\n",
       "\\item 'cursmoke'\n",
       "\\item 'diabetes'\n",
       "\\item 'educ'\n",
       "\\item 'prevchd'\n",
       "\\item 'age'\n",
       "\\item 'bmi'\n",
       "\\item 'sex'\n",
       "\\end{enumerate*}\n"
      ],
      "text/markdown": [
       "1. 'randid'\n",
       "2. 'TimeDeathYears'\n",
       "3. 'death'\n",
       "4. 'cursmoke'\n",
       "5. 'diabetes'\n",
       "6. 'educ'\n",
       "7. 'prevchd'\n",
       "8. 'age'\n",
       "9. 'bmi'\n",
       "10. 'sex'\n",
       "\n",
       "\n"
      ],
      "text/plain": [
       " [1] \"randid\"         \"TimeDeathYears\" \"death\"          \"cursmoke\"      \n",
       " [5] \"diabetes\"       \"educ\"           \"prevchd\"        \"age\"           \n",
       " [9] \"bmi\"            \"sex\"           "
      ]
     },
     "metadata": {},
     "output_type": "display_data"
    }
   ],
   "source": [
    "colnames(df)"
   ]
  },
  {
   "cell_type": "code",
   "execution_count": 12,
   "metadata": {
    "vscode": {
     "languageId": "r"
    }
   },
   "outputs": [
    {
     "data": {
      "text/html": [
       "<table class=\"dataframe\">\n",
       "<caption>A data.frame: 6 × 10</caption>\n",
       "<thead>\n",
       "\t<tr><th></th><th scope=col>randid</th><th scope=col>TimeDeathYears</th><th scope=col>death</th><th scope=col>cursmoke</th><th scope=col>diabetes</th><th scope=col>educ</th><th scope=col>prevchd</th><th scope=col>age</th><th scope=col>bmi</th><th scope=col>sex</th></tr>\n",
       "\t<tr><th></th><th scope=col>&lt;int&gt;</th><th scope=col>&lt;int&gt;</th><th scope=col>&lt;int&gt;</th><th scope=col>&lt;int&gt;</th><th scope=col>&lt;int&gt;</th><th scope=col>&lt;int&gt;</th><th scope=col>&lt;int&gt;</th><th scope=col>&lt;int&gt;</th><th scope=col>&lt;dbl&gt;</th><th scope=col>&lt;int&gt;</th></tr>\n",
       "</thead>\n",
       "<tbody>\n",
       "\t<tr><th scope=row>1</th><td> 2448</td><td>15</td><td>0</td><td>0</td><td>0</td><td>4</td><td>0</td><td>52</td><td>   NA</td><td>1</td></tr>\n",
       "\t<tr><th scope=row>2</th><td> 6238</td><td>15</td><td>0</td><td>0</td><td>0</td><td>2</td><td>0</td><td>58</td><td>28.50</td><td>0</td></tr>\n",
       "\t<tr><th scope=row>3</th><td>11252</td><td>15</td><td>0</td><td>1</td><td>0</td><td>3</td><td>0</td><td>58</td><td>24.61</td><td>0</td></tr>\n",
       "\t<tr><th scope=row>4</th><td>11263</td><td>15</td><td>0</td><td>0</td><td>1</td><td>2</td><td>0</td><td>55</td><td>31.17</td><td>0</td></tr>\n",
       "\t<tr><th scope=row>5</th><td>12806</td><td>15</td><td>0</td><td>1</td><td>0</td><td>2</td><td>0</td><td>57</td><td>22.02</td><td>0</td></tr>\n",
       "\t<tr><th scope=row>6</th><td>14367</td><td>15</td><td>0</td><td>0</td><td>0</td><td>1</td><td>0</td><td>64</td><td>25.72</td><td>1</td></tr>\n",
       "</tbody>\n",
       "</table>\n"
      ],
      "text/latex": [
       "A data.frame: 6 × 10\n",
       "\\begin{tabular}{r|llllllllll}\n",
       "  & randid & TimeDeathYears & death & cursmoke & diabetes & educ & prevchd & age & bmi & sex\\\\\n",
       "  & <int> & <int> & <int> & <int> & <int> & <int> & <int> & <int> & <dbl> & <int>\\\\\n",
       "\\hline\n",
       "\t1 &  2448 & 15 & 0 & 0 & 0 & 4 & 0 & 52 &    NA & 1\\\\\n",
       "\t2 &  6238 & 15 & 0 & 0 & 0 & 2 & 0 & 58 & 28.50 & 0\\\\\n",
       "\t3 & 11252 & 15 & 0 & 1 & 0 & 3 & 0 & 58 & 24.61 & 0\\\\\n",
       "\t4 & 11263 & 15 & 0 & 0 & 1 & 2 & 0 & 55 & 31.17 & 0\\\\\n",
       "\t5 & 12806 & 15 & 0 & 1 & 0 & 2 & 0 & 57 & 22.02 & 0\\\\\n",
       "\t6 & 14367 & 15 & 0 & 0 & 0 & 1 & 0 & 64 & 25.72 & 1\\\\\n",
       "\\end{tabular}\n"
      ],
      "text/markdown": [
       "\n",
       "A data.frame: 6 × 10\n",
       "\n",
       "| <!--/--> | randid &lt;int&gt; | TimeDeathYears &lt;int&gt; | death &lt;int&gt; | cursmoke &lt;int&gt; | diabetes &lt;int&gt; | educ &lt;int&gt; | prevchd &lt;int&gt; | age &lt;int&gt; | bmi &lt;dbl&gt; | sex &lt;int&gt; |\n",
       "|---|---|---|---|---|---|---|---|---|---|---|\n",
       "| 1 |  2448 | 15 | 0 | 0 | 0 | 4 | 0 | 52 |    NA | 1 |\n",
       "| 2 |  6238 | 15 | 0 | 0 | 0 | 2 | 0 | 58 | 28.50 | 0 |\n",
       "| 3 | 11252 | 15 | 0 | 1 | 0 | 3 | 0 | 58 | 24.61 | 0 |\n",
       "| 4 | 11263 | 15 | 0 | 0 | 1 | 2 | 0 | 55 | 31.17 | 0 |\n",
       "| 5 | 12806 | 15 | 0 | 1 | 0 | 2 | 0 | 57 | 22.02 | 0 |\n",
       "| 6 | 14367 | 15 | 0 | 0 | 0 | 1 | 0 | 64 | 25.72 | 1 |\n",
       "\n"
      ],
      "text/plain": [
       "  randid TimeDeathYears death cursmoke diabetes educ prevchd age bmi   sex\n",
       "1  2448  15             0     0        0        4    0       52     NA 1  \n",
       "2  6238  15             0     0        0        2    0       58  28.50 0  \n",
       "3 11252  15             0     1        0        3    0       58  24.61 0  \n",
       "4 11263  15             0     0        1        2    0       55  31.17 0  \n",
       "5 12806  15             0     1        0        2    0       57  22.02 0  \n",
       "6 14367  15             0     0        0        1    0       64  25.72 1  "
      ]
     },
     "metadata": {},
     "output_type": "display_data"
    }
   ],
   "source": [
    "head(df)"
   ]
  },
  {
   "cell_type": "code",
   "execution_count": 13,
   "metadata": {
    "vscode": {
     "languageId": "r"
    }
   },
   "outputs": [
    {
     "data": {
      "text/plain": [
       "     randid        TimeDeathYears      death           cursmoke     \n",
       " Min.   :   2448   Min.   : 2.00   Min.   :0.0000   Min.   :0.0000  \n",
       " 1st Qu.:2509944   1st Qu.:15.00   1st Qu.:0.0000   1st Qu.:0.0000  \n",
       " Median :5050572   Median :15.00   Median :0.0000   Median :0.0000  \n",
       " Mean   :5028933   Mean   :13.57   Mean   :0.2375   Mean   :0.3435  \n",
       " 3rd Qu.:7501310   3rd Qu.:15.00   3rd Qu.:0.0000   3rd Qu.:1.0000  \n",
       " Max.   :9999312   Max.   :15.00   Max.   :1.0000   Max.   :1.0000  \n",
       "                                                                    \n",
       "    diabetes            educ          prevchd            age       \n",
       " Min.   :0.00000   Min.   :1.000   Min.   :0.0000   Min.   :44.00  \n",
       " 1st Qu.:0.00000   1st Qu.:1.000   1st Qu.:0.0000   1st Qu.:54.00  \n",
       " Median :0.00000   Median :2.000   Median :0.0000   Median :60.00  \n",
       " Mean   :0.07784   Mean   :2.014   Mean   :0.1103   Mean   :60.65  \n",
       " 3rd Qu.:0.00000   3rd Qu.:3.000   3rd Qu.:0.0000   3rd Qu.:67.00  \n",
       " Max.   :1.00000   Max.   :4.000   Max.   :1.0000   Max.   :81.00  \n",
       "                   NA's   :82                                      \n",
       "      bmi             sex        \n",
       " Min.   :14.43   Min.   :0.0000  \n",
       " 1st Qu.:23.19   1st Qu.:0.0000  \n",
       " Median :25.46   Median :0.0000  \n",
       " Mean   :25.89   Mean   :0.4251  \n",
       " 3rd Qu.:28.06   3rd Qu.:1.0000  \n",
       " Max.   :56.80   Max.   :1.0000  \n",
       " NA's   :17                      "
      ]
     },
     "metadata": {},
     "output_type": "display_data"
    }
   ],
   "source": [
    "summary(df)"
   ]
  },
  {
   "cell_type": "code",
   "execution_count": 14,
   "metadata": {
    "vscode": {
     "languageId": "r"
    }
   },
   "outputs": [],
   "source": [
    "df <- cbind(df, dummy_cols(df$educ, remove_first_dummy = TRUE))"
   ]
  },
  {
   "cell_type": "code",
   "execution_count": 15,
   "metadata": {
    "vscode": {
     "languageId": "r"
    }
   },
   "outputs": [
    {
     "data": {
      "text/html": [
       "<style>\n",
       ".list-inline {list-style: none; margin:0; padding: 0}\n",
       ".list-inline>li {display: inline-block}\n",
       ".list-inline>li:not(:last-child)::after {content: \"\\00b7\"; padding: 0 .5ex}\n",
       "</style>\n",
       "<ol class=list-inline><li>'randid'</li><li>'TimeDeathYears'</li><li>'death'</li><li>'cursmoke'</li><li>'diabetes'</li><li>'educ'</li><li>'prevchd'</li><li>'age'</li><li>'bmi'</li><li>'sex'</li><li>'.data'</li><li>'.data_2'</li><li>'.data_3'</li><li>'.data_4'</li><li>'.data_NA'</li></ol>\n"
      ],
      "text/latex": [
       "\\begin{enumerate*}\n",
       "\\item 'randid'\n",
       "\\item 'TimeDeathYears'\n",
       "\\item 'death'\n",
       "\\item 'cursmoke'\n",
       "\\item 'diabetes'\n",
       "\\item 'educ'\n",
       "\\item 'prevchd'\n",
       "\\item 'age'\n",
       "\\item 'bmi'\n",
       "\\item 'sex'\n",
       "\\item '.data'\n",
       "\\item '.data\\_2'\n",
       "\\item '.data\\_3'\n",
       "\\item '.data\\_4'\n",
       "\\item '.data\\_NA'\n",
       "\\end{enumerate*}\n"
      ],
      "text/markdown": [
       "1. 'randid'\n",
       "2. 'TimeDeathYears'\n",
       "3. 'death'\n",
       "4. 'cursmoke'\n",
       "5. 'diabetes'\n",
       "6. 'educ'\n",
       "7. 'prevchd'\n",
       "8. 'age'\n",
       "9. 'bmi'\n",
       "10. 'sex'\n",
       "11. '.data'\n",
       "12. '.data_2'\n",
       "13. '.data_3'\n",
       "14. '.data_4'\n",
       "15. '.data_NA'\n",
       "\n",
       "\n"
      ],
      "text/plain": [
       " [1] \"randid\"         \"TimeDeathYears\" \"death\"          \"cursmoke\"      \n",
       " [5] \"diabetes\"       \"educ\"           \"prevchd\"        \"age\"           \n",
       " [9] \"bmi\"            \"sex\"            \".data\"          \".data_2\"       \n",
       "[13] \".data_3\"        \".data_4\"        \".data_NA\"      "
      ]
     },
     "metadata": {},
     "output_type": "display_data"
    }
   ],
   "source": [
    "colnames(df)"
   ]
  },
  {
   "cell_type": "code",
   "execution_count": 16,
   "metadata": {
    "vscode": {
     "languageId": "r"
    }
   },
   "outputs": [],
   "source": [
    "df <- rename(df, \n",
    "        #\"0-11 years\"= '.data_1', \n",
    "        \"HS or GED\" = '.data_2', \n",
    "        \"Some Coll\" = '.data_3', \n",
    "        \"Coll Grad\" = '.data_4'\n",
    "            )"
   ]
  },
  {
   "cell_type": "code",
   "execution_count": 31,
   "metadata": {
    "vscode": {
     "languageId": "r"
    }
   },
   "outputs": [
    {
     "data": {
      "text/html": [
       "<style>\n",
       ".list-inline {list-style: none; margin:0; padding: 0}\n",
       ".list-inline>li {display: inline-block}\n",
       ".list-inline>li:not(:last-child)::after {content: \"\\00b7\"; padding: 0 .5ex}\n",
       "</style>\n",
       "<ol class=list-inline><li>'randid'</li><li>'TimeDeathYears'</li><li>'death'</li><li>'cursmoke'</li><li>'diabetes'</li><li>'educ'</li><li>'prevchd'</li><li>'age'</li><li>'bmi'</li><li>'sex'</li><li>'.data'</li><li>'HS or GED'</li><li>'Some Coll'</li><li>'Coll Grad'</li><li>'.data_NA'</li></ol>\n"
      ],
      "text/latex": [
       "\\begin{enumerate*}\n",
       "\\item 'randid'\n",
       "\\item 'TimeDeathYears'\n",
       "\\item 'death'\n",
       "\\item 'cursmoke'\n",
       "\\item 'diabetes'\n",
       "\\item 'educ'\n",
       "\\item 'prevchd'\n",
       "\\item 'age'\n",
       "\\item 'bmi'\n",
       "\\item 'sex'\n",
       "\\item '.data'\n",
       "\\item 'HS or GED'\n",
       "\\item 'Some Coll'\n",
       "\\item 'Coll Grad'\n",
       "\\item '.data\\_NA'\n",
       "\\end{enumerate*}\n"
      ],
      "text/markdown": [
       "1. 'randid'\n",
       "2. 'TimeDeathYears'\n",
       "3. 'death'\n",
       "4. 'cursmoke'\n",
       "5. 'diabetes'\n",
       "6. 'educ'\n",
       "7. 'prevchd'\n",
       "8. 'age'\n",
       "9. 'bmi'\n",
       "10. 'sex'\n",
       "11. '.data'\n",
       "12. 'HS or GED'\n",
       "13. 'Some Coll'\n",
       "14. 'Coll Grad'\n",
       "15. '.data_NA'\n",
       "\n",
       "\n"
      ],
      "text/plain": [
       " [1] \"randid\"         \"TimeDeathYears\" \"death\"          \"cursmoke\"      \n",
       " [5] \"diabetes\"       \"educ\"           \"prevchd\"        \"age\"           \n",
       " [9] \"bmi\"            \"sex\"            \".data\"          \"HS or GED\"     \n",
       "[13] \"Some Coll\"      \"Coll Grad\"      \".data_NA\"      "
      ]
     },
     "metadata": {},
     "output_type": "display_data"
    }
   ],
   "source": [
    "colnames(df)"
   ]
  },
  {
   "cell_type": "code",
   "execution_count": 17,
   "metadata": {
    "vscode": {
     "languageId": "r"
    }
   },
   "outputs": [],
   "source": [
    "df <- subset(df, select = -c(.data,.data_NA))"
   ]
  },
  {
   "cell_type": "code",
   "execution_count": 18,
   "metadata": {
    "vscode": {
     "languageId": "r"
    }
   },
   "outputs": [
    {
     "data": {
      "text/html": [
       "<table class=\"dataframe\">\n",
       "<caption>A data.frame: 6 × 13</caption>\n",
       "<thead>\n",
       "\t<tr><th></th><th scope=col>randid</th><th scope=col>TimeDeathYears</th><th scope=col>death</th><th scope=col>cursmoke</th><th scope=col>diabetes</th><th scope=col>educ</th><th scope=col>prevchd</th><th scope=col>age</th><th scope=col>bmi</th><th scope=col>sex</th><th scope=col>HS or GED</th><th scope=col>Some Coll</th><th scope=col>Coll Grad</th></tr>\n",
       "\t<tr><th></th><th scope=col>&lt;int&gt;</th><th scope=col>&lt;int&gt;</th><th scope=col>&lt;int&gt;</th><th scope=col>&lt;int&gt;</th><th scope=col>&lt;int&gt;</th><th scope=col>&lt;int&gt;</th><th scope=col>&lt;int&gt;</th><th scope=col>&lt;int&gt;</th><th scope=col>&lt;dbl&gt;</th><th scope=col>&lt;int&gt;</th><th scope=col>&lt;int&gt;</th><th scope=col>&lt;int&gt;</th><th scope=col>&lt;int&gt;</th></tr>\n",
       "</thead>\n",
       "<tbody>\n",
       "\t<tr><th scope=row>1</th><td> 2448</td><td>15</td><td>0</td><td>0</td><td>0</td><td>4</td><td>0</td><td>52</td><td>   NA</td><td>1</td><td>0</td><td>0</td><td>1</td></tr>\n",
       "\t<tr><th scope=row>2</th><td> 6238</td><td>15</td><td>0</td><td>0</td><td>0</td><td>2</td><td>0</td><td>58</td><td>28.50</td><td>0</td><td>1</td><td>0</td><td>0</td></tr>\n",
       "\t<tr><th scope=row>3</th><td>11252</td><td>15</td><td>0</td><td>1</td><td>0</td><td>3</td><td>0</td><td>58</td><td>24.61</td><td>0</td><td>0</td><td>1</td><td>0</td></tr>\n",
       "\t<tr><th scope=row>4</th><td>11263</td><td>15</td><td>0</td><td>0</td><td>1</td><td>2</td><td>0</td><td>55</td><td>31.17</td><td>0</td><td>1</td><td>0</td><td>0</td></tr>\n",
       "\t<tr><th scope=row>5</th><td>12806</td><td>15</td><td>0</td><td>1</td><td>0</td><td>2</td><td>0</td><td>57</td><td>22.02</td><td>0</td><td>1</td><td>0</td><td>0</td></tr>\n",
       "\t<tr><th scope=row>6</th><td>14367</td><td>15</td><td>0</td><td>0</td><td>0</td><td>1</td><td>0</td><td>64</td><td>25.72</td><td>1</td><td>0</td><td>0</td><td>0</td></tr>\n",
       "</tbody>\n",
       "</table>\n"
      ],
      "text/latex": [
       "A data.frame: 6 × 13\n",
       "\\begin{tabular}{r|lllllllllllll}\n",
       "  & randid & TimeDeathYears & death & cursmoke & diabetes & educ & prevchd & age & bmi & sex & HS or GED & Some Coll & Coll Grad\\\\\n",
       "  & <int> & <int> & <int> & <int> & <int> & <int> & <int> & <int> & <dbl> & <int> & <int> & <int> & <int>\\\\\n",
       "\\hline\n",
       "\t1 &  2448 & 15 & 0 & 0 & 0 & 4 & 0 & 52 &    NA & 1 & 0 & 0 & 1\\\\\n",
       "\t2 &  6238 & 15 & 0 & 0 & 0 & 2 & 0 & 58 & 28.50 & 0 & 1 & 0 & 0\\\\\n",
       "\t3 & 11252 & 15 & 0 & 1 & 0 & 3 & 0 & 58 & 24.61 & 0 & 0 & 1 & 0\\\\\n",
       "\t4 & 11263 & 15 & 0 & 0 & 1 & 2 & 0 & 55 & 31.17 & 0 & 1 & 0 & 0\\\\\n",
       "\t5 & 12806 & 15 & 0 & 1 & 0 & 2 & 0 & 57 & 22.02 & 0 & 1 & 0 & 0\\\\\n",
       "\t6 & 14367 & 15 & 0 & 0 & 0 & 1 & 0 & 64 & 25.72 & 1 & 0 & 0 & 0\\\\\n",
       "\\end{tabular}\n"
      ],
      "text/markdown": [
       "\n",
       "A data.frame: 6 × 13\n",
       "\n",
       "| <!--/--> | randid &lt;int&gt; | TimeDeathYears &lt;int&gt; | death &lt;int&gt; | cursmoke &lt;int&gt; | diabetes &lt;int&gt; | educ &lt;int&gt; | prevchd &lt;int&gt; | age &lt;int&gt; | bmi &lt;dbl&gt; | sex &lt;int&gt; | HS or GED &lt;int&gt; | Some Coll &lt;int&gt; | Coll Grad &lt;int&gt; |\n",
       "|---|---|---|---|---|---|---|---|---|---|---|---|---|---|\n",
       "| 1 |  2448 | 15 | 0 | 0 | 0 | 4 | 0 | 52 |    NA | 1 | 0 | 0 | 1 |\n",
       "| 2 |  6238 | 15 | 0 | 0 | 0 | 2 | 0 | 58 | 28.50 | 0 | 1 | 0 | 0 |\n",
       "| 3 | 11252 | 15 | 0 | 1 | 0 | 3 | 0 | 58 | 24.61 | 0 | 0 | 1 | 0 |\n",
       "| 4 | 11263 | 15 | 0 | 0 | 1 | 2 | 0 | 55 | 31.17 | 0 | 1 | 0 | 0 |\n",
       "| 5 | 12806 | 15 | 0 | 1 | 0 | 2 | 0 | 57 | 22.02 | 0 | 1 | 0 | 0 |\n",
       "| 6 | 14367 | 15 | 0 | 0 | 0 | 1 | 0 | 64 | 25.72 | 1 | 0 | 0 | 0 |\n",
       "\n"
      ],
      "text/plain": [
       "  randid TimeDeathYears death cursmoke diabetes educ prevchd age bmi   sex\n",
       "1  2448  15             0     0        0        4    0       52     NA 1  \n",
       "2  6238  15             0     0        0        2    0       58  28.50 0  \n",
       "3 11252  15             0     1        0        3    0       58  24.61 0  \n",
       "4 11263  15             0     0        1        2    0       55  31.17 0  \n",
       "5 12806  15             0     1        0        2    0       57  22.02 0  \n",
       "6 14367  15             0     0        0        1    0       64  25.72 1  \n",
       "  HS or GED Some Coll Coll Grad\n",
       "1 0         0         1        \n",
       "2 1         0         0        \n",
       "3 0         1         0        \n",
       "4 1         0         0        \n",
       "5 1         0         0        \n",
       "6 0         0         0        "
      ]
     },
     "metadata": {},
     "output_type": "display_data"
    }
   ],
   "source": [
    "head(df)"
   ]
  },
  {
   "cell_type": "code",
   "execution_count": 19,
   "metadata": {
    "vscode": {
     "languageId": "r"
    }
   },
   "outputs": [
    {
     "data": {
      "text/html": [
       "<style>\n",
       ".list-inline {list-style: none; margin:0; padding: 0}\n",
       ".list-inline>li {display: inline-block}\n",
       ".list-inline>li:not(:last-child)::after {content: \"\\00b7\"; padding: 0 .5ex}\n",
       "</style>\n",
       "<ol class=list-inline><li>'randid'</li><li>'TimeDeathYears'</li><li>'death'</li><li>'cursmoke'</li><li>'diabetes'</li><li>'educ'</li><li>'prevchd'</li><li>'age'</li><li>'bmi'</li><li>'sex'</li><li>'HS or GED'</li><li>'Some Coll'</li><li>'Coll Grad'</li></ol>\n"
      ],
      "text/latex": [
       "\\begin{enumerate*}\n",
       "\\item 'randid'\n",
       "\\item 'TimeDeathYears'\n",
       "\\item 'death'\n",
       "\\item 'cursmoke'\n",
       "\\item 'diabetes'\n",
       "\\item 'educ'\n",
       "\\item 'prevchd'\n",
       "\\item 'age'\n",
       "\\item 'bmi'\n",
       "\\item 'sex'\n",
       "\\item 'HS or GED'\n",
       "\\item 'Some Coll'\n",
       "\\item 'Coll Grad'\n",
       "\\end{enumerate*}\n"
      ],
      "text/markdown": [
       "1. 'randid'\n",
       "2. 'TimeDeathYears'\n",
       "3. 'death'\n",
       "4. 'cursmoke'\n",
       "5. 'diabetes'\n",
       "6. 'educ'\n",
       "7. 'prevchd'\n",
       "8. 'age'\n",
       "9. 'bmi'\n",
       "10. 'sex'\n",
       "11. 'HS or GED'\n",
       "12. 'Some Coll'\n",
       "13. 'Coll Grad'\n",
       "\n",
       "\n"
      ],
      "text/plain": [
       " [1] \"randid\"         \"TimeDeathYears\" \"death\"          \"cursmoke\"      \n",
       " [5] \"diabetes\"       \"educ\"           \"prevchd\"        \"age\"           \n",
       " [9] \"bmi\"            \"sex\"            \"HS or GED\"      \"Some Coll\"     \n",
       "[13] \"Coll Grad\"     "
      ]
     },
     "metadata": {},
     "output_type": "display_data"
    }
   ],
   "source": [
    "colnames(df)"
   ]
  },
  {
   "cell_type": "code",
   "execution_count": 20,
   "metadata": {
    "vscode": {
     "languageId": "r"
    }
   },
   "outputs": [],
   "source": [
    "model = coxph(Surv(df$'TimeDeathYears',df$'death') ~ \n",
    "df$'cursmoke' + df$'diabetes' + df$'prevchd' + df$'age' + df$'bmi' + df$'sex' + \n",
    "#df$'0-11 years' + \n",
    "df$'HS or GED' + df$'Some Coll' + df$'Coll Grad')"
   ]
  },
  {
   "cell_type": "code",
   "execution_count": 21,
   "metadata": {
    "vscode": {
     "languageId": "r"
    }
   },
   "outputs": [
    {
     "data": {
      "text/plain": [
       "Call:\n",
       "coxph(formula = Surv(df$TimeDeathYears, df$death) ~ df$cursmoke + \n",
       "    df$diabetes + df$prevchd + df$age + df$bmi + df$sex + df$\"HS or GED\" + \n",
       "    df$\"Some Coll\" + df$\"Coll Grad\")\n",
       "\n",
       "  n= 3165, number of events= 746 \n",
       "   (98 observations deleted due to missingness)\n",
       "\n",
       "                    coef exp(coef)  se(coef)      z Pr(>|z|)    \n",
       "df$cursmoke     0.432597  1.541256  0.081165  5.330 9.83e-08 ***\n",
       "df$diabetes     0.741622  2.099338  0.100251  7.398 1.39e-13 ***\n",
       "df$prevchd      0.790013  2.203425  0.086862  9.095  < 2e-16 ***\n",
       "df$age          0.092917  1.097370  0.005068 18.333  < 2e-16 ***\n",
       "df$bmi         -0.012792  0.987290  0.009667 -1.323  0.18575    \n",
       "df$sex          0.672732  1.959583  0.075393  8.923  < 2e-16 ***\n",
       "df$\"HS or GED\" -0.007861  0.992169  0.092149 -0.085  0.93201    \n",
       "df$\"Some Coll\" -0.158231  0.853652  0.111205 -1.423  0.15477    \n",
       "df$\"Coll Grad\" -0.454487  0.634773  0.131159 -3.465  0.00053 ***\n",
       "---\n",
       "Signif. codes:  0 '***' 0.001 '**' 0.01 '*' 0.05 '.' 0.1 ' ' 1\n",
       "\n",
       "               exp(coef) exp(-coef) lower .95 upper .95\n",
       "df$cursmoke       1.5413     0.6488    1.3146    1.8070\n",
       "df$diabetes       2.0993     0.4763    1.7248    2.5551\n",
       "df$prevchd        2.2034     0.4538    1.8585    2.6124\n",
       "df$age            1.0974     0.9113    1.0865    1.1083\n",
       "df$bmi            0.9873     1.0129    0.9688    1.0062\n",
       "df$sex            1.9596     0.5103    1.6904    2.2716\n",
       "df$\"HS or GED\"    0.9922     1.0079    0.8282    1.1886\n",
       "df$\"Some Coll\"    0.8537     1.1714    0.6865    1.0615\n",
       "df$\"Coll Grad\"    0.6348     1.5754    0.4909    0.8208\n",
       "\n",
       "Concordance= 0.761  (se = 0.009 )\n",
       "Likelihood ratio test= 688.4  on 9 df,   p=<2e-16\n",
       "Wald test            = 686.8  on 9 df,   p=<2e-16\n",
       "Score (logrank) test = 783.3  on 9 df,   p=<2e-16\n"
      ]
     },
     "metadata": {},
     "output_type": "display_data"
    }
   ],
   "source": [
    "summary(model)"
   ]
  },
  {
   "cell_type": "code",
   "execution_count": 22,
   "metadata": {
    "vscode": {
     "languageId": "r"
    }
   },
   "outputs": [],
   "source": [
    "curves <- survfit(Surv(df$'TimeDeathYears',df$'death') ~ df$'educ')"
   ]
  },
  {
   "cell_type": "code",
   "execution_count": 28,
   "metadata": {
    "vscode": {
     "languageId": "r"
    }
   },
   "outputs": [
    {
     "data": {
      "text/html": [
       "<style>\n",
       ".list-inline {list-style: none; margin:0; padding: 0}\n",
       ".list-inline>li {display: inline-block}\n",
       ".list-inline>li:not(:last-child)::after {content: \"\\00b7\"; padding: 0 .5ex}\n",
       "</style>\n",
       "<ol class=list-inline><li>'randid'</li><li>'TimeDeathYears'</li><li>'death'</li><li>'cursmoke'</li><li>'diabetes'</li><li>'educ'</li><li>'prevchd'</li><li>'age'</li><li>'bmi'</li><li>'sex'</li><li>'HS or GED'</li><li>'Some Coll'</li><li>'Coll Grad'</li></ol>\n"
      ],
      "text/latex": [
       "\\begin{enumerate*}\n",
       "\\item 'randid'\n",
       "\\item 'TimeDeathYears'\n",
       "\\item 'death'\n",
       "\\item 'cursmoke'\n",
       "\\item 'diabetes'\n",
       "\\item 'educ'\n",
       "\\item 'prevchd'\n",
       "\\item 'age'\n",
       "\\item 'bmi'\n",
       "\\item 'sex'\n",
       "\\item 'HS or GED'\n",
       "\\item 'Some Coll'\n",
       "\\item 'Coll Grad'\n",
       "\\end{enumerate*}\n"
      ],
      "text/markdown": [
       "1. 'randid'\n",
       "2. 'TimeDeathYears'\n",
       "3. 'death'\n",
       "4. 'cursmoke'\n",
       "5. 'diabetes'\n",
       "6. 'educ'\n",
       "7. 'prevchd'\n",
       "8. 'age'\n",
       "9. 'bmi'\n",
       "10. 'sex'\n",
       "11. 'HS or GED'\n",
       "12. 'Some Coll'\n",
       "13. 'Coll Grad'\n",
       "\n",
       "\n"
      ],
      "text/plain": [
       " [1] \"randid\"         \"TimeDeathYears\" \"death\"          \"cursmoke\"      \n",
       " [5] \"diabetes\"       \"educ\"           \"prevchd\"        \"age\"           \n",
       " [9] \"bmi\"            \"sex\"            \"HS or GED\"      \"Some Coll\"     \n",
       "[13] \"Coll Grad\"     "
      ]
     },
     "metadata": {},
     "output_type": "display_data"
    }
   ],
   "source": [
    "colnames(df)"
   ]
  },
  {
   "cell_type": "code",
   "execution_count": 32,
   "metadata": {
    "vscode": {
     "languageId": "r"
    }
   },
   "outputs": [
    {
     "data": {
      "image/png": "[encoded data removed]",
      "text/plain": [
       "plot without title"
      ]
     },
     "metadata": {
      "image/png": {
       "height": 420,
       "width": 420
      }
     },
     "output_type": "display_data"
    }
   ],
   "source": [
    "plot(curves, \n",
    "xlab = \"Time (years)\",\n",
    "ylab='Survival',\n",
    "col=c('blue','red','#0ea30e','black'),\n",
    "lwd=2,\n",
    "conf.int=FALSE) \n",
    "\n",
    "legend('bottomleft',\n",
    "legend=c(\"0-11 years\",'HS or GED','Some Coll','Coll Grad'),\n",
    "col=c('blue','red','#088808','black'),\n",
    "lwd=2,bty='y'\n",
    ")"
   ]
  }
 ],
 "metadata": {
  "kernelspec": {
   "display_name": "R",
   "language": "R",
   "name": "ir"
  },
  "language_info": {
   "codemirror_mode": "r",
   "file_extension": ".r",
   "mimetype": "text/x-r-source",
   "name": "R",
   "pygments_lexer": "r",
   "version": "4.2.2"
  },
  "orig_nbformat": 4
 },
 "nbformat": 4,
 "nbformat_minor": 2
}
