{
 "cells": [
  {
   "cell_type": "markdown",
   "metadata": {},
   "source": [
    "# HM 878 Applied Biostatistics Problem Set #1c\n",
    "\n",
    "## Binary Logistic Regression and Cox Proportional Hazards Regression\n",
    "\n",
    "*This Problem Set will provide students with the opportunity to learn\n",
    "how to use R to conduct basic statistical tests, replicating many tests\n",
    "that were already done in HM 802. The main goal is to make sure you are\n",
    "familiar with R as a system for statistical analysis.*\n",
    "\n",
    "Analyses include:\n",
    "\n",
    "-\tBinary logistic regression\n",
    "-\tCox Proportional Hazards Regression\n",
    "\n",
    "\n",
    "------------------------------------------------------------------------\n",
    "\n",
    "*Setting up the code environment*"
   ]
  },
  {
   "cell_type": "code",
   "execution_count": null,
   "metadata": {
    "vscode": {
     "languageId": "r"
    }
   },
   "outputs": [],
   "source": []
  },
  {
   "cell_type": "markdown",
   "metadata": {},
   "source": [
    "------------------------------------------------------------------------\n",
    "\n",
    "## Question 1\n",
    "\n",
    "Data: Logistic Regression Data.csv. Variables: Dependent variable: BMI_Categories.  Independent variables: HLTHPLN1, RFSMOK3, VEGESU1, and SEX.  Variables are coded as follows:\n",
    "•\tBMI_Categories (BMI): 0 = Under/Normal Weight, 1 = Overweight/Obese\n",
    "•\tHLTHPLN1 (Has Health care coverage): 0 = No, 1 = Yes\n",
    "•\tRFSMOK3 (Current Smoker): 0 = No, 1 = Yes\n",
    "•\tVEGESU1 (Servings of vegetables per day): continuous, numerical data\n",
    "•\tSEX (Sex): 0 = Female, 1 = Male"
   ]
  },
  {
   "cell_type": "markdown",
   "metadata": {},
   "source": []
  },
  {
   "cell_type": "markdown",
   "metadata": {},
   "source": [
    "------------------------------------------------------------------------\n",
    "\n",
    "## Question 2\n",
    "\n",
    "Run a Cox Regression. Data: Cox Proportional Hazard Regression Data. Variables: Use TimeDeathYears as the “Time” variable. Death is the Status or Event variable.  Use cursmoke, diabetes, educ, prevchd, age, bmi, and sex as the covariates. For the categorical variables, make sure that not a current smoker, no diabetes, the lowest education category, no CHD, and female sex are all reference categories.  Generate 95% CIs for each hazard ratio. Generate a Kaplan Meijer plot."
   ]
  },
  {
   "cell_type": "markdown",
   "metadata": {},
   "source": []
  }
 ],
 "metadata": {
  "kernelspec": {
   "display_name": "R",
   "language": "R",
   "name": "ir"
  },
  "language_info": {
   "name": "R"
  },
  "orig_nbformat": 4
 },
 "nbformat": 4,
 "nbformat_minor": 2
}
