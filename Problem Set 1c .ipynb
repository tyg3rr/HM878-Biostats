{
 "cells": [
  {
   "cell_type": "markdown",
   "metadata": {},
   "source": [
    "# HM 878 Applied Biostatistics Problem Set #1c\n",
    "\n",
    "## Binary Logistic Regression and Cox Proportional Hazards Regression\n",
    "\n",
    "*This Problem Set will provide students with the opportunity to learn\n",
    "how to use R to conduct basic statistical tests, replicating many tests\n",
    "that were already done in HM 802. The main goal is to make sure you are\n",
    "familiar with R as a system for statistical analysis.*\n",
    "\n",
    "Analyses include:\n",
    "\n",
    "-\tBinary logistic regression\n",
    "-\tCox Proportional Hazards Regression\n",
    "\n",
    "\n",
    "------------------------------------------------------------------------\n",
    "\n",
    "*Setting up the code environment*"
   ]
  },
  {
   "cell_type": "code",
   "execution_count": 1,
   "metadata": {
    "vscode": {
     "languageId": "r"
    }
   },
   "outputs": [
    {
     "name": "stderr",
     "output_type": "stream",
     "text": [
      "\n",
      "Attaching package: 'dplyr'\n",
      "\n",
      "\n",
      "The following objects are masked from 'package:stats':\n",
      "\n",
      "    filter, lag\n",
      "\n",
      "\n",
      "The following objects are masked from 'package:base':\n",
      "\n",
      "    intersect, setdiff, setequal, union\n",
      "\n",
      "\n",
      "── \u001b[1mAttaching core tidyverse packages\u001b[22m ──────────────────────── tidyverse 2.0.0 ──\n",
      "\u001b[32m✔\u001b[39m \u001b[34mforcats  \u001b[39m 1.0.0     \u001b[32m✔\u001b[39m \u001b[34mreadr    \u001b[39m 2.1.4\n",
      "\u001b[32m✔\u001b[39m \u001b[34mggplot2  \u001b[39m 3.4.1     \u001b[32m✔\u001b[39m \u001b[34mstringr  \u001b[39m 1.5.0\n",
      "\u001b[32m✔\u001b[39m \u001b[34mlubridate\u001b[39m 1.9.2     \u001b[32m✔\u001b[39m \u001b[34mtibble   \u001b[39m 3.1.8\n",
      "\u001b[32m✔\u001b[39m \u001b[34mpurrr    \u001b[39m 1.0.1     \u001b[32m✔\u001b[39m \u001b[34mtidyr    \u001b[39m 1.3.0\n",
      "── \u001b[1mConflicts\u001b[22m ────────────────────────────────────────── tidyverse_conflicts() ──\n",
      "\u001b[31m✖\u001b[39m \u001b[34mdplyr\u001b[39m::\u001b[32mfilter()\u001b[39m masks \u001b[34mstats\u001b[39m::filter()\n",
      "\u001b[31m✖\u001b[39m \u001b[34mdplyr\u001b[39m::\u001b[32mlag()\u001b[39m    masks \u001b[34mstats\u001b[39m::lag()\n",
      "\u001b[36mℹ\u001b[39m Use the conflicted package (\u001b[3m\u001b[34m<http://conflicted.r-lib.org/>\u001b[39m\u001b[23m) to force all conflicts to become errors\n"
     ]
    }
   ],
   "source": [
    "library(dplyr)\n",
    "library(tidyverse)"
   ]
  },
  {
   "cell_type": "code",
   "execution_count": 2,
   "metadata": {
    "vscode": {
     "languageId": "r"
    }
   },
   "outputs": [
    {
     "name": "stderr",
     "output_type": "stream",
     "text": [
      "Installing package into 'C:/Users/ljens/AppData/Local/R/win-library/4.2'\n",
      "(as 'lib' is unspecified)\n",
      "\n"
     ]
    },
    {
     "ename": "",
     "evalue": "",
     "output_type": "error",
     "traceback": [
      "\u001b[1;31mThe Kernel crashed while executing code in the the current cell or a previous cell. Please review the code in the cell(s) to identify a possible cause of the failure. Click <a href='https://aka.ms/vscodeJupyterKernelCrash'>here</a> for more info. View Jupyter <a href='command:jupyter.viewOutput'>log</a> for further details."
     ]
    }
   ],
   "source": [
    "install.packages(\"comprehenr\")"
   ]
  },
  {
   "cell_type": "code",
   "execution_count": 1,
   "metadata": {
    "vscode": {
     "languageId": "r"
    }
   },
   "outputs": [
    {
     "name": "stderr",
     "output_type": "stream",
     "text": [
      "Warning message:\n",
      "\"package 'comprehenr' was built under R version 4.2.3\"\n"
     ]
    }
   ],
   "source": [
    "library(comprehenr)"
   ]
  },
  {
   "cell_type": "markdown",
   "metadata": {},
   "source": [
    "------------------------------------------------------------------------\n",
    "\n",
    "## Question 1\n",
    "\n",
    "Data: Logistic Regression Data.csv. Variables: Dependent variable: BMI_Categories.  Independent variables: HLTHPLN1, RFSMOK3, VEGESU1, and SEX.  Variables are coded as follows:\n",
    "•\tBMI_Categories (BMI): 0 = Under/Normal Weight, 1 = Overweight/Obese\n",
    "•\tHLTHPLN1 (Has Health care coverage): 0 = No, 1 = Yes\n",
    "•\tRFSMOK3 (Current Smoker): 0 = No, 1 = Yes\n",
    "•\tVEGESU1 (Servings of vegetables per day): continuous, numerical data\n",
    "•\tSEX (Sex): 0 = Female, 1 = Male"
   ]
  },
  {
   "cell_type": "code",
   "execution_count": 2,
   "metadata": {
    "vscode": {
     "languageId": "r"
    }
   },
   "outputs": [],
   "source": [
    "df <- read.csv(\"C:\\\\Users\\\\ljens\\\\Downloads\\\\Logistic  Regression Data.csv\")"
   ]
  },
  {
   "cell_type": "code",
   "execution_count": 3,
   "metadata": {
    "vscode": {
     "languageId": "r"
    }
   },
   "outputs": [
    {
     "data": {
      "text/html": [
       "<style>\n",
       ".list-inline {list-style: none; margin:0; padding: 0}\n",
       ".list-inline>li {display: inline-block}\n",
       ".list-inline>li:not(:last-child)::after {content: \"\\00b7\"; padding: 0 .5ex}\n",
       "</style>\n",
       "<ol class=list-inline><li>'BMI_Categories'</li><li>'SEX'</li><li>'VEGESU1'</li><li>'RFSMOK3'</li><li>'HLTHPLN1'</li></ol>\n"
      ],
      "text/latex": [
       "\\begin{enumerate*}\n",
       "\\item 'BMI\\_Categories'\n",
       "\\item 'SEX'\n",
       "\\item 'VEGESU1'\n",
       "\\item 'RFSMOK3'\n",
       "\\item 'HLTHPLN1'\n",
       "\\end{enumerate*}\n"
      ],
      "text/markdown": [
       "1. 'BMI_Categories'\n",
       "2. 'SEX'\n",
       "3. 'VEGESU1'\n",
       "4. 'RFSMOK3'\n",
       "5. 'HLTHPLN1'\n",
       "\n",
       "\n"
      ],
      "text/plain": [
       "[1] \"BMI_Categories\" \"SEX\"            \"VEGESU1\"        \"RFSMOK3\"       \n",
       "[5] \"HLTHPLN1\"      "
      ]
     },
     "metadata": {},
     "output_type": "display_data"
    }
   ],
   "source": [
    "colnames(df)"
   ]
  },
  {
   "cell_type": "code",
   "execution_count": 4,
   "metadata": {
    "vscode": {
     "languageId": "r"
    }
   },
   "outputs": [
    {
     "data": {
      "text/html": [
       "<table class=\"dataframe\">\n",
       "<caption>A data.frame: 6 × 5</caption>\n",
       "<thead>\n",
       "\t<tr><th></th><th scope=col>BMI_Categories</th><th scope=col>SEX</th><th scope=col>VEGESU1</th><th scope=col>RFSMOK3</th><th scope=col>HLTHPLN1</th></tr>\n",
       "\t<tr><th></th><th scope=col>&lt;int&gt;</th><th scope=col>&lt;int&gt;</th><th scope=col>&lt;dbl&gt;</th><th scope=col>&lt;int&gt;</th><th scope=col>&lt;int&gt;</th></tr>\n",
       "</thead>\n",
       "<tbody>\n",
       "\t<tr><th scope=row>1</th><td>0</td><td>0</td><td>3.00</td><td>0</td><td>1</td></tr>\n",
       "\t<tr><th scope=row>2</th><td>1</td><td>1</td><td>1.17</td><td>1</td><td>1</td></tr>\n",
       "\t<tr><th scope=row>3</th><td>0</td><td>1</td><td>3.29</td><td>0</td><td>1</td></tr>\n",
       "\t<tr><th scope=row>4</th><td>1</td><td>1</td><td>2.58</td><td>0</td><td>1</td></tr>\n",
       "\t<tr><th scope=row>5</th><td>1</td><td>0</td><td>2.29</td><td>0</td><td>1</td></tr>\n",
       "\t<tr><th scope=row>6</th><td>0</td><td>0</td><td>1.50</td><td>0</td><td>1</td></tr>\n",
       "</tbody>\n",
       "</table>\n"
      ],
      "text/latex": [
       "A data.frame: 6 × 5\n",
       "\\begin{tabular}{r|lllll}\n",
       "  & BMI\\_Categories & SEX & VEGESU1 & RFSMOK3 & HLTHPLN1\\\\\n",
       "  & <int> & <int> & <dbl> & <int> & <int>\\\\\n",
       "\\hline\n",
       "\t1 & 0 & 0 & 3.00 & 0 & 1\\\\\n",
       "\t2 & 1 & 1 & 1.17 & 1 & 1\\\\\n",
       "\t3 & 0 & 1 & 3.29 & 0 & 1\\\\\n",
       "\t4 & 1 & 1 & 2.58 & 0 & 1\\\\\n",
       "\t5 & 1 & 0 & 2.29 & 0 & 1\\\\\n",
       "\t6 & 0 & 0 & 1.50 & 0 & 1\\\\\n",
       "\\end{tabular}\n"
      ],
      "text/markdown": [
       "\n",
       "A data.frame: 6 × 5\n",
       "\n",
       "| <!--/--> | BMI_Categories &lt;int&gt; | SEX &lt;int&gt; | VEGESU1 &lt;dbl&gt; | RFSMOK3 &lt;int&gt; | HLTHPLN1 &lt;int&gt; |\n",
       "|---|---|---|---|---|---|\n",
       "| 1 | 0 | 0 | 3.00 | 0 | 1 |\n",
       "| 2 | 1 | 1 | 1.17 | 1 | 1 |\n",
       "| 3 | 0 | 1 | 3.29 | 0 | 1 |\n",
       "| 4 | 1 | 1 | 2.58 | 0 | 1 |\n",
       "| 5 | 1 | 0 | 2.29 | 0 | 1 |\n",
       "| 6 | 0 | 0 | 1.50 | 0 | 1 |\n",
       "\n"
      ],
      "text/plain": [
       "  BMI_Categories SEX VEGESU1 RFSMOK3 HLTHPLN1\n",
       "1 0              0   3.00    0       1       \n",
       "2 1              1   1.17    1       1       \n",
       "3 0              1   3.29    0       1       \n",
       "4 1              1   2.58    0       1       \n",
       "5 1              0   2.29    0       1       \n",
       "6 0              0   1.50    0       1       "
      ]
     },
     "metadata": {},
     "output_type": "display_data"
    }
   ],
   "source": [
    "head(df)"
   ]
  },
  {
   "cell_type": "code",
   "execution_count": 5,
   "metadata": {
    "vscode": {
     "languageId": "r"
    }
   },
   "outputs": [],
   "source": [
    "model1 <- glm(BMI_Categories ~ 1, family=binomial, data=df)\n",
    "model2 <- glm(BMI_Categories ~ SEX + VEGESU1 + RFSMOK3 + HLTHPLN1 , family = binomial, data=df)"
   ]
  },
  {
   "cell_type": "code",
   "execution_count": 6,
   "metadata": {
    "vscode": {
     "languageId": "r"
    }
   },
   "outputs": [
    {
     "data": {
      "text/plain": [
       "\n",
       "Call:\n",
       "glm(formula = BMI_Categories ~ 1, family = binomial, data = df)\n",
       "\n",
       "Deviance Residuals: \n",
       "    Min       1Q   Median       3Q      Max  \n",
       "-1.5009  -1.5009   0.8853   0.8853   0.8853  \n",
       "\n",
       "Coefficients:\n",
       "            Estimate Std. Error z value Pr(>|z|)    \n",
       "(Intercept)  0.73440    0.01932   38.02   <2e-16 ***\n",
       "---\n",
       "Signif. codes:  0 '***' 0.001 '**' 0.01 '*' 0.05 '.' 0.1 ' ' 1\n",
       "\n",
       "(Dispersion parameter for binomial family taken to be 1)\n",
       "\n",
       "    Null deviance: 15409  on 12228  degrees of freedom\n",
       "Residual deviance: 15409  on 12228  degrees of freedom\n",
       "  (1146 observations deleted due to missingness)\n",
       "AIC: 15411\n",
       "\n",
       "Number of Fisher Scoring iterations: 4\n"
      ]
     },
     "metadata": {},
     "output_type": "display_data"
    }
   ],
   "source": [
    "summary(model1)"
   ]
  },
  {
   "cell_type": "code",
   "execution_count": 7,
   "metadata": {
    "vscode": {
     "languageId": "r"
    }
   },
   "outputs": [
    {
     "data": {
      "text/plain": [
       "\n",
       "Call:\n",
       "glm(formula = BMI_Categories ~ SEX + VEGESU1 + RFSMOK3 + HLTHPLN1, \n",
       "    family = binomial, data = df)\n",
       "\n",
       "Deviance Residuals: \n",
       "    Min       1Q   Median       3Q      Max  \n",
       "-3.1209  -1.4130   0.7848   0.9526   1.5075  \n",
       "\n",
       "Coefficients:\n",
       "             Estimate Std. Error z value Pr(>|z|)    \n",
       "(Intercept)  0.731043   0.052623  13.892  < 2e-16 ***\n",
       "SEX          0.471577   0.041205  11.445  < 2e-16 ***\n",
       "VEGESU1     -0.011209   0.007495  -1.496 0.134780    \n",
       "RFSMOK3     -0.094466   0.028285  -3.340 0.000839 ***\n",
       "HLTHPLN1    -0.162145   0.043868  -3.696 0.000219 ***\n",
       "---\n",
       "Signif. codes:  0 '***' 0.001 '**' 0.01 '*' 0.05 '.' 0.1 ' ' 1\n",
       "\n",
       "(Dispersion parameter for binomial family taken to be 1)\n",
       "\n",
       "    Null deviance: 14070  on 11189  degrees of freedom\n",
       "Residual deviance: 13907  on 11185  degrees of freedom\n",
       "  (2185 observations deleted due to missingness)\n",
       "AIC: 13917\n",
       "\n",
       "Number of Fisher Scoring iterations: 4\n"
      ]
     },
     "metadata": {},
     "output_type": "display_data"
    }
   ],
   "source": [
    "summary(model2)"
   ]
  },
  {
   "cell_type": "code",
   "execution_count": 8,
   "metadata": {
    "vscode": {
     "languageId": "r"
    }
   },
   "outputs": [
    {
     "data": {
      "text/html": [
       "<strong>(Intercept):</strong> 2.08423707440014"
      ],
      "text/latex": [
       "\\textbf{(Intercept):} 2.08423707440014"
      ],
      "text/markdown": [
       "**(Intercept):** 2.08423707440014"
      ],
      "text/plain": [
       "(Intercept) \n",
       "   2.084237 "
      ]
     },
     "metadata": {},
     "output_type": "display_data"
    }
   ],
   "source": [
    "exp(coef(model1))"
   ]
  },
  {
   "cell_type": "code",
   "execution_count": 15,
   "metadata": {
    "vscode": {
     "languageId": "r"
    }
   },
   "outputs": [
    {
     "data": {
      "text/html": [
       "<table class=\"dataframe\">\n",
       "<caption>A data.frame: 5 × 1</caption>\n",
       "<thead>\n",
       "\t<tr><th></th><th scope=col>exp.coef.model2..</th></tr>\n",
       "\t<tr><th></th><th scope=col>&lt;dbl&gt;</th></tr>\n",
       "</thead>\n",
       "<tbody>\n",
       "\t<tr><th scope=row>(Intercept)</th><td>2.0772462</td></tr>\n",
       "\t<tr><th scope=row>SEX</th><td>1.6025194</td></tr>\n",
       "\t<tr><th scope=row>VEGESU1</th><td>0.9888539</td></tr>\n",
       "\t<tr><th scope=row>RFSMOK3</th><td>0.9098585</td></tr>\n",
       "\t<tr><th scope=row>HLTHPLN1</th><td>0.8503183</td></tr>\n",
       "</tbody>\n",
       "</table>\n"
      ],
      "text/latex": [
       "A data.frame: 5 × 1\n",
       "\\begin{tabular}{r|l}\n",
       "  & exp.coef.model2..\\\\\n",
       "  & <dbl>\\\\\n",
       "\\hline\n",
       "\t(Intercept) & 2.0772462\\\\\n",
       "\tSEX & 1.6025194\\\\\n",
       "\tVEGESU1 & 0.9888539\\\\\n",
       "\tRFSMOK3 & 0.9098585\\\\\n",
       "\tHLTHPLN1 & 0.8503183\\\\\n",
       "\\end{tabular}\n"
      ],
      "text/markdown": [
       "\n",
       "A data.frame: 5 × 1\n",
       "\n",
       "| <!--/--> | exp.coef.model2.. &lt;dbl&gt; |\n",
       "|---|---|\n",
       "| (Intercept) | 2.0772462 |\n",
       "| SEX | 1.6025194 |\n",
       "| VEGESU1 | 0.9888539 |\n",
       "| RFSMOK3 | 0.9098585 |\n",
       "| HLTHPLN1 | 0.8503183 |\n",
       "\n"
      ],
      "text/plain": [
       "            exp.coef.model2..\n",
       "(Intercept) 2.0772462        \n",
       "SEX         1.6025194        \n",
       "VEGESU1     0.9888539        \n",
       "RFSMOK3     0.9098585        \n",
       "HLTHPLN1    0.8503183        "
      ]
     },
     "metadata": {},
     "output_type": "display_data"
    }
   ],
   "source": [
    "data.frame(exp(coef(model2)))"
   ]
  },
  {
   "cell_type": "markdown",
   "metadata": {},
   "source": [
    "---\n",
    "\n",
    "** I'm not sure why my exp(coefs) are not the same as the SPSS output? Did I miss a factoring somewhere?"
   ]
  },
  {
   "cell_type": "markdown",
   "metadata": {},
   "source": [
    "![Alt text](image.png)"
   ]
  },
  {
   "cell_type": "code",
   "execution_count": 13,
   "metadata": {
    "vscode": {
     "languageId": "r"
    }
   },
   "outputs": [],
   "source": [
    "model3 <- glm(\n",
    "    BMI_Categories ~ SEX + VEGESU1 + RFSMOK3 + HLTHPLN1 + 1,\n",
    "    family = binomial,\n",
    "    data=df,\n",
    "    contrasts = \n",
    "    )"
   ]
  },
  {
   "cell_type": "code",
   "execution_count": 14,
   "metadata": {
    "vscode": {
     "languageId": "r"
    }
   },
   "outputs": [
    {
     "data": {
      "text/plain": [
       "\n",
       "Call:\n",
       "glm(formula = BMI_Categories ~ SEX + VEGESU1 + RFSMOK3 + HLTHPLN1 + \n",
       "    1, family = binomial, data = df)\n",
       "\n",
       "Deviance Residuals: \n",
       "    Min       1Q   Median       3Q      Max  \n",
       "-3.1209  -1.4130   0.7848   0.9526   1.5075  \n",
       "\n",
       "Coefficients:\n",
       "             Estimate Std. Error z value Pr(>|z|)    \n",
       "(Intercept)  0.731043   0.052623  13.892  < 2e-16 ***\n",
       "SEX          0.471577   0.041205  11.445  < 2e-16 ***\n",
       "VEGESU1     -0.011209   0.007495  -1.496 0.134780    \n",
       "RFSMOK3     -0.094466   0.028285  -3.340 0.000839 ***\n",
       "HLTHPLN1    -0.162145   0.043868  -3.696 0.000219 ***\n",
       "---\n",
       "Signif. codes:  0 '***' 0.001 '**' 0.01 '*' 0.05 '.' 0.1 ' ' 1\n",
       "\n",
       "(Dispersion parameter for binomial family taken to be 1)\n",
       "\n",
       "    Null deviance: 14070  on 11189  degrees of freedom\n",
       "Residual deviance: 13907  on 11185  degrees of freedom\n",
       "  (2185 observations deleted due to missingness)\n",
       "AIC: 13917\n",
       "\n",
       "Number of Fisher Scoring iterations: 4\n"
      ]
     },
     "metadata": {},
     "output_type": "display_data"
    }
   ],
   "source": [
    "summary(model3)"
   ]
  },
  {
   "cell_type": "code",
   "execution_count": 16,
   "metadata": {
    "vscode": {
     "languageId": "r"
    }
   },
   "outputs": [
    {
     "data": {
      "text/html": [
       "<table class=\"dataframe\">\n",
       "<caption>A data.frame: 5 × 1</caption>\n",
       "<thead>\n",
       "\t<tr><th></th><th scope=col>exp.coef.model3..</th></tr>\n",
       "\t<tr><th></th><th scope=col>&lt;dbl&gt;</th></tr>\n",
       "</thead>\n",
       "<tbody>\n",
       "\t<tr><th scope=row>(Intercept)</th><td>2.0772462</td></tr>\n",
       "\t<tr><th scope=row>SEX</th><td>1.6025194</td></tr>\n",
       "\t<tr><th scope=row>VEGESU1</th><td>0.9888539</td></tr>\n",
       "\t<tr><th scope=row>RFSMOK3</th><td>0.9098585</td></tr>\n",
       "\t<tr><th scope=row>HLTHPLN1</th><td>0.8503183</td></tr>\n",
       "</tbody>\n",
       "</table>\n"
      ],
      "text/latex": [
       "A data.frame: 5 × 1\n",
       "\\begin{tabular}{r|l}\n",
       "  & exp.coef.model3..\\\\\n",
       "  & <dbl>\\\\\n",
       "\\hline\n",
       "\t(Intercept) & 2.0772462\\\\\n",
       "\tSEX & 1.6025194\\\\\n",
       "\tVEGESU1 & 0.9888539\\\\\n",
       "\tRFSMOK3 & 0.9098585\\\\\n",
       "\tHLTHPLN1 & 0.8503183\\\\\n",
       "\\end{tabular}\n"
      ],
      "text/markdown": [
       "\n",
       "A data.frame: 5 × 1\n",
       "\n",
       "| <!--/--> | exp.coef.model3.. &lt;dbl&gt; |\n",
       "|---|---|\n",
       "| (Intercept) | 2.0772462 |\n",
       "| SEX | 1.6025194 |\n",
       "| VEGESU1 | 0.9888539 |\n",
       "| RFSMOK3 | 0.9098585 |\n",
       "| HLTHPLN1 | 0.8503183 |\n",
       "\n"
      ],
      "text/plain": [
       "            exp.coef.model3..\n",
       "(Intercept) 2.0772462        \n",
       "SEX         1.6025194        \n",
       "VEGESU1     0.9888539        \n",
       "RFSMOK3     0.9098585        \n",
       "HLTHPLN1    0.8503183        "
      ]
     },
     "metadata": {},
     "output_type": "display_data"
    }
   ],
   "source": [
    "data.frame(exp(coef(model3)))"
   ]
  },
  {
   "cell_type": "code",
   "execution_count": 19,
   "metadata": {
    "vscode": {
     "languageId": "r"
    }
   },
   "outputs": [
    {
     "data": {
      "text/html": [
       "<strong>$contrasts</strong> = <style>\n",
       ".dl-inline {width: auto; margin:0; padding: 0}\n",
       ".dl-inline>dt, .dl-inline>dd {float: none; width: auto; display: inline-block}\n",
       ".dl-inline>dt::after {content: \":\\0020\"; padding-right: .5ex}\n",
       ".dl-inline>dt:not(:first-of-type) {padding-left: .5ex}\n",
       "</style><dl class=dl-inline><dt>unordered</dt><dd>'contr.treatment'</dd><dt>ordered</dt><dd>'contr.poly'</dd></dl>\n"
      ],
      "text/latex": [
       "\\textbf{\\$contrasts} = \\begin{description*}\n",
       "\\item[unordered] 'contr.treatment'\n",
       "\\item[ordered] 'contr.poly'\n",
       "\\end{description*}\n"
      ],
      "text/markdown": [
       "**$contrasts** = unordered\n",
       ":   'contr.treatment'ordered\n",
       ":   'contr.poly'\n",
       "\n"
      ],
      "text/plain": [
       "$contrasts\n",
       "        unordered           ordered \n",
       "\"contr.treatment\"      \"contr.poly\" \n"
      ]
     },
     "metadata": {},
     "output_type": "display_data"
    }
   ],
   "source": [
    "options(\"contrasts\")"
   ]
  },
  {
   "cell_type": "code",
   "execution_count": 20,
   "metadata": {
    "vscode": {
     "languageId": "r"
    }
   },
   "outputs": [],
   "source": [
    "options(contrasts=c(\"contr.sum\",\"contr.poly\"))\n"
   ]
  },
  {
   "cell_type": "code",
   "execution_count": 25,
   "metadata": {
    "vscode": {
     "languageId": "r"
    }
   },
   "outputs": [
    {
     "ename": "ERROR",
     "evalue": "Error in model.frame.default(formula = BMI_Categories ~ SEX + VEGESU1 + : invalid type (closure) for variable 'rank'\n",
     "output_type": "error",
     "traceback": [
      "Error in model.frame.default(formula = BMI_Categories ~ SEX + VEGESU1 + : invalid type (closure) for variable 'rank'\nTraceback:\n",
      "1. glm(BMI_Categories ~ SEX + VEGESU1 + RFSMOK3 + HLTHPLN1 + rank, \n .     family = binomial, data = df)",
      "2. eval(mf, parent.frame())",
      "3. eval(mf, parent.frame())",
      "4. stats::model.frame(formula = BMI_Categories ~ SEX + VEGESU1 + \n .     RFSMOK3 + HLTHPLN1 + rank, data = df, drop.unused.levels = TRUE)",
      "5. model.frame.default(formula = BMI_Categories ~ SEX + VEGESU1 + \n .     RFSMOK3 + HLTHPLN1 + rank, data = df, drop.unused.levels = TRUE)"
     ]
    }
   ],
   "source": [
    "model4 <- glm(BMI_Categories ~ SEX + VEGESU1 + RFSMOK3 + HLTHPLN1 + rank, family = binomial, data=df)"
   ]
  },
  {
   "cell_type": "code",
   "execution_count": 26,
   "metadata": {
    "vscode": {
     "languageId": "r"
    }
   },
   "outputs": [
    {
     "data": {
      "text/plain": [
       "\n",
       "Call:\n",
       "glm(formula = BMI_Categories ~ SEX + VEGESU1 + RFSMOK3 + HLTHPLN1, \n",
       "    family = binomial, data = df)\n",
       "\n",
       "Deviance Residuals: \n",
       "    Min       1Q   Median       3Q      Max  \n",
       "-3.1209  -1.4130   0.7848   0.9526   1.5075  \n",
       "\n",
       "Coefficients:\n",
       "             Estimate Std. Error z value Pr(>|z|)    \n",
       "(Intercept)  0.731043   0.052623  13.892  < 2e-16 ***\n",
       "SEX          0.471577   0.041205  11.445  < 2e-16 ***\n",
       "VEGESU1     -0.011209   0.007495  -1.496 0.134780    \n",
       "RFSMOK3     -0.094466   0.028285  -3.340 0.000839 ***\n",
       "HLTHPLN1    -0.162145   0.043868  -3.696 0.000219 ***\n",
       "---\n",
       "Signif. codes:  0 '***' 0.001 '**' 0.01 '*' 0.05 '.' 0.1 ' ' 1\n",
       "\n",
       "(Dispersion parameter for binomial family taken to be 1)\n",
       "\n",
       "    Null deviance: 14070  on 11189  degrees of freedom\n",
       "Residual deviance: 13907  on 11185  degrees of freedom\n",
       "  (2185 observations deleted due to missingness)\n",
       "AIC: 13917\n",
       "\n",
       "Number of Fisher Scoring iterations: 4\n"
      ]
     },
     "metadata": {},
     "output_type": "display_data"
    }
   ],
   "source": [
    "summary(model4)"
   ]
  },
  {
   "cell_type": "code",
   "execution_count": 27,
   "metadata": {
    "vscode": {
     "languageId": "r"
    }
   },
   "outputs": [
    {
     "data": {
      "text/html": [
       "<table class=\"dataframe\">\n",
       "<caption>A data.frame: 5 × 1</caption>\n",
       "<thead>\n",
       "\t<tr><th></th><th scope=col>exp.coef.model4..</th></tr>\n",
       "\t<tr><th></th><th scope=col>&lt;dbl&gt;</th></tr>\n",
       "</thead>\n",
       "<tbody>\n",
       "\t<tr><th scope=row>(Intercept)</th><td>2.0772462</td></tr>\n",
       "\t<tr><th scope=row>SEX</th><td>1.6025194</td></tr>\n",
       "\t<tr><th scope=row>VEGESU1</th><td>0.9888539</td></tr>\n",
       "\t<tr><th scope=row>RFSMOK3</th><td>0.9098585</td></tr>\n",
       "\t<tr><th scope=row>HLTHPLN1</th><td>0.8503183</td></tr>\n",
       "</tbody>\n",
       "</table>\n"
      ],
      "text/latex": [
       "A data.frame: 5 × 1\n",
       "\\begin{tabular}{r|l}\n",
       "  & exp.coef.model4..\\\\\n",
       "  & <dbl>\\\\\n",
       "\\hline\n",
       "\t(Intercept) & 2.0772462\\\\\n",
       "\tSEX & 1.6025194\\\\\n",
       "\tVEGESU1 & 0.9888539\\\\\n",
       "\tRFSMOK3 & 0.9098585\\\\\n",
       "\tHLTHPLN1 & 0.8503183\\\\\n",
       "\\end{tabular}\n"
      ],
      "text/markdown": [
       "\n",
       "A data.frame: 5 × 1\n",
       "\n",
       "| <!--/--> | exp.coef.model4.. &lt;dbl&gt; |\n",
       "|---|---|\n",
       "| (Intercept) | 2.0772462 |\n",
       "| SEX | 1.6025194 |\n",
       "| VEGESU1 | 0.9888539 |\n",
       "| RFSMOK3 | 0.9098585 |\n",
       "| HLTHPLN1 | 0.8503183 |\n",
       "\n"
      ],
      "text/plain": [
       "            exp.coef.model4..\n",
       "(Intercept) 2.0772462        \n",
       "SEX         1.6025194        \n",
       "VEGESU1     0.9888539        \n",
       "RFSMOK3     0.9098585        \n",
       "HLTHPLN1    0.8503183        "
      ]
     },
     "metadata": {},
     "output_type": "display_data"
    }
   ],
   "source": [
    "data.frame(exp(coef(model4)))"
   ]
  },
  {
   "cell_type": "code",
   "execution_count": 35,
   "metadata": {
    "vscode": {
     "languageId": "r"
    }
   },
   "outputs": [],
   "source": [
    "df$SEX[df$SEX == 9] <- NA\n",
    "df$RFSMOK3[df$RFSMOK3 == 9] <- NA\n",
    "df$HLTHPLN1[df$HLTHPLN1 == 7] <- NA\n",
    "df$HLTHPLN1[df$HLTHPLN1 == 9] <- NA\n"
   ]
  },
  {
   "cell_type": "code",
   "execution_count": 36,
   "metadata": {
    "vscode": {
     "languageId": "r"
    }
   },
   "outputs": [],
   "source": [
    "model4 <- glm(BMI_Categories ~ SEX + VEGESU1 + RFSMOK3 + HLTHPLN1, family = binomial, data=df)"
   ]
  },
  {
   "cell_type": "code",
   "execution_count": 37,
   "metadata": {
    "vscode": {
     "languageId": "r"
    }
   },
   "outputs": [
    {
     "data": {
      "text/plain": [
       "\n",
       "Call:\n",
       "glm(formula = BMI_Categories ~ SEX + VEGESU1 + RFSMOK3 + HLTHPLN1, \n",
       "    family = binomial, data = df)\n",
       "\n",
       "Deviance Residuals: \n",
       "    Min       1Q   Median       3Q      Max  \n",
       "-1.6728  -1.4246   0.7606   0.9421   1.5062  \n",
       "\n",
       "Coefficients:\n",
       "             Estimate Std. Error z value Pr(>|z|)    \n",
       "(Intercept)  0.596689   0.082172   7.261 3.83e-13 ***\n",
       "SEX          0.516664   0.041701  12.390  < 2e-16 ***\n",
       "VEGESU1     -0.012233   0.007518  -1.627    0.104    \n",
       "RFSMOK3     -0.324687   0.055745  -5.825 5.73e-09 ***\n",
       "HLTHPLN1     0.002817   0.079792   0.035    0.972    \n",
       "---\n",
       "Signif. codes:  0 '***' 0.001 '**' 0.01 '*' 0.05 '.' 0.1 ' ' 1\n",
       "\n",
       "(Dispersion parameter for binomial family taken to be 1)\n",
       "\n",
       "    Null deviance: 13938  on 11101  degrees of freedom\n",
       "Residual deviance: 13750  on 11097  degrees of freedom\n",
       "  (2273 observations deleted due to missingness)\n",
       "AIC: 13760\n",
       "\n",
       "Number of Fisher Scoring iterations: 4\n"
      ]
     },
     "metadata": {},
     "output_type": "display_data"
    }
   ],
   "source": [
    "summary(model4)"
   ]
  },
  {
   "cell_type": "code",
   "execution_count": 38,
   "metadata": {
    "vscode": {
     "languageId": "r"
    }
   },
   "outputs": [
    {
     "data": {
      "text/html": [
       "<table class=\"dataframe\">\n",
       "<caption>A data.frame: 1 × 1</caption>\n",
       "<thead>\n",
       "\t<tr><th></th><th scope=col>exp.coef.glm.BMI_Categories...1..family...binomial..data...df...</th></tr>\n",
       "\t<tr><th></th><th scope=col>&lt;dbl&gt;</th></tr>\n",
       "</thead>\n",
       "<tbody>\n",
       "\t<tr><th scope=row>(Intercept)</th><td>2.084237</td></tr>\n",
       "</tbody>\n",
       "</table>\n"
      ],
      "text/latex": [
       "A data.frame: 1 × 1\n",
       "\\begin{tabular}{r|l}\n",
       "  & exp.coef.glm.BMI\\_Categories...1..family...binomial..data...df...\\\\\n",
       "  & <dbl>\\\\\n",
       "\\hline\n",
       "\t(Intercept) & 2.084237\\\\\n",
       "\\end{tabular}\n"
      ],
      "text/markdown": [
       "\n",
       "A data.frame: 1 × 1\n",
       "\n",
       "| <!--/--> | exp.coef.glm.BMI_Categories...1..family...binomial..data...df... &lt;dbl&gt; |\n",
       "|---|---|\n",
       "| (Intercept) | 2.084237 |\n",
       "\n"
      ],
      "text/plain": [
       "            exp.coef.glm.BMI_Categories...1..family...binomial..data...df...\n",
       "(Intercept) 2.084237                                                        "
      ]
     },
     "metadata": {},
     "output_type": "display_data"
    }
   ],
   "source": [
    "data.frame(exp(coef(glm(BMI_Categories ~ 1, family = binomial, data=df))))"
   ]
  },
  {
   "cell_type": "code",
   "execution_count": 39,
   "metadata": {
    "vscode": {
     "languageId": "r"
    }
   },
   "outputs": [
    {
     "data": {
      "text/html": [
       "<table class=\"dataframe\">\n",
       "<caption>A data.frame: 5 × 1</caption>\n",
       "<thead>\n",
       "\t<tr><th></th><th scope=col>exp.coef.model4..</th></tr>\n",
       "\t<tr><th></th><th scope=col>&lt;dbl&gt;</th></tr>\n",
       "</thead>\n",
       "<tbody>\n",
       "\t<tr><th scope=row>(Intercept)</th><td>1.8160957</td></tr>\n",
       "\t<tr><th scope=row>SEX</th><td>1.6764266</td></tr>\n",
       "\t<tr><th scope=row>VEGESU1</th><td>0.9878410</td></tr>\n",
       "\t<tr><th scope=row>RFSMOK3</th><td>0.7227536</td></tr>\n",
       "\t<tr><th scope=row>HLTHPLN1</th><td>1.0028209</td></tr>\n",
       "</tbody>\n",
       "</table>\n"
      ],
      "text/latex": [
       "A data.frame: 5 × 1\n",
       "\\begin{tabular}{r|l}\n",
       "  & exp.coef.model4..\\\\\n",
       "  & <dbl>\\\\\n",
       "\\hline\n",
       "\t(Intercept) & 1.8160957\\\\\n",
       "\tSEX & 1.6764266\\\\\n",
       "\tVEGESU1 & 0.9878410\\\\\n",
       "\tRFSMOK3 & 0.7227536\\\\\n",
       "\tHLTHPLN1 & 1.0028209\\\\\n",
       "\\end{tabular}\n"
      ],
      "text/markdown": [
       "\n",
       "A data.frame: 5 × 1\n",
       "\n",
       "| <!--/--> | exp.coef.model4.. &lt;dbl&gt; |\n",
       "|---|---|\n",
       "| (Intercept) | 1.8160957 |\n",
       "| SEX | 1.6764266 |\n",
       "| VEGESU1 | 0.9878410 |\n",
       "| RFSMOK3 | 0.7227536 |\n",
       "| HLTHPLN1 | 1.0028209 |\n",
       "\n"
      ],
      "text/plain": [
       "            exp.coef.model4..\n",
       "(Intercept) 1.8160957        \n",
       "SEX         1.6764266        \n",
       "VEGESU1     0.9878410        \n",
       "RFSMOK3     0.7227536        \n",
       "HLTHPLN1    1.0028209        "
      ]
     },
     "metadata": {},
     "output_type": "display_data"
    }
   ],
   "source": [
    "data.frame(exp(coef(model4)))"
   ]
  },
  {
   "cell_type": "code",
   "execution_count": null,
   "metadata": {
    "vscode": {
     "languageId": "r"
    }
   },
   "outputs": [],
   "source": []
  },
  {
   "cell_type": "code",
   "execution_count": null,
   "metadata": {
    "vscode": {
     "languageId": "r"
    }
   },
   "outputs": [],
   "source": []
  },
  {
   "cell_type": "code",
   "execution_count": null,
   "metadata": {
    "vscode": {
     "languageId": "r"
    }
   },
   "outputs": [],
   "source": []
  },
  {
   "cell_type": "code",
   "execution_count": null,
   "metadata": {
    "vscode": {
     "languageId": "r"
    }
   },
   "outputs": [],
   "source": []
  },
  {
   "cell_type": "code",
   "execution_count": null,
   "metadata": {
    "vscode": {
     "languageId": "r"
    }
   },
   "outputs": [],
   "source": []
  },
  {
   "cell_type": "code",
   "execution_count": null,
   "metadata": {
    "vscode": {
     "languageId": "r"
    }
   },
   "outputs": [],
   "source": []
  },
  {
   "cell_type": "code",
   "execution_count": null,
   "metadata": {
    "vscode": {
     "languageId": "r"
    }
   },
   "outputs": [],
   "source": []
  },
  {
   "cell_type": "code",
   "execution_count": null,
   "metadata": {
    "vscode": {
     "languageId": "r"
    }
   },
   "outputs": [],
   "source": []
  },
  {
   "cell_type": "code",
   "execution_count": null,
   "metadata": {
    "vscode": {
     "languageId": "r"
    }
   },
   "outputs": [],
   "source": []
  },
  {
   "cell_type": "code",
   "execution_count": null,
   "metadata": {
    "vscode": {
     "languageId": "r"
    }
   },
   "outputs": [],
   "source": []
  },
  {
   "cell_type": "code",
   "execution_count": null,
   "metadata": {
    "vscode": {
     "languageId": "r"
    }
   },
   "outputs": [],
   "source": []
  },
  {
   "cell_type": "code",
   "execution_count": null,
   "metadata": {
    "vscode": {
     "languageId": "r"
    }
   },
   "outputs": [],
   "source": []
  },
  {
   "cell_type": "code",
   "execution_count": null,
   "metadata": {
    "vscode": {
     "languageId": "r"
    }
   },
   "outputs": [],
   "source": []
  },
  {
   "cell_type": "code",
   "execution_count": null,
   "metadata": {
    "vscode": {
     "languageId": "r"
    }
   },
   "outputs": [],
   "source": []
  },
  {
   "cell_type": "markdown",
   "metadata": {},
   "source": []
  },
  {
   "cell_type": "markdown",
   "metadata": {},
   "source": [
    "------------------------------------------------------------------------\n",
    "\n",
    "## Question 2\n",
    "\n",
    "Run a Cox Regression. Data: Cox Proportional Hazard Regression Data. Variables: Use TimeDeathYears as the “Time” variable. Death is the Status or Event variable.  Use cursmoke, diabetes, educ, prevchd, age, bmi, and sex as the covariates. For the categorical variables, make sure that not a current smoker, no diabetes, the lowest education category, no CHD, and female sex are all reference categories.  Generate 95% CIs for each hazard ratio. Generate a Kaplan Meijer plot."
   ]
  },
  {
   "cell_type": "markdown",
   "metadata": {},
   "source": []
  }
 ],
 "metadata": {
  "kernelspec": {
   "display_name": "R",
   "language": "R",
   "name": "ir"
  },
  "language_info": {
   "codemirror_mode": "r",
   "file_extension": ".r",
   "mimetype": "text/x-r-source",
   "name": "R",
   "pygments_lexer": "r",
   "version": "4.2.2"
  },
  "orig_nbformat": 4
 },
 "nbformat": 4,
 "nbformat_minor": 2
}
