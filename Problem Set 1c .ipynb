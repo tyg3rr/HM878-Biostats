{
 "cells": [
  {
   "cell_type": "markdown",
   "metadata": {},
   "source": [
    "# HM 878 Applied Biostatistics Problem Set #1c\n",
    "\n",
    "## Binary Logistic Regression and Cox Proportional Hazards Regression\n",
    "\n",
    "*This Problem Set will provide students with the opportunity to learn\n",
    "how to use R to conduct basic statistical tests, replicating many tests\n",
    "that were already done in HM 802. The main goal is to make sure you are\n",
    "familiar with R as a system for statistical analysis.*\n",
    "\n",
    "Analyses include:\n",
    "\n",
    "-\tBinary logistic regression\n",
    "-\tCox Proportional Hazards Regression\n",
    "\n",
    "\n",
    "------------------------------------------------------------------------\n",
    "\n",
    "*Setting up the code environment*"
   ]
  },
  {
   "cell_type": "code",
   "execution_count": null,
   "metadata": {
    "vscode": {
     "languageId": "r"
    }
   },
   "outputs": [],
   "source": [
    "library(dplyr)\n",
    "library(tidyverse)"
   ]
  },
  {
   "cell_type": "code",
   "execution_count": 14,
   "metadata": {
    "vscode": {
     "languageId": "r"
    }
   },
   "outputs": [
    {
     "name": "stderr",
     "output_type": "stream",
     "text": [
      "Installing package into 'C:/Users/ljens/AppData/Local/R/win-library/4.2'\n",
      "(as 'lib' is unspecified)\n",
      "\n"
     ]
    },
    {
     "name": "stdout",
     "output_type": "stream",
     "text": [
      "package 'comprehenr' successfully unpacked and MD5 sums checked\n",
      "\n",
      "The downloaded binary packages are in\n",
      "\tC:\\Users\\ljens\\AppData\\Local\\Temp\\RtmpMLUVc5\\downloaded_packages\n"
     ]
    }
   ],
   "source": [
    "install.packages(\"comprehenr\")"
   ]
  },
  {
   "cell_type": "code",
   "execution_count": 15,
   "metadata": {
    "vscode": {
     "languageId": "r"
    }
   },
   "outputs": [
    {
     "name": "stderr",
     "output_type": "stream",
     "text": [
      "Warning message:\n",
      "\"package 'comprehenr' was built under R version 4.2.3\"\n"
     ]
    }
   ],
   "source": [
    "library(comprehenr)"
   ]
  },
  {
   "cell_type": "markdown",
   "metadata": {},
   "source": [
    "------------------------------------------------------------------------\n",
    "\n",
    "## Question 1\n",
    "\n",
    "Data: Logistic Regression Data.csv. Variables: Dependent variable: BMI_Categories.  Independent variables: HLTHPLN1, RFSMOK3, VEGESU1, and SEX.  Variables are coded as follows:\n",
    "•\tBMI_Categories (BMI): 0 = Under/Normal Weight, 1 = Overweight/Obese\n",
    "•\tHLTHPLN1 (Has Health care coverage): 0 = No, 1 = Yes\n",
    "•\tRFSMOK3 (Current Smoker): 0 = No, 1 = Yes\n",
    "•\tVEGESU1 (Servings of vegetables per day): continuous, numerical data\n",
    "•\tSEX (Sex): 0 = Female, 1 = Male"
   ]
  },
  {
   "cell_type": "code",
   "execution_count": 68,
   "metadata": {
    "vscode": {
     "languageId": "r"
    }
   },
   "outputs": [],
   "source": [
    "df <- read.csv(\"C:\\\\Users\\\\ljens\\\\Downloads\\\\Logistic  Regression Data.csv\")"
   ]
  },
  {
   "cell_type": "code",
   "execution_count": 61,
   "metadata": {
    "vscode": {
     "languageId": "r"
    }
   },
   "outputs": [
    {
     "data": {
      "text/html": [
       "<style>\n",
       ".list-inline {list-style: none; margin:0; padding: 0}\n",
       ".list-inline>li {display: inline-block}\n",
       ".list-inline>li:not(:last-child)::after {content: \"\\00b7\"; padding: 0 .5ex}\n",
       "</style>\n",
       "<ol class=list-inline><li>'BMI_Categories'</li><li>'SEX'</li><li>'VEGESU1'</li><li>'RFSMOK3'</li><li>'HLTHPLN1'</li></ol>\n"
      ],
      "text/latex": [
       "\\begin{enumerate*}\n",
       "\\item 'BMI\\_Categories'\n",
       "\\item 'SEX'\n",
       "\\item 'VEGESU1'\n",
       "\\item 'RFSMOK3'\n",
       "\\item 'HLTHPLN1'\n",
       "\\end{enumerate*}\n"
      ],
      "text/markdown": [
       "1. 'BMI_Categories'\n",
       "2. 'SEX'\n",
       "3. 'VEGESU1'\n",
       "4. 'RFSMOK3'\n",
       "5. 'HLTHPLN1'\n",
       "\n",
       "\n"
      ],
      "text/plain": [
       "[1] \"BMI_Categories\" \"SEX\"            \"VEGESU1\"        \"RFSMOK3\"       \n",
       "[5] \"HLTHPLN1\"      "
      ]
     },
     "metadata": {},
     "output_type": "display_data"
    }
   ],
   "source": [
    "colnames(df)"
   ]
  },
  {
   "cell_type": "code",
   "execution_count": 99,
   "metadata": {
    "vscode": {
     "languageId": "r"
    }
   },
   "outputs": [
    {
     "data": {
      "text/html": [
       "<table class=\"dataframe\">\n",
       "<caption>A data.frame: 6 × 5</caption>\n",
       "<thead>\n",
       "\t<tr><th></th><th scope=col>BMI_Categories</th><th scope=col>SEX</th><th scope=col>VEGESU1</th><th scope=col>RFSMOK3</th><th scope=col>HLTHPLN1</th></tr>\n",
       "\t<tr><th></th><th scope=col>&lt;int&gt;</th><th scope=col>&lt;int&gt;</th><th scope=col>&lt;dbl&gt;</th><th scope=col>&lt;int&gt;</th><th scope=col>&lt;int&gt;</th></tr>\n",
       "</thead>\n",
       "<tbody>\n",
       "\t<tr><th scope=row>1</th><td>0</td><td>0</td><td>3.00</td><td>0</td><td>1</td></tr>\n",
       "\t<tr><th scope=row>2</th><td>1</td><td>1</td><td>1.17</td><td>1</td><td>1</td></tr>\n",
       "\t<tr><th scope=row>3</th><td>0</td><td>1</td><td>3.29</td><td>0</td><td>1</td></tr>\n",
       "\t<tr><th scope=row>4</th><td>1</td><td>1</td><td>2.58</td><td>0</td><td>1</td></tr>\n",
       "\t<tr><th scope=row>5</th><td>1</td><td>0</td><td>2.29</td><td>0</td><td>1</td></tr>\n",
       "\t<tr><th scope=row>6</th><td>0</td><td>0</td><td>1.50</td><td>0</td><td>1</td></tr>\n",
       "</tbody>\n",
       "</table>\n"
      ],
      "text/latex": [
       "A data.frame: 6 × 5\n",
       "\\begin{tabular}{r|lllll}\n",
       "  & BMI\\_Categories & SEX & VEGESU1 & RFSMOK3 & HLTHPLN1\\\\\n",
       "  & <int> & <int> & <dbl> & <int> & <int>\\\\\n",
       "\\hline\n",
       "\t1 & 0 & 0 & 3.00 & 0 & 1\\\\\n",
       "\t2 & 1 & 1 & 1.17 & 1 & 1\\\\\n",
       "\t3 & 0 & 1 & 3.29 & 0 & 1\\\\\n",
       "\t4 & 1 & 1 & 2.58 & 0 & 1\\\\\n",
       "\t5 & 1 & 0 & 2.29 & 0 & 1\\\\\n",
       "\t6 & 0 & 0 & 1.50 & 0 & 1\\\\\n",
       "\\end{tabular}\n"
      ],
      "text/markdown": [
       "\n",
       "A data.frame: 6 × 5\n",
       "\n",
       "| <!--/--> | BMI_Categories &lt;int&gt; | SEX &lt;int&gt; | VEGESU1 &lt;dbl&gt; | RFSMOK3 &lt;int&gt; | HLTHPLN1 &lt;int&gt; |\n",
       "|---|---|---|---|---|---|\n",
       "| 1 | 0 | 0 | 3.00 | 0 | 1 |\n",
       "| 2 | 1 | 1 | 1.17 | 1 | 1 |\n",
       "| 3 | 0 | 1 | 3.29 | 0 | 1 |\n",
       "| 4 | 1 | 1 | 2.58 | 0 | 1 |\n",
       "| 5 | 1 | 0 | 2.29 | 0 | 1 |\n",
       "| 6 | 0 | 0 | 1.50 | 0 | 1 |\n",
       "\n"
      ],
      "text/plain": [
       "  BMI_Categories SEX VEGESU1 RFSMOK3 HLTHPLN1\n",
       "1 0              0   3.00    0       1       \n",
       "2 1              1   1.17    1       1       \n",
       "3 0              1   3.29    0       1       \n",
       "4 1              1   2.58    0       1       \n",
       "5 1              0   2.29    0       1       \n",
       "6 0              0   1.50    0       1       "
      ]
     },
     "metadata": {},
     "output_type": "display_data"
    }
   ],
   "source": [
    "head(df)"
   ]
  },
  {
   "cell_type": "code",
   "execution_count": 92,
   "metadata": {
    "vscode": {
     "languageId": "r"
    }
   },
   "outputs": [],
   "source": [
    "model1 <- glm(BMI_Categories ~ 1, family=binomial, data=df)\n",
    "model2 <- glm(BMI_Categories ~ SEX + VEGESU1 + RFSMOK3 + HLTHPLN1 , family = binomial, data=df)"
   ]
  },
  {
   "cell_type": "code",
   "execution_count": 93,
   "metadata": {
    "vscode": {
     "languageId": "r"
    }
   },
   "outputs": [
    {
     "data": {
      "text/plain": [
       "\n",
       "Call:\n",
       "glm(formula = BMI_Categories ~ 1, family = binomial, data = df)\n",
       "\n",
       "Deviance Residuals: \n",
       "    Min       1Q   Median       3Q      Max  \n",
       "-1.5009  -1.5009   0.8853   0.8853   0.8853  \n",
       "\n",
       "Coefficients:\n",
       "            Estimate Std. Error z value Pr(>|z|)    \n",
       "(Intercept)  0.73440    0.01932   38.02   <2e-16 ***\n",
       "---\n",
       "Signif. codes:  0 '***' 0.001 '**' 0.01 '*' 0.05 '.' 0.1 ' ' 1\n",
       "\n",
       "(Dispersion parameter for binomial family taken to be 1)\n",
       "\n",
       "    Null deviance: 15409  on 12228  degrees of freedom\n",
       "Residual deviance: 15409  on 12228  degrees of freedom\n",
       "  (1146 observations deleted due to missingness)\n",
       "AIC: 15411\n",
       "\n",
       "Number of Fisher Scoring iterations: 4\n"
      ]
     },
     "metadata": {},
     "output_type": "display_data"
    }
   ],
   "source": [
    "summary(model1)"
   ]
  },
  {
   "cell_type": "code",
   "execution_count": 94,
   "metadata": {
    "vscode": {
     "languageId": "r"
    }
   },
   "outputs": [
    {
     "data": {
      "text/plain": [
       "\n",
       "Call:\n",
       "glm(formula = BMI_Categories ~ SEX + VEGESU1 + RFSMOK3 + HLTHPLN1, \n",
       "    family = binomial, data = df)\n",
       "\n",
       "Deviance Residuals: \n",
       "    Min       1Q   Median       3Q      Max  \n",
       "-3.1209  -1.4130   0.7848   0.9526   1.5075  \n",
       "\n",
       "Coefficients:\n",
       "             Estimate Std. Error z value Pr(>|z|)    \n",
       "(Intercept)  0.731043   0.052623  13.892  < 2e-16 ***\n",
       "SEX          0.471577   0.041205  11.445  < 2e-16 ***\n",
       "VEGESU1     -0.011209   0.007495  -1.496 0.134780    \n",
       "RFSMOK3     -0.094466   0.028285  -3.340 0.000839 ***\n",
       "HLTHPLN1    -0.162145   0.043868  -3.696 0.000219 ***\n",
       "---\n",
       "Signif. codes:  0 '***' 0.001 '**' 0.01 '*' 0.05 '.' 0.1 ' ' 1\n",
       "\n",
       "(Dispersion parameter for binomial family taken to be 1)\n",
       "\n",
       "    Null deviance: 14070  on 11189  degrees of freedom\n",
       "Residual deviance: 13907  on 11185  degrees of freedom\n",
       "  (2185 observations deleted due to missingness)\n",
       "AIC: 13917\n",
       "\n",
       "Number of Fisher Scoring iterations: 4\n"
      ]
     },
     "metadata": {},
     "output_type": "display_data"
    }
   ],
   "source": [
    "summary(model2)"
   ]
  },
  {
   "cell_type": "code",
   "execution_count": 95,
   "metadata": {
    "vscode": {
     "languageId": "r"
    }
   },
   "outputs": [
    {
     "data": {
      "text/html": [
       "<strong>(Intercept):</strong> 2.08423707440014"
      ],
      "text/latex": [
       "\\textbf{(Intercept):} 2.08423707440014"
      ],
      "text/markdown": [
       "**(Intercept):** 2.08423707440014"
      ],
      "text/plain": [
       "(Intercept) \n",
       "   2.084237 "
      ]
     },
     "metadata": {},
     "output_type": "display_data"
    }
   ],
   "source": [
    "exp(coef(model1))"
   ]
  },
  {
   "cell_type": "code",
   "execution_count": 104,
   "metadata": {
    "vscode": {
     "languageId": "r"
    }
   },
   "outputs": [
    {
     "data": {
      "text/html": [
       "<table class=\"dataframe\">\n",
       "<caption>A data.frame: 5 × 1</caption>\n",
       "<thead>\n",
       "\t<tr><th></th><th scope=col>exp.coef.model..</th></tr>\n",
       "\t<tr><th></th><th scope=col>&lt;dbl&gt;</th></tr>\n",
       "</thead>\n",
       "<tbody>\n",
       "\t<tr><th scope=row>(Intercept)</th><td>2.0772462</td></tr>\n",
       "\t<tr><th scope=row>SEX</th><td>1.6025194</td></tr>\n",
       "\t<tr><th scope=row>VEGESU1</th><td>0.9888539</td></tr>\n",
       "\t<tr><th scope=row>RFSMOK3</th><td>0.9098585</td></tr>\n",
       "\t<tr><th scope=row>HLTHPLN1</th><td>0.8503183</td></tr>\n",
       "</tbody>\n",
       "</table>\n"
      ],
      "text/latex": [
       "A data.frame: 5 × 1\n",
       "\\begin{tabular}{r|l}\n",
       "  & exp.coef.model..\\\\\n",
       "  & <dbl>\\\\\n",
       "\\hline\n",
       "\t(Intercept) & 2.0772462\\\\\n",
       "\tSEX & 1.6025194\\\\\n",
       "\tVEGESU1 & 0.9888539\\\\\n",
       "\tRFSMOK3 & 0.9098585\\\\\n",
       "\tHLTHPLN1 & 0.8503183\\\\\n",
       "\\end{tabular}\n"
      ],
      "text/markdown": [
       "\n",
       "A data.frame: 5 × 1\n",
       "\n",
       "| <!--/--> | exp.coef.model.. &lt;dbl&gt; |\n",
       "|---|---|\n",
       "| (Intercept) | 2.0772462 |\n",
       "| SEX | 1.6025194 |\n",
       "| VEGESU1 | 0.9888539 |\n",
       "| RFSMOK3 | 0.9098585 |\n",
       "| HLTHPLN1 | 0.8503183 |\n",
       "\n"
      ],
      "text/plain": [
       "            exp.coef.model..\n",
       "(Intercept) 2.0772462       \n",
       "SEX         1.6025194       \n",
       "VEGESU1     0.9888539       \n",
       "RFSMOK3     0.9098585       \n",
       "HLTHPLN1    0.8503183       "
      ]
     },
     "metadata": {},
     "output_type": "display_data"
    }
   ],
   "source": [
    "data.frame(exp(coef(model)))"
   ]
  },
  {
   "cell_type": "markdown",
   "metadata": {},
   "source": [
    "---\n",
    "\n",
    "** I'm not sure why my exp(coefs) are not the same as the SPSS output? Did I miss a factoring somewhere?"
   ]
  },
  {
   "cell_type": "markdown",
   "metadata": {},
   "source": [
    "![Alt text](image.png)"
   ]
  },
  {
   "cell_type": "code",
   "execution_count": 98,
   "metadata": {
    "vscode": {
     "languageId": "r"
    }
   },
   "outputs": [
    {
     "data": {
      "text/html": [
       "<table class=\"dataframe\">\n",
       "<caption>A anova: 5 × 5</caption>\n",
       "<thead>\n",
       "\t<tr><th></th><th scope=col>Df</th><th scope=col>Deviance</th><th scope=col>Resid. Df</th><th scope=col>Resid. Dev</th><th scope=col>Pr(&gt;Chi)</th></tr>\n",
       "\t<tr><th></th><th scope=col>&lt;int&gt;</th><th scope=col>&lt;dbl&gt;</th><th scope=col>&lt;int&gt;</th><th scope=col>&lt;dbl&gt;</th><th scope=col>&lt;dbl&gt;</th></tr>\n",
       "</thead>\n",
       "<tbody>\n",
       "\t<tr><th scope=row>NULL</th><td>NA</td><td>       NA</td><td>11189</td><td>14070.04</td><td>          NA</td></tr>\n",
       "\t<tr><th scope=row>SEX</th><td> 1</td><td>136.52446</td><td>11188</td><td>13933.52</td><td>1.532146e-31</td></tr>\n",
       "\t<tr><th scope=row>VEGESU1</th><td> 1</td><td>  2.15093</td><td>11187</td><td>13931.36</td><td>1.424835e-01</td></tr>\n",
       "\t<tr><th scope=row>RFSMOK3</th><td> 1</td><td> 10.49552</td><td>11186</td><td>13920.87</td><td>1.196642e-03</td></tr>\n",
       "\t<tr><th scope=row>HLTHPLN1</th><td> 1</td><td> 13.88959</td><td>11185</td><td>13906.98</td><td>1.938698e-04</td></tr>\n",
       "</tbody>\n",
       "</table>\n"
      ],
      "text/latex": [
       "A anova: 5 × 5\n",
       "\\begin{tabular}{r|lllll}\n",
       "  & Df & Deviance & Resid. Df & Resid. Dev & Pr(>Chi)\\\\\n",
       "  & <int> & <dbl> & <int> & <dbl> & <dbl>\\\\\n",
       "\\hline\n",
       "\tNULL & NA &        NA & 11189 & 14070.04 &           NA\\\\\n",
       "\tSEX &  1 & 136.52446 & 11188 & 13933.52 & 1.532146e-31\\\\\n",
       "\tVEGESU1 &  1 &   2.15093 & 11187 & 13931.36 & 1.424835e-01\\\\\n",
       "\tRFSMOK3 &  1 &  10.49552 & 11186 & 13920.87 & 1.196642e-03\\\\\n",
       "\tHLTHPLN1 &  1 &  13.88959 & 11185 & 13906.98 & 1.938698e-04\\\\\n",
       "\\end{tabular}\n"
      ],
      "text/markdown": [
       "\n",
       "A anova: 5 × 5\n",
       "\n",
       "| <!--/--> | Df &lt;int&gt; | Deviance &lt;dbl&gt; | Resid. Df &lt;int&gt; | Resid. Dev &lt;dbl&gt; | Pr(&gt;Chi) &lt;dbl&gt; |\n",
       "|---|---|---|---|---|---|\n",
       "| NULL | NA |        NA | 11189 | 14070.04 |           NA |\n",
       "| SEX |  1 | 136.52446 | 11188 | 13933.52 | 1.532146e-31 |\n",
       "| VEGESU1 |  1 |   2.15093 | 11187 | 13931.36 | 1.424835e-01 |\n",
       "| RFSMOK3 |  1 |  10.49552 | 11186 | 13920.87 | 1.196642e-03 |\n",
       "| HLTHPLN1 |  1 |  13.88959 | 11185 | 13906.98 | 1.938698e-04 |\n",
       "\n"
      ],
      "text/plain": [
       "         Df Deviance  Resid. Df Resid. Dev Pr(>Chi)    \n",
       "NULL     NA        NA 11189     14070.04             NA\n",
       "SEX       1 136.52446 11188     13933.52   1.532146e-31\n",
       "VEGESU1   1   2.15093 11187     13931.36   1.424835e-01\n",
       "RFSMOK3   1  10.49552 11186     13920.87   1.196642e-03\n",
       "HLTHPLN1  1  13.88959 11185     13906.98   1.938698e-04"
      ]
     },
     "metadata": {},
     "output_type": "display_data"
    }
   ],
   "source": [
    "anova(model2, test='Chisq')"
   ]
  },
  {
   "cell_type": "markdown",
   "metadata": {},
   "source": []
  },
  {
   "cell_type": "markdown",
   "metadata": {},
   "source": [
    "------------------------------------------------------------------------\n",
    "\n",
    "## Question 2\n",
    "\n",
    "Run a Cox Regression. Data: Cox Proportional Hazard Regression Data. Variables: Use TimeDeathYears as the “Time” variable. Death is the Status or Event variable.  Use cursmoke, diabetes, educ, prevchd, age, bmi, and sex as the covariates. For the categorical variables, make sure that not a current smoker, no diabetes, the lowest education category, no CHD, and female sex are all reference categories.  Generate 95% CIs for each hazard ratio. Generate a Kaplan Meijer plot."
   ]
  },
  {
   "cell_type": "markdown",
   "metadata": {},
   "source": []
  }
 ],
 "metadata": {
  "kernelspec": {
   "display_name": "R",
   "language": "R",
   "name": "ir"
  },
  "language_info": {
   "codemirror_mode": "r",
   "file_extension": ".r",
   "mimetype": "text/x-r-source",
   "name": "R",
   "pygments_lexer": "r",
   "version": "4.2.2"
  },
  "orig_nbformat": 4
 },
 "nbformat": 4,
 "nbformat_minor": 2
}
