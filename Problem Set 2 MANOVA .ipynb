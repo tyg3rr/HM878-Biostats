{
 "cells": [
  {
   "cell_type": "markdown",
   "metadata": {},
   "source": [
    "# Problem Set 2 - MANOVA\n",
    "\n",
    "Goal: Students will use R to conduct a Multivariate Analysis of Variance (MANOVA)"
   ]
  },
  {
   "cell_type": "markdown",
   "metadata": {},
   "source": [
    "---"
   ]
  },
  {
   "cell_type": "markdown",
   "metadata": {},
   "source": [
    "An investigator is interested in determining if several outcome measures are differently influenced by sex, being a veteran,\n",
    "and rural residence. They have outcome data related to Adverse Childhood Experience (ACES), BMI, and self-reports of\n",
    "the number of poor physical health days in the last month, which they believe are correlated with each other, and\n",
    "therefore, they would be similarly influenced by sex, veteran status, and location of residence. They want to find out if\n",
    "ACES, BMI, and poor health days, as a group of characteristics are different among different groups (i.e., sex, veteran,\n",
    "and residence), and if interactions of these groups influence these characteristics. You’ve decided to tun a MANOVA to\n",
    "answer these questions"
   ]
  },
  {
   "cell_type": "markdown",
   "metadata": {},
   "source": [
    "---"
   ]
  },
  {
   "cell_type": "markdown",
   "metadata": {},
   "source": [
    "1: Describe how the data for this project meets/or does not meet the following assumptions"
   ]
  },
  {
   "cell_type": "markdown",
   "metadata": {},
   "source": [
    "- Two or more dependent variables"
   ]
  },
  {
   "cell_type": "markdown",
   "metadata": {},
   "source": [
    "- At least on independent variable with two or more levels"
   ]
  },
  {
   "cell_type": "markdown",
   "metadata": {},
   "source": [
    "- Adequate sample size"
   ]
  },
  {
   "cell_type": "markdown",
   "metadata": {},
   "source": [
    "- No outliers in dependent variables"
   ]
  },
  {
   "cell_type": "markdown",
   "metadata": {},
   "source": [
    "- Multivariate normality"
   ]
  },
  {
   "cell_type": "markdown",
   "metadata": {},
   "source": [
    "- Homogeneity of variance-covariances"
   ]
  },
  {
   "cell_type": "markdown",
   "metadata": {},
   "source": [
    "- No multicollinearity between dependent variables"
   ]
  },
  {
   "cell_type": "markdown",
   "metadata": {},
   "source": [
    "---"
   ]
  },
  {
   "cell_type": "markdown",
   "metadata": {},
   "source": [
    "2. Based on your evaluation of the assumptions testing, is MANOVA an appropriate test in this situation? Explain."
   ]
  },
  {
   "cell_type": "markdown",
   "metadata": {},
   "source": [
    "---"
   ]
  },
  {
   "cell_type": "markdown",
   "metadata": {},
   "source": [
    "3. Run the MANOVA using sex (Male reference), veteran status (Not a veteran reference), and urban/rural location (rural reference) as the independent variables, and ACES, BMI, and number of poor physical health days as the dependent variables. Interpret the output for each of the following tables"
   ]
  },
  {
   "cell_type": "markdown",
   "metadata": {},
   "source": [
    "- Box's Test of Equality of Covariance Matrices"
   ]
  },
  {
   "cell_type": "markdown",
   "metadata": {},
   "source": [
    "--> Does this test provide evidence about equality of variances?"
   ]
  },
  {
   "cell_type": "markdown",
   "metadata": {},
   "source": [
    "- Multivariate Tests"
   ]
  },
  {
   "cell_type": "markdown",
   "metadata": {},
   "source": [
    "- Tests of Between-Subjects Effects"
   ]
  },
  {
   "cell_type": "markdown",
   "metadata": {},
   "source": [
    "- Custom Hypothesis Tests - contrast results"
   ]
  },
  {
   "cell_type": "markdown",
   "metadata": {},
   "source": [
    "---"
   ]
  },
  {
   "cell_type": "markdown",
   "metadata": {},
   "source": [
    "4. Select a random sample of approximately 400 cases, redo the MANOVA (not the assumptions tests) of the analyses\n",
    "above. Compare and contrast the same tables/questions from #2. Also comment on the impact of sample size on your\n",
    "results. Why does this matter?"
   ]
  },
  {
   "cell_type": "markdown",
   "metadata": {},
   "source": [
    "---"
   ]
  },
  {
   "cell_type": "markdown",
   "metadata": {},
   "source": [
    "5. The data in this assignment has been modified from the original BRFSS data in order to highlight some issues over others. In the original PRFSS, the codebook presents information about how data about sex and sexual orientation and\n",
    "gender identity are asked of participants. See information from the tables below. Thinking about these from a data equity perspective, reflect on the ways these questions are asked, the responses that are available, and how this may or\n",
    "may not present consequences for processing, analyzing, interpreting, and reporting results using this data."
   ]
  },
  {
   "cell_type": "markdown",
   "metadata": {},
   "source": [
    "![Alt text](image-1.png)\n",
    "![Alt text](image-2.png)"
   ]
  },
  {
   "cell_type": "markdown",
   "metadata": {},
   "source": []
  }
 ],
 "metadata": {
  "kernelspec": {
   "display_name": "R",
   "language": "R",
   "name": "ir"
  },
  "language_info": {
   "name": "R"
  },
  "orig_nbformat": 4
 },
 "nbformat": 4,
 "nbformat_minor": 2
}
