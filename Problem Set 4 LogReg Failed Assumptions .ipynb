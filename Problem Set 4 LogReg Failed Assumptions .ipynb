{
 "cells": [
  {
   "cell_type": "markdown",
   "metadata": {},
   "source": [
    "## Project #4: Binary Logistic Regression\n",
    "\n",
    "Lillian Jensen"
   ]
  },
  {
   "cell_type": "markdown",
   "metadata": {},
   "source": [
    "Data Notes: This data is the same data we used for Module 5 – Linear Regression. In Module 5, we used this data to practice linear regression using hospital charges ($$) as our dependent variable. In this module we are using the same data to model in-hospital mortality (a new variable added to the database), and hospital charge data as a binary dependent variable. A list of variables, descriptions, and codes is included on D2L (Logistic Regression Codebook.doc). You will need this information while you are doing your analyses and especially while you are interpreting your results. You are being asked to look at this data to help a researcher answer two questions: 1) What patient characteristics can be used to predict death in the hospital, and 2) What characteristics can be used to predict hospital charges that might be inflated. The investigator has no idea what they mean by “inflated charges” and says to make some recommendations."
   ]
  },
  {
   "cell_type": "markdown",
   "metadata": {},
   "source": [
    "---"
   ]
  },
  {
   "cell_type": "code",
   "execution_count": 1,
   "metadata": {
    "vscode": {
     "languageId": "r"
    }
   },
   "outputs": [
    {
     "name": "stderr",
     "output_type": "stream",
     "text": [
      "Warning message:\n",
      "\"package 'comprehenr' was built under R version 4.2.3\"\n",
      "Warning message:\n",
      "\"package 'rstatix' was built under R version 4.2.3\"\n"
     ]
    }
   ],
   "source": [
    "# Setting up code environment\n",
    "suppressPackageStartupMessages(library(tidyverse))\n",
    "suppressPackageStartupMessages(library(comprehenr))\n",
    "suppressPackageStartupMessages(library(stringr))\n",
    "suppressPackageStartupMessages(library(rstatix))"
   ]
  },
  {
   "cell_type": "code",
   "execution_count": 2,
   "metadata": {
    "vscode": {
     "languageId": "r"
    }
   },
   "outputs": [
    {
     "data": {
      "text/html": [
       "<style>\n",
       ".list-inline {list-style: none; margin:0; padding: 0}\n",
       ".list-inline>li {display: inline-block}\n",
       ".list-inline>li:not(:last-child)::after {content: \"\\00b7\"; padding: 0 .5ex}\n",
       "</style>\n",
       "<ol class=list-inline><li>'HospCharges'</li><li>'Death'</li><li>'Age'</li><li>'Income_Zip'</li><li>'Insurance'</li><li>'Number_Diagnoses'</li><li>'Number_Procedures'</li><li>'Race'</li><li>'Sex'</li><li>'Urban_Rural'</li><li>'Weighting'</li></ol>\n"
      ],
      "text/latex": [
       "\\begin{enumerate*}\n",
       "\\item 'HospCharges'\n",
       "\\item 'Death'\n",
       "\\item 'Age'\n",
       "\\item 'Income\\_Zip'\n",
       "\\item 'Insurance'\n",
       "\\item 'Number\\_Diagnoses'\n",
       "\\item 'Number\\_Procedures'\n",
       "\\item 'Race'\n",
       "\\item 'Sex'\n",
       "\\item 'Urban\\_Rural'\n",
       "\\item 'Weighting'\n",
       "\\end{enumerate*}\n"
      ],
      "text/markdown": [
       "1. 'HospCharges'\n",
       "2. 'Death'\n",
       "3. 'Age'\n",
       "4. 'Income_Zip'\n",
       "5. 'Insurance'\n",
       "6. 'Number_Diagnoses'\n",
       "7. 'Number_Procedures'\n",
       "8. 'Race'\n",
       "9. 'Sex'\n",
       "10. 'Urban_Rural'\n",
       "11. 'Weighting'\n",
       "\n",
       "\n"
      ],
      "text/plain": [
       " [1] \"HospCharges\"       \"Death\"             \"Age\"              \n",
       " [4] \"Income_Zip\"        \"Insurance\"         \"Number_Diagnoses\" \n",
       " [7] \"Number_Procedures\" \"Race\"              \"Sex\"              \n",
       "[10] \"Urban_Rural\"       \"Weighting\"        "
      ]
     },
     "metadata": {},
     "output_type": "display_data"
    }
   ],
   "source": [
    "df <- read.csv(\"C:\\\\Users\\\\ljens\\\\Downloads\\\\HM 878 730 Clements - Logistic Regression R Data.csv\")\n",
    "colnames(df)"
   ]
  },
  {
   "cell_type": "code",
   "execution_count": 3,
   "metadata": {
    "vscode": {
     "languageId": "r"
    }
   },
   "outputs": [],
   "source": [
    "#######################\n",
    "# Some useful functions\n",
    "#######################\n",
    "\n",
    "pred_percent <- function(mod, dep_var, name){\n",
    "    prob = predict(mod, type = 'response')\n",
    "    lab = ifelse(prob >= 0.5, 1, 0)\n",
    "    accuracy = mean(lab == {{dep_var}}, na.rm = T)\n",
    "\n",
    "    paste('Accuracy for ', name, ': ', round(accuracy*100,2), '%')\n",
    "}\n",
    "\n",
    "chi_log <- function(model, data, name = \"model\"){\n",
    "    residuals <- stats::residuals(model, type = \"pearson\")\n",
    "    pearson_chi_square <- sum(residuals^2)\n",
    "    df_ <- nrow(data) - length(coefficients(model))\n",
    "    p_value <- 1 - stats::pchisq(pearson_chi_square, df_)\n",
    "\n",
    "    cat(\n",
    "        \"Pearson Goodness of Fit Test\\n\",\n",
    "        \"Null Hypothesis: The model fits.\\n\",\n",
    "        \"Alternative Hypothesis: The model does not fit.\\n\\n\",\n",
    "        \"Pearson chi-squared for\", paste0(name, \": \"), round(pearson_chi_square, 2), \"\\n\",\n",
    "        \"Degrees of freedom for\", paste0(name, \": \"), df_, \"\\n\",\n",
    "        \"P-value for\", paste0(name, \": \"), p_value, \"\\n\\n\",\n",
    "        \"---\\n\",\n",
    "        ifelse(round(p_value, 2) < 0.05, \n",
    "        \"Null Hypothesis is rejected. The model does not fit.\\n\", \n",
    "        \"Failed to reject Null Hypothesis. The model fits.\\n\"),\n",
    "        \"---\"\n",
    "        )\n",
    "}\n",
    "\n",
    "fences <- function(x){\n",
    "    Q1 <- stats::quantile(x, 0.25)\n",
    "    Q3 <- stats::quantile(x, 0.75)\n",
    "    IQR_value <- stats::IQR(x)\n",
    "    k <- 1.5\n",
    "    lower_fence <- Q1 - k * IQR_value\n",
    "    upper_fence <- Q3 + k * IQR_value\n",
    "\n",
    "    return(\n",
    "        data.frame(Lower = lower_fence, Upper = upper_fence)\n",
    "    )\n",
    "}\n",
    "\n",
    "compare_models <- function(..., labels = NULL){\n",
    "  if(length(labels) == 0){\n",
    "    models <- list(...)\n",
    "    names(models) <- unlist(lapply(\n",
    "      match.call(expand.dots = FALSE)$`...`,\n",
    "      function(.x) deparse(.x, width.cutoff = 500L)))\n",
    "    return(models)\n",
    "  }\n",
    "  else{\n",
    "    models <- list(...)\n",
    "    names(models) <- labels\n",
    "    return(models)\n",
    "  }\n",
    "}"
   ]
  },
  {
   "cell_type": "markdown",
   "metadata": {},
   "source": [
    "---"
   ]
  },
  {
   "cell_type": "markdown",
   "metadata": {},
   "source": [
    "## Regression 1 - Death"
   ]
  },
  {
   "cell_type": "markdown",
   "metadata": {},
   "source": [
    "1. Use the following variables from the dataset: Dependent variable: Death.  Independent variables: Age, Income_Zip, Insurance, Number_Diagnoses, Number_Procedures, Race, Sex, and Urban_Rural.  Review the Codebook to learn more about these variables. Run a binary logistic regression analysis with Death as the Dependent Variable. Make sure to tell me how you specified which categories of your independent variables are the reference categories. Be sure to review the Codebook for the Income variable for more information, and apply this technique to the other categorical independent variables. Fully interpret your model with the appropriate information as shown in the Demo video."
   ]
  },
  {
   "cell_type": "code",
   "execution_count": 4,
   "metadata": {
    "vscode": {
     "languageId": "r"
    }
   },
   "outputs": [],
   "source": [
    "# Factoring Income_Zip. I didn't factor the binary categorical\n",
    "# variables b/c when I tried it broke my models\n",
    "df$Income_Zip <- factor(df$Income_Zip, levels = c(1,2,3,4), \n",
    "                        labels = c('Q1 (lowest)', 'Q2','Q3','Q4 (highest)'))"
   ]
  },
  {
   "cell_type": "code",
   "execution_count": 5,
   "metadata": {
    "vscode": {
     "languageId": "r"
    }
   },
   "outputs": [],
   "source": [
    "mod1_0 <- glm(Death ~ 1, data = df, family = binomial)\n",
    "mod1_1 <- glm(Death ~ Age  + Income_Zip  + Insurance  + Number_Diagnoses  + \n",
    "            Number_Procedures  + Race  + Sex  + Urban_Rural, \n",
    "            data=df, family = binomial, weights = Weighting\n",
    "            )"
   ]
  },
  {
   "cell_type": "code",
   "execution_count": 6,
   "metadata": {
    "vscode": {
     "languageId": "r"
    }
   },
   "outputs": [
    {
     "data": {
      "text/plain": [
       "\n",
       "Call:\n",
       "glm(formula = Death ~ 1, family = binomial, data = df)\n",
       "\n",
       "Deviance Residuals: \n",
       "    Min       1Q   Median       3Q      Max  \n",
       "-0.7673  -0.7673  -0.7673   1.6532   1.6532  \n",
       "\n",
       "Coefficients:\n",
       "            Estimate Std. Error z value Pr(>|z|)    \n",
       "(Intercept)  -1.0721     0.1622  -6.609 3.88e-11 ***\n",
       "---\n",
       "Signif. codes:  0 '***' 0.001 '**' 0.01 '*' 0.05 '.' 0.1 ' ' 1\n",
       "\n",
       "(Dispersion parameter for binomial family taken to be 1)\n",
       "\n",
       "    Null deviance: 227.1  on 199  degrees of freedom\n",
       "Residual deviance: 227.1  on 199  degrees of freedom\n",
       "AIC: 229.1\n",
       "\n",
       "Number of Fisher Scoring iterations: 4\n"
      ]
     },
     "metadata": {},
     "output_type": "display_data"
    }
   ],
   "source": [
    "summary(mod1_0)"
   ]
  },
  {
   "cell_type": "code",
   "execution_count": 7,
   "metadata": {
    "vscode": {
     "languageId": "r"
    }
   },
   "outputs": [
    {
     "data": {
      "text/plain": [
       "\n",
       "Call:\n",
       "glm(formula = Death ~ Age + Income_Zip + Insurance + Number_Diagnoses + \n",
       "    Number_Procedures + Race + Sex + Urban_Rural, family = binomial, \n",
       "    data = df, weights = Weighting)\n",
       "\n",
       "Deviance Residuals: \n",
       "   Min      1Q  Median      3Q     Max  \n",
       "-3.473  -1.389  -1.003  -0.662   5.100  \n",
       "\n",
       "Coefficients:\n",
       "                        Estimate Std. Error z value Pr(>|z|)    \n",
       "(Intercept)            -2.666430   0.366398  -7.277 3.40e-13 ***\n",
       "Age                     0.004823   0.004218   1.143 0.252890    \n",
       "Income_ZipQ2            0.485220   0.250712   1.935 0.052946 .  \n",
       "Income_ZipQ3            0.940658   0.266376   3.531 0.000414 ***\n",
       "Income_ZipQ4 (highest)  1.227612   0.277484   4.424 9.69e-06 ***\n",
       "Insurance              -0.354570   0.195662  -1.812 0.069962 .  \n",
       "Number_Diagnoses       -0.034403   0.016176  -2.127 0.033435 *  \n",
       "Number_Procedures       0.065501   0.045259   1.447 0.147824    \n",
       "Race                    2.074421   0.185952  11.156  < 2e-16 ***\n",
       "Sex                     0.156448   0.173905   0.900 0.368324    \n",
       "Urban_Rural             0.154577   0.273408   0.565 0.571823    \n",
       "---\n",
       "Signif. codes:  0 '***' 0.001 '**' 0.01 '*' 0.05 '.' 0.1 ' ' 1\n",
       "\n",
       "(Dispersion parameter for binomial family taken to be 1)\n",
       "\n",
       "    Null deviance: 1068.56  on 191  degrees of freedom\n",
       "Residual deviance:  883.71  on 181  degrees of freedom\n",
       "  (8 observations deleted due to missingness)\n",
       "AIC: 905.71\n",
       "\n",
       "Number of Fisher Scoring iterations: 5\n"
      ]
     },
     "metadata": {},
     "output_type": "display_data"
    }
   ],
   "source": [
    "summary(mod1_1)"
   ]
  },
  {
   "cell_type": "code",
   "execution_count": 8,
   "metadata": {
    "vscode": {
     "languageId": "r"
    }
   },
   "outputs": [
    {
     "data": {
      "text/html": [
       "<span style=white-space:pre-wrap>'Accuracy for  mod1_0 :  74.5 %'</span>"
      ],
      "text/latex": [
       "'Accuracy for  mod1\\_0 :  74.5 \\%'"
      ],
      "text/markdown": [
       "<span style=white-space:pre-wrap>'Accuracy for  mod1_0 :  74.5 %'</span>"
      ],
      "text/plain": [
       "[1] \"Accuracy for  mod1_0 :  74.5 %\""
      ]
     },
     "metadata": {},
     "output_type": "display_data"
    }
   ],
   "source": [
    "pred_percent(mod1_0,df['Death'],'mod1_0')"
   ]
  },
  {
   "cell_type": "code",
   "execution_count": 9,
   "metadata": {
    "vscode": {
     "languageId": "r"
    }
   },
   "outputs": [
    {
     "data": {
      "text/html": [
       "<span style=white-space:pre-wrap>'Accuracy for  mod1_1 :  69.5 %'</span>"
      ],
      "text/latex": [
       "'Accuracy for  mod1\\_1 :  69.5 \\%'"
      ],
      "text/markdown": [
       "<span style=white-space:pre-wrap>'Accuracy for  mod1_1 :  69.5 %'</span>"
      ],
      "text/plain": [
       "[1] \"Accuracy for  mod1_1 :  69.5 %\""
      ]
     },
     "metadata": {},
     "output_type": "display_data"
    }
   ],
   "source": [
    "pred_percent(mod1_1,df['Death'],'mod1_1')"
   ]
  },
  {
   "cell_type": "code",
   "execution_count": 10,
   "metadata": {
    "vscode": {
     "languageId": "r"
    }
   },
   "outputs": [
    {
     "name": "stdout",
     "output_type": "stream",
     "text": [
      "Pearson Goodness of Fit Test\n",
      " Null Hypothesis: The model fits.\n",
      " Alternative Hypothesis: The model does not fit.\n",
      "\n",
      " Pearson chi-squared for mod1_0:  200 \n",
      " Degrees of freedom for mod1_0:  199 \n",
      " P-value for mod1_0:  0.4667457 \n",
      "\n",
      " ---\n",
      " Failed to reject Null Hypothesis. The model fits.\n",
      " ---"
     ]
    }
   ],
   "source": [
    "chi_log(mod1_0, df, name = 'mod1_0')"
   ]
  },
  {
   "cell_type": "code",
   "execution_count": 11,
   "metadata": {
    "vscode": {
     "languageId": "r"
    }
   },
   "outputs": [
    {
     "name": "stdout",
     "output_type": "stream",
     "text": [
      "Pearson Goodness of Fit Test\n",
      " Null Hypothesis: The model fits.\n",
      " Alternative Hypothesis: The model does not fit.\n",
      "\n",
      " Pearson chi-squared for mod1_1:  922.71 \n",
      " Degrees of freedom for mod1_1:  189 \n",
      " P-value for mod1_1:  0 \n",
      "\n",
      " ---\n",
      " Null Hypothesis is rejected. The model does not fit.\n",
      " ---"
     ]
    }
   ],
   "source": [
    "chi_log(mod1_1, df, name = 'mod1_1')"
   ]
  },
  {
   "cell_type": "markdown",
   "metadata": {},
   "source": [
    "This model produced a better AIC than the intercept model, but that was it's only improvement. "
   ]
  },
  {
   "cell_type": "markdown",
   "metadata": {},
   "source": [
    "---"
   ]
  },
  {
   "cell_type": "markdown",
   "metadata": {},
   "source": [
    "2. If necessary, explain how you will revise your model to deal with outliers or multicollinearity. Rerun the model if necessary. If you don’t believe this is necessary, explain why (and yes…you can make an argument either way). For your final model, fully interpret your regression coefficients (odds ratios)."
   ]
  },
  {
   "cell_type": "markdown",
   "metadata": {},
   "source": [
    "Two of our independent variables are continuous. Let's check them for outliers"
   ]
  },
  {
   "cell_type": "code",
   "execution_count": 12,
   "metadata": {
    "vscode": {
     "languageId": "r"
    }
   },
   "outputs": [
    {
     "data": {
      "image/png": "[encoded data removed]",
      "text/plain": [
       "plot without title"
      ]
     },
     "metadata": {
      "image/png": {
       "height": 420,
       "width": 420
      }
     },
     "output_type": "display_data"
    }
   ],
   "source": [
    "boxplot(df$Number_Diagnoses ~ df$Death)"
   ]
  },
  {
   "cell_type": "code",
   "execution_count": 13,
   "metadata": {
    "vscode": {
     "languageId": "r"
    }
   },
   "outputs": [
    {
     "data": {
      "text/html": [
       "32.375"
      ],
      "text/latex": [
       "32.375"
      ],
      "text/markdown": [
       "32.375"
      ],
      "text/plain": [
       "[1] 32.375"
      ]
     },
     "metadata": {},
     "output_type": "display_data"
    }
   ],
   "source": [
    "fences(df$Number_Diagnoses)$Upper"
   ]
  },
  {
   "cell_type": "code",
   "execution_count": 14,
   "metadata": {
    "vscode": {
     "languageId": "r"
    }
   },
   "outputs": [
    {
     "data": {
      "text/html": [
       "<style>\n",
       ".list-inline {list-style: none; margin:0; padding: 0}\n",
       ".list-inline>li {display: inline-block}\n",
       ".list-inline>li:not(:last-child)::after {content: \"\\00b7\"; padding: 0 .5ex}\n",
       "</style>\n",
       "<ol class=list-inline><li>0</li><li>0</li></ol>\n"
      ],
      "text/latex": [
       "\\begin{enumerate*}\n",
       "\\item 0\n",
       "\\item 0\n",
       "\\end{enumerate*}\n"
      ],
      "text/markdown": [
       "1. 0\n",
       "2. 0\n",
       "\n",
       "\n"
      ],
      "text/plain": [
       "[1] 0 0"
      ]
     },
     "metadata": {},
     "output_type": "display_data"
    }
   ],
   "source": [
    "df[df$Number_Diagnoses >= fences(df$Number_Diagnoses)$Upper,]$Death"
   ]
  },
  {
   "cell_type": "markdown",
   "metadata": {},
   "source": [
    "There are two outliers in Number_Diagnoses, and both belong to the 'alive' category. This seems like meaningful information for our model, so I will leave these outliers in."
   ]
  },
  {
   "cell_type": "markdown",
   "metadata": {},
   "source": [
    "Now let's check for outliers in Number_Diagnoses"
   ]
  },
  {
   "cell_type": "code",
   "execution_count": 15,
   "metadata": {
    "vscode": {
     "languageId": "r"
    }
   },
   "outputs": [
    {
     "data": {
      "image/png": "[encoded data removed]",
      "text/plain": [
       "plot without title"
      ]
     },
     "metadata": {
      "image/png": {
       "height": 420,
       "width": 420
      }
     },
     "output_type": "display_data"
    }
   ],
   "source": [
    "boxplot(df$Number_Procedures ~ df$Death)"
   ]
  },
  {
   "cell_type": "code",
   "execution_count": 16,
   "metadata": {
    "vscode": {
     "languageId": "r"
    }
   },
   "outputs": [
    {
     "data": {
      "text/html": [
       "7.5"
      ],
      "text/latex": [
       "7.5"
      ],
      "text/markdown": [
       "7.5"
      ],
      "text/plain": [
       "[1] 7.5"
      ]
     },
     "metadata": {},
     "output_type": "display_data"
    }
   ],
   "source": [
    "fences(df$Number_Procedures)$Upper"
   ]
  },
  {
   "cell_type": "code",
   "execution_count": 17,
   "metadata": {
    "vscode": {
     "languageId": "r"
    }
   },
   "outputs": [
    {
     "data": {
      "text/html": [
       "<style>\n",
       ".list-inline {list-style: none; margin:0; padding: 0}\n",
       ".list-inline>li {display: inline-block}\n",
       ".list-inline>li:not(:last-child)::after {content: \"\\00b7\"; padding: 0 .5ex}\n",
       "</style>\n",
       "<ol class=list-inline><li>1</li><li>0</li><li>1</li><li>0</li></ol>\n"
      ],
      "text/latex": [
       "\\begin{enumerate*}\n",
       "\\item 1\n",
       "\\item 0\n",
       "\\item 1\n",
       "\\item 0\n",
       "\\end{enumerate*}\n"
      ],
      "text/markdown": [
       "1. 1\n",
       "2. 0\n",
       "3. 1\n",
       "4. 0\n",
       "\n",
       "\n"
      ],
      "text/plain": [
       "[1] 1 0 1 0"
      ]
     },
     "metadata": {},
     "output_type": "display_data"
    }
   ],
   "source": [
    "df[df$Number_Procedures >= fences(df$Number_Procedures)$Upper,]$Death"
   ]
  },
  {
   "cell_type": "markdown",
   "metadata": {},
   "source": [
    "There are four outliers in Number_Procedures, and they are evenly split between the 'alive' and 'dead' categories, possibly causing noise in the data. We should consider cutting these outliers."
   ]
  },
  {
   "cell_type": "markdown",
   "metadata": {},
   "source": [
    "Before we do, however, let's take a look at multicollinearity"
   ]
  },
  {
   "cell_type": "code",
   "execution_count": 18,
   "metadata": {
    "vscode": {
     "languageId": "r"
    }
   },
   "outputs": [],
   "source": [
    "ind_vars <- c(\n",
    "            'Age','Income_Zip','Insurance','Number_Diagnoses',\n",
    "            'Number_Procedures','Race','Sex','Urban_Rural'\n",
    "                )"
   ]
  },
  {
   "cell_type": "code",
   "execution_count": 19,
   "metadata": {
    "vscode": {
     "languageId": "r"
    }
   },
   "outputs": [
    {
     "data": {
      "text/html": [
       "<style>\n",
       ".list-inline {list-style: none; margin:0; padding: 0}\n",
       ".list-inline>li {display: inline-block}\n",
       ".list-inline>li:not(:last-child)::after {content: \"\\00b7\"; padding: 0 .5ex}\n",
       "</style>\n",
       "<ol class=list-inline><li>'HospCharges'</li><li>'Death'</li><li>'Age'</li><li>'Income_Zip'</li><li>'Insurance'</li><li>'Number_Diagnoses'</li><li>'Number_Procedures'</li><li>'Race'</li><li>'Sex'</li><li>'Urban_Rural'</li><li>'Weighting'</li></ol>\n"
      ],
      "text/latex": [
       "\\begin{enumerate*}\n",
       "\\item 'HospCharges'\n",
       "\\item 'Death'\n",
       "\\item 'Age'\n",
       "\\item 'Income\\_Zip'\n",
       "\\item 'Insurance'\n",
       "\\item 'Number\\_Diagnoses'\n",
       "\\item 'Number\\_Procedures'\n",
       "\\item 'Race'\n",
       "\\item 'Sex'\n",
       "\\item 'Urban\\_Rural'\n",
       "\\item 'Weighting'\n",
       "\\end{enumerate*}\n"
      ],
      "text/markdown": [
       "1. 'HospCharges'\n",
       "2. 'Death'\n",
       "3. 'Age'\n",
       "4. 'Income_Zip'\n",
       "5. 'Insurance'\n",
       "6. 'Number_Diagnoses'\n",
       "7. 'Number_Procedures'\n",
       "8. 'Race'\n",
       "9. 'Sex'\n",
       "10. 'Urban_Rural'\n",
       "11. 'Weighting'\n",
       "\n",
       "\n"
      ],
      "text/plain": [
       " [1] \"HospCharges\"       \"Death\"             \"Age\"              \n",
       " [4] \"Income_Zip\"        \"Insurance\"         \"Number_Diagnoses\" \n",
       " [7] \"Number_Procedures\" \"Race\"              \"Sex\"              \n",
       "[10] \"Urban_Rural\"       \"Weighting\"        "
      ]
     },
     "metadata": {},
     "output_type": "display_data"
    }
   ],
   "source": [
    "df <- read.csv(\"C:\\\\Users\\\\ljens\\\\Downloads\\\\HM 878 730 Clements - Logistic Regression R Data.csv\")\n",
    "colnames(df)"
   ]
  },
  {
   "cell_type": "code",
   "execution_count": 20,
   "metadata": {
    "vscode": {
     "languageId": "r"
    }
   },
   "outputs": [],
   "source": [
    "ind_df <- df |> select(all_of(ind_vars))"
   ]
  },
  {
   "cell_type": "code",
   "execution_count": 21,
   "metadata": {
    "vscode": {
     "languageId": "r"
    }
   },
   "outputs": [
    {
     "name": "stdout",
     "output_type": "stream",
     "text": [
      "\u001b[90m# A tibble: 8 × 9\u001b[39m\n",
      "  rowname             Age Incom…¹ Insur…² Numbe…³ Numbe…⁴    Race    Sex Urban…⁵\n",
      "\u001b[90m*\u001b[39m \u001b[3m\u001b[90m<chr>\u001b[39m\u001b[23m             \u001b[3m\u001b[90m<dbl>\u001b[39m\u001b[23m   \u001b[3m\u001b[90m<dbl>\u001b[39m\u001b[23m   \u001b[3m\u001b[90m<dbl>\u001b[39m\u001b[23m   \u001b[3m\u001b[90m<dbl>\u001b[39m\u001b[23m   \u001b[3m\u001b[90m<dbl>\u001b[39m\u001b[23m   \u001b[3m\u001b[90m<dbl>\u001b[39m\u001b[23m  \u001b[3m\u001b[90m<dbl>\u001b[39m\u001b[23m   \u001b[3m\u001b[90m<dbl>\u001b[39m\u001b[23m\n",
      "\u001b[90m1\u001b[39m Age              1       0.12   -\u001b[31m3\u001b[39m\u001b[31m.\u001b[39m\u001b[31m8\u001b[39m\u001b[90me\u001b[39m\u001b[31m-1\u001b[39m  0.57    -\u001b[31m0\u001b[39m\u001b[31m.\u001b[39m\u001b[31m19\u001b[39m  -\u001b[31m2\u001b[39m\u001b[31m.\u001b[39m\u001b[31m7\u001b[39m\u001b[90me\u001b[39m\u001b[31m-1\u001b[39m -\u001b[31m0\u001b[39m\u001b[31m.\u001b[39m\u001b[31m12\u001b[39m  -\u001b[31m0\u001b[39m\u001b[31m.\u001b[39m\u001b[31m00\u001b[39m\u001b[31m5\u001b[4m9\u001b[24m\u001b[39m\n",
      "\u001b[90m2\u001b[39m Income_Zip       0.12    1       1  \u001b[90me\u001b[39m\u001b[31m-1\u001b[39m -\u001b[31m0\u001b[39m\u001b[31m.\u001b[39m\u001b[31m00\u001b[39m\u001b[31m6\u001b[4m4\u001b[24m\u001b[39m  -\u001b[31m0\u001b[39m\u001b[31m.\u001b[39m\u001b[31m0\u001b[39m\u001b[31m36\u001b[39m -\u001b[31m6\u001b[39m\u001b[31m.\u001b[39m\u001b[31m1\u001b[39m\u001b[90me\u001b[39m\u001b[31m-2\u001b[39m  0.062 -\u001b[31m0\u001b[39m\u001b[31m.\u001b[39m\u001b[31m34\u001b[39m  \n",
      "\u001b[90m3\u001b[39m Insurance       -\u001b[31m0\u001b[39m\u001b[31m.\u001b[39m\u001b[31m38\u001b[39m    0.1     1  \u001b[90me\u001b[39m+0 -\u001b[31m0\u001b[39m\u001b[31m.\u001b[39m\u001b[31m44\u001b[39m     0.056  4.5\u001b[90me\u001b[39m\u001b[31m-4\u001b[39m  0.039 -\u001b[31m0\u001b[39m\u001b[31m.\u001b[39m\u001b[31m00\u001b[39m\u001b[31m5\u001b[4m6\u001b[24m\u001b[39m\n",
      "\u001b[90m4\u001b[39m Number_Diagnos…  0.57   -\u001b[31m0\u001b[39m\u001b[31m.\u001b[39m\u001b[31m00\u001b[39m\u001b[31m6\u001b[4m4\u001b[24m\u001b[39m -\u001b[31m4\u001b[39m\u001b[31m.\u001b[39m\u001b[31m4\u001b[39m\u001b[90me\u001b[39m\u001b[31m-1\u001b[39m  1        0.023 -\u001b[31m1\u001b[39m\u001b[31m.\u001b[39m\u001b[31m4\u001b[39m\u001b[90me\u001b[39m\u001b[31m-1\u001b[39m -\u001b[31m0\u001b[39m\u001b[31m.\u001b[39m\u001b[31m0\u001b[39m\u001b[31m48\u001b[39m -\u001b[31m0\u001b[39m\u001b[31m.\u001b[39m\u001b[31m00\u001b[39m\u001b[31m7\u001b[39m \n",
      "\u001b[90m5\u001b[39m Number_Procedu… -\u001b[31m0\u001b[39m\u001b[31m.\u001b[39m\u001b[31m19\u001b[39m   -\u001b[31m0\u001b[39m\u001b[31m.\u001b[39m\u001b[31m0\u001b[39m\u001b[31m36\u001b[39m   5.6\u001b[90me\u001b[39m\u001b[31m-2\u001b[39m  0.023    1      3.2\u001b[90me\u001b[39m\u001b[31m-2\u001b[39m  0.055 -\u001b[31m0\u001b[39m\u001b[31m.\u001b[39m\u001b[31m14\u001b[39m  \n",
      "\u001b[90m6\u001b[39m Race            -\u001b[31m0\u001b[39m\u001b[31m.\u001b[39m\u001b[31m27\u001b[39m   -\u001b[31m0\u001b[39m\u001b[31m.\u001b[39m\u001b[31m0\u001b[39m\u001b[31m61\u001b[39m   4.5\u001b[90me\u001b[39m\u001b[31m-4\u001b[39m -\u001b[31m0\u001b[39m\u001b[31m.\u001b[39m\u001b[31m14\u001b[39m     0.032  1  \u001b[90me\u001b[39m+0  0.1   -\u001b[31m0\u001b[39m\u001b[31m.\u001b[39m\u001b[31m17\u001b[39m  \n",
      "\u001b[90m7\u001b[39m Sex             -\u001b[31m0\u001b[39m\u001b[31m.\u001b[39m\u001b[31m12\u001b[39m    0.062   3.9\u001b[90me\u001b[39m\u001b[31m-2\u001b[39m -\u001b[31m0\u001b[39m\u001b[31m.\u001b[39m\u001b[31m0\u001b[39m\u001b[31m48\u001b[39m    0.055  1  \u001b[90me\u001b[39m\u001b[31m-1\u001b[39m  1     -\u001b[31m0\u001b[39m\u001b[31m.\u001b[39m\u001b[31m0\u001b[39m\u001b[31m32\u001b[39m \n",
      "\u001b[90m8\u001b[39m Urban_Rural     -\u001b[31m0\u001b[39m\u001b[31m.\u001b[39m\u001b[31m00\u001b[39m\u001b[31m5\u001b[4m9\u001b[24m\u001b[39m -\u001b[31m0\u001b[39m\u001b[31m.\u001b[39m\u001b[31m34\u001b[39m   -\u001b[31m5\u001b[39m\u001b[31m.\u001b[39m\u001b[31m6\u001b[39m\u001b[90me\u001b[39m\u001b[31m-3\u001b[39m -\u001b[31m0\u001b[39m\u001b[31m.\u001b[39m\u001b[31m00\u001b[39m\u001b[31m7\u001b[39m   -\u001b[31m0\u001b[39m\u001b[31m.\u001b[39m\u001b[31m14\u001b[39m  -\u001b[31m1\u001b[39m\u001b[31m.\u001b[39m\u001b[31m7\u001b[39m\u001b[90me\u001b[39m\u001b[31m-1\u001b[39m -\u001b[31m0\u001b[39m\u001b[31m.\u001b[39m\u001b[31m0\u001b[39m\u001b[31m32\u001b[39m  1     \n",
      "\u001b[90m# … with abbreviated variable names ¹​Income_Zip, ²​Insurance, ³​Number_Diagnoses,\u001b[39m\n",
      "\u001b[90m#   ⁴​Number_Procedures, ⁵​Urban_Rural\u001b[39m\n"
     ]
    }
   ],
   "source": [
    "print(cor_mat(ind_df, method = 'spearman'))"
   ]
  },
  {
   "cell_type": "code",
   "execution_count": 22,
   "metadata": {
    "vscode": {
     "languageId": "r"
    }
   },
   "outputs": [
    {
     "name": "stdout",
     "output_type": "stream",
     "text": [
      "\u001b[90m# A tibble: 8 × 9\u001b[39m\n",
      "  rowname           Age Incom…¹ Insura…² Number…³ Numbe…⁴    Race    Sex Urban…⁵\n",
      "  \u001b[3m\u001b[90m<chr>\u001b[39m\u001b[23m           \u001b[3m\u001b[90m<dbl>\u001b[39m\u001b[23m   \u001b[3m\u001b[90m<dbl>\u001b[39m\u001b[23m    \u001b[3m\u001b[90m<dbl>\u001b[39m\u001b[23m    \u001b[3m\u001b[90m<dbl>\u001b[39m\u001b[23m   \u001b[3m\u001b[90m<dbl>\u001b[39m\u001b[23m   \u001b[3m\u001b[90m<dbl>\u001b[39m\u001b[23m  \u001b[3m\u001b[90m<dbl>\u001b[39m\u001b[23m   \u001b[3m\u001b[90m<dbl>\u001b[39m\u001b[23m\n",
      "\u001b[90m1\u001b[39m Age          0   \u001b[90m \u001b[39m    9.01\u001b[90me\u001b[39m\u001b[31m-2\u001b[39m 2.43\u001b[90me\u001b[39m\u001b[31m- 8\u001b[39m 6.01\u001b[90me\u001b[39m\u001b[31m-19\u001b[39m 0.006\u001b[4m7\u001b[24m\u001b[4m6\u001b[24m 1.34\u001b[90me\u001b[39m\u001b[31m-4\u001b[39m 0.095\u001b[4m2\u001b[24m 9.34\u001b[90me\u001b[39m\u001b[31m-1\u001b[39m\n",
      "\u001b[90m2\u001b[39m Income_Zip   9.01\u001b[90me\u001b[39m\u001b[31m- 2\u001b[39m 0   \u001b[90m \u001b[39m   1.54\u001b[90me\u001b[39m\u001b[31m- 1\u001b[39m 9.29\u001b[90me\u001b[39m\u001b[31m- 1\u001b[39m 0.616   4.03\u001b[90me\u001b[39m\u001b[31m-1\u001b[39m 0.39   1.06\u001b[90me\u001b[39m\u001b[31m-6\u001b[39m\n",
      "\u001b[90m3\u001b[39m Insurance    2.43\u001b[90me\u001b[39m\u001b[31m- 8\u001b[39m 1.54\u001b[90me\u001b[39m\u001b[31m-1\u001b[39m 0   \u001b[90m \u001b[39m    1.12\u001b[90me\u001b[39m\u001b[31m-10\u001b[39m 0.434   9.95\u001b[90me\u001b[39m\u001b[31m-1\u001b[39m 0.588  9.38\u001b[90me\u001b[39m\u001b[31m-1\u001b[39m\n",
      "\u001b[90m4\u001b[39m Number_Diag… 6.01\u001b[90me\u001b[39m\u001b[31m-19\u001b[39m 9.29\u001b[90me\u001b[39m\u001b[31m-1\u001b[39m 1.12\u001b[90me\u001b[39m\u001b[31m-10\u001b[39m 0   \u001b[90m \u001b[39m    0.744   4.51\u001b[90me\u001b[39m\u001b[31m-2\u001b[39m 0.503  9.21\u001b[90me\u001b[39m\u001b[31m-1\u001b[39m\n",
      "\u001b[90m5\u001b[39m Number_Proc… 6.76\u001b[90me\u001b[39m\u001b[31m- 3\u001b[39m 6.16\u001b[90me\u001b[39m\u001b[31m-1\u001b[39m 4.34\u001b[90me\u001b[39m\u001b[31m- 1\u001b[39m 7.44\u001b[90me\u001b[39m\u001b[31m- 1\u001b[39m 0       6.55\u001b[90me\u001b[39m\u001b[31m-1\u001b[39m 0.442  5.54\u001b[90me\u001b[39m\u001b[31m-2\u001b[39m\n",
      "\u001b[90m6\u001b[39m Race         1.34\u001b[90me\u001b[39m\u001b[31m- 4\u001b[39m 4.03\u001b[90me\u001b[39m\u001b[31m-1\u001b[39m 9.95\u001b[90me\u001b[39m\u001b[31m- 1\u001b[39m 4.51\u001b[90me\u001b[39m\u001b[31m- 2\u001b[39m 0.655   0   \u001b[90m \u001b[39m   0.142  1.43\u001b[90me\u001b[39m\u001b[31m-2\u001b[39m\n",
      "\u001b[90m7\u001b[39m Sex          9.52\u001b[90me\u001b[39m\u001b[31m- 2\u001b[39m 3.9 \u001b[90me\u001b[39m\u001b[31m-1\u001b[39m 5.88\u001b[90me\u001b[39m\u001b[31m- 1\u001b[39m 5.03\u001b[90me\u001b[39m\u001b[31m- 1\u001b[39m 0.442   1.42\u001b[90me\u001b[39m\u001b[31m-1\u001b[39m 0      6.53\u001b[90me\u001b[39m\u001b[31m-1\u001b[39m\n",
      "\u001b[90m8\u001b[39m Urban_Rural  9.34\u001b[90me\u001b[39m\u001b[31m- 1\u001b[39m 1.06\u001b[90me\u001b[39m\u001b[31m-6\u001b[39m 9.38\u001b[90me\u001b[39m\u001b[31m- 1\u001b[39m 9.21\u001b[90me\u001b[39m\u001b[31m- 1\u001b[39m 0.055\u001b[4m4\u001b[24m  1.43\u001b[90me\u001b[39m\u001b[31m-2\u001b[39m 0.653  0   \u001b[90m \u001b[39m  \n",
      "\u001b[90m# … with abbreviated variable names ¹​Income_Zip, ²​Insurance, ³​Number_Diagnoses,\u001b[39m\n",
      "\u001b[90m#   ⁴​Number_Procedures, ⁵​Urban_Rural\u001b[39m\n"
     ]
    }
   ],
   "source": [
    "print(cor_get_pval(cor_mat(ind_df, method = 'spearman')))"
   ]
  },
  {
   "cell_type": "markdown",
   "metadata": {},
   "source": [
    "Age and Number_Diagnoses are the only two variables with significantly large (>0.50) collinearities. As we saw in the last worksheet, it is best to retain both of those variables because they both contribute to the model."
   ]
  },
  {
   "cell_type": "markdown",
   "metadata": {},
   "source": [
    "Let's try building a model with the Number_Prodecures outliers removed."
   ]
  },
  {
   "cell_type": "code",
   "execution_count": 23,
   "metadata": {
    "vscode": {
     "languageId": "r"
    }
   },
   "outputs": [],
   "source": [
    "df$Income_Zip <- factor(df$Income_Zip, levels = c(1,2,3,4), labels = c('Q1 (lowest)', 'Q2','Q3','Q4 (highest)'))\n",
    "df <- df[df$Number_Procedures < fences(df$Number_Procedures)$Upper,]"
   ]
  },
  {
   "cell_type": "code",
   "execution_count": 24,
   "metadata": {
    "vscode": {
     "languageId": "r"
    }
   },
   "outputs": [
    {
     "data": {
      "text/plain": [
       "\n",
       "Call:\n",
       "glm(formula = Death ~ 1, family = binomial, data = df, weights = Weighting)\n",
       "\n",
       "Deviance Residuals: \n",
       "    Min       1Q   Median       3Q      Max  \n",
       "-1.6961  -1.6961  -1.6961  -0.3411   3.7234  \n",
       "\n",
       "Coefficients:\n",
       "            Estimate Std. Error z value Pr(>|z|)    \n",
       "(Intercept) -1.09861    0.07377  -14.89   <2e-16 ***\n",
       "---\n",
       "Signif. codes:  0 '***' 0.001 '**' 0.01 '*' 0.05 '.' 0.1 ' ' 1\n",
       "\n",
       "(Dispersion parameter for binomial family taken to be 1)\n",
       "\n",
       "    Null deviance: 1102.2  on 195  degrees of freedom\n",
       "Residual deviance: 1102.2  on 195  degrees of freedom\n",
       "AIC: 1104.2\n",
       "\n",
       "Number of Fisher Scoring iterations: 5\n"
      ]
     },
     "metadata": {},
     "output_type": "display_data"
    },
    {
     "data": {
      "text/plain": [
       "\n",
       "Call:\n",
       "glm(formula = Death ~ Age + Income_Zip + Insurance + Number_Diagnoses + \n",
       "    Number_Procedures + Race + Sex + Urban_Rural, family = binomial, \n",
       "    data = df, weights = Weighting)\n",
       "\n",
       "Deviance Residuals: \n",
       "   Min      1Q  Median      3Q     Max  \n",
       "-3.454  -1.420  -1.007  -0.645   5.162  \n",
       "\n",
       "Coefficients:\n",
       "                        Estimate Std. Error z value Pr(>|z|)    \n",
       "(Intercept)            -2.728206   0.375771  -7.260 3.86e-13 ***\n",
       "Age                     0.004502   0.004258   1.057   0.2904    \n",
       "Income_ZipQ2            0.566398   0.258134   2.194   0.0282 *  \n",
       "Income_ZipQ3            1.078709   0.272757   3.955 7.66e-05 ***\n",
       "Income_ZipQ4 (highest)  1.259957   0.281020   4.484 7.34e-06 ***\n",
       "Insurance              -0.288545   0.196359  -1.469   0.1417    \n",
       "Number_Diagnoses       -0.035027   0.016438  -2.131   0.0331 *  \n",
       "Number_Procedures       0.056507   0.052453   1.077   0.2814    \n",
       "Race                    2.045714   0.189015  10.823  < 2e-16 ***\n",
       "Sex                     0.248641   0.177052   1.404   0.1602    \n",
       "Urban_Rural            -0.062206   0.296704  -0.210   0.8339    \n",
       "---\n",
       "Signif. codes:  0 '***' 0.001 '**' 0.01 '*' 0.05 '.' 0.1 ' ' 1\n",
       "\n",
       "(Dispersion parameter for binomial family taken to be 1)\n",
       "\n",
       "    Null deviance: 1048.86  on 188  degrees of freedom\n",
       "Residual deviance:  863.83  on 178  degrees of freedom\n",
       "  (7 observations deleted due to missingness)\n",
       "AIC: 885.84\n",
       "\n",
       "Number of Fisher Scoring iterations: 5\n"
      ]
     },
     "metadata": {},
     "output_type": "display_data"
    },
    {
     "data": {
      "text/html": [
       "<span style=white-space:pre-wrap>'Accuracy for  mod2_0 :  75 %'</span>"
      ],
      "text/latex": [
       "'Accuracy for  mod2\\_0 :  75 \\%'"
      ],
      "text/markdown": [
       "<span style=white-space:pre-wrap>'Accuracy for  mod2_0 :  75 %'</span>"
      ],
      "text/plain": [
       "[1] \"Accuracy for  mod2_0 :  75 %\""
      ]
     },
     "metadata": {},
     "output_type": "display_data"
    },
    {
     "data": {
      "text/html": [
       "<span style=white-space:pre-wrap>'Accuracy for  mod2_1 :  69.9 %'</span>"
      ],
      "text/latex": [
       "'Accuracy for  mod2\\_1 :  69.9 \\%'"
      ],
      "text/markdown": [
       "<span style=white-space:pre-wrap>'Accuracy for  mod2_1 :  69.9 %'</span>"
      ],
      "text/plain": [
       "[1] \"Accuracy for  mod2_1 :  69.9 %\""
      ]
     },
     "metadata": {},
     "output_type": "display_data"
    },
    {
     "name": "stdout",
     "output_type": "stream",
     "text": [
      "Pearson Goodness of Fit Test\n",
      " Null Hypothesis: The model fits.\n",
      " Alternative Hypothesis: The model does not fit.\n",
      "\n",
      " Pearson chi-squared for mod2_0:  980 \n",
      " Degrees of freedom for mod2_0:  195 \n",
      " P-value for mod2_0:  0 \n",
      "\n",
      " ---\n",
      " Null Hypothesis is rejected. The model does not fit.\n",
      " ---[1] \"\"\n",
      "Pearson Goodness of Fit Test\n",
      " Null Hypothesis: The model fits.\n",
      " Alternative Hypothesis: The model does not fit.\n",
      "\n",
      " Pearson chi-squared for mod2_1:  902.37 \n",
      " Degrees of freedom for mod2_1:  185 \n",
      " P-value for mod2_1:  0 \n",
      "\n",
      " ---\n",
      " Null Hypothesis is rejected. The model does not fit.\n",
      " ---"
     ]
    }
   ],
   "source": [
    "mod2_0 <- glm(Death ~ 1, data = df, family = binomial, weights = Weighting)\n",
    "mod2_1 <- glm(Death ~ Age  + Income_Zip  + Insurance  + Number_Diagnoses  + \n",
    "            Number_Procedures  + Race  + Sex  + Urban_Rural, \n",
    "            data=df, family = binomial, weights = Weighting\n",
    "            )\n",
    "\n",
    "\n",
    "summary(mod2_0)\n",
    "summary(mod2_1)\n",
    "\n",
    "pred_percent(mod2_0,df['Death'],'mod2_0')\n",
    "pred_percent(mod2_1,df['Death'],'mod2_1')\n",
    "\n",
    "\n",
    "chi_log(mod2_0, df, name = 'mod2_0')\n",
    "print('')\n",
    "chi_log(mod2_1, df, name = 'mod2_1')\n"
   ]
  },
  {
   "cell_type": "code",
   "execution_count": 25,
   "metadata": {
    "vscode": {
     "languageId": "r"
    }
   },
   "outputs": [
    {
     "name": "stderr",
     "output_type": "stream",
     "text": [
      "Warning message in lab == {:\n",
      "\"longer object length is not a multiple of shorter object length\"\n"
     ]
    },
    {
     "data": {
      "text/html": [
       "<span style=white-space:pre-wrap>'Accuracy for  mod1_1 :  68.37 %'</span>"
      ],
      "text/latex": [
       "'Accuracy for  mod1\\_1 :  68.37 \\%'"
      ],
      "text/markdown": [
       "<span style=white-space:pre-wrap>'Accuracy for  mod1_1 :  68.37 %'</span>"
      ],
      "text/plain": [
       "[1] \"Accuracy for  mod1_1 :  68.37 %\""
      ]
     },
     "metadata": {},
     "output_type": "display_data"
    },
    {
     "name": "stderr",
     "output_type": "stream",
     "text": [
      "Warning message in lab == {:\n",
      "\"longer object length is not a multiple of shorter object length\"\n"
     ]
    },
    {
     "data": {
      "text/html": [
       "<span style=white-space:pre-wrap>'Accuracy for  mod2_1 :  69.9 %'</span>"
      ],
      "text/latex": [
       "'Accuracy for  mod2\\_1 :  69.9 \\%'"
      ],
      "text/markdown": [
       "<span style=white-space:pre-wrap>'Accuracy for  mod2_1 :  69.9 %'</span>"
      ],
      "text/plain": [
       "[1] \"Accuracy for  mod2_1 :  69.9 %\""
      ]
     },
     "metadata": {},
     "output_type": "display_data"
    },
    {
     "data": {
      "text/plain": [
       "$mod1_1\n",
       "\n",
       "Call:  glm(formula = Death ~ Age + Income_Zip + Insurance + Number_Diagnoses + \n",
       "    Number_Procedures + Race + Sex + Urban_Rural, family = binomial, \n",
       "    data = df, weights = Weighting)\n",
       "\n",
       "Coefficients:\n",
       "           (Intercept)                     Age            Income_ZipQ2  \n",
       "             -2.666430                0.004823                0.485220  \n",
       "          Income_ZipQ3  Income_ZipQ4 (highest)               Insurance  \n",
       "              0.940658                1.227612               -0.354570  \n",
       "      Number_Diagnoses       Number_Procedures                    Race  \n",
       "             -0.034403                0.065501                2.074421  \n",
       "                   Sex             Urban_Rural  \n",
       "              0.156448                0.154577  \n",
       "\n",
       "Degrees of Freedom: 191 Total (i.e. Null);  181 Residual\n",
       "  (8 observations deleted due to missingness)\n",
       "Null Deviance:\t    1069 \n",
       "Residual Deviance: 883.7 \tAIC: 905.7\n",
       "\n",
       "$mod2_1\n",
       "\n",
       "Call:  glm(formula = Death ~ Age + Income_Zip + Insurance + Number_Diagnoses + \n",
       "    Number_Procedures + Race + Sex + Urban_Rural, family = binomial, \n",
       "    data = df, weights = Weighting)\n",
       "\n",
       "Coefficients:\n",
       "           (Intercept)                     Age            Income_ZipQ2  \n",
       "             -2.728206                0.004502                0.566398  \n",
       "          Income_ZipQ3  Income_ZipQ4 (highest)               Insurance  \n",
       "              1.078709                1.259957               -0.288545  \n",
       "      Number_Diagnoses       Number_Procedures                    Race  \n",
       "             -0.035027                0.056507                2.045714  \n",
       "                   Sex             Urban_Rural  \n",
       "              0.248641               -0.062206  \n",
       "\n",
       "Degrees of Freedom: 188 Total (i.e. Null);  178 Residual\n",
       "  (7 observations deleted due to missingness)\n",
       "Null Deviance:\t    1049 \n",
       "Residual Deviance: 863.8 \tAIC: 885.8\n"
      ]
     },
     "metadata": {},
     "output_type": "display_data"
    }
   ],
   "source": [
    "pred_percent(mod1_1, df$Death, \"mod1_1\")\n",
    "pred_percent(mod2_1, df$Death, \"mod2_1\")\n",
    "compare_models(mod1_1,mod2_1)"
   ]
  },
  {
   "cell_type": "markdown",
   "metadata": {},
   "source": [
    "No improvement after removing outliers."
   ]
  },
  {
   "cell_type": "code",
   "execution_count": 26,
   "metadata": {
    "vscode": {
     "languageId": "r"
    }
   },
   "outputs": [
    {
     "data": {
      "text/plain": [
       "\n",
       "Call:\n",
       "glm(formula = Death ~ 1, family = binomial, data = df)\n",
       "\n",
       "Deviance Residuals: \n",
       "    Min       1Q   Median       3Q      Max  \n",
       "-0.7585  -0.7585  -0.7585  -0.1526   1.6651  \n",
       "\n",
       "Coefficients:\n",
       "            Estimate Std. Error z value Pr(>|z|)    \n",
       "(Intercept)   -1.099      0.165   -6.66 2.74e-11 ***\n",
       "---\n",
       "Signif. codes:  0 '***' 0.001 '**' 0.01 '*' 0.05 '.' 0.1 ' ' 1\n",
       "\n",
       "(Dispersion parameter for binomial family taken to be 1)\n",
       "\n",
       "    Null deviance: 220.44  on 195  degrees of freedom\n",
       "Residual deviance: 220.44  on 195  degrees of freedom\n",
       "AIC: 222.44\n",
       "\n",
       "Number of Fisher Scoring iterations: 4\n"
      ]
     },
     "metadata": {},
     "output_type": "display_data"
    },
    {
     "data": {
      "text/plain": [
       "\n",
       "Call:\n",
       "glm(formula = Death ~ Income_Zip + Insurance + Number_Diagnoses + \n",
       "    Number_Procedures + Race + Sex + Urban_Rural, family = binomial, \n",
       "    data = df, weights = Weighting)\n",
       "\n",
       "Deviance Residuals: \n",
       "    Min       1Q   Median       3Q      Max  \n",
       "-3.3894  -1.4011  -1.0159  -0.6515   5.1259  \n",
       "\n",
       "Coefficients:\n",
       "                       Estimate Std. Error z value Pr(>|z|)    \n",
       "(Intercept)            -2.56699    0.34026  -7.544 4.55e-14 ***\n",
       "Income_ZipQ2            0.57214    0.25766   2.220   0.0264 *  \n",
       "Income_ZipQ3            1.11948    0.27058   4.137 3.51e-05 ***\n",
       "Income_ZipQ4 (highest)  1.27879    0.28088   4.553 5.29e-06 ***\n",
       "Insurance              -0.31387    0.19503  -1.609   0.1075    \n",
       "Number_Diagnoses       -0.02572    0.01373  -1.873   0.0610 .  \n",
       "Number_Procedures       0.04277    0.05091   0.840   0.4009    \n",
       "Race                    1.99413    0.18143  10.991  < 2e-16 ***\n",
       "Sex                     0.24189    0.17687   1.368   0.1714    \n",
       "Urban_Rural            -0.05619    0.29498  -0.190   0.8489    \n",
       "---\n",
       "Signif. codes:  0 '***' 0.001 '**' 0.01 '*' 0.05 '.' 0.1 ' ' 1\n",
       "\n",
       "(Dispersion parameter for binomial family taken to be 1)\n",
       "\n",
       "    Null deviance: 1048.86  on 188  degrees of freedom\n",
       "Residual deviance:  864.96  on 179  degrees of freedom\n",
       "  (7 observations deleted due to missingness)\n",
       "AIC: 884.97\n",
       "\n",
       "Number of Fisher Scoring iterations: 5\n"
      ]
     },
     "metadata": {},
     "output_type": "display_data"
    },
    {
     "data": {
      "text/html": [
       "<span style=white-space:pre-wrap>'Accuracy for  mod3_0 :  75 %'</span>"
      ],
      "text/latex": [
       "'Accuracy for  mod3\\_0 :  75 \\%'"
      ],
      "text/markdown": [
       "<span style=white-space:pre-wrap>'Accuracy for  mod3_0 :  75 %'</span>"
      ],
      "text/plain": [
       "[1] \"Accuracy for  mod3_0 :  75 %\""
      ]
     },
     "metadata": {},
     "output_type": "display_data"
    },
    {
     "name": "stderr",
     "output_type": "stream",
     "text": [
      "Warning message in lab == {:\n",
      "\"longer object length is not a multiple of shorter object length\"\n"
     ]
    },
    {
     "data": {
      "text/html": [
       "<span style=white-space:pre-wrap>'Accuracy for  mod3_1 :  68.88 %'</span>"
      ],
      "text/latex": [
       "'Accuracy for  mod3\\_1 :  68.88 \\%'"
      ],
      "text/markdown": [
       "<span style=white-space:pre-wrap>'Accuracy for  mod3_1 :  68.88 %'</span>"
      ],
      "text/plain": [
       "[1] \"Accuracy for  mod3_1 :  68.88 %\""
      ]
     },
     "metadata": {},
     "output_type": "display_data"
    },
    {
     "name": "stdout",
     "output_type": "stream",
     "text": [
      "Pearson Goodness of Fit Test\n",
      " Null Hypothesis: The model fits.\n",
      " Alternative Hypothesis: The model does not fit.\n",
      "\n",
      " Pearson chi-squared for mod3_1:  896.18 \n",
      " Degrees of freedom for mod3_1:  186 \n",
      " P-value for mod3_1:  0 \n",
      "\n",
      " ---\n",
      " Null Hypothesis is rejected. The model does not fit.\n",
      " ---"
     ]
    }
   ],
   "source": [
    "################\n",
    "# In this cell I toyed with variables Age and Number_Procedures, due to \n",
    "# high correlations between the two. Removing Age produced a slightly better\n",
    "# model\n",
    "################\n",
    "\n",
    "mod3_0 <- glm(Death ~ 1, family = binomial, data = df)\n",
    "mod3_1 <- glm(\n",
    "    Death ~ \n",
    "    #Age + \n",
    "    Income_Zip +\n",
    "    Insurance + \n",
    "    Number_Diagnoses + \n",
    "    Number_Procedures + \n",
    "    Race +\n",
    "    Sex  +\n",
    "    Urban_Rural\n",
    "    , family = binomial, \n",
    "    data = df, weights = Weighting\n",
    "    )\n",
    "\n",
    "summary(mod3_0)\n",
    "summary(mod3_1)\n",
    "pred_percent(mod3_0, df$Death, \"mod3_0\")\n",
    "pred_percent(mod3_1, df$Death, \"mod3_1\")\n",
    "\n",
    "chi_log(mod3_1, df, 'mod3_1')"
   ]
  },
  {
   "cell_type": "code",
   "execution_count": 27,
   "metadata": {
    "vscode": {
     "languageId": "r"
    }
   },
   "outputs": [
    {
     "data": {
      "text/plain": [
       "$mod1_1\n",
       "\n",
       "Call:  glm(formula = Death ~ Age + Income_Zip + Insurance + Number_Diagnoses + \n",
       "    Number_Procedures + Race + Sex + Urban_Rural, family = binomial, \n",
       "    data = df, weights = Weighting)\n",
       "\n",
       "Coefficients:\n",
       "           (Intercept)                     Age            Income_ZipQ2  \n",
       "             -2.666430                0.004823                0.485220  \n",
       "          Income_ZipQ3  Income_ZipQ4 (highest)               Insurance  \n",
       "              0.940658                1.227612               -0.354570  \n",
       "      Number_Diagnoses       Number_Procedures                    Race  \n",
       "             -0.034403                0.065501                2.074421  \n",
       "                   Sex             Urban_Rural  \n",
       "              0.156448                0.154577  \n",
       "\n",
       "Degrees of Freedom: 191 Total (i.e. Null);  181 Residual\n",
       "  (8 observations deleted due to missingness)\n",
       "Null Deviance:\t    1069 \n",
       "Residual Deviance: 883.7 \tAIC: 905.7\n",
       "\n",
       "$mod3_1\n",
       "\n",
       "Call:  glm(formula = Death ~ Income_Zip + Insurance + Number_Diagnoses + \n",
       "    Number_Procedures + Race + Sex + Urban_Rural, family = binomial, \n",
       "    data = df, weights = Weighting)\n",
       "\n",
       "Coefficients:\n",
       "           (Intercept)            Income_ZipQ2            Income_ZipQ3  \n",
       "              -2.56699                 0.57214                 1.11948  \n",
       "Income_ZipQ4 (highest)               Insurance        Number_Diagnoses  \n",
       "               1.27879                -0.31387                -0.02572  \n",
       "     Number_Procedures                    Race                     Sex  \n",
       "               0.04277                 1.99413                 0.24189  \n",
       "           Urban_Rural  \n",
       "              -0.05619  \n",
       "\n",
       "Degrees of Freedom: 188 Total (i.e. Null);  179 Residual\n",
       "  (7 observations deleted due to missingness)\n",
       "Null Deviance:\t    1049 \n",
       "Residual Deviance: 865 \tAIC: 885\n"
      ]
     },
     "metadata": {},
     "output_type": "display_data"
    }
   ],
   "source": [
    "compare_models(mod1_1, mod3_1)"
   ]
  },
  {
   "cell_type": "code",
   "execution_count": 28,
   "metadata": {
    "vscode": {
     "languageId": "r"
    }
   },
   "outputs": [
    {
     "name": "stderr",
     "output_type": "stream",
     "text": [
      "Warning message in lab == {:\n",
      "\"longer object length is not a multiple of shorter object length\"\n"
     ]
    },
    {
     "data": {
      "text/html": [
       "<span style=white-space:pre-wrap>'Accuracy for  mod1_1 :  68.37 %'</span>"
      ],
      "text/latex": [
       "'Accuracy for  mod1\\_1 :  68.37 \\%'"
      ],
      "text/markdown": [
       "<span style=white-space:pre-wrap>'Accuracy for  mod1_1 :  68.37 %'</span>"
      ],
      "text/plain": [
       "[1] \"Accuracy for  mod1_1 :  68.37 %\""
      ]
     },
     "metadata": {},
     "output_type": "display_data"
    },
    {
     "name": "stderr",
     "output_type": "stream",
     "text": [
      "Warning message in lab == {:\n",
      "\"longer object length is not a multiple of shorter object length\"\n"
     ]
    },
    {
     "data": {
      "text/html": [
       "<span style=white-space:pre-wrap>'Accuracy for  mod2_1 :  69.9 %'</span>"
      ],
      "text/latex": [
       "'Accuracy for  mod2\\_1 :  69.9 \\%'"
      ],
      "text/markdown": [
       "<span style=white-space:pre-wrap>'Accuracy for  mod2_1 :  69.9 %'</span>"
      ],
      "text/plain": [
       "[1] \"Accuracy for  mod2_1 :  69.9 %\""
      ]
     },
     "metadata": {},
     "output_type": "display_data"
    },
    {
     "name": "stderr",
     "output_type": "stream",
     "text": [
      "Warning message in lab == {:\n",
      "\"longer object length is not a multiple of shorter object length\"\n"
     ]
    },
    {
     "data": {
      "text/html": [
       "<span style=white-space:pre-wrap>'Accuracy for  mod3_1 :  68.88 %'</span>"
      ],
      "text/latex": [
       "'Accuracy for  mod3\\_1 :  68.88 \\%'"
      ],
      "text/markdown": [
       "<span style=white-space:pre-wrap>'Accuracy for  mod3_1 :  68.88 %'</span>"
      ],
      "text/plain": [
       "[1] \"Accuracy for  mod3_1 :  68.88 %\""
      ]
     },
     "metadata": {},
     "output_type": "display_data"
    }
   ],
   "source": [
    "pred_percent(mod1_1, df$Death, 'mod1_1')\n",
    "pred_percent(mod2_1, df$Death, 'mod2_1')\n",
    "pred_percent(mod3_1, df$Death, 'mod3_1')"
   ]
  },
  {
   "cell_type": "markdown",
   "metadata": {},
   "source": [
    "The third model, with Age removed, had a slightly improved AIC but lower accuracy. TBH I don't feel great about either model because they both have lower accuracy than the intercept-only model."
   ]
  },
  {
   "cell_type": "markdown",
   "metadata": {},
   "source": [
    "**Odds Ratios**"
   ]
  },
  {
   "cell_type": "code",
   "execution_count": 29,
   "metadata": {
    "vscode": {
     "languageId": "r"
    }
   },
   "outputs": [
    {
     "name": "stderr",
     "output_type": "stream",
     "text": [
      "Waiting for profiling to be done...\n",
      "\n",
      "Waiting for profiling to be done...\n",
      "\n"
     ]
    },
    {
     "data": {
      "text/html": [
       "<table class=\"dataframe\">\n",
       "<caption>A data.frame: 10 × 3</caption>\n",
       "<thead>\n",
       "\t<tr><th></th><th scope=col>Odds_Ratio</th><th scope=col>CI_Lower</th><th scope=col>CI_Upper</th></tr>\n",
       "\t<tr><th></th><th scope=col>&lt;dbl&gt;</th><th scope=col>&lt;dbl&gt;</th><th scope=col>&lt;dbl&gt;</th></tr>\n",
       "</thead>\n",
       "<tbody>\n",
       "\t<tr><th scope=row>(Intercept)</th><td>0.07676646</td><td>0.03885365</td><td> 0.1476473</td></tr>\n",
       "\t<tr><th scope=row>Income_ZipQ2</th><td>1.77204637</td><td>1.07521136</td><td> 2.9582282</td></tr>\n",
       "\t<tr><th scope=row>Income_ZipQ3</th><td>3.06326921</td><td>1.81411674</td><td> 5.2493550</td></tr>\n",
       "\t<tr><th scope=row>Income_ZipQ4 (highest)</th><td>3.59229773</td><td>2.08698087</td><td> 6.2869425</td></tr>\n",
       "\t<tr><th scope=row>Insurance</th><td>0.73061166</td><td>0.49681239</td><td> 1.0680427</td></tr>\n",
       "\t<tr><th scope=row>Number_Diagnoses</th><td>0.97461044</td><td>0.94839591</td><td> 1.0008916</td></tr>\n",
       "\t<tr><th scope=row>Number_Procedures</th><td>1.04369670</td><td>0.94341022</td><td> 1.1521124</td></tr>\n",
       "\t<tr><th scope=row>Race</th><td>7.34577601</td><td>5.17246576</td><td>10.5412896</td></tr>\n",
       "\t<tr><th scope=row>Sex</th><td>1.27364906</td><td>0.90079508</td><td> 1.8033964</td></tr>\n",
       "\t<tr><th scope=row>Urban_Rural</th><td>0.94536198</td><td>0.52024491</td><td> 1.6615354</td></tr>\n",
       "</tbody>\n",
       "</table>\n"
      ],
      "text/latex": [
       "A data.frame: 10 × 3\n",
       "\\begin{tabular}{r|lll}\n",
       "  & Odds\\_Ratio & CI\\_Lower & CI\\_Upper\\\\\n",
       "  & <dbl> & <dbl> & <dbl>\\\\\n",
       "\\hline\n",
       "\t(Intercept) & 0.07676646 & 0.03885365 &  0.1476473\\\\\n",
       "\tIncome\\_ZipQ2 & 1.77204637 & 1.07521136 &  2.9582282\\\\\n",
       "\tIncome\\_ZipQ3 & 3.06326921 & 1.81411674 &  5.2493550\\\\\n",
       "\tIncome\\_ZipQ4 (highest) & 3.59229773 & 2.08698087 &  6.2869425\\\\\n",
       "\tInsurance & 0.73061166 & 0.49681239 &  1.0680427\\\\\n",
       "\tNumber\\_Diagnoses & 0.97461044 & 0.94839591 &  1.0008916\\\\\n",
       "\tNumber\\_Procedures & 1.04369670 & 0.94341022 &  1.1521124\\\\\n",
       "\tRace & 7.34577601 & 5.17246576 & 10.5412896\\\\\n",
       "\tSex & 1.27364906 & 0.90079508 &  1.8033964\\\\\n",
       "\tUrban\\_Rural & 0.94536198 & 0.52024491 &  1.6615354\\\\\n",
       "\\end{tabular}\n"
      ],
      "text/markdown": [
       "\n",
       "A data.frame: 10 × 3\n",
       "\n",
       "| <!--/--> | Odds_Ratio &lt;dbl&gt; | CI_Lower &lt;dbl&gt; | CI_Upper &lt;dbl&gt; |\n",
       "|---|---|---|---|\n",
       "| (Intercept) | 0.07676646 | 0.03885365 |  0.1476473 |\n",
       "| Income_ZipQ2 | 1.77204637 | 1.07521136 |  2.9582282 |\n",
       "| Income_ZipQ3 | 3.06326921 | 1.81411674 |  5.2493550 |\n",
       "| Income_ZipQ4 (highest) | 3.59229773 | 2.08698087 |  6.2869425 |\n",
       "| Insurance | 0.73061166 | 0.49681239 |  1.0680427 |\n",
       "| Number_Diagnoses | 0.97461044 | 0.94839591 |  1.0008916 |\n",
       "| Number_Procedures | 1.04369670 | 0.94341022 |  1.1521124 |\n",
       "| Race | 7.34577601 | 5.17246576 | 10.5412896 |\n",
       "| Sex | 1.27364906 | 0.90079508 |  1.8033964 |\n",
       "| Urban_Rural | 0.94536198 | 0.52024491 |  1.6615354 |\n",
       "\n"
      ],
      "text/plain": [
       "                       Odds_Ratio CI_Lower   CI_Upper  \n",
       "(Intercept)            0.07676646 0.03885365  0.1476473\n",
       "Income_ZipQ2           1.77204637 1.07521136  2.9582282\n",
       "Income_ZipQ3           3.06326921 1.81411674  5.2493550\n",
       "Income_ZipQ4 (highest) 3.59229773 2.08698087  6.2869425\n",
       "Insurance              0.73061166 0.49681239  1.0680427\n",
       "Number_Diagnoses       0.97461044 0.94839591  1.0008916\n",
       "Number_Procedures      1.04369670 0.94341022  1.1521124\n",
       "Race                   7.34577601 5.17246576 10.5412896\n",
       "Sex                    1.27364906 0.90079508  1.8033964\n",
       "Urban_Rural            0.94536198 0.52024491  1.6615354"
      ]
     },
     "metadata": {},
     "output_type": "display_data"
    }
   ],
   "source": [
    "data.frame(\n",
    "    Odds_Ratio = exp(coef(mod3_1)), \n",
    "    CI_Lower = exp(confint(mod3_1))[,1], \n",
    "    CI_Upper = exp(confint(mod3_1))[,2]\n",
    "    )"
   ]
  },
  {
   "cell_type": "code",
   "execution_count": 30,
   "metadata": {
    "vscode": {
     "languageId": "r"
    }
   },
   "outputs": [
    {
     "name": "stderr",
     "output_type": "stream",
     "text": [
      "Waiting for profiling to be done...\n",
      "\n",
      "Waiting for profiling to be done...\n",
      "\n"
     ]
    },
    {
     "data": {
      "text/html": [
       "<table class=\"dataframe\">\n",
       "<caption>A data.frame: 11 × 3</caption>\n",
       "<thead>\n",
       "\t<tr><th></th><th scope=col>Odds_Ratio</th><th scope=col>CI_Lower</th><th scope=col>CI_Upper</th></tr>\n",
       "\t<tr><th></th><th scope=col>&lt;dbl&gt;</th><th scope=col>&lt;dbl&gt;</th><th scope=col>&lt;dbl&gt;</th></tr>\n",
       "</thead>\n",
       "<tbody>\n",
       "\t<tr><th scope=row>(Intercept)</th><td>0.06949993</td><td>0.03333471</td><td> 0.1403969</td></tr>\n",
       "\t<tr><th scope=row>Age</th><td>1.00483437</td><td>0.99662433</td><td> 1.0132589</td></tr>\n",
       "\t<tr><th scope=row>Income_ZipQ2</th><td>1.62453216</td><td>0.99782507</td><td> 2.6707728</td></tr>\n",
       "\t<tr><th scope=row>Income_ZipQ3</th><td>2.56166597</td><td>1.52779362</td><td> 4.3478012</td></tr>\n",
       "\t<tr><th scope=row>Income_ZipQ4 (highest)</th><td>3.41307043</td><td>1.99470152</td><td> 5.9290407</td></tr>\n",
       "\t<tr><th scope=row>Insurance</th><td>0.70147518</td><td>0.47635278</td><td> 1.0265977</td></tr>\n",
       "\t<tr><th scope=row>Number_Diagnoses</th><td>0.96618181</td><td>0.93550322</td><td> 0.9967807</td></tr>\n",
       "\t<tr><th scope=row>Number_Procedures</th><td>1.06769369</td><td>0.97636455</td><td> 1.1663940</td></tr>\n",
       "\t<tr><th scope=row>Race</th><td>7.95993645</td><td>5.55961756</td><td>11.5338749</td></tr>\n",
       "\t<tr><th scope=row>Sex</th><td>1.16934942</td><td>0.83153534</td><td> 1.6454079</td></tr>\n",
       "\t<tr><th scope=row>Urban_Rural</th><td>1.16716358</td><td>0.67406324</td><td> 1.9758908</td></tr>\n",
       "</tbody>\n",
       "</table>\n"
      ],
      "text/latex": [
       "A data.frame: 11 × 3\n",
       "\\begin{tabular}{r|lll}\n",
       "  & Odds\\_Ratio & CI\\_Lower & CI\\_Upper\\\\\n",
       "  & <dbl> & <dbl> & <dbl>\\\\\n",
       "\\hline\n",
       "\t(Intercept) & 0.06949993 & 0.03333471 &  0.1403969\\\\\n",
       "\tAge & 1.00483437 & 0.99662433 &  1.0132589\\\\\n",
       "\tIncome\\_ZipQ2 & 1.62453216 & 0.99782507 &  2.6707728\\\\\n",
       "\tIncome\\_ZipQ3 & 2.56166597 & 1.52779362 &  4.3478012\\\\\n",
       "\tIncome\\_ZipQ4 (highest) & 3.41307043 & 1.99470152 &  5.9290407\\\\\n",
       "\tInsurance & 0.70147518 & 0.47635278 &  1.0265977\\\\\n",
       "\tNumber\\_Diagnoses & 0.96618181 & 0.93550322 &  0.9967807\\\\\n",
       "\tNumber\\_Procedures & 1.06769369 & 0.97636455 &  1.1663940\\\\\n",
       "\tRace & 7.95993645 & 5.55961756 & 11.5338749\\\\\n",
       "\tSex & 1.16934942 & 0.83153534 &  1.6454079\\\\\n",
       "\tUrban\\_Rural & 1.16716358 & 0.67406324 &  1.9758908\\\\\n",
       "\\end{tabular}\n"
      ],
      "text/markdown": [
       "\n",
       "A data.frame: 11 × 3\n",
       "\n",
       "| <!--/--> | Odds_Ratio &lt;dbl&gt; | CI_Lower &lt;dbl&gt; | CI_Upper &lt;dbl&gt; |\n",
       "|---|---|---|---|\n",
       "| (Intercept) | 0.06949993 | 0.03333471 |  0.1403969 |\n",
       "| Age | 1.00483437 | 0.99662433 |  1.0132589 |\n",
       "| Income_ZipQ2 | 1.62453216 | 0.99782507 |  2.6707728 |\n",
       "| Income_ZipQ3 | 2.56166597 | 1.52779362 |  4.3478012 |\n",
       "| Income_ZipQ4 (highest) | 3.41307043 | 1.99470152 |  5.9290407 |\n",
       "| Insurance | 0.70147518 | 0.47635278 |  1.0265977 |\n",
       "| Number_Diagnoses | 0.96618181 | 0.93550322 |  0.9967807 |\n",
       "| Number_Procedures | 1.06769369 | 0.97636455 |  1.1663940 |\n",
       "| Race | 7.95993645 | 5.55961756 | 11.5338749 |\n",
       "| Sex | 1.16934942 | 0.83153534 |  1.6454079 |\n",
       "| Urban_Rural | 1.16716358 | 0.67406324 |  1.9758908 |\n",
       "\n"
      ],
      "text/plain": [
       "                       Odds_Ratio CI_Lower   CI_Upper  \n",
       "(Intercept)            0.06949993 0.03333471  0.1403969\n",
       "Age                    1.00483437 0.99662433  1.0132589\n",
       "Income_ZipQ2           1.62453216 0.99782507  2.6707728\n",
       "Income_ZipQ3           2.56166597 1.52779362  4.3478012\n",
       "Income_ZipQ4 (highest) 3.41307043 1.99470152  5.9290407\n",
       "Insurance              0.70147518 0.47635278  1.0265977\n",
       "Number_Diagnoses       0.96618181 0.93550322  0.9967807\n",
       "Number_Procedures      1.06769369 0.97636455  1.1663940\n",
       "Race                   7.95993645 5.55961756 11.5338749\n",
       "Sex                    1.16934942 0.83153534  1.6454079\n",
       "Urban_Rural            1.16716358 0.67406324  1.9758908"
      ]
     },
     "metadata": {},
     "output_type": "display_data"
    }
   ],
   "source": [
    "data.frame(\n",
    "    Odds_Ratio = exp(coef(mod1_1)), \n",
    "    CI_Lower = exp(confint(mod1_1))[,1], \n",
    "    CI_Upper = exp(confint(mod1_1))[,2]\n",
    "    )"
   ]
  },
  {
   "cell_type": "markdown",
   "metadata": {},
   "source": [
    "I will interpret the Odds-Ratios for the first model, which was the least awful model of the three I tried.\n",
    "\n",
    "We can see with the confidence intervals that the odds-ratios for the following ind. variables are insignificant: Age, Insurance, Number_Procedures, Sex, and Urban_Rural. We have significant odds-ratios for the rest:\n",
    "\n",
    "- As income increased, so did the risk of death, with the second quartile being 76% more likely to die, the third q being 194% more likely, and the fourth q (highest income) being 253% more likely to die.\n",
    "\n",
    "- Each unit of increase in Number_Diagnoses was associated with 4% decrease in odds of death.\n",
    "\n",
    "- Having non-white race was associated with 673% higher odds of death. \n",
    "\n",
    "- Living in a rural area was associated with 6% lower odds of death.\n",
    "\n",
    "**Overall Impression**\n",
    "\n",
    "The significantly higher risk of death for non-white race is consistent with what we already understand about health disparities for people of color. That said, I don't feel great about this model due to low accuracy, high AIC, and poor fit. I would not consider the results reliable."
   ]
  },
  {
   "cell_type": "markdown",
   "metadata": {},
   "source": [
    "---"
   ]
  },
  {
   "cell_type": "markdown",
   "metadata": {},
   "source": [
    "## Regression 2 - Hospital Charges"
   ]
  },
  {
   "cell_type": "markdown",
   "metadata": {},
   "source": [
    "1. Hospital charges is currently a continuous, quantitative variable. You need to create a new variable that is a binary, categorical variable with a cutoff at a certain dollar amount that separates high costs from low costs. You can use any cutoff you want, but you must justify your choice of cutoff (e.g. use some of the descriptive statistics to propose a cutoff, or use some research literature to justify how you determine the cutoff). Run a logistic regression with your newly created variable as the dependent variable and Age, Income_Zip, Insurance, Number_Diagnoses, Number_Procedures, Race, Sex, and Urban_Rural as the independent variables. Fully interpret your initial model (again, being sure to explain your independent variable reference categories)."
   ]
  },
  {
   "cell_type": "markdown",
   "metadata": {},
   "source": [
    "2. Now that you have run this regression model, evaluate whether your model needs to be revised. Pay attention to outliers, and multicollinearity (and for these purposes, you might consider moderate correlation as suggestive of multicollinearity). In addition, you should consider whether your cutoff to develop your categorical dependent variable should be revised at all. Run as many regression models as you need to based on these revisions. Fully explain why you are making the choices you make. Note: Most analyses like these are all about decision-making. There are tradeoffs in all of the models and with the decisions you make. Justify your choices.\n"
   ]
  },
  {
   "cell_type": "markdown",
   "metadata": {},
   "source": [
    "For this problem I experimented with a few HospCharges cutoffs to see if I could find a useful model. You will see below that I placed each cutoff model into a single cell in this notebook, then iteratively experimented with removing various variables from each model to try to find its respectively best-performing version. Performance was determined by the model's accuracy, AIC, and fit compared to the intercept-only model.  \n",
    "\n",
    "I used the ind. var correlation matrix to guide my choices about which variables to remove. I also looked at the change in model accuracy that each variable had. In some cases, I chose to remove variables with no collinearities if/when accuracy was greatly improved. Oftentimes removing Race improved model accuracy, however, not without a trade-off of a significantly increased AIC.\n",
    "\n",
    "The format of this notebook allows me to run, tweak, and re-run cells with ease, so not every attempted model is shown here. Rather, the final and best-performing versions of the models are what you see below:"
   ]
  },
  {
   "cell_type": "code",
   "execution_count": 31,
   "metadata": {
    "vscode": {
     "languageId": "r"
    }
   },
   "outputs": [
    {
     "data": {
      "text/html": [
       "<span style=white-space:pre-wrap>'HospCharges cutoff:  113280'</span>"
      ],
      "text/latex": [
       "'HospCharges cutoff:  113280'"
      ],
      "text/markdown": [
       "<span style=white-space:pre-wrap>'HospCharges cutoff:  113280'</span>"
      ],
      "text/plain": [
       "[1] \"HospCharges cutoff:  113280\""
      ]
     },
     "metadata": {},
     "output_type": "display_data"
    },
    {
     "data": {
      "text/html": [
       "<span style=white-space:pre-wrap>'Accuracy for  u_fence_0 :  91.33 %'</span>"
      ],
      "text/latex": [
       "'Accuracy for  u\\_fence\\_0 :  91.33 \\%'"
      ],
      "text/markdown": [
       "<span style=white-space:pre-wrap>'Accuracy for  u_fence_0 :  91.33 %'</span>"
      ],
      "text/plain": [
       "[1] \"Accuracy for  u_fence_0 :  91.33 %\""
      ]
     },
     "metadata": {},
     "output_type": "display_data"
    },
    {
     "data": {
      "text/html": [
       "<span style=white-space:pre-wrap>'Accuracy for  u_fence_1 :  91.33 %'</span>"
      ],
      "text/latex": [
       "'Accuracy for  u\\_fence\\_1 :  91.33 \\%'"
      ],
      "text/markdown": [
       "<span style=white-space:pre-wrap>'Accuracy for  u_fence_1 :  91.33 %'</span>"
      ],
      "text/plain": [
       "[1] \"Accuracy for  u_fence_1 :  91.33 %\""
      ]
     },
     "metadata": {},
     "output_type": "display_data"
    },
    {
     "data": {
      "text/plain": [
       "\n",
       "Call:\n",
       "glm(formula = charges ~ 1, family = binomial, data = df)\n",
       "\n",
       "Deviance Residuals: \n",
       "   Min      1Q  Median      3Q     Max  \n",
       "-0.426  -0.426  -0.426  -0.426   2.211  \n",
       "\n",
       "Coefficients:\n",
       "            Estimate Std. Error z value Pr(>|z|)    \n",
       "(Intercept)  -2.3542     0.2538  -9.276   <2e-16 ***\n",
       "---\n",
       "Signif. codes:  0 '***' 0.001 '**' 0.01 '*' 0.05 '.' 0.1 ' ' 1\n",
       "\n",
       "(Dispersion parameter for binomial family taken to be 1)\n",
       "\n",
       "    Null deviance: 115.61  on 195  degrees of freedom\n",
       "Residual deviance: 115.61  on 195  degrees of freedom\n",
       "AIC: 117.61\n",
       "\n",
       "Number of Fisher Scoring iterations: 5\n"
      ]
     },
     "metadata": {},
     "output_type": "display_data"
    },
    {
     "data": {
      "text/plain": [
       "\n",
       "Call:\n",
       "glm(formula = charges ~ Age + Income_Zip + Race + Sex + Urban_Rural, \n",
       "    family = binomial, data = df, weights = Weighting)\n",
       "\n",
       "Deviance Residuals: \n",
       "    Min       1Q   Median       3Q      Max  \n",
       "-1.5608  -1.1195  -0.8026  -0.0003   5.4395  \n",
       "\n",
       "Coefficients:\n",
       "                         Estimate Std. Error z value Pr(>|z|)    \n",
       "(Intercept)             -3.388755   0.581907  -5.824 5.76e-09 ***\n",
       "Age                      0.008196   0.005150   1.592  0.11147    \n",
       "Income_ZipQ2             1.387752   0.494194   2.808  0.00498 ** \n",
       "Income_ZipQ3             1.263436   0.512499   2.465  0.01369 *  \n",
       "Income_ZipQ4 (highest)   0.652667   0.535067   1.220  0.22255    \n",
       "Race                    -0.044355   0.277054  -0.160  0.87281    \n",
       "Sex                     -0.538223   0.252293  -2.133  0.03290 *  \n",
       "Urban_Rural            -17.128174 765.293603  -0.022  0.98214    \n",
       "---\n",
       "Signif. codes:  0 '***' 0.001 '**' 0.01 '*' 0.05 '.' 0.1 ' ' 1\n",
       "\n",
       "(Dispersion parameter for binomial family taken to be 1)\n",
       "\n",
       "    Null deviance: 548.97  on 189  degrees of freedom\n",
       "Residual deviance: 492.00  on 182  degrees of freedom\n",
       "  (6 observations deleted due to missingness)\n",
       "AIC: 508\n",
       "\n",
       "Number of Fisher Scoring iterations: 17\n"
      ]
     },
     "metadata": {},
     "output_type": "display_data"
    },
    {
     "name": "stdout",
     "output_type": "stream",
     "text": [
      "Pearson Goodness of Fit Test\n",
      " Null Hypothesis: The model fits.\n",
      " Alternative Hypothesis: The model does not fit.\n",
      "\n",
      " Pearson chi-squared for u_fence_0:  196 \n",
      " Degrees of freedom for u_fence_0:  195 \n",
      " P-value for u_fence_0:  0.4664079 \n",
      "\n",
      " ---\n",
      " Failed to reject Null Hypothesis. The model fits.\n",
      " ---"
     ]
    },
    {
     "data": {
      "text/html": [
       "''"
      ],
      "text/latex": [
       "''"
      ],
      "text/markdown": [
       "''"
      ],
      "text/plain": [
       "[1] \"\""
      ]
     },
     "metadata": {},
     "output_type": "display_data"
    },
    {
     "name": "stdout",
     "output_type": "stream",
     "text": [
      "Pearson Goodness of Fit Test\n",
      " Null Hypothesis: The model fits.\n",
      " Alternative Hypothesis: The model does not fit.\n",
      "\n",
      " Pearson chi-squared for u_fence_1:  744.36 \n",
      " Degrees of freedom for u_fence_1:  188 \n",
      " P-value for u_fence_1:  0 \n",
      "\n",
      " ---\n",
      " Null Hypothesis is rejected. The model does not fit.\n",
      " ---"
     ]
    }
   ],
   "source": [
    "# Setting cutoff to HospCharges Upper Fence\n",
    "\n",
    "cut <- round(\n",
    "    fences(df$HospCharges)$Upper # Upper Fence\n",
    "    ,0)\n",
    "\n",
    "df$charges <- ifelse(df$HospCharges<cut, 0, 1)\n",
    "\n",
    "paste('HospCharges cutoff: ',cut)\n",
    "\n",
    "u_fence_0 <- glm(charges ~ 1, data = df, family = binomial)\n",
    "u_fence_1 <- glm(charges ~ \n",
    "            Age  + \n",
    "            Income_Zip  + \n",
    "            #Insurance  + \n",
    "            #Number_Diagnoses  + \n",
    "            #Number_Procedures  + \n",
    "            Race  + \n",
    "            Sex  + \n",
    "            Urban_Rural\n",
    "            , \n",
    "            data=df, family = binomial, weights = Weighting\n",
    "            )\n",
    "\n",
    "pred_percent(u_fence_0,df['charges'],'u_fence_0')\n",
    "pred_percent(u_fence_1,df['charges'],'u_fence_1')\n",
    "\n",
    "summary(u_fence_0)\n",
    "summary(u_fence_1)\n",
    "\n",
    "\n",
    "chi_log(u_fence_0, df, name = 'u_fence_0')\n",
    "paste('')\n",
    "chi_log(u_fence_1, df, name = 'u_fence_1')\n",
    "\n"
   ]
  },
  {
   "cell_type": "code",
   "execution_count": 32,
   "metadata": {
    "vscode": {
     "languageId": "r"
    }
   },
   "outputs": [
    {
     "data": {
      "text/html": [
       "<span style=white-space:pre-wrap>'HospCharges cutoff:  98102'</span>"
      ],
      "text/latex": [
       "'HospCharges cutoff:  98102'"
      ],
      "text/markdown": [
       "<span style=white-space:pre-wrap>'HospCharges cutoff:  98102'</span>"
      ],
      "text/plain": [
       "[1] \"HospCharges cutoff:  98102\""
      ]
     },
     "metadata": {},
     "output_type": "display_data"
    },
    {
     "data": {
      "text/html": [
       "<span style=white-space:pre-wrap>'Accuracy for  mean_sd_0 :  91.33 %'</span>"
      ],
      "text/latex": [
       "'Accuracy for  mean\\_sd\\_0 :  91.33 \\%'"
      ],
      "text/markdown": [
       "<span style=white-space:pre-wrap>'Accuracy for  mean_sd_0 :  91.33 %'</span>"
      ],
      "text/plain": [
       "[1] \"Accuracy for  mean_sd_0 :  91.33 %\""
      ]
     },
     "metadata": {},
     "output_type": "display_data"
    },
    {
     "data": {
      "text/html": [
       "<span style=white-space:pre-wrap>'Accuracy for  mean_sd_1 :  92.86 %'</span>"
      ],
      "text/latex": [
       "'Accuracy for  mean\\_sd\\_1 :  92.86 \\%'"
      ],
      "text/markdown": [
       "<span style=white-space:pre-wrap>'Accuracy for  mean_sd_1 :  92.86 %'</span>"
      ],
      "text/plain": [
       "[1] \"Accuracy for  mean_sd_1 :  92.86 %\""
      ]
     },
     "metadata": {},
     "output_type": "display_data"
    },
    {
     "data": {
      "text/plain": [
       "\n",
       "Call:\n",
       "glm(formula = charges ~ 1, family = binomial, data = df)\n",
       "\n",
       "Deviance Residuals: \n",
       "   Min      1Q  Median      3Q     Max  \n",
       "-0.426  -0.426  -0.426  -0.426   2.211  \n",
       "\n",
       "Coefficients:\n",
       "            Estimate Std. Error z value Pr(>|z|)    \n",
       "(Intercept)  -2.3542     0.2538  -9.276   <2e-16 ***\n",
       "---\n",
       "Signif. codes:  0 '***' 0.001 '**' 0.01 '*' 0.05 '.' 0.1 ' ' 1\n",
       "\n",
       "(Dispersion parameter for binomial family taken to be 1)\n",
       "\n",
       "    Null deviance: 115.61  on 195  degrees of freedom\n",
       "Residual deviance: 115.61  on 195  degrees of freedom\n",
       "AIC: 117.61\n",
       "\n",
       "Number of Fisher Scoring iterations: 5\n"
      ]
     },
     "metadata": {},
     "output_type": "display_data"
    },
    {
     "data": {
      "text/plain": [
       "\n",
       "Call:\n",
       "glm(formula = charges ~ Age + Insurance + Number_Diagnoses + \n",
       "    Number_Procedures + Sex + Urban_Rural, family = binomial, \n",
       "    data = df, weights = Weighting)\n",
       "\n",
       "Deviance Residuals: \n",
       "    Min       1Q   Median       3Q      Max  \n",
       "-4.0392  -0.8451  -0.5405  -0.2966   5.7195  \n",
       "\n",
       "Coefficients:\n",
       "                   Estimate Std. Error z value Pr(>|z|)    \n",
       "(Intercept)       -5.732659   0.635755  -9.017  < 2e-16 ***\n",
       "Age                0.010397   0.007288   1.427  0.15368    \n",
       "Insurance          0.919989   0.305393   3.012  0.00259 ** \n",
       "Number_Diagnoses   0.111670   0.021111   5.290 1.23e-07 ***\n",
       "Number_Procedures  0.603316   0.069836   8.639  < 2e-16 ***\n",
       "Sex               -0.771440   0.277132  -2.784  0.00537 ** \n",
       "Urban_Rural       -1.197695   0.499050  -2.400  0.01640 *  \n",
       "---\n",
       "Signif. codes:  0 '***' 0.001 '**' 0.01 '*' 0.05 '.' 0.1 ' ' 1\n",
       "\n",
       "(Dispersion parameter for binomial family taken to be 1)\n",
       "\n",
       "    Null deviance: 577.13  on 194  degrees of freedom\n",
       "Residual deviance: 422.77  on 188  degrees of freedom\n",
       "  (1 observation deleted due to missingness)\n",
       "AIC: 436.77\n",
       "\n",
       "Number of Fisher Scoring iterations: 5\n"
      ]
     },
     "metadata": {},
     "output_type": "display_data"
    },
    {
     "name": "stdout",
     "output_type": "stream",
     "text": [
      "Pearson Goodness of Fit Test\n",
      " Null Hypothesis: The model fits.\n",
      " Alternative Hypothesis: The model does not fit.\n",
      "\n",
      " Pearson chi-squared for mean_sd_0:  196 \n",
      " Degrees of freedom for mean_sd_0:  195 \n",
      " P-value for mean_sd_0:  0.4664079 \n",
      "\n",
      " ---\n",
      " Failed to reject Null Hypothesis. The model fits.\n",
      " ---"
     ]
    },
    {
     "data": {
      "text/html": [
       "''"
      ],
      "text/latex": [
       "''"
      ],
      "text/markdown": [
       "''"
      ],
      "text/plain": [
       "[1] \"\""
      ]
     },
     "metadata": {},
     "output_type": "display_data"
    },
    {
     "name": "stdout",
     "output_type": "stream",
     "text": [
      "Pearson Goodness of Fit Test\n",
      " Null Hypothesis: The model fits.\n",
      " Alternative Hypothesis: The model does not fit.\n",
      "\n",
      " Pearson chi-squared for mean_sd_1:  734.46 \n",
      " Degrees of freedom for mean_sd_1:  189 \n",
      " P-value for mean_sd_1:  0 \n",
      "\n",
      " ---\n",
      " Null Hypothesis is rejected. The model does not fit.\n",
      " ---"
     ]
    }
   ],
   "source": [
    "# Setting cutoff to HospCharges mean + 1 standard deviation\n",
    "\n",
    "cut <- round(\n",
    "    sd(df$HospCharges) + mean(df$HospCharges) # Mean + 1 Standard Deviation\n",
    "    ,0)\n",
    "\n",
    "df$charges <- ifelse(df$HospCharges<cut, 0, 1)\n",
    "paste('HospCharges cutoff: ',cut)\n",
    "\n",
    "mean_sd_0 <- glm(charges ~ 1, data = df, family = binomial)\n",
    "mean_sd_1 <- glm(charges ~ \n",
    "            Age  + \n",
    "            #Income_Zip  + \n",
    "            Insurance  + \n",
    "            Number_Diagnoses  + \n",
    "            Number_Procedures  + \n",
    "            #Race  + \n",
    "            Sex  + \n",
    "            Urban_Rural\n",
    "            , \n",
    "            data=df, family = binomial, weights = Weighting\n",
    "            )\n",
    "\n",
    "pred_percent(mean_sd_0,df['charges'],'mean_sd_0')\n",
    "pred_percent(mean_sd_1,df['charges'],'mean_sd_1')\n",
    "\n",
    "summary(mean_sd_0)\n",
    "summary(mean_sd_1)\n",
    "\n",
    "\n",
    "chi_log(mean_sd_0, df, name = 'mean_sd_0')\n",
    "paste('')\n",
    "chi_log(mean_sd_1, df, name = 'mean_sd_1')\n",
    "\n"
   ]
  },
  {
   "cell_type": "code",
   "execution_count": 33,
   "metadata": {
    "vscode": {
     "languageId": "r"
    }
   },
   "outputs": [
    {
     "data": {
      "text/html": [
       "<span style=white-space:pre-wrap>'HospCharges cutoff:  75000'</span>"
      ],
      "text/latex": [
       "'HospCharges cutoff:  75000'"
      ],
      "text/markdown": [
       "<span style=white-space:pre-wrap>'HospCharges cutoff:  75000'</span>"
      ],
      "text/plain": [
       "[1] \"HospCharges cutoff:  75000\""
      ]
     },
     "metadata": {},
     "output_type": "display_data"
    },
    {
     "data": {
      "text/html": [
       "<span style=white-space:pre-wrap>'Accuracy for  hp_0 :  84.18 %'</span>"
      ],
      "text/latex": [
       "'Accuracy for  hp\\_0 :  84.18 \\%'"
      ],
      "text/markdown": [
       "<span style=white-space:pre-wrap>'Accuracy for  hp_0 :  84.18 %'</span>"
      ],
      "text/plain": [
       "[1] \"Accuracy for  hp_0 :  84.18 %\""
      ]
     },
     "metadata": {},
     "output_type": "display_data"
    },
    {
     "data": {
      "text/html": [
       "<span style=white-space:pre-wrap>'Accuracy for  hp_1 :  86.73 %'</span>"
      ],
      "text/latex": [
       "'Accuracy for  hp\\_1 :  86.73 \\%'"
      ],
      "text/markdown": [
       "<span style=white-space:pre-wrap>'Accuracy for  hp_1 :  86.73 %'</span>"
      ],
      "text/plain": [
       "[1] \"Accuracy for  hp_1 :  86.73 %\""
      ]
     },
     "metadata": {},
     "output_type": "display_data"
    },
    {
     "data": {
      "text/plain": [
       "\n",
       "Call:\n",
       "glm(formula = charges ~ 1, family = binomial, data = df)\n",
       "\n",
       "Deviance Residuals: \n",
       "    Min       1Q   Median       3Q      Max  \n",
       "-0.5868  -0.5868  -0.5868  -0.5868   1.9205  \n",
       "\n",
       "Coefficients:\n",
       "            Estimate Std. Error z value Pr(>|z|)    \n",
       "(Intercept)  -1.6720     0.1957  -8.541   <2e-16 ***\n",
       "---\n",
       "Signif. codes:  0 '***' 0.001 '**' 0.01 '*' 0.05 '.' 0.1 ' ' 1\n",
       "\n",
       "(Dispersion parameter for binomial family taken to be 1)\n",
       "\n",
       "    Null deviance: 171.15  on 195  degrees of freedom\n",
       "Residual deviance: 171.15  on 195  degrees of freedom\n",
       "AIC: 173.15\n",
       "\n",
       "Number of Fisher Scoring iterations: 3\n"
      ]
     },
     "metadata": {},
     "output_type": "display_data"
    },
    {
     "data": {
      "text/plain": [
       "\n",
       "Call:\n",
       "glm(formula = charges ~ Age + Income_Zip + Insurance + Number_Procedures + \n",
       "    Sex, family = binomial, data = df, weights = Weighting)\n",
       "\n",
       "Deviance Residuals: \n",
       "    Min       1Q   Median       3Q      Max  \n",
       "-4.0561  -1.1288  -0.7921  -0.4177   5.7049  \n",
       "\n",
       "Coefficients:\n",
       "                        Estimate Std. Error z value Pr(>|z|)    \n",
       "(Intercept)            -5.157754   0.512317 -10.068  < 2e-16 ***\n",
       "Age                     0.022073   0.005012   4.404 1.06e-05 ***\n",
       "Income_ZipQ2            1.840618   0.377572   4.875 1.09e-06 ***\n",
       "Income_ZipQ3            1.097113   0.411164   2.668  0.00762 ** \n",
       "Income_ZipQ4 (highest)  1.327714   0.412467   3.219  0.00129 ** \n",
       "Insurance              -0.188857   0.239288  -0.789  0.42997    \n",
       "Number_Procedures       0.618492   0.057358  10.783  < 2e-16 ***\n",
       "Sex                    -0.526690   0.216666  -2.431  0.01506 *  \n",
       "---\n",
       "Signif. codes:  0 '***' 0.001 '**' 0.01 '*' 0.05 '.' 0.1 ' ' 1\n",
       "\n",
       "(Dispersion parameter for binomial family taken to be 1)\n",
       "\n",
       "    Null deviance: 832.12  on 191  degrees of freedom\n",
       "Residual deviance: 631.75  on 184  degrees of freedom\n",
       "  (4 observations deleted due to missingness)\n",
       "AIC: 647.75\n",
       "\n",
       "Number of Fisher Scoring iterations: 5\n"
      ]
     },
     "metadata": {},
     "output_type": "display_data"
    },
    {
     "name": "stdout",
     "output_type": "stream",
     "text": [
      "Pearson Goodness of Fit Test\n",
      " Null Hypothesis: The model fits.\n",
      " Alternative Hypothesis: The model does not fit.\n",
      "\n",
      " Pearson chi-squared for hp_0:  196 \n",
      " Degrees of freedom for hp_0:  195 \n",
      " P-value for hp_0:  0.4664079 \n",
      "\n",
      " ---\n",
      " Failed to reject Null Hypothesis. The model fits.\n",
      " ---"
     ]
    },
    {
     "data": {
      "text/html": [
       "''"
      ],
      "text/latex": [
       "''"
      ],
      "text/markdown": [
       "''"
      ],
      "text/plain": [
       "[1] \"\""
      ]
     },
     "metadata": {},
     "output_type": "display_data"
    },
    {
     "name": "stdout",
     "output_type": "stream",
     "text": [
      "Pearson Goodness of Fit Test\n",
      " Null Hypothesis: The model fits.\n",
      " Alternative Hypothesis: The model does not fit.\n",
      "\n",
      " Pearson chi-squared for hp_1:  847.29 \n",
      " Degrees of freedom for hp_1:  188 \n",
      " P-value for hp_1:  0 \n",
      "\n",
      " ---\n",
      " Null Hypothesis is rejected. The model does not fit.\n",
      " ---"
     ]
    }
   ],
   "source": [
    "# Setting cutoff to 75,000\n",
    "\n",
    "cut <- round(\n",
    "    75000     # Hand-picked Cutoff\n",
    "    ,0)\n",
    "\n",
    "df$charges <- ifelse(df$HospCharges<cut, 0, 1)\n",
    "\n",
    "paste('HospCharges cutoff: ',cut)\n",
    "\n",
    "hp_0 <- glm(charges ~ 1, data = df, family = binomial)\n",
    "hp_1 <- glm(charges ~ \n",
    "            Age  + \n",
    "            Income_Zip  + \n",
    "            Insurance  + \n",
    "            #Number_Diagnoses  + \n",
    "            Number_Procedures  + \n",
    "            #Race  + \n",
    "            Sex   \n",
    "            #Urban_Rural\n",
    "            , \n",
    "            data=df, family = binomial, weights = Weighting\n",
    "            )\n",
    "\n",
    "pred_percent(hp_0,df['charges'],'hp_0')\n",
    "pred_percent(hp_1,df['charges'],'hp_1')\n",
    "\n",
    "summary(hp_0)\n",
    "summary(hp_1)\n",
    "\n",
    "\n",
    "chi_log(hp_0, df, name = 'hp_0')\n",
    "paste('')\n",
    "\n",
    "chi_log(hp_1, df, name = 'hp_1')\n",
    "\n"
   ]
  },
  {
   "cell_type": "code",
   "execution_count": 34,
   "metadata": {
    "vscode": {
     "languageId": "r"
    }
   },
   "outputs": [
    {
     "data": {
      "text/html": [
       "<span style=white-space:pre-wrap>'HospCharges cutoff:  53585'</span>"
      ],
      "text/latex": [
       "'HospCharges cutoff:  53585'"
      ],
      "text/markdown": [
       "<span style=white-space:pre-wrap>'HospCharges cutoff:  53585'</span>"
      ],
      "text/plain": [
       "[1] \"HospCharges cutoff:  53585\""
      ]
     },
     "metadata": {},
     "output_type": "display_data"
    },
    {
     "data": {
      "text/html": [
       "<span style=white-space:pre-wrap>'Accuracy for  q3_0 :  75 %'</span>"
      ],
      "text/latex": [
       "'Accuracy for  q3\\_0 :  75 \\%'"
      ],
      "text/markdown": [
       "<span style=white-space:pre-wrap>'Accuracy for  q3_0 :  75 %'</span>"
      ],
      "text/plain": [
       "[1] \"Accuracy for  q3_0 :  75 %\""
      ]
     },
     "metadata": {},
     "output_type": "display_data"
    },
    {
     "data": {
      "text/html": [
       "<span style=white-space:pre-wrap>'Accuracy for  q3_1 :  79.59 %'</span>"
      ],
      "text/latex": [
       "'Accuracy for  q3\\_1 :  79.59 \\%'"
      ],
      "text/markdown": [
       "<span style=white-space:pre-wrap>'Accuracy for  q3_1 :  79.59 %'</span>"
      ],
      "text/plain": [
       "[1] \"Accuracy for  q3_1 :  79.59 %\""
      ]
     },
     "metadata": {},
     "output_type": "display_data"
    },
    {
     "data": {
      "text/plain": [
       "\n",
       "Call:\n",
       "glm(formula = charges ~ 1, family = binomial, data = df)\n",
       "\n",
       "Deviance Residuals: \n",
       "    Min       1Q   Median       3Q      Max  \n",
       "-0.7585  -0.7585  -0.7585  -0.1526   1.6651  \n",
       "\n",
       "Coefficients:\n",
       "            Estimate Std. Error z value Pr(>|z|)    \n",
       "(Intercept)   -1.099      0.165   -6.66 2.74e-11 ***\n",
       "---\n",
       "Signif. codes:  0 '***' 0.001 '**' 0.01 '*' 0.05 '.' 0.1 ' ' 1\n",
       "\n",
       "(Dispersion parameter for binomial family taken to be 1)\n",
       "\n",
       "    Null deviance: 220.44  on 195  degrees of freedom\n",
       "Residual deviance: 220.44  on 195  degrees of freedom\n",
       "AIC: 222.44\n",
       "\n",
       "Number of Fisher Scoring iterations: 4\n"
      ]
     },
     "metadata": {},
     "output_type": "display_data"
    },
    {
     "data": {
      "text/plain": [
       "\n",
       "Call:\n",
       "glm(formula = charges ~ Age + Insurance + Number_Diagnoses + \n",
       "    Number_Procedures + Sex + Urban_Rural, family = binomial, \n",
       "    data = df, weights = Weighting)\n",
       "\n",
       "Deviance Residuals: \n",
       "   Min      1Q  Median      3Q     Max  \n",
       "-4.935  -1.452  -1.040  -0.397   5.172  \n",
       "\n",
       "Coefficients:\n",
       "                   Estimate Std. Error z value Pr(>|z|)    \n",
       "(Intercept)       -4.448931   0.392903 -11.323  < 2e-16 ***\n",
       "Age                0.022870   0.004547   5.029 4.92e-07 ***\n",
       "Insurance          0.644630   0.207201   3.111  0.00186 ** \n",
       "Number_Diagnoses   0.074713   0.014473   5.162 2.44e-07 ***\n",
       "Number_Procedures  0.567181   0.051452  11.024  < 2e-16 ***\n",
       "Sex               -0.447618   0.173706  -2.577  0.00997 ** \n",
       "Urban_Rural        0.253327   0.232175   1.091  0.27523    \n",
       "---\n",
       "Signif. codes:  0 '***' 0.001 '**' 0.01 '*' 0.05 '.' 0.1 ' ' 1\n",
       "\n",
       "(Dispersion parameter for binomial family taken to be 1)\n",
       "\n",
       "    Null deviance: 1088.23  on 194  degrees of freedom\n",
       "Residual deviance:  860.34  on 188  degrees of freedom\n",
       "  (1 observation deleted due to missingness)\n",
       "AIC: 874.34\n",
       "\n",
       "Number of Fisher Scoring iterations: 5\n"
      ]
     },
     "metadata": {},
     "output_type": "display_data"
    },
    {
     "name": "stdout",
     "output_type": "stream",
     "text": [
      "Pearson Goodness of Fit Test\n",
      " Null Hypothesis: The model fits.\n",
      " Alternative Hypothesis: The model does not fit.\n",
      "\n",
      " Pearson chi-squared for q3_0:  196 \n",
      " Degrees of freedom for q3_0:  195 \n",
      " P-value for q3_0:  0.4664079 \n",
      "\n",
      " ---\n",
      " Failed to reject Null Hypothesis. The model fits.\n",
      " ---"
     ]
    },
    {
     "data": {
      "text/html": [
       "''"
      ],
      "text/latex": [
       "''"
      ],
      "text/markdown": [
       "''"
      ],
      "text/plain": [
       "[1] \"\""
      ]
     },
     "metadata": {},
     "output_type": "display_data"
    },
    {
     "name": "stdout",
     "output_type": "stream",
     "text": [
      "Pearson Goodness of Fit Test\n",
      " Null Hypothesis: The model fits.\n",
      " Alternative Hypothesis: The model does not fit.\n",
      "\n",
      " Pearson chi-squared for q3_1:  928.99 \n",
      " Degrees of freedom for q3_1:  189 \n",
      " P-value for q3_1:  0 \n",
      "\n",
      " ---\n",
      " Null Hypothesis is rejected. The model does not fit.\n",
      " ---"
     ]
    }
   ],
   "source": [
    "# Setting cutoff to 3rd Q.\n",
    "\n",
    "cut <- round(\n",
    "    summary(df$HospCharges)[[5]] # 75th percentile\n",
    "    ,0)\n",
    "\n",
    "df$charges <- ifelse(df$HospCharges<cut, 0, 1)\n",
    "paste('HospCharges cutoff: ',cut)\n",
    "\n",
    "\n",
    "q3_0 <- glm(charges ~ 1, data = df, family = binomial)\n",
    "q3_1 <- glm(charges ~ \n",
    "            Age  + \n",
    "            #Income_Zip  + \n",
    "            Insurance  + \n",
    "            Number_Diagnoses  + \n",
    "            Number_Procedures  + \n",
    "            #Race  + \n",
    "            Sex  + \n",
    "            Urban_Rural\n",
    "            , \n",
    "            data=df, family = binomial, weights = Weighting\n",
    "            )\n",
    "\n",
    "pred_percent(q3_0,df['charges'],'q3_0')\n",
    "pred_percent(q3_1,df['charges'],'q3_1')\n",
    "\n",
    "summary(q3_0)\n",
    "summary(q3_1)\n",
    "\n",
    "\n",
    "chi_log(q3_0, df, name = 'q3_0')\n",
    "paste('')\n",
    "\n",
    "chi_log(q3_1, df, name = 'q3_1')\n",
    "\n",
    "\n"
   ]
  },
  {
   "cell_type": "code",
   "execution_count": 35,
   "metadata": {
    "vscode": {
     "languageId": "r"
    }
   },
   "outputs": [
    {
     "data": {
      "text/html": [
       "<span style=white-space:pre-wrap>'HospCharges cutoff:  44774'</span>"
      ],
      "text/latex": [
       "'HospCharges cutoff:  44774'"
      ],
      "text/markdown": [
       "<span style=white-space:pre-wrap>'HospCharges cutoff:  44774'</span>"
      ],
      "text/plain": [
       "[1] \"HospCharges cutoff:  44774\""
      ]
     },
     "metadata": {},
     "output_type": "display_data"
    },
    {
     "data": {
      "text/html": [
       "<span style=white-space:pre-wrap>'Accuracy for  mean_cut_0 :  68.37 %'</span>"
      ],
      "text/latex": [
       "'Accuracy for  mean\\_cut\\_0 :  68.37 \\%'"
      ],
      "text/markdown": [
       "<span style=white-space:pre-wrap>'Accuracy for  mean_cut_0 :  68.37 %'</span>"
      ],
      "text/plain": [
       "[1] \"Accuracy for  mean_cut_0 :  68.37 %\""
      ]
     },
     "metadata": {},
     "output_type": "display_data"
    },
    {
     "data": {
      "text/html": [
       "<span style=white-space:pre-wrap>'Accuracy for  mean_cut_1 :  75.51 %'</span>"
      ],
      "text/latex": [
       "'Accuracy for  mean\\_cut\\_1 :  75.51 \\%'"
      ],
      "text/markdown": [
       "<span style=white-space:pre-wrap>'Accuracy for  mean_cut_1 :  75.51 %'</span>"
      ],
      "text/plain": [
       "[1] \"Accuracy for  mean_cut_1 :  75.51 %\""
      ]
     },
     "metadata": {},
     "output_type": "display_data"
    },
    {
     "data": {
      "text/plain": [
       "\n",
       "Call:\n",
       "glm(formula = charges ~ 1, family = binomial, data = df)\n",
       "\n",
       "Deviance Residuals: \n",
       "    Min       1Q   Median       3Q      Max  \n",
       "-0.8721  -0.8721  -0.8721   1.5172   1.5172  \n",
       "\n",
       "Coefficients:\n",
       "            Estimate Std. Error z value Pr(>|z|)    \n",
       "(Intercept)  -0.7707     0.1536  -5.018 5.23e-07 ***\n",
       "---\n",
       "Signif. codes:  0 '***' 0.001 '**' 0.01 '*' 0.05 '.' 0.1 ' ' 1\n",
       "\n",
       "(Dispersion parameter for binomial family taken to be 1)\n",
       "\n",
       "    Null deviance: 244.64  on 195  degrees of freedom\n",
       "Residual deviance: 244.64  on 195  degrees of freedom\n",
       "AIC: 246.64\n",
       "\n",
       "Number of Fisher Scoring iterations: 4\n"
      ]
     },
     "metadata": {},
     "output_type": "display_data"
    },
    {
     "data": {
      "text/plain": [
       "\n",
       "Call:\n",
       "glm(formula = charges ~ Age + Insurance + Number_Procedures + \n",
       "    Sex + Urban_Rural, family = binomial, data = df, weights = Weighting)\n",
       "\n",
       "Deviance Residuals: \n",
       "   Min      1Q  Median      3Q     Max  \n",
       "-4.508  -1.683  -1.154   1.963   4.724  \n",
       "\n",
       "Coefficients:\n",
       "                   Estimate Std. Error z value Pr(>|z|)    \n",
       "(Intercept)       -3.387035   0.320203 -10.578   <2e-16 ***\n",
       "Age                0.032438   0.003832   8.464   <2e-16 ***\n",
       "Insurance          0.008891   0.179936   0.049   0.9606    \n",
       "Number_Procedures  0.569221   0.049908  11.405   <2e-16 ***\n",
       "Sex               -0.325909   0.159679  -2.041   0.0412 *  \n",
       "Urban_Rural       -0.027445   0.217315  -0.126   0.8995    \n",
       "---\n",
       "Signif. codes:  0 '***' 0.001 '**' 0.01 '*' 0.05 '.' 0.1 ' ' 1\n",
       "\n",
       "(Dispersion parameter for binomial family taken to be 1)\n",
       "\n",
       "    Null deviance: 1211.61  on 194  degrees of freedom\n",
       "Residual deviance:  983.77  on 189  degrees of freedom\n",
       "  (1 observation deleted due to missingness)\n",
       "AIC: 995.77\n",
       "\n",
       "Number of Fisher Scoring iterations: 5\n"
      ]
     },
     "metadata": {},
     "output_type": "display_data"
    },
    {
     "name": "stdout",
     "output_type": "stream",
     "text": [
      "Pearson Goodness of Fit Test\n",
      " Null Hypothesis: The model fits.\n",
      " Alternative Hypothesis: The model does not fit.\n",
      "\n",
      " Pearson chi-squared for mean_cut_0:  196 \n",
      " Degrees of freedom for mean_cut_0:  195 \n",
      " P-value for mean_cut_0:  0.4664079 \n",
      "\n",
      " ---\n",
      " Failed to reject Null Hypothesis. The model fits.\n",
      " ---"
     ]
    },
    {
     "data": {
      "text/html": [
       "''"
      ],
      "text/latex": [
       "''"
      ],
      "text/markdown": [
       "''"
      ],
      "text/plain": [
       "[1] \"\""
      ]
     },
     "metadata": {},
     "output_type": "display_data"
    },
    {
     "name": "stdout",
     "output_type": "stream",
     "text": [
      "Pearson Goodness of Fit Test\n",
      " Null Hypothesis: The model fits.\n",
      " Alternative Hypothesis: The model does not fit.\n",
      "\n",
      " Pearson chi-squared for mean_cut_1:  924.4 \n",
      " Degrees of freedom for mean_cut_1:  190 \n",
      " P-value for mean_cut_1:  0 \n",
      "\n",
      " ---\n",
      " Null Hypothesis is rejected. The model does not fit.\n",
      " ---"
     ]
    }
   ],
   "source": [
    "# Setting cutoff to HospCharges mean\n",
    "\n",
    "cut <- round(\n",
    "    summary(df$HospCharges)[[4]] # Mean\n",
    "    ,0)\n",
    "\n",
    "df$charges <- ifelse(df$HospCharges<=cut, 0, 1)\n",
    "paste('HospCharges cutoff: ',cut)\n",
    "\n",
    "\n",
    "mean_cut_0 <- glm(charges ~ 1, data = df, family = binomial)\n",
    "mean_cut_1 <- glm(charges ~ \n",
    "            Age  + \n",
    "            #Income_Zip  + \n",
    "            Insurance  + \n",
    "            #Number_Diagnoses  + \n",
    "            Number_Procedures  + \n",
    "            #Race  + \n",
    "            Sex  + \n",
    "            Urban_Rural\n",
    "            , \n",
    "            data=df, family = binomial, weights = Weighting\n",
    "            )\n",
    "\n",
    "pred_percent(mean_cut_0,df['charges'],'mean_cut_0')\n",
    "pred_percent(mean_cut_1,df['charges'],'mean_cut_1')\n",
    "\n",
    "summary(mean_cut_0)\n",
    "summary(mean_cut_1)\n",
    "\n",
    "\n",
    "chi_log(mean_cut_0, df, name = 'mean_cut_0')\n",
    "paste('')\n",
    "\n",
    "chi_log(mean_cut_1, df, name = 'mean_cut_1')\n",
    "\n"
   ]
  },
  {
   "cell_type": "code",
   "execution_count": 36,
   "metadata": {
    "vscode": {
     "languageId": "r"
    }
   },
   "outputs": [
    {
     "data": {
      "text/plain": [
       "$u_fence_0\n",
       "\n",
       "Call:  glm(formula = charges ~ 1, family = binomial, data = df)\n",
       "\n",
       "Coefficients:\n",
       "(Intercept)  \n",
       "     -2.354  \n",
       "\n",
       "Degrees of Freedom: 195 Total (i.e. Null);  195 Residual\n",
       "Null Deviance:\t    115.6 \n",
       "Residual Deviance: 115.6 \tAIC: 117.6\n",
       "\n",
       "$u_fence_1\n",
       "\n",
       "Call:  glm(formula = charges ~ Age + Income_Zip + Race + Sex + Urban_Rural, \n",
       "    family = binomial, data = df, weights = Weighting)\n",
       "\n",
       "Coefficients:\n",
       "           (Intercept)                     Age            Income_ZipQ2  \n",
       "             -3.388755                0.008196                1.387752  \n",
       "          Income_ZipQ3  Income_ZipQ4 (highest)                    Race  \n",
       "              1.263436                0.652667               -0.044355  \n",
       "                   Sex             Urban_Rural  \n",
       "             -0.538223              -17.128174  \n",
       "\n",
       "Degrees of Freedom: 189 Total (i.e. Null);  182 Residual\n",
       "  (6 observations deleted due to missingness)\n",
       "Null Deviance:\t    549 \n",
       "Residual Deviance: 492 \tAIC: 508\n",
       "\n",
       "$mean_sd_0\n",
       "\n",
       "Call:  glm(formula = charges ~ 1, family = binomial, data = df)\n",
       "\n",
       "Coefficients:\n",
       "(Intercept)  \n",
       "     -2.354  \n",
       "\n",
       "Degrees of Freedom: 195 Total (i.e. Null);  195 Residual\n",
       "Null Deviance:\t    115.6 \n",
       "Residual Deviance: 115.6 \tAIC: 117.6\n",
       "\n",
       "$mean_sd_1\n",
       "\n",
       "Call:  glm(formula = charges ~ Age + Insurance + Number_Diagnoses + \n",
       "    Number_Procedures + Sex + Urban_Rural, family = binomial, \n",
       "    data = df, weights = Weighting)\n",
       "\n",
       "Coefficients:\n",
       "      (Intercept)                Age          Insurance   Number_Diagnoses  \n",
       "          -5.7327             0.0104             0.9200             0.1117  \n",
       "Number_Procedures                Sex        Urban_Rural  \n",
       "           0.6033            -0.7714            -1.1977  \n",
       "\n",
       "Degrees of Freedom: 194 Total (i.e. Null);  188 Residual\n",
       "  (1 observation deleted due to missingness)\n",
       "Null Deviance:\t    577.1 \n",
       "Residual Deviance: 422.8 \tAIC: 436.8\n",
       "\n",
       "$hp_0\n",
       "\n",
       "Call:  glm(formula = charges ~ 1, family = binomial, data = df)\n",
       "\n",
       "Coefficients:\n",
       "(Intercept)  \n",
       "     -1.672  \n",
       "\n",
       "Degrees of Freedom: 195 Total (i.e. Null);  195 Residual\n",
       "Null Deviance:\t    171.2 \n",
       "Residual Deviance: 171.2 \tAIC: 173.2\n",
       "\n",
       "$hp_1\n",
       "\n",
       "Call:  glm(formula = charges ~ Age + Income_Zip + Insurance + Number_Procedures + \n",
       "    Sex, family = binomial, data = df, weights = Weighting)\n",
       "\n",
       "Coefficients:\n",
       "           (Intercept)                     Age            Income_ZipQ2  \n",
       "              -5.15775                 0.02207                 1.84062  \n",
       "          Income_ZipQ3  Income_ZipQ4 (highest)               Insurance  \n",
       "               1.09711                 1.32771                -0.18886  \n",
       "     Number_Procedures                     Sex  \n",
       "               0.61849                -0.52669  \n",
       "\n",
       "Degrees of Freedom: 191 Total (i.e. Null);  184 Residual\n",
       "  (4 observations deleted due to missingness)\n",
       "Null Deviance:\t    832.1 \n",
       "Residual Deviance: 631.8 \tAIC: 647.8\n",
       "\n",
       "$q3_0\n",
       "\n",
       "Call:  glm(formula = charges ~ 1, family = binomial, data = df)\n",
       "\n",
       "Coefficients:\n",
       "(Intercept)  \n",
       "     -1.099  \n",
       "\n",
       "Degrees of Freedom: 195 Total (i.e. Null);  195 Residual\n",
       "Null Deviance:\t    220.4 \n",
       "Residual Deviance: 220.4 \tAIC: 222.4\n",
       "\n",
       "$q3_1\n",
       "\n",
       "Call:  glm(formula = charges ~ Age + Insurance + Number_Diagnoses + \n",
       "    Number_Procedures + Sex + Urban_Rural, family = binomial, \n",
       "    data = df, weights = Weighting)\n",
       "\n",
       "Coefficients:\n",
       "      (Intercept)                Age          Insurance   Number_Diagnoses  \n",
       "         -4.44893            0.02287            0.64463            0.07471  \n",
       "Number_Procedures                Sex        Urban_Rural  \n",
       "          0.56718           -0.44762            0.25333  \n",
       "\n",
       "Degrees of Freedom: 194 Total (i.e. Null);  188 Residual\n",
       "  (1 observation deleted due to missingness)\n",
       "Null Deviance:\t    1088 \n",
       "Residual Deviance: 860.3 \tAIC: 874.3\n",
       "\n",
       "$mean_cut_0\n",
       "\n",
       "Call:  glm(formula = charges ~ 1, family = binomial, data = df)\n",
       "\n",
       "Coefficients:\n",
       "(Intercept)  \n",
       "    -0.7707  \n",
       "\n",
       "Degrees of Freedom: 195 Total (i.e. Null);  195 Residual\n",
       "Null Deviance:\t    244.6 \n",
       "Residual Deviance: 244.6 \tAIC: 246.6\n",
       "\n",
       "$mean_cut_1\n",
       "\n",
       "Call:  glm(formula = charges ~ Age + Insurance + Number_Procedures + \n",
       "    Sex + Urban_Rural, family = binomial, data = df, weights = Weighting)\n",
       "\n",
       "Coefficients:\n",
       "      (Intercept)                Age          Insurance  Number_Procedures  \n",
       "        -3.387035           0.032438           0.008891           0.569221  \n",
       "              Sex        Urban_Rural  \n",
       "        -0.325909          -0.027445  \n",
       "\n",
       "Degrees of Freedom: 194 Total (i.e. Null);  189 Residual\n",
       "  (1 observation deleted due to missingness)\n",
       "Null Deviance:\t    1212 \n",
       "Residual Deviance: 983.8 \tAIC: 995.8\n"
      ]
     },
     "metadata": {},
     "output_type": "display_data"
    }
   ],
   "source": [
    "compare_models(u_fence_0 ,u_fence_1 ,\n",
    "mean_sd_0,mean_sd_1,\n",
    "hp_0,hp_1,\n",
    "q3_0,q3_1,\n",
    "mean_cut_0,mean_cut_1)"
   ]
  },
  {
   "cell_type": "markdown",
   "metadata": {},
   "source": [
    "Accuracy for  u_fence_0 :  91.33 %\n",
    "\n",
    "Accuracy for  u_fence_1 :  91.33 %\n",
    "\n",
    "Accuracy for  mean_sd_0 :  91.33 %\n",
    "\n",
    "Accuracy for  mean_sd_1 :  92.86 %\n",
    "\n",
    "Accuracy for  hp_0 :  84.18 %\n",
    "\n",
    "Accuracy for  hp_1 :  86.73 %\n",
    "\n",
    "Accuracy for  q3_0 :  75 %\n",
    "\n",
    "Accuracy for  q3_1 :  79.59 %\n",
    "\n",
    "Accuracy for  mean_cut_0 :  68.37 %\n",
    "\n",
    "Accuracy for  mean_cut_1 :  75.51 %"
   ]
  },
  {
   "cell_type": "markdown",
   "metadata": {},
   "source": [
    "---"
   ]
  },
  {
   "cell_type": "markdown",
   "metadata": {},
   "source": [
    "3. Choose one model as your best fit model, interpret the findings and describe what the regression coefficients (odds ratios) mean."
   ]
  },
  {
   "cell_type": "markdown",
   "metadata": {},
   "source": [
    "The cutoffs that I tried ranged from the HospCharges mean to the HospCharges upper fence, with a slightly different interpretation for each. For the higher cutoffs, it would be something like \"what are the factors that lead to an individual having exceptionally high hospital charges?\" For cutoffs at or around the mean, the question is \"what are the factors that lead to an individual having higher-than-average hospital charges?\"\n",
    "\n",
    "I wanted to choose the model that was the most meaningful. The upper-fence cutoff and the mean+sd cutoff models both had high accuracies that didn't differ much from the intercept-only models. This made sense because there were only around 17 individuals with such high charges; the intercept could easily account for this.\n",
    "\n",
    "In contrast, models with lower cutoffs had higher increases in accuracy, with the mean cutoff model improving the most at 7%. While the improvement is exciting, it should be taken with a grain of salt. The mean cutoff model's AIC increased from 247 in the intercept model to 996 in the variable model. Moreover, this model was not a good fit. \n",
    "\n",
    "Each model had significant flaws, and I wouldn't consider any of them reliable. I will choose the mean cutoff model as the best fit for our purposes due to the increase in accuracy, but I want to include a disclaimer that none of the models should be considered good-fits."
   ]
  },
  {
   "cell_type": "code",
   "execution_count": 37,
   "metadata": {
    "vscode": {
     "languageId": "r"
    }
   },
   "outputs": [
    {
     "name": "stderr",
     "output_type": "stream",
     "text": [
      "Waiting for profiling to be done...\n",
      "\n",
      "Waiting for profiling to be done...\n",
      "\n"
     ]
    },
    {
     "data": {
      "text/html": [
       "<table class=\"dataframe\">\n",
       "<caption>A data.frame: 6 × 3</caption>\n",
       "<thead>\n",
       "\t<tr><th></th><th scope=col>Odds_Ratio</th><th scope=col>CI_Lower</th><th scope=col>CI_Upper</th></tr>\n",
       "\t<tr><th></th><th scope=col>&lt;dbl&gt;</th><th scope=col>&lt;dbl&gt;</th><th scope=col>&lt;dbl&gt;</th></tr>\n",
       "</thead>\n",
       "<tbody>\n",
       "\t<tr><th scope=row>(Intercept)</th><td>0.03380878</td><td>0.01763482</td><td>0.06197244</td></tr>\n",
       "\t<tr><th scope=row>Age</th><td>1.03296968</td><td>1.02546345</td><td>1.04100397</td></tr>\n",
       "\t<tr><th scope=row>Insurance</th><td>1.00893106</td><td>0.70852834</td><td>1.43565656</td></tr>\n",
       "\t<tr><th scope=row>Number_Procedures</th><td>1.76689062</td><td>1.60556913</td><td>1.95291751</td></tr>\n",
       "\t<tr><th scope=row>Sex</th><td>0.72187092</td><td>0.52748658</td><td>0.98693577</td></tr>\n",
       "\t<tr><th scope=row>Urban_Rural</th><td>0.97292798</td><td>0.63127726</td><td>1.48207874</td></tr>\n",
       "</tbody>\n",
       "</table>\n"
      ],
      "text/latex": [
       "A data.frame: 6 × 3\n",
       "\\begin{tabular}{r|lll}\n",
       "  & Odds\\_Ratio & CI\\_Lower & CI\\_Upper\\\\\n",
       "  & <dbl> & <dbl> & <dbl>\\\\\n",
       "\\hline\n",
       "\t(Intercept) & 0.03380878 & 0.01763482 & 0.06197244\\\\\n",
       "\tAge & 1.03296968 & 1.02546345 & 1.04100397\\\\\n",
       "\tInsurance & 1.00893106 & 0.70852834 & 1.43565656\\\\\n",
       "\tNumber\\_Procedures & 1.76689062 & 1.60556913 & 1.95291751\\\\\n",
       "\tSex & 0.72187092 & 0.52748658 & 0.98693577\\\\\n",
       "\tUrban\\_Rural & 0.97292798 & 0.63127726 & 1.48207874\\\\\n",
       "\\end{tabular}\n"
      ],
      "text/markdown": [
       "\n",
       "A data.frame: 6 × 3\n",
       "\n",
       "| <!--/--> | Odds_Ratio &lt;dbl&gt; | CI_Lower &lt;dbl&gt; | CI_Upper &lt;dbl&gt; |\n",
       "|---|---|---|---|\n",
       "| (Intercept) | 0.03380878 | 0.01763482 | 0.06197244 |\n",
       "| Age | 1.03296968 | 1.02546345 | 1.04100397 |\n",
       "| Insurance | 1.00893106 | 0.70852834 | 1.43565656 |\n",
       "| Number_Procedures | 1.76689062 | 1.60556913 | 1.95291751 |\n",
       "| Sex | 0.72187092 | 0.52748658 | 0.98693577 |\n",
       "| Urban_Rural | 0.97292798 | 0.63127726 | 1.48207874 |\n",
       "\n"
      ],
      "text/plain": [
       "                  Odds_Ratio CI_Lower   CI_Upper  \n",
       "(Intercept)       0.03380878 0.01763482 0.06197244\n",
       "Age               1.03296968 1.02546345 1.04100397\n",
       "Insurance         1.00893106 0.70852834 1.43565656\n",
       "Number_Procedures 1.76689062 1.60556913 1.95291751\n",
       "Sex               0.72187092 0.52748658 0.98693577\n",
       "Urban_Rural       0.97292798 0.63127726 1.48207874"
      ]
     },
     "metadata": {},
     "output_type": "display_data"
    }
   ],
   "source": [
    "data.frame(\n",
    "    Odds_Ratio = exp(coef(mean_cut_1)), \n",
    "    CI_Lower = exp(confint(mean_cut_1))[,1], \n",
    "    CI_Upper = exp(confint(mean_cut_1))[,2]\n",
    "    )"
   ]
  },
  {
   "cell_type": "markdown",
   "metadata": {},
   "source": [
    "The odds ratios that are considered significant according to their confidence intervals were:\n",
    "\n",
    "- Age. Each unit increase in age increased the odds of higher-than-average charges by 3%\n",
    "\n",
    "- Number_Procedures. Each additional procedure increased odds of higher-than-average charges by 77%\n",
    "\n",
    "- Sex. Being female reduced odds of higher-than-average charges by 28%\n",
    "\n",
    "- Urban_Rural. Living in a rural area reduced odds of higher-than-average charges by 3%"
   ]
  },
  {
   "cell_type": "markdown",
   "metadata": {},
   "source": [
    "---"
   ]
  },
  {
   "cell_type": "markdown",
   "metadata": {},
   "source": [
    "## Answer this question:"
   ]
  },
  {
   "cell_type": "markdown",
   "metadata": {},
   "source": [
    "- When you did a linear regression model in Module 5, you used hospital charges as a continuous dependent variable, and here you used a categorical version of that same variable. How are the results of the two models similar and how do they differ? Describe different situations when you would use each of the models."
   ]
  },
  {
   "cell_type": "code",
   "execution_count": 38,
   "metadata": {
    "vscode": {
     "languageId": "r"
    }
   },
   "outputs": [
    {
     "data": {
      "text/plain": [
       "\n",
       "Call:\n",
       "lm(formula = log(HospCharges) ~ Age + Insurance + Number_Diagnoses + \n",
       "    Number_Procedures + Race + Sex + Urban_Rural, data = df, \n",
       "    weights = Weighting)\n",
       "\n",
       "Weighted Residuals:\n",
       "    Min      1Q  Median      3Q     Max \n",
       "-4.2188 -1.0781  0.0377  0.9997  6.4487 \n",
       "\n",
       "Coefficients:\n",
       "                   Estimate Std. Error t value Pr(>|t|)    \n",
       "(Intercept)        8.535416   0.211434  40.369  < 2e-16 ***\n",
       "Age                0.013880   0.002708   5.126 7.46e-07 ***\n",
       "Insurance          0.198225   0.134046   1.479   0.1409    \n",
       "Number_Diagnoses   0.043216   0.010453   4.134 5.40e-05 ***\n",
       "Number_Procedures  0.247701   0.034816   7.115 2.42e-11 ***\n",
       "Race               0.232088   0.130606   1.777   0.0772 .  \n",
       "Sex               -0.169675   0.117070  -1.449   0.1489    \n",
       "Urban_Rural       -0.120736   0.159730  -0.756   0.4507    \n",
       "---\n",
       "Signif. codes:  0 '***' 0.001 '**' 0.01 '*' 0.05 '.' 0.1 ' ' 1\n",
       "\n",
       "Residual standard error: 1.792 on 184 degrees of freedom\n",
       "  (4 observations deleted due to missingness)\n",
       "Multiple R-squared:  0.4367,\tAdjusted R-squared:  0.4153 \n",
       "F-statistic: 20.38 on 7 and 184 DF,  p-value: < 2.2e-16\n"
      ]
     },
     "metadata": {},
     "output_type": "display_data"
    }
   ],
   "source": [
    "mod6 <- lm(log(HospCharges) ~ \n",
    "    Age + \n",
    "    #Income_Zip + \n",
    "    Insurance + \n",
    "    Number_Diagnoses + \n",
    "    Number_Procedures + \n",
    "    Race + \n",
    "    Sex + \n",
    "    Urban_Rural\n",
    "    ,data=df\n",
    "    ,weights = Weighting\n",
    ")\n",
    "summary(mod6)"
   ]
  },
  {
   "cell_type": "code",
   "execution_count": 39,
   "metadata": {
    "vscode": {
     "languageId": "r"
    }
   },
   "outputs": [
    {
     "data": {
      "text/html": [
       "<table class=\"dataframe\">\n",
       "<caption>A data.frame: 8 × 3</caption>\n",
       "<thead>\n",
       "\t<tr><th></th><th scope=col>Odds_Ratio</th><th scope=col>CI_Lower</th><th scope=col>CI_Upper</th></tr>\n",
       "\t<tr><th></th><th scope=col>&lt;dbl&gt;</th><th scope=col>&lt;dbl&gt;</th><th scope=col>&lt;dbl&gt;</th></tr>\n",
       "</thead>\n",
       "<tbody>\n",
       "\t<tr><th scope=row>(Intercept)</th><td>5091.9511178</td><td>3355.2087972</td><td>7727.675907</td></tr>\n",
       "\t<tr><th scope=row>Age</th><td>   1.0139765</td><td>   1.0085738</td><td>   1.019408</td></tr>\n",
       "\t<tr><th scope=row>Insurance</th><td>   1.2192366</td><td>   0.9359068</td><td>   1.588340</td></tr>\n",
       "\t<tr><th scope=row>Number_Diagnoses</th><td>   1.0441629</td><td>   1.0228505</td><td>   1.065919</td></tr>\n",
       "\t<tr><th scope=row>Number_Procedures</th><td>   1.2810768</td><td>   1.1960348</td><td>   1.372166</td></tr>\n",
       "\t<tr><th scope=row>Race</th><td>   1.2612312</td><td>   0.9747343</td><td>   1.631936</td></tr>\n",
       "\t<tr><th scope=row>Sex</th><td>   0.8439391</td><td>   0.6698860</td><td>   1.063216</td></tr>\n",
       "\t<tr><th scope=row>Urban_Rural</th><td>   0.8862682</td><td>   0.6466999</td><td>   1.214584</td></tr>\n",
       "</tbody>\n",
       "</table>\n"
      ],
      "text/latex": [
       "A data.frame: 8 × 3\n",
       "\\begin{tabular}{r|lll}\n",
       "  & Odds\\_Ratio & CI\\_Lower & CI\\_Upper\\\\\n",
       "  & <dbl> & <dbl> & <dbl>\\\\\n",
       "\\hline\n",
       "\t(Intercept) & 5091.9511178 & 3355.2087972 & 7727.675907\\\\\n",
       "\tAge &    1.0139765 &    1.0085738 &    1.019408\\\\\n",
       "\tInsurance &    1.2192366 &    0.9359068 &    1.588340\\\\\n",
       "\tNumber\\_Diagnoses &    1.0441629 &    1.0228505 &    1.065919\\\\\n",
       "\tNumber\\_Procedures &    1.2810768 &    1.1960348 &    1.372166\\\\\n",
       "\tRace &    1.2612312 &    0.9747343 &    1.631936\\\\\n",
       "\tSex &    0.8439391 &    0.6698860 &    1.063216\\\\\n",
       "\tUrban\\_Rural &    0.8862682 &    0.6466999 &    1.214584\\\\\n",
       "\\end{tabular}\n"
      ],
      "text/markdown": [
       "\n",
       "A data.frame: 8 × 3\n",
       "\n",
       "| <!--/--> | Odds_Ratio &lt;dbl&gt; | CI_Lower &lt;dbl&gt; | CI_Upper &lt;dbl&gt; |\n",
       "|---|---|---|---|\n",
       "| (Intercept) | 5091.9511178 | 3355.2087972 | 7727.675907 |\n",
       "| Age |    1.0139765 |    1.0085738 |    1.019408 |\n",
       "| Insurance |    1.2192366 |    0.9359068 |    1.588340 |\n",
       "| Number_Diagnoses |    1.0441629 |    1.0228505 |    1.065919 |\n",
       "| Number_Procedures |    1.2810768 |    1.1960348 |    1.372166 |\n",
       "| Race |    1.2612312 |    0.9747343 |    1.631936 |\n",
       "| Sex |    0.8439391 |    0.6698860 |    1.063216 |\n",
       "| Urban_Rural |    0.8862682 |    0.6466999 |    1.214584 |\n",
       "\n"
      ],
      "text/plain": [
       "                  Odds_Ratio   CI_Lower     CI_Upper   \n",
       "(Intercept)       5091.9511178 3355.2087972 7727.675907\n",
       "Age                  1.0139765    1.0085738    1.019408\n",
       "Insurance            1.2192366    0.9359068    1.588340\n",
       "Number_Diagnoses     1.0441629    1.0228505    1.065919\n",
       "Number_Procedures    1.2810768    1.1960348    1.372166\n",
       "Race                 1.2612312    0.9747343    1.631936\n",
       "Sex                  0.8439391    0.6698860    1.063216\n",
       "Urban_Rural          0.8862682    0.6466999    1.214584"
      ]
     },
     "metadata": {},
     "output_type": "display_data"
    }
   ],
   "source": [
    "# Best-fit continuous\n",
    "\n",
    "data.frame(\n",
    "    Odds_Ratio = exp(coef(mod6)), \n",
    "    CI_Lower = exp(confint(mod6))[,1], \n",
    "    CI_Upper = exp(confint(mod6))[,2]\n",
    "    )"
   ]
  },
  {
   "cell_type": "code",
   "execution_count": 40,
   "metadata": {
    "vscode": {
     "languageId": "r"
    }
   },
   "outputs": [
    {
     "name": "stderr",
     "output_type": "stream",
     "text": [
      "Waiting for profiling to be done...\n",
      "\n",
      "Waiting for profiling to be done...\n",
      "\n"
     ]
    },
    {
     "data": {
      "text/html": [
       "<table class=\"dataframe\">\n",
       "<caption>A data.frame: 6 × 3</caption>\n",
       "<thead>\n",
       "\t<tr><th></th><th scope=col>Odds_Ratio</th><th scope=col>CI_Lower</th><th scope=col>CI_Upper</th></tr>\n",
       "\t<tr><th></th><th scope=col>&lt;dbl&gt;</th><th scope=col>&lt;dbl&gt;</th><th scope=col>&lt;dbl&gt;</th></tr>\n",
       "</thead>\n",
       "<tbody>\n",
       "\t<tr><th scope=row>(Intercept)</th><td>0.03380878</td><td>0.01763482</td><td>0.06197244</td></tr>\n",
       "\t<tr><th scope=row>Age</th><td>1.03296968</td><td>1.02546345</td><td>1.04100397</td></tr>\n",
       "\t<tr><th scope=row>Insurance</th><td>1.00893106</td><td>0.70852834</td><td>1.43565656</td></tr>\n",
       "\t<tr><th scope=row>Number_Procedures</th><td>1.76689062</td><td>1.60556913</td><td>1.95291751</td></tr>\n",
       "\t<tr><th scope=row>Sex</th><td>0.72187092</td><td>0.52748658</td><td>0.98693577</td></tr>\n",
       "\t<tr><th scope=row>Urban_Rural</th><td>0.97292798</td><td>0.63127726</td><td>1.48207874</td></tr>\n",
       "</tbody>\n",
       "</table>\n"
      ],
      "text/latex": [
       "A data.frame: 6 × 3\n",
       "\\begin{tabular}{r|lll}\n",
       "  & Odds\\_Ratio & CI\\_Lower & CI\\_Upper\\\\\n",
       "  & <dbl> & <dbl> & <dbl>\\\\\n",
       "\\hline\n",
       "\t(Intercept) & 0.03380878 & 0.01763482 & 0.06197244\\\\\n",
       "\tAge & 1.03296968 & 1.02546345 & 1.04100397\\\\\n",
       "\tInsurance & 1.00893106 & 0.70852834 & 1.43565656\\\\\n",
       "\tNumber\\_Procedures & 1.76689062 & 1.60556913 & 1.95291751\\\\\n",
       "\tSex & 0.72187092 & 0.52748658 & 0.98693577\\\\\n",
       "\tUrban\\_Rural & 0.97292798 & 0.63127726 & 1.48207874\\\\\n",
       "\\end{tabular}\n"
      ],
      "text/markdown": [
       "\n",
       "A data.frame: 6 × 3\n",
       "\n",
       "| <!--/--> | Odds_Ratio &lt;dbl&gt; | CI_Lower &lt;dbl&gt; | CI_Upper &lt;dbl&gt; |\n",
       "|---|---|---|---|\n",
       "| (Intercept) | 0.03380878 | 0.01763482 | 0.06197244 |\n",
       "| Age | 1.03296968 | 1.02546345 | 1.04100397 |\n",
       "| Insurance | 1.00893106 | 0.70852834 | 1.43565656 |\n",
       "| Number_Procedures | 1.76689062 | 1.60556913 | 1.95291751 |\n",
       "| Sex | 0.72187092 | 0.52748658 | 0.98693577 |\n",
       "| Urban_Rural | 0.97292798 | 0.63127726 | 1.48207874 |\n",
       "\n"
      ],
      "text/plain": [
       "                  Odds_Ratio CI_Lower   CI_Upper  \n",
       "(Intercept)       0.03380878 0.01763482 0.06197244\n",
       "Age               1.03296968 1.02546345 1.04100397\n",
       "Insurance         1.00893106 0.70852834 1.43565656\n",
       "Number_Procedures 1.76689062 1.60556913 1.95291751\n",
       "Sex               0.72187092 0.52748658 0.98693577\n",
       "Urban_Rural       0.97292798 0.63127726 1.48207874"
      ]
     },
     "metadata": {},
     "output_type": "display_data"
    }
   ],
   "source": [
    "# Best-fit binomial\n",
    "\n",
    "data.frame(\n",
    "    Odds_Ratio = exp(coef(mean_cut_1)), \n",
    "    CI_Lower = exp(confint(mean_cut_1))[,1], \n",
    "    CI_Upper = exp(confint(mean_cut_1))[,2]\n",
    "    )"
   ]
  },
  {
   "cell_type": "markdown",
   "metadata": {},
   "source": [
    "The best-fit model from last week is pretty consistant with this week's model, with Number_Procedures and Sex having larger impacts on the binomial model compared to the continuous, and Urban_Rural having a larger impact in the continuous model compared to the binomial. \n",
    "\n",
    "I think that the better choice of model depends on what the user's intention is. Perhaps an insurer wants to build a predictive model to estimate the cost of each hospital visit - in this instance, the continuous model would be better. In contrast, if the insurer is not as interested in specific costs and is more interested in classifying a patient as \"high-risk\" for high hospital costs, the binomial logistic regression model might be more appropriate. \n",
    "\n",
    "Generally speaking, the biostatistician must consider the data and the desired end goals of a statistical analysis when deciding which model to pick. For efficiency's sake, a tech-savvy analyst might find a way to try many different models when analyzing data"
   ]
  }
 ],
 "metadata": {
  "kernelspec": {
   "display_name": "R",
   "language": "R",
   "name": "ir"
  },
  "language_info": {
   "codemirror_mode": "r",
   "file_extension": ".r",
   "mimetype": "text/x-r-source",
   "name": "R",
   "pygments_lexer": "r",
   "version": "4.2.2"
  },
  "orig_nbformat": 4
 },
 "nbformat": 4,
 "nbformat_minor": 2
}
