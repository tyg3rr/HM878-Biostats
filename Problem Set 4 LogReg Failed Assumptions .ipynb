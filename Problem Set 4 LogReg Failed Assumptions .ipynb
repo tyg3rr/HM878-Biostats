{
 "cells": [
  {
   "cell_type": "markdown",
   "metadata": {},
   "source": [
    "## Project #4: Binary Logistic Regression\n",
    "\n",
    "Lillian Jensen"
   ]
  },
  {
   "cell_type": "markdown",
   "metadata": {},
   "source": [
    "Data Notes: This data is the same data we used for Module 5 – Linear Regression. In Module 5, we used this data to practice linear regression using hospital charges ($$) as our dependent variable. In this module we are using the same data to model in-hospital mortality (a new variable added to the database), and hospital charge data as a binary dependent variable. A list of variables, descriptions, and codes is included on D2L (Logistic Regression Codebook.doc). You will need this information while you are doing your analyses and especially while you are interpreting your results. You are being asked to look at this data to help a researcher answer two questions: 1) What patient characteristics can be used to predict death in the hospital, and 2) What characteristics can be used to predict hospital charges that might be inflated. The investigator has no idea what they mean by “inflated charges” and says to make some recommendations."
   ]
  },
  {
   "cell_type": "markdown",
   "metadata": {},
   "source": [
    "---"
   ]
  },
  {
   "cell_type": "code",
   "execution_count": 41,
   "metadata": {
    "vscode": {
     "languageId": "r"
    }
   },
   "outputs": [],
   "source": [
    "# Setting up code environment\n",
    "suppressPackageStartupMessages(library(tidyverse))\n",
    "suppressPackageStartupMessages(library(comprehenr))\n",
    "suppressPackageStartupMessages(library(stringr))\n",
    "suppressPackageStartupMessages(library(rstatix))"
   ]
  },
  {
   "cell_type": "code",
   "execution_count": 116,
   "metadata": {
    "vscode": {
     "languageId": "r"
    }
   },
   "outputs": [
    {
     "data": {
      "text/html": [
       "<style>\n",
       ".list-inline {list-style: none; margin:0; padding: 0}\n",
       ".list-inline>li {display: inline-block}\n",
       ".list-inline>li:not(:last-child)::after {content: \"\\00b7\"; padding: 0 .5ex}\n",
       "</style>\n",
       "<ol class=list-inline><li>'HospCharges'</li><li>'Death'</li><li>'Age'</li><li>'Income_Zip'</li><li>'Insurance'</li><li>'Number_Diagnoses'</li><li>'Number_Procedures'</li><li>'Race'</li><li>'Sex'</li><li>'Urban_Rural'</li><li>'Weighting'</li></ol>\n"
      ],
      "text/latex": [
       "\\begin{enumerate*}\n",
       "\\item 'HospCharges'\n",
       "\\item 'Death'\n",
       "\\item 'Age'\n",
       "\\item 'Income\\_Zip'\n",
       "\\item 'Insurance'\n",
       "\\item 'Number\\_Diagnoses'\n",
       "\\item 'Number\\_Procedures'\n",
       "\\item 'Race'\n",
       "\\item 'Sex'\n",
       "\\item 'Urban\\_Rural'\n",
       "\\item 'Weighting'\n",
       "\\end{enumerate*}\n"
      ],
      "text/markdown": [
       "1. 'HospCharges'\n",
       "2. 'Death'\n",
       "3. 'Age'\n",
       "4. 'Income_Zip'\n",
       "5. 'Insurance'\n",
       "6. 'Number_Diagnoses'\n",
       "7. 'Number_Procedures'\n",
       "8. 'Race'\n",
       "9. 'Sex'\n",
       "10. 'Urban_Rural'\n",
       "11. 'Weighting'\n",
       "\n",
       "\n"
      ],
      "text/plain": [
       " [1] \"HospCharges\"       \"Death\"             \"Age\"              \n",
       " [4] \"Income_Zip\"        \"Insurance\"         \"Number_Diagnoses\" \n",
       " [7] \"Number_Procedures\" \"Race\"              \"Sex\"              \n",
       "[10] \"Urban_Rural\"       \"Weighting\"        "
      ]
     },
     "metadata": {},
     "output_type": "display_data"
    }
   ],
   "source": [
    "df <- read.csv(\"C:\\\\Users\\\\ljens\\\\Downloads\\\\HM 878 730 Clements - Logistic Regression R Data.csv\")\n",
    "colnames(df)"
   ]
  },
  {
   "cell_type": "code",
   "execution_count": 117,
   "metadata": {
    "vscode": {
     "languageId": "r"
    }
   },
   "outputs": [],
   "source": [
    "pred_percent <- function(mod, dep_var, name){\n",
    "    prob = predict(mod, type = 'response')\n",
    "    lab = ifelse(prob >= 0.5, 1, 0)\n",
    "    accuracy = mean(lab == {{dep_var}}, na.rm = T)\n",
    "\n",
    "    paste('Accuracy for ', name, ': ', round(accuracy*100,2), '%')\n",
    "}\n",
    "\n",
    "chi_log <- function(model, data, name = \"model\"){\n",
    "    residuals <- stats::residuals(model, type = \"pearson\")\n",
    "    pearson_chi_square <- sum(residuals^2)\n",
    "    df_ <- nrow(data) - length(coefficients(model))\n",
    "    p_value <- 1 - stats::pchisq(pearson_chi_square, df_)\n",
    "\n",
    "    cat(\n",
    "        \"Pearson Goodness of Fit Test\\n\",\n",
    "        \"Null Hypothesis: The model fits.\\n\",\n",
    "        \"Alternative Hypothesis: The model does not fit.\\n\\n\",\n",
    "        \"Pearson chi-squared for\", paste0(name, \": \"), round(pearson_chi_square, 2), \"\\n\",\n",
    "        \"Degrees of freedom for\", paste0(name, \": \"), df_, \"\\n\",\n",
    "        \"P-value for\", paste0(name, \": \"), p_value, \"\\n\\n\",\n",
    "        \"---\\n\",\n",
    "        ifelse(round(p_value, 2) < 0.05, \n",
    "        \"Null Hypothesis is rejected. The model does not fit.\\n\", \n",
    "        \"Failed to reject Null Hypothesis. The model fits.\\n\"),\n",
    "        \"---\"\n",
    "        )\n",
    "}\n",
    "\n",
    "fences <- function(x){\n",
    "    Q1 <- stats::quantile(x, 0.25)\n",
    "    Q3 <- stats::quantile(x, 0.75)\n",
    "    IQR_value <- stats::IQR(x)\n",
    "    k <- 1.5\n",
    "    lower_fence <- Q1 - k * IQR_value\n",
    "    upper_fence <- Q3 + k * IQR_value\n",
    "\n",
    "    return(\n",
    "        data.frame(Lower = lower_fence, Upper = upper_fence)\n",
    "    )\n",
    "}"
   ]
  },
  {
   "cell_type": "markdown",
   "metadata": {},
   "source": [
    "---"
   ]
  },
  {
   "cell_type": "markdown",
   "metadata": {},
   "source": [
    "## Regression 1 - Death"
   ]
  },
  {
   "cell_type": "markdown",
   "metadata": {},
   "source": [
    "1. Use the following variables from the dataset: Dependent variable: Death.  Independent variables: Age, Income_Zip, Insurance, Number_Diagnoses, Number_Procedures, Race, Sex, and Urban_Rural.  Review the Codebook to learn more about these variables. Run a binary logistic regression analysis with Death as the Dependent Variable. Make sure to tell me how you specified which categories of your independent variables are the reference categories. Be sure to review the Codebook for the Income variable for more information, and apply this technique to the other categorical independent variables. Fully interpret your model with the appropriate information as shown in the Demo video."
   ]
  },
  {
   "cell_type": "code",
   "execution_count": 118,
   "metadata": {
    "vscode": {
     "languageId": "r"
    }
   },
   "outputs": [],
   "source": [
    "df$Income_Zip <- factor(df$Income_Zip, levels = c(1,2,3,4), labels = c('Q1 (lowest)', 'Q2','Q3','Q4 (highest)'))"
   ]
  },
  {
   "cell_type": "code",
   "execution_count": 120,
   "metadata": {
    "vscode": {
     "languageId": "r"
    }
   },
   "outputs": [],
   "source": [
    "mod1 <- glm(Death ~ 1, data = df, family = binomial)\n",
    "mod2 <- glm(Death ~ Age  + Income_Zip  + Insurance  + Number_Diagnoses  + \n",
    "            Number_Procedures  + Race  + Sex  + Urban_Rural, \n",
    "            data=df, family = binomial\n",
    "            )"
   ]
  },
  {
   "cell_type": "code",
   "execution_count": 121,
   "metadata": {
    "vscode": {
     "languageId": "r"
    }
   },
   "outputs": [
    {
     "data": {
      "text/plain": [
       "\n",
       "Call:\n",
       "glm(formula = Death ~ 1, family = binomial, data = df)\n",
       "\n",
       "Deviance Residuals: \n",
       "    Min       1Q   Median       3Q      Max  \n",
       "-0.7673  -0.7673  -0.7673   1.6532   1.6532  \n",
       "\n",
       "Coefficients:\n",
       "            Estimate Std. Error z value Pr(>|z|)    \n",
       "(Intercept)  -1.0721     0.1622  -6.609 3.88e-11 ***\n",
       "---\n",
       "Signif. codes:  0 '***' 0.001 '**' 0.01 '*' 0.05 '.' 0.1 ' ' 1\n",
       "\n",
       "(Dispersion parameter for binomial family taken to be 1)\n",
       "\n",
       "    Null deviance: 227.1  on 199  degrees of freedom\n",
       "Residual deviance: 227.1  on 199  degrees of freedom\n",
       "AIC: 229.1\n",
       "\n",
       "Number of Fisher Scoring iterations: 4\n"
      ]
     },
     "metadata": {},
     "output_type": "display_data"
    }
   ],
   "source": [
    "summary(mod1)"
   ]
  },
  {
   "cell_type": "code",
   "execution_count": 122,
   "metadata": {
    "vscode": {
     "languageId": "r"
    }
   },
   "outputs": [
    {
     "data": {
      "text/plain": [
       "\n",
       "Call:\n",
       "glm(formula = Death ~ Age + Income_Zip + Insurance + Number_Diagnoses + \n",
       "    Number_Procedures + Race + Sex + Urban_Rural, family = binomial, \n",
       "    data = df)\n",
       "\n",
       "Deviance Residuals: \n",
       "    Min       1Q   Median       3Q      Max  \n",
       "-1.5532  -0.6211  -0.4487  -0.2961   2.2809  \n",
       "\n",
       "Coefficients:\n",
       "                        Estimate Std. Error z value Pr(>|z|)    \n",
       "(Intercept)            -2.666429   0.819293  -3.255  0.00114 ** \n",
       "Age                     0.004823   0.009432   0.511  0.60910    \n",
       "Income_ZipQ2            0.485204   0.560610   0.865  0.38677    \n",
       "Income_ZipQ3            0.940616   0.595635   1.579  0.11429    \n",
       "Income_ZipQ4 (highest)  1.227584   0.620474   1.978  0.04788 *  \n",
       "Insurance              -0.354555   0.437513  -0.810  0.41772    \n",
       "Number_Diagnoses       -0.034403   0.036171  -0.951  0.34154    \n",
       "Number_Procedures       0.065499   0.101202   0.647  0.51749    \n",
       "Race                    2.074423   0.415804   4.989 6.07e-07 ***\n",
       "Sex                     0.156445   0.388864   0.402  0.68745    \n",
       "Urban_Rural             0.154573   0.611362   0.253  0.80040    \n",
       "---\n",
       "Signif. codes:  0 '***' 0.001 '**' 0.01 '*' 0.05 '.' 0.1 ' ' 1\n",
       "\n",
       "(Dispersion parameter for binomial family taken to be 1)\n",
       "\n",
       "    Null deviance: 213.71  on 191  degrees of freedom\n",
       "Residual deviance: 176.74  on 181  degrees of freedom\n",
       "  (8 observations deleted due to missingness)\n",
       "AIC: 198.74\n",
       "\n",
       "Number of Fisher Scoring iterations: 5\n"
      ]
     },
     "metadata": {},
     "output_type": "display_data"
    }
   ],
   "source": [
    "summary(mod2)"
   ]
  },
  {
   "cell_type": "code",
   "execution_count": 123,
   "metadata": {
    "vscode": {
     "languageId": "r"
    }
   },
   "outputs": [
    {
     "data": {
      "text/html": [
       "<span style=white-space:pre-wrap>'Accuracy for  mod1 :  74.5 %'</span>"
      ],
      "text/latex": [
       "'Accuracy for  mod1 :  74.5 \\%'"
      ],
      "text/markdown": [
       "<span style=white-space:pre-wrap>'Accuracy for  mod1 :  74.5 %'</span>"
      ],
      "text/plain": [
       "[1] \"Accuracy for  mod1 :  74.5 %\""
      ]
     },
     "metadata": {},
     "output_type": "display_data"
    }
   ],
   "source": [
    "pred_percent(mod1,df['Death'],'mod1')"
   ]
  },
  {
   "cell_type": "code",
   "execution_count": 124,
   "metadata": {
    "vscode": {
     "languageId": "r"
    }
   },
   "outputs": [
    {
     "data": {
      "text/html": [
       "<span style=white-space:pre-wrap>'Accuracy for  mod2 :  69.5 %'</span>"
      ],
      "text/latex": [
       "'Accuracy for  mod2 :  69.5 \\%'"
      ],
      "text/markdown": [
       "<span style=white-space:pre-wrap>'Accuracy for  mod2 :  69.5 %'</span>"
      ],
      "text/plain": [
       "[1] \"Accuracy for  mod2 :  69.5 %\""
      ]
     },
     "metadata": {},
     "output_type": "display_data"
    }
   ],
   "source": [
    "pred_percent(mod2,df['Death'],'mod2')"
   ]
  },
  {
   "cell_type": "code",
   "execution_count": 125,
   "metadata": {
    "vscode": {
     "languageId": "r"
    }
   },
   "outputs": [
    {
     "name": "stdout",
     "output_type": "stream",
     "text": [
      "Pearson Goodness of Fit Test\n",
      " Null Hypothesis: The model fits.\n",
      " Alternative Hypothesis: The model does not fit.\n",
      "\n",
      " Pearson chi-squared for mod1:  200 \n",
      " Degrees of freedom for mod1:  199 \n",
      " P-value for mod1:  0.4667457 \n",
      "\n",
      " ---\n",
      " Failed to reject Null Hypothesis. The model fits.\n",
      " ---"
     ]
    }
   ],
   "source": [
    "chi_log(mod1, df, name = 'mod1')"
   ]
  },
  {
   "cell_type": "code",
   "execution_count": 126,
   "metadata": {
    "vscode": {
     "languageId": "r"
    }
   },
   "outputs": [
    {
     "name": "stdout",
     "output_type": "stream",
     "text": [
      "Pearson Goodness of Fit Test\n",
      " Null Hypothesis: The model fits.\n",
      " Alternative Hypothesis: The model does not fit.\n",
      "\n",
      " Pearson chi-squared for mod2:  184.54 \n",
      " Degrees of freedom for mod2:  189 \n",
      " P-value for mod2:  0.5779588 \n",
      "\n",
      " ---\n",
      " Failed to reject Null Hypothesis. The model fits.\n",
      " ---"
     ]
    }
   ],
   "source": [
    "chi_log(mod2, df, name = 'mod2')"
   ]
  },
  {
   "cell_type": "markdown",
   "metadata": {},
   "source": [
    "2. If necessary, explain how you will revise your model to deal with outliers or multicollinearity. Rerun the model if necessary. If you don’t believe this is necessary, explain why (and yes…you can make an argument either way). For your final model, fully interpret your regression coefficients (odds ratios)."
   ]
  },
  {
   "cell_type": "markdown",
   "metadata": {},
   "source": [
    "Two of our independent variables are continuous. Let's check them for outliers"
   ]
  },
  {
   "cell_type": "code",
   "execution_count": 80,
   "metadata": {
    "vscode": {
     "languageId": "r"
    }
   },
   "outputs": [
    {
     "data": {
      "image/png": "[encoded data removed]",
      "text/plain": [
       "plot without title"
      ]
     },
     "metadata": {
      "image/png": {
       "height": 420,
       "width": 420
      }
     },
     "output_type": "display_data"
    }
   ],
   "source": [
    "boxplot(df$Number_Diagnoses ~ df$Death)"
   ]
  },
  {
   "cell_type": "code",
   "execution_count": 83,
   "metadata": {
    "vscode": {
     "languageId": "r"
    }
   },
   "outputs": [
    {
     "data": {
      "text/html": [
       "32.375"
      ],
      "text/latex": [
       "32.375"
      ],
      "text/markdown": [
       "32.375"
      ],
      "text/plain": [
       "[1] 32.375"
      ]
     },
     "metadata": {},
     "output_type": "display_data"
    }
   ],
   "source": [
    "fences(df$Number_Diagnoses)$Upper"
   ]
  },
  {
   "cell_type": "code",
   "execution_count": 84,
   "metadata": {
    "vscode": {
     "languageId": "r"
    }
   },
   "outputs": [
    {
     "data": {
      "text/html": [
       "<style>\n",
       ".list-inline {list-style: none; margin:0; padding: 0}\n",
       ".list-inline>li {display: inline-block}\n",
       ".list-inline>li:not(:last-child)::after {content: \"\\00b7\"; padding: 0 .5ex}\n",
       "</style>\n",
       "<ol class=list-inline><li>0</li><li>0</li></ol>\n"
      ],
      "text/latex": [
       "\\begin{enumerate*}\n",
       "\\item 0\n",
       "\\item 0\n",
       "\\end{enumerate*}\n"
      ],
      "text/markdown": [
       "1. 0\n",
       "2. 0\n",
       "\n",
       "\n"
      ],
      "text/plain": [
       "[1] 0 0"
      ]
     },
     "metadata": {},
     "output_type": "display_data"
    }
   ],
   "source": [
    "df[df$Number_Diagnoses >= fences(df$Number_Diagnoses)$Upper,]$Death"
   ]
  },
  {
   "cell_type": "markdown",
   "metadata": {},
   "source": [
    "There are two outliers in Number_Diagnoses, and both belong to the 'alive' category. This seems like meaningful information for our model, so I will leave these outliers in."
   ]
  },
  {
   "cell_type": "markdown",
   "metadata": {},
   "source": [
    "Now let's check for outliers in Number_Diagnoses"
   ]
  },
  {
   "cell_type": "code",
   "execution_count": 81,
   "metadata": {
    "vscode": {
     "languageId": "r"
    }
   },
   "outputs": [
    {
     "data": {
      "image/png": "[encoded data removed]",
      "text/plain": [
       "plot without title"
      ]
     },
     "metadata": {
      "image/png": {
       "height": 420,
       "width": 420
      }
     },
     "output_type": "display_data"
    }
   ],
   "source": [
    "boxplot(df$Number_Procedures ~ df$Death)"
   ]
  },
  {
   "cell_type": "code",
   "execution_count": 82,
   "metadata": {
    "vscode": {
     "languageId": "r"
    }
   },
   "outputs": [
    {
     "data": {
      "text/html": [
       "7.5"
      ],
      "text/latex": [
       "7.5"
      ],
      "text/markdown": [
       "7.5"
      ],
      "text/plain": [
       "[1] 7.5"
      ]
     },
     "metadata": {},
     "output_type": "display_data"
    }
   ],
   "source": [
    "fences(df$Number_Procedures)$Upper"
   ]
  },
  {
   "cell_type": "code",
   "execution_count": 63,
   "metadata": {
    "vscode": {
     "languageId": "r"
    }
   },
   "outputs": [
    {
     "data": {
      "text/html": [
       "<style>\n",
       ".list-inline {list-style: none; margin:0; padding: 0}\n",
       ".list-inline>li {display: inline-block}\n",
       ".list-inline>li:not(:last-child)::after {content: \"\\00b7\"; padding: 0 .5ex}\n",
       "</style>\n",
       "<ol class=list-inline><li>1</li><li>0</li><li>1</li><li>0</li></ol>\n"
      ],
      "text/latex": [
       "\\begin{enumerate*}\n",
       "\\item 1\n",
       "\\item 0\n",
       "\\item 1\n",
       "\\item 0\n",
       "\\end{enumerate*}\n"
      ],
      "text/markdown": [
       "1. 1\n",
       "2. 0\n",
       "3. 1\n",
       "4. 0\n",
       "\n",
       "\n"
      ],
      "text/plain": [
       "[1] 1 0 1 0"
      ]
     },
     "metadata": {},
     "output_type": "display_data"
    }
   ],
   "source": [
    "df[df$Number_Procedures >= fences(df$Number_Procedures)$Upper,]$Death"
   ]
  },
  {
   "cell_type": "markdown",
   "metadata": {},
   "source": [
    "There are four outliers in Number_Procedures, and they are evenly split between the 'alive' and 'dead' categories, possibly causing noise in the data. We should consider cutting these outliers."
   ]
  },
  {
   "cell_type": "markdown",
   "metadata": {},
   "source": [
    "Before we do, however, let's take a look at multicollinearity"
   ]
  },
  {
   "cell_type": "code",
   "execution_count": 85,
   "metadata": {
    "vscode": {
     "languageId": "r"
    }
   },
   "outputs": [],
   "source": [
    "ind_vars <- c(\n",
    "            'Age','Income_Zip','Insurance','Number_Diagnoses',\n",
    "            'Number_Procedures','Race','Sex','Urban_Rural'\n",
    "                )"
   ]
  },
  {
   "cell_type": "code",
   "execution_count": 72,
   "metadata": {
    "vscode": {
     "languageId": "r"
    }
   },
   "outputs": [],
   "source": [
    "ind_df <- df |> select(all_of(ind_vars))"
   ]
  },
  {
   "cell_type": "code",
   "execution_count": 78,
   "metadata": {
    "vscode": {
     "languageId": "r"
    }
   },
   "outputs": [
    {
     "name": "stdout",
     "output_type": "stream",
     "text": [
      "\u001b[90m# A tibble: 8 × 9\u001b[39m\n",
      "  rowname             Age Incom…¹ Insur…² Numbe…³ Numbe…⁴    Race    Sex Urban…⁵\n",
      "\u001b[90m*\u001b[39m \u001b[3m\u001b[90m<chr>\u001b[39m\u001b[23m             \u001b[3m\u001b[90m<dbl>\u001b[39m\u001b[23m   \u001b[3m\u001b[90m<dbl>\u001b[39m\u001b[23m   \u001b[3m\u001b[90m<dbl>\u001b[39m\u001b[23m   \u001b[3m\u001b[90m<dbl>\u001b[39m\u001b[23m   \u001b[3m\u001b[90m<dbl>\u001b[39m\u001b[23m   \u001b[3m\u001b[90m<dbl>\u001b[39m\u001b[23m  \u001b[3m\u001b[90m<dbl>\u001b[39m\u001b[23m   \u001b[3m\u001b[90m<dbl>\u001b[39m\u001b[23m\n",
      "\u001b[90m1\u001b[39m Age              1       0.12   -\u001b[31m3\u001b[39m\u001b[31m.\u001b[39m\u001b[31m8\u001b[39m\u001b[90me\u001b[39m\u001b[31m-1\u001b[39m  0.57    -\u001b[31m0\u001b[39m\u001b[31m.\u001b[39m\u001b[31m19\u001b[39m  -\u001b[31m2\u001b[39m\u001b[31m.\u001b[39m\u001b[31m7\u001b[39m\u001b[90me\u001b[39m\u001b[31m-1\u001b[39m -\u001b[31m0\u001b[39m\u001b[31m.\u001b[39m\u001b[31m12\u001b[39m  -\u001b[31m0\u001b[39m\u001b[31m.\u001b[39m\u001b[31m00\u001b[39m\u001b[31m5\u001b[4m9\u001b[24m\u001b[39m\n",
      "\u001b[90m2\u001b[39m Income_Zip       0.12    1       1  \u001b[90me\u001b[39m\u001b[31m-1\u001b[39m -\u001b[31m0\u001b[39m\u001b[31m.\u001b[39m\u001b[31m00\u001b[39m\u001b[31m6\u001b[4m4\u001b[24m\u001b[39m  -\u001b[31m0\u001b[39m\u001b[31m.\u001b[39m\u001b[31m0\u001b[39m\u001b[31m36\u001b[39m -\u001b[31m6\u001b[39m\u001b[31m.\u001b[39m\u001b[31m1\u001b[39m\u001b[90me\u001b[39m\u001b[31m-2\u001b[39m  0.062 -\u001b[31m0\u001b[39m\u001b[31m.\u001b[39m\u001b[31m34\u001b[39m  \n",
      "\u001b[90m3\u001b[39m Insurance       -\u001b[31m0\u001b[39m\u001b[31m.\u001b[39m\u001b[31m38\u001b[39m    0.1     1  \u001b[90me\u001b[39m+0 -\u001b[31m0\u001b[39m\u001b[31m.\u001b[39m\u001b[31m44\u001b[39m     0.056  4.5\u001b[90me\u001b[39m\u001b[31m-4\u001b[39m  0.039 -\u001b[31m0\u001b[39m\u001b[31m.\u001b[39m\u001b[31m00\u001b[39m\u001b[31m5\u001b[4m6\u001b[24m\u001b[39m\n",
      "\u001b[90m4\u001b[39m Number_Diagnos…  0.57   -\u001b[31m0\u001b[39m\u001b[31m.\u001b[39m\u001b[31m00\u001b[39m\u001b[31m6\u001b[4m4\u001b[24m\u001b[39m -\u001b[31m4\u001b[39m\u001b[31m.\u001b[39m\u001b[31m4\u001b[39m\u001b[90me\u001b[39m\u001b[31m-1\u001b[39m  1        0.023 -\u001b[31m1\u001b[39m\u001b[31m.\u001b[39m\u001b[31m4\u001b[39m\u001b[90me\u001b[39m\u001b[31m-1\u001b[39m -\u001b[31m0\u001b[39m\u001b[31m.\u001b[39m\u001b[31m0\u001b[39m\u001b[31m48\u001b[39m -\u001b[31m0\u001b[39m\u001b[31m.\u001b[39m\u001b[31m00\u001b[39m\u001b[31m7\u001b[39m \n",
      "\u001b[90m5\u001b[39m Number_Procedu… -\u001b[31m0\u001b[39m\u001b[31m.\u001b[39m\u001b[31m19\u001b[39m   -\u001b[31m0\u001b[39m\u001b[31m.\u001b[39m\u001b[31m0\u001b[39m\u001b[31m36\u001b[39m   5.6\u001b[90me\u001b[39m\u001b[31m-2\u001b[39m  0.023    1      3.2\u001b[90me\u001b[39m\u001b[31m-2\u001b[39m  0.055 -\u001b[31m0\u001b[39m\u001b[31m.\u001b[39m\u001b[31m14\u001b[39m  \n",
      "\u001b[90m6\u001b[39m Race            -\u001b[31m0\u001b[39m\u001b[31m.\u001b[39m\u001b[31m27\u001b[39m   -\u001b[31m0\u001b[39m\u001b[31m.\u001b[39m\u001b[31m0\u001b[39m\u001b[31m61\u001b[39m   4.5\u001b[90me\u001b[39m\u001b[31m-4\u001b[39m -\u001b[31m0\u001b[39m\u001b[31m.\u001b[39m\u001b[31m14\u001b[39m     0.032  1  \u001b[90me\u001b[39m+0  0.1   -\u001b[31m0\u001b[39m\u001b[31m.\u001b[39m\u001b[31m17\u001b[39m  \n",
      "\u001b[90m7\u001b[39m Sex             -\u001b[31m0\u001b[39m\u001b[31m.\u001b[39m\u001b[31m12\u001b[39m    0.062   3.9\u001b[90me\u001b[39m\u001b[31m-2\u001b[39m -\u001b[31m0\u001b[39m\u001b[31m.\u001b[39m\u001b[31m0\u001b[39m\u001b[31m48\u001b[39m    0.055  1  \u001b[90me\u001b[39m\u001b[31m-1\u001b[39m  1     -\u001b[31m0\u001b[39m\u001b[31m.\u001b[39m\u001b[31m0\u001b[39m\u001b[31m32\u001b[39m \n",
      "\u001b[90m8\u001b[39m Urban_Rural     -\u001b[31m0\u001b[39m\u001b[31m.\u001b[39m\u001b[31m00\u001b[39m\u001b[31m5\u001b[4m9\u001b[24m\u001b[39m -\u001b[31m0\u001b[39m\u001b[31m.\u001b[39m\u001b[31m34\u001b[39m   -\u001b[31m5\u001b[39m\u001b[31m.\u001b[39m\u001b[31m6\u001b[39m\u001b[90me\u001b[39m\u001b[31m-3\u001b[39m -\u001b[31m0\u001b[39m\u001b[31m.\u001b[39m\u001b[31m00\u001b[39m\u001b[31m7\u001b[39m   -\u001b[31m0\u001b[39m\u001b[31m.\u001b[39m\u001b[31m14\u001b[39m  -\u001b[31m1\u001b[39m\u001b[31m.\u001b[39m\u001b[31m7\u001b[39m\u001b[90me\u001b[39m\u001b[31m-1\u001b[39m -\u001b[31m0\u001b[39m\u001b[31m.\u001b[39m\u001b[31m0\u001b[39m\u001b[31m32\u001b[39m  1     \n",
      "\u001b[90m# … with abbreviated variable names ¹​Income_Zip, ²​Insurance, ³​Number_Diagnoses,\u001b[39m\n",
      "\u001b[90m#   ⁴​Number_Procedures, ⁵​Urban_Rural\u001b[39m\n"
     ]
    }
   ],
   "source": [
    "print(cor_mat(ind_df, method = 'spearman'))"
   ]
  },
  {
   "cell_type": "code",
   "execution_count": 79,
   "metadata": {
    "vscode": {
     "languageId": "r"
    }
   },
   "outputs": [
    {
     "name": "stdout",
     "output_type": "stream",
     "text": [
      "\u001b[90m# A tibble: 8 × 9\u001b[39m\n",
      "  rowname           Age Incom…¹ Insura…² Number…³ Numbe…⁴    Race    Sex Urban…⁵\n",
      "  \u001b[3m\u001b[90m<chr>\u001b[39m\u001b[23m           \u001b[3m\u001b[90m<dbl>\u001b[39m\u001b[23m   \u001b[3m\u001b[90m<dbl>\u001b[39m\u001b[23m    \u001b[3m\u001b[90m<dbl>\u001b[39m\u001b[23m    \u001b[3m\u001b[90m<dbl>\u001b[39m\u001b[23m   \u001b[3m\u001b[90m<dbl>\u001b[39m\u001b[23m   \u001b[3m\u001b[90m<dbl>\u001b[39m\u001b[23m  \u001b[3m\u001b[90m<dbl>\u001b[39m\u001b[23m   \u001b[3m\u001b[90m<dbl>\u001b[39m\u001b[23m\n",
      "\u001b[90m1\u001b[39m Age          0   \u001b[90m \u001b[39m    9.01\u001b[90me\u001b[39m\u001b[31m-2\u001b[39m 2.43\u001b[90me\u001b[39m\u001b[31m- 8\u001b[39m 6.01\u001b[90me\u001b[39m\u001b[31m-19\u001b[39m 0.006\u001b[4m7\u001b[24m\u001b[4m6\u001b[24m 1.34\u001b[90me\u001b[39m\u001b[31m-4\u001b[39m 0.095\u001b[4m2\u001b[24m 9.34\u001b[90me\u001b[39m\u001b[31m-1\u001b[39m\n",
      "\u001b[90m2\u001b[39m Income_Zip   9.01\u001b[90me\u001b[39m\u001b[31m- 2\u001b[39m 0   \u001b[90m \u001b[39m   1.54\u001b[90me\u001b[39m\u001b[31m- 1\u001b[39m 9.29\u001b[90me\u001b[39m\u001b[31m- 1\u001b[39m 0.616   4.03\u001b[90me\u001b[39m\u001b[31m-1\u001b[39m 0.39   1.06\u001b[90me\u001b[39m\u001b[31m-6\u001b[39m\n",
      "\u001b[90m3\u001b[39m Insurance    2.43\u001b[90me\u001b[39m\u001b[31m- 8\u001b[39m 1.54\u001b[90me\u001b[39m\u001b[31m-1\u001b[39m 0   \u001b[90m \u001b[39m    1.12\u001b[90me\u001b[39m\u001b[31m-10\u001b[39m 0.434   9.95\u001b[90me\u001b[39m\u001b[31m-1\u001b[39m 0.588  9.38\u001b[90me\u001b[39m\u001b[31m-1\u001b[39m\n",
      "\u001b[90m4\u001b[39m Number_Diag… 6.01\u001b[90me\u001b[39m\u001b[31m-19\u001b[39m 9.29\u001b[90me\u001b[39m\u001b[31m-1\u001b[39m 1.12\u001b[90me\u001b[39m\u001b[31m-10\u001b[39m 0   \u001b[90m \u001b[39m    0.744   4.51\u001b[90me\u001b[39m\u001b[31m-2\u001b[39m 0.503  9.21\u001b[90me\u001b[39m\u001b[31m-1\u001b[39m\n",
      "\u001b[90m5\u001b[39m Number_Proc… 6.76\u001b[90me\u001b[39m\u001b[31m- 3\u001b[39m 6.16\u001b[90me\u001b[39m\u001b[31m-1\u001b[39m 4.34\u001b[90me\u001b[39m\u001b[31m- 1\u001b[39m 7.44\u001b[90me\u001b[39m\u001b[31m- 1\u001b[39m 0       6.55\u001b[90me\u001b[39m\u001b[31m-1\u001b[39m 0.442  5.54\u001b[90me\u001b[39m\u001b[31m-2\u001b[39m\n",
      "\u001b[90m6\u001b[39m Race         1.34\u001b[90me\u001b[39m\u001b[31m- 4\u001b[39m 4.03\u001b[90me\u001b[39m\u001b[31m-1\u001b[39m 9.95\u001b[90me\u001b[39m\u001b[31m- 1\u001b[39m 4.51\u001b[90me\u001b[39m\u001b[31m- 2\u001b[39m 0.655   0   \u001b[90m \u001b[39m   0.142  1.43\u001b[90me\u001b[39m\u001b[31m-2\u001b[39m\n",
      "\u001b[90m7\u001b[39m Sex          9.52\u001b[90me\u001b[39m\u001b[31m- 2\u001b[39m 3.9 \u001b[90me\u001b[39m\u001b[31m-1\u001b[39m 5.88\u001b[90me\u001b[39m\u001b[31m- 1\u001b[39m 5.03\u001b[90me\u001b[39m\u001b[31m- 1\u001b[39m 0.442   1.42\u001b[90me\u001b[39m\u001b[31m-1\u001b[39m 0      6.53\u001b[90me\u001b[39m\u001b[31m-1\u001b[39m\n",
      "\u001b[90m8\u001b[39m Urban_Rural  9.34\u001b[90me\u001b[39m\u001b[31m- 1\u001b[39m 1.06\u001b[90me\u001b[39m\u001b[31m-6\u001b[39m 9.38\u001b[90me\u001b[39m\u001b[31m- 1\u001b[39m 9.21\u001b[90me\u001b[39m\u001b[31m- 1\u001b[39m 0.055\u001b[4m4\u001b[24m  1.43\u001b[90me\u001b[39m\u001b[31m-2\u001b[39m 0.653  0   \u001b[90m \u001b[39m  \n",
      "\u001b[90m# … with abbreviated variable names ¹​Income_Zip, ²​Insurance, ³​Number_Diagnoses,\u001b[39m\n",
      "\u001b[90m#   ⁴​Number_Procedures, ⁵​Urban_Rural\u001b[39m\n"
     ]
    }
   ],
   "source": [
    "print(cor_get_pval(cor_mat(ind_df, method = 'spearman')))"
   ]
  },
  {
   "cell_type": "markdown",
   "metadata": {},
   "source": [
    "Age and Number_Diagnoses are the only two variables with significantly large (>0.50) collinearities. As we saw in the last worksheet, it is best to retain both of those variables because they both contribute to the model."
   ]
  },
  {
   "cell_type": "markdown",
   "metadata": {},
   "source": [
    "Let's try building a model with the Number_Prodecures outliers removed."
   ]
  },
  {
   "cell_type": "code",
   "execution_count": 129,
   "metadata": {
    "vscode": {
     "languageId": "r"
    }
   },
   "outputs": [
    {
     "data": {
      "text/html": [
       "<style>\n",
       ".list-inline {list-style: none; margin:0; padding: 0}\n",
       ".list-inline>li {display: inline-block}\n",
       ".list-inline>li:not(:last-child)::after {content: \"\\00b7\"; padding: 0 .5ex}\n",
       "</style>\n",
       "<ol class=list-inline><li>'HospCharges'</li><li>'Death'</li><li>'Age'</li><li>'Income_Zip'</li><li>'Insurance'</li><li>'Number_Diagnoses'</li><li>'Number_Procedures'</li><li>'Race'</li><li>'Sex'</li><li>'Urban_Rural'</li><li>'Weighting'</li></ol>\n"
      ],
      "text/latex": [
       "\\begin{enumerate*}\n",
       "\\item 'HospCharges'\n",
       "\\item 'Death'\n",
       "\\item 'Age'\n",
       "\\item 'Income\\_Zip'\n",
       "\\item 'Insurance'\n",
       "\\item 'Number\\_Diagnoses'\n",
       "\\item 'Number\\_Procedures'\n",
       "\\item 'Race'\n",
       "\\item 'Sex'\n",
       "\\item 'Urban\\_Rural'\n",
       "\\item 'Weighting'\n",
       "\\end{enumerate*}\n"
      ],
      "text/markdown": [
       "1. 'HospCharges'\n",
       "2. 'Death'\n",
       "3. 'Age'\n",
       "4. 'Income_Zip'\n",
       "5. 'Insurance'\n",
       "6. 'Number_Diagnoses'\n",
       "7. 'Number_Procedures'\n",
       "8. 'Race'\n",
       "9. 'Sex'\n",
       "10. 'Urban_Rural'\n",
       "11. 'Weighting'\n",
       "\n",
       "\n"
      ],
      "text/plain": [
       " [1] \"HospCharges\"       \"Death\"             \"Age\"              \n",
       " [4] \"Income_Zip\"        \"Insurance\"         \"Number_Diagnoses\" \n",
       " [7] \"Number_Procedures\" \"Race\"              \"Sex\"              \n",
       "[10] \"Urban_Rural\"       \"Weighting\"        "
      ]
     },
     "metadata": {},
     "output_type": "display_data"
    }
   ],
   "source": [
    "df <- read.csv(\"C:\\\\Users\\\\ljens\\\\Downloads\\\\HM 878 730 Clements - Logistic Regression R Data.csv\")\n",
    "colnames(df)"
   ]
  },
  {
   "cell_type": "code",
   "execution_count": 130,
   "metadata": {
    "vscode": {
     "languageId": "r"
    }
   },
   "outputs": [],
   "source": [
    "df$Income_Zip <- factor(df$Income_Zip, levels = c(1,2,3,4), labels = c('Q1 (lowest)', 'Q2','Q3','Q4 (highest)'))\n",
    "df <- df[df$Number_Procedures < fences(df$Number_Procedures)$Upper,]"
   ]
  },
  {
   "cell_type": "code",
   "execution_count": 133,
   "metadata": {
    "vscode": {
     "languageId": "r"
    }
   },
   "outputs": [
    {
     "data": {
      "text/plain": [
       "\n",
       "Call:\n",
       "glm(formula = Death ~ 1, family = binomial, data = df)\n",
       "\n",
       "Deviance Residuals: \n",
       "    Min       1Q   Median       3Q      Max  \n",
       "-0.7585  -0.7585  -0.7585  -0.1526   1.6651  \n",
       "\n",
       "Coefficients:\n",
       "            Estimate Std. Error z value Pr(>|z|)    \n",
       "(Intercept)   -1.099      0.165   -6.66 2.74e-11 ***\n",
       "---\n",
       "Signif. codes:  0 '***' 0.001 '**' 0.01 '*' 0.05 '.' 0.1 ' ' 1\n",
       "\n",
       "(Dispersion parameter for binomial family taken to be 1)\n",
       "\n",
       "    Null deviance: 220.44  on 195  degrees of freedom\n",
       "Residual deviance: 220.44  on 195  degrees of freedom\n",
       "AIC: 222.44\n",
       "\n",
       "Number of Fisher Scoring iterations: 4\n"
      ]
     },
     "metadata": {},
     "output_type": "display_data"
    },
    {
     "data": {
      "text/plain": [
       "\n",
       "Call:\n",
       "glm(formula = Death ~ Age + Income_Zip + Insurance + Number_Diagnoses + \n",
       "    Number_Procedures + Race + Sex + Urban_Rural, family = binomial, \n",
       "    data = df)\n",
       "\n",
       "Deviance Residuals: \n",
       "    Min       1Q   Median       3Q      Max  \n",
       "-1.5448  -0.6350  -0.4503  -0.2884   2.3085  \n",
       "\n",
       "Coefficients:\n",
       "                        Estimate Std. Error z value Pr(>|z|)    \n",
       "(Intercept)            -2.728202   0.840252  -3.247  0.00117 ** \n",
       "Age                     0.004502   0.009521   0.473  0.63630    \n",
       "Income_ZipQ2            0.566381   0.577203   0.981  0.32647    \n",
       "Income_ZipQ3            1.078664   0.609900   1.769  0.07696 .  \n",
       "Income_ZipQ4 (highest)  1.259926   0.628379   2.005  0.04496 *  \n",
       "Insurance              -0.288530   0.439072  -0.657  0.51109    \n",
       "Number_Diagnoses       -0.035027   0.036756  -0.953  0.34062    \n",
       "Number_Procedures       0.056505   0.117290   0.482  0.62998    \n",
       "Race                    2.045715   0.422652   4.840  1.3e-06 ***\n",
       "Sex                     0.248639   0.395901   0.628  0.52998    \n",
       "Urban_Rural            -0.062209   0.663452  -0.094  0.92529    \n",
       "---\n",
       "Signif. codes:  0 '***' 0.001 '**' 0.01 '*' 0.05 '.' 0.1 ' ' 1\n",
       "\n",
       "(Dispersion parameter for binomial family taken to be 1)\n",
       "\n",
       "    Null deviance: 209.77  on 188  degrees of freedom\n",
       "Residual deviance: 172.77  on 178  degrees of freedom\n",
       "  (7 observations deleted due to missingness)\n",
       "AIC: 194.77\n",
       "\n",
       "Number of Fisher Scoring iterations: 5\n"
      ]
     },
     "metadata": {},
     "output_type": "display_data"
    },
    {
     "data": {
      "text/html": [
       "<span style=white-space:pre-wrap>'Accuracy for  mod3 :  75 %'</span>"
      ],
      "text/latex": [
       "'Accuracy for  mod3 :  75 \\%'"
      ],
      "text/markdown": [
       "<span style=white-space:pre-wrap>'Accuracy for  mod3 :  75 %'</span>"
      ],
      "text/plain": [
       "[1] \"Accuracy for  mod3 :  75 %\""
      ]
     },
     "metadata": {},
     "output_type": "display_data"
    },
    {
     "data": {
      "text/html": [
       "<span style=white-space:pre-wrap>'Accuracy for  mod4 :  69.9 %'</span>"
      ],
      "text/latex": [
       "'Accuracy for  mod4 :  69.9 \\%'"
      ],
      "text/markdown": [
       "<span style=white-space:pre-wrap>'Accuracy for  mod4 :  69.9 %'</span>"
      ],
      "text/plain": [
       "[1] \"Accuracy for  mod4 :  69.9 %\""
      ]
     },
     "metadata": {},
     "output_type": "display_data"
    },
    {
     "name": "stdout",
     "output_type": "stream",
     "text": [
      "Pearson Goodness of Fit Test\n",
      " Null Hypothesis: The model fits.\n",
      " Alternative Hypothesis: The model does not fit.\n",
      "\n",
      " Pearson chi-squared for mod3:  196 \n",
      " Degrees of freedom for mod3:  195 \n",
      " P-value for mod3:  0.4664079 \n",
      "\n",
      " ---\n",
      " Failed to reject Null Hypothesis. The model fits.\n",
      " ---Pearson Goodness of Fit Test\n",
      " Null Hypothesis: The model fits.\n",
      " Alternative Hypothesis: The model does not fit.\n",
      "\n",
      " Pearson chi-squared for mod4:  180.47 \n",
      " Degrees of freedom for mod4:  185 \n",
      " P-value for mod4:  0.5802394 \n",
      "\n",
      " ---\n",
      " Failed to reject Null Hypothesis. The model fits.\n",
      " ---"
     ]
    }
   ],
   "source": [
    "mod3 <- glm(Death ~ 1, data = df, family = binomial)\n",
    "mod4 <- glm(Death ~ Age  + Income_Zip  + Insurance  + Number_Diagnoses  + \n",
    "            Number_Procedures  + Race  + Sex  + Urban_Rural, \n",
    "            data=df, family = binomial\n",
    "            )\n",
    "\n",
    "\n",
    "summary(mod3)\n",
    "summary(mod4)\n",
    "\n",
    "pred_percent(mod3,df['Death'],'mod3')\n",
    "pred_percent(mod4,df['Death'],'mod4')\n",
    "\n",
    "\n",
    "chi_log(mod3, df, name = 'mod3')\n",
    "\n",
    "chi_log(mod4, df, name = 'mod4')\n"
   ]
  },
  {
   "cell_type": "code",
   "execution_count": 132,
   "metadata": {
    "vscode": {
     "languageId": "r"
    }
   },
   "outputs": [
    {
     "name": "stderr",
     "output_type": "stream",
     "text": [
      "Warning message in lab == {:\n",
      "\"longer object length is not a multiple of shorter object length\"\n"
     ]
    },
    {
     "data": {
      "text/html": [
       "<span style=white-space:pre-wrap>'Accuracy for  mod1 :  73.5 %'</span>"
      ],
      "text/latex": [
       "'Accuracy for  mod1 :  73.5 \\%'"
      ],
      "text/markdown": [
       "<span style=white-space:pre-wrap>'Accuracy for  mod1 :  73.5 %'</span>"
      ],
      "text/plain": [
       "[1] \"Accuracy for  mod1 :  73.5 %\""
      ]
     },
     "metadata": {},
     "output_type": "display_data"
    },
    {
     "name": "stderr",
     "output_type": "stream",
     "text": [
      "Warning message in lab == {:\n",
      "\"longer object length is not a multiple of shorter object length\"\n"
     ]
    },
    {
     "data": {
      "text/html": [
       "<span style=white-space:pre-wrap>'Accuracy for  mod2 :  68.37 %'</span>"
      ],
      "text/latex": [
       "'Accuracy for  mod2 :  68.37 \\%'"
      ],
      "text/markdown": [
       "<span style=white-space:pre-wrap>'Accuracy for  mod2 :  68.37 %'</span>"
      ],
      "text/plain": [
       "[1] \"Accuracy for  mod2 :  68.37 %\""
      ]
     },
     "metadata": {},
     "output_type": "display_data"
    },
    {
     "data": {
      "text/html": [
       "<span style=white-space:pre-wrap>'Accuracy for  mod3 :  75 %'</span>"
      ],
      "text/latex": [
       "'Accuracy for  mod3 :  75 \\%'"
      ],
      "text/markdown": [
       "<span style=white-space:pre-wrap>'Accuracy for  mod3 :  75 %'</span>"
      ],
      "text/plain": [
       "[1] \"Accuracy for  mod3 :  75 %\""
      ]
     },
     "metadata": {},
     "output_type": "display_data"
    },
    {
     "name": "stderr",
     "output_type": "stream",
     "text": [
      "Warning message in lab == {:\n",
      "\"longer object length is not a multiple of shorter object length\"\n"
     ]
    },
    {
     "data": {
      "text/html": [
       "<span style=white-space:pre-wrap>'Accuracy for  mod4 :  69.9 %'</span>"
      ],
      "text/latex": [
       "'Accuracy for  mod4 :  69.9 \\%'"
      ],
      "text/markdown": [
       "<span style=white-space:pre-wrap>'Accuracy for  mod4 :  69.9 %'</span>"
      ],
      "text/plain": [
       "[1] \"Accuracy for  mod4 :  69.9 %\""
      ]
     },
     "metadata": {},
     "output_type": "display_data"
    }
   ],
   "source": [
    "pred_percent(mod1, df$Death, \"mod1\")\n",
    "pred_percent(mod2, df$Death, \"mod2\")\n",
    "pred_percent(mod3, df$Death, \"mod3\")\n",
    "pred_percent(mod4, df$Death, \"mod4\")"
   ]
  },
  {
   "cell_type": "markdown",
   "metadata": {},
   "source": [
    "---"
   ]
  },
  {
   "cell_type": "markdown",
   "metadata": {},
   "source": [
    "## Regression 2 - Hospital Charges"
   ]
  },
  {
   "cell_type": "markdown",
   "metadata": {},
   "source": [
    "1. Hospital charges is currently a continuous, quantitative variable. You need to create a new variable that is a binary, categorical variable with a cutoff at a certain dollar amount that separates high costs from low costs. You can use any cutoff you want, but you must justify your choice of cutoff (e.g. use some of the descriptive statistics to propose a cutoff, or use some research literature to justify how you determine the cutoff). Run a logistic regression with your newly created variable as the dependent variable and Age, Income_Zip, Insurance, Number_Diagnoses, Number_Procedures, Race, Sex, and Urban_Rural as the independent variables. Fully interpret your initial model (again, being sure to explain your independent variable reference categories)."
   ]
  },
  {
   "cell_type": "code",
   "execution_count": 216,
   "metadata": {
    "vscode": {
     "languageId": "r"
    }
   },
   "outputs": [
    {
     "data": {
      "text/html": [
       "<style>\n",
       ".list-inline {list-style: none; margin:0; padding: 0}\n",
       ".list-inline>li {display: inline-block}\n",
       ".list-inline>li:not(:last-child)::after {content: \"\\00b7\"; padding: 0 .5ex}\n",
       "</style>\n",
       "<ol class=list-inline><li>'HospCharges'</li><li>'Death'</li><li>'Age'</li><li>'Income_Zip'</li><li>'Insurance'</li><li>'Number_Diagnoses'</li><li>'Number_Procedures'</li><li>'Race'</li><li>'Sex'</li><li>'Urban_Rural'</li><li>'Weighting'</li></ol>\n"
      ],
      "text/latex": [
       "\\begin{enumerate*}\n",
       "\\item 'HospCharges'\n",
       "\\item 'Death'\n",
       "\\item 'Age'\n",
       "\\item 'Income\\_Zip'\n",
       "\\item 'Insurance'\n",
       "\\item 'Number\\_Diagnoses'\n",
       "\\item 'Number\\_Procedures'\n",
       "\\item 'Race'\n",
       "\\item 'Sex'\n",
       "\\item 'Urban\\_Rural'\n",
       "\\item 'Weighting'\n",
       "\\end{enumerate*}\n"
      ],
      "text/markdown": [
       "1. 'HospCharges'\n",
       "2. 'Death'\n",
       "3. 'Age'\n",
       "4. 'Income_Zip'\n",
       "5. 'Insurance'\n",
       "6. 'Number_Diagnoses'\n",
       "7. 'Number_Procedures'\n",
       "8. 'Race'\n",
       "9. 'Sex'\n",
       "10. 'Urban_Rural'\n",
       "11. 'Weighting'\n",
       "\n",
       "\n"
      ],
      "text/plain": [
       " [1] \"HospCharges\"       \"Death\"             \"Age\"              \n",
       " [4] \"Income_Zip\"        \"Insurance\"         \"Number_Diagnoses\" \n",
       " [7] \"Number_Procedures\" \"Race\"              \"Sex\"              \n",
       "[10] \"Urban_Rural\"       \"Weighting\"        "
      ]
     },
     "metadata": {},
     "output_type": "display_data"
    }
   ],
   "source": [
    "colnames()"
   ]
  },
  {
   "cell_type": "code",
   "execution_count": 217,
   "metadata": {
    "vscode": {
     "languageId": "r"
    }
   },
   "outputs": [
    {
     "data": {
      "image/png": "[encoded data removed]",
      "text/plain": [
       "plot without title"
      ]
     },
     "metadata": {
      "image/png": {
       "height": 420,
       "width": 420
      }
     },
     "output_type": "display_data"
    }
   ],
   "source": [
    "boxplot(df$HospCharges)"
   ]
  },
  {
   "cell_type": "code",
   "execution_count": 143,
   "metadata": {
    "vscode": {
     "languageId": "r"
    }
   },
   "outputs": [
    {
     "data": {
      "text/plain": [
       "   Min. 1st Qu.  Median    Mean 3rd Qu.    Max. \n",
       "   1514   13789   27384   44774   53585  353704 "
      ]
     },
     "metadata": {},
     "output_type": "display_data"
    }
   ],
   "source": [
    "summary(df$HospCharges)"
   ]
  },
  {
   "cell_type": "code",
   "execution_count": 145,
   "metadata": {
    "vscode": {
     "languageId": "r"
    }
   },
   "outputs": [
    {
     "data": {
      "text/html": [
       "53585.25"
      ],
      "text/latex": [
       "53585.25"
      ],
      "text/markdown": [
       "53585.25"
      ],
      "text/plain": [
       "[1] 53585.25"
      ]
     },
     "metadata": {},
     "output_type": "display_data"
    }
   ],
   "source": [
    "summary(df$HospCharges)[[5]]"
   ]
  },
  {
   "cell_type": "code",
   "execution_count": 134,
   "metadata": {
    "vscode": {
     "languageId": "r"
    }
   },
   "outputs": [
    {
     "data": {
      "text/html": [
       "113279.625"
      ],
      "text/latex": [
       "113279.625"
      ],
      "text/markdown": [
       "113279.625"
      ],
      "text/plain": [
       "[1] 113279.6"
      ]
     },
     "metadata": {},
     "output_type": "display_data"
    }
   ],
   "source": [
    "fences(df$HospCharges)$Upper"
   ]
  },
  {
   "cell_type": "code",
   "execution_count": 153,
   "metadata": {
    "vscode": {
     "languageId": "r"
    }
   },
   "outputs": [
    {
     "data": {
      "text/html": [
       "17"
      ],
      "text/latex": [
       "17"
      ],
      "text/markdown": [
       "17"
      ],
      "text/plain": [
       "[1] 17"
      ]
     },
     "metadata": {},
     "output_type": "display_data"
    }
   ],
   "source": [
    "nrow(df[df$HospCharges > fences(df$HospCharges)$Upper,])"
   ]
  },
  {
   "cell_type": "code",
   "execution_count": 154,
   "metadata": {
    "vscode": {
     "languageId": "r"
    }
   },
   "outputs": [
    {
     "data": {
      "text/html": [
       "49"
      ],
      "text/latex": [
       "49"
      ],
      "text/markdown": [
       "49"
      ],
      "text/plain": [
       "[1] 49"
      ]
     },
     "metadata": {},
     "output_type": "display_data"
    }
   ],
   "source": [
    "nrow(df[df$HospCharges > summary(df$HospCharges)[[5]],])"
   ]
  },
  {
   "cell_type": "code",
   "execution_count": 157,
   "metadata": {
    "vscode": {
     "languageId": "r"
    }
   },
   "outputs": [
    {
     "data": {
      "text/html": [
       "17"
      ],
      "text/latex": [
       "17"
      ],
      "text/markdown": [
       "17"
      ],
      "text/plain": [
       "[1] 17"
      ]
     },
     "metadata": {},
     "output_type": "display_data"
    }
   ],
   "source": [
    "nrow(df[df$HospCharges > sd(df$HospCharges) + mean(df$HospCharges),])"
   ]
  },
  {
   "cell_type": "code",
   "execution_count": 156,
   "metadata": {
    "vscode": {
     "languageId": "r"
    }
   },
   "outputs": [
    {
     "data": {
      "text/html": [
       "98102.3355864345"
      ],
      "text/latex": [
       "98102.3355864345"
      ],
      "text/markdown": [
       "98102.3355864345"
      ],
      "text/plain": [
       "[1] 98102.34"
      ]
     },
     "metadata": {},
     "output_type": "display_data"
    }
   ],
   "source": [
    "sd(df$HospCharges) + mean(df$HospCharges)"
   ]
  },
  {
   "cell_type": "code",
   "execution_count": 174,
   "metadata": {
    "vscode": {
     "languageId": "r"
    }
   },
   "outputs": [],
   "source": [
    "cut <- round(fences(df$HospCharges)$Upper,0)"
   ]
  },
  {
   "cell_type": "code",
   "execution_count": 175,
   "metadata": {
    "vscode": {
     "languageId": "r"
    }
   },
   "outputs": [
    {
     "data": {
      "text/html": [
       "113280"
      ],
      "text/latex": [
       "113280"
      ],
      "text/markdown": [
       "113280"
      ],
      "text/plain": [
       "[1] 113280"
      ]
     },
     "metadata": {},
     "output_type": "display_data"
    }
   ],
   "source": [
    "cut"
   ]
  },
  {
   "cell_type": "code",
   "execution_count": 176,
   "metadata": {
    "vscode": {
     "languageId": "r"
    }
   },
   "outputs": [],
   "source": [
    "df$charges <- ifelse(df$HospCharges<cut, 0, 1)"
   ]
  },
  {
   "cell_type": "code",
   "execution_count": 177,
   "metadata": {
    "vscode": {
     "languageId": "r"
    }
   },
   "outputs": [
    {
     "data": {
      "text/plain": [
       "\n",
       "Call:\n",
       "glm(formula = charges ~ 1, family = binomial, data = df)\n",
       "\n",
       "Deviance Residuals: \n",
       "   Min      1Q  Median      3Q     Max  \n",
       "-0.426  -0.426  -0.426  -0.426   2.211  \n",
       "\n",
       "Coefficients:\n",
       "            Estimate Std. Error z value Pr(>|z|)    \n",
       "(Intercept)  -2.3542     0.2538  -9.276   <2e-16 ***\n",
       "---\n",
       "Signif. codes:  0 '***' 0.001 '**' 0.01 '*' 0.05 '.' 0.1 ' ' 1\n",
       "\n",
       "(Dispersion parameter for binomial family taken to be 1)\n",
       "\n",
       "    Null deviance: 115.61  on 195  degrees of freedom\n",
       "Residual deviance: 115.61  on 195  degrees of freedom\n",
       "AIC: 117.61\n",
       "\n",
       "Number of Fisher Scoring iterations: 5\n"
      ]
     },
     "metadata": {},
     "output_type": "display_data"
    },
    {
     "data": {
      "text/plain": [
       "\n",
       "Call:\n",
       "glm(formula = charges ~ Age + Income_Zip + Insurance + Number_Diagnoses + \n",
       "    Number_Procedures + Race + Sex + Urban_Rural, family = binomial, \n",
       "    data = df)\n",
       "\n",
       "Deviance Residuals: \n",
       "     Min        1Q    Median        3Q       Max  \n",
       "-1.83579  -0.35360  -0.21799  -0.00027   2.85505  \n",
       "\n",
       "Coefficients:\n",
       "                         Estimate Std. Error z value Pr(>|z|)    \n",
       "(Intercept)              -6.68878    1.95359  -3.424 0.000617 ***\n",
       "Age                       0.01092    0.01978   0.552 0.580952    \n",
       "Income_ZipQ2              1.24627    1.18471   1.052 0.292813    \n",
       "Income_ZipQ3              1.30810    1.25100   1.046 0.295724    \n",
       "Income_ZipQ4 (highest)    0.77387    1.31290   0.589 0.555572    \n",
       "Insurance                 0.59816    0.74539   0.802 0.422277    \n",
       "Number_Diagnoses          0.10317    0.05164   1.998 0.045741 *  \n",
       "Number_Procedures         0.60172    0.16903   3.560 0.000371 ***\n",
       "Race                      0.41217    0.73265   0.563 0.573724    \n",
       "Sex                      -0.67086    0.66728  -1.005 0.314726    \n",
       "Urban_Rural             -16.62713 1667.21902  -0.010 0.992043    \n",
       "---\n",
       "Signif. codes:  0 '***' 0.001 '**' 0.01 '*' 0.05 '.' 0.1 ' ' 1\n",
       "\n",
       "(Dispersion parameter for binomial family taken to be 1)\n",
       "\n",
       "    Null deviance: 109.619  on 188  degrees of freedom\n",
       "Residual deviance:  77.057  on 178  degrees of freedom\n",
       "  (7 observations deleted due to missingness)\n",
       "AIC: 99.057\n",
       "\n",
       "Number of Fisher Scoring iterations: 18\n"
      ]
     },
     "metadata": {},
     "output_type": "display_data"
    },
    {
     "data": {
      "text/html": [
       "<span style=white-space:pre-wrap>'Accuracy for  mod1 :  91.33 %'</span>"
      ],
      "text/latex": [
       "'Accuracy for  mod1 :  91.33 \\%'"
      ],
      "text/markdown": [
       "<span style=white-space:pre-wrap>'Accuracy for  mod1 :  91.33 %'</span>"
      ],
      "text/plain": [
       "[1] \"Accuracy for  mod1 :  91.33 %\""
      ]
     },
     "metadata": {},
     "output_type": "display_data"
    },
    {
     "data": {
      "text/html": [
       "<span style=white-space:pre-wrap>'Accuracy for  mod2 :  88.78 %'</span>"
      ],
      "text/latex": [
       "'Accuracy for  mod2 :  88.78 \\%'"
      ],
      "text/markdown": [
       "<span style=white-space:pre-wrap>'Accuracy for  mod2 :  88.78 %'</span>"
      ],
      "text/plain": [
       "[1] \"Accuracy for  mod2 :  88.78 %\""
      ]
     },
     "metadata": {},
     "output_type": "display_data"
    },
    {
     "name": "stdout",
     "output_type": "stream",
     "text": [
      "Pearson Goodness of Fit Test\n",
      " Null Hypothesis: The model fits.\n",
      " Alternative Hypothesis: The model does not fit.\n",
      "\n",
      " Pearson chi-squared for mod1:  196 \n",
      " Degrees of freedom for mod1:  195 \n",
      " P-value for mod1:  0.4664079 \n",
      "\n",
      " ---\n",
      " Failed to reject Null Hypothesis. The model fits.\n",
      " ---Pearson Goodness of Fit Test\n",
      " Null Hypothesis: The model fits.\n",
      " Alternative Hypothesis: The model does not fit.\n",
      "\n",
      " Pearson chi-squared for mod2:  149.12 \n",
      " Degrees of freedom for mod2:  185 \n",
      " P-value for mod2:  0.9753785 \n",
      "\n",
      " ---\n",
      " Failed to reject Null Hypothesis. The model fits.\n",
      " ---"
     ]
    }
   ],
   "source": [
    "mod1 <- glm(charges ~ 1, data = df, family = binomial)\n",
    "mod2 <- glm(charges ~ Age  + Income_Zip  + Insurance  + Number_Diagnoses  + \n",
    "            Number_Procedures  + Race  + Sex  + Urban_Rural, \n",
    "            data=df, family = binomial\n",
    "            )\n",
    "\n",
    "\n",
    "summary(mod1)\n",
    "summary(mod2)\n",
    "\n",
    "pred_percent(mod1,df['charges'],'mod1')\n",
    "pred_percent(mod2,df['charges'],'mod2')\n",
    "\n",
    "\n",
    "chi_log(mod1, df, name = 'mod1')\n",
    "\n",
    "chi_log(mod2, df, name = 'mod2')"
   ]
  },
  {
   "cell_type": "code",
   "execution_count": null,
   "metadata": {
    "vscode": {
     "languageId": "r"
    }
   },
   "outputs": [],
   "source": []
  },
  {
   "cell_type": "code",
   "execution_count": null,
   "metadata": {
    "vscode": {
     "languageId": "r"
    }
   },
   "outputs": [],
   "source": []
  },
  {
   "cell_type": "markdown",
   "metadata": {},
   "source": [
    "2. Now that you have run this regression model, evaluate whether your model needs to be revised. Pay attention to outliers, and multicollinearity (and for these purposes, you might consider moderate correlation as suggestive of multicollinearity). In addition, you should consider whether your cutoff to develop your categorical dependent variable should be revised at all. Run as many regression models as you need to based on these revisions. Fully explain why you are making the choices you make. Note: Most analyses like these are all about decision-making. There are tradeoffs in all of the models and with the decisions you make. Justify your choices.\n"
   ]
  },
  {
   "cell_type": "markdown",
   "metadata": {},
   "source": [
    "3. Choose one model as your best fit model, interpret the findings and describe what the regression coefficients (odds ratios) mean."
   ]
  },
  {
   "cell_type": "markdown",
   "metadata": {},
   "source": [
    "---"
   ]
  },
  {
   "cell_type": "markdown",
   "metadata": {},
   "source": [
    "## Answer this question:"
   ]
  },
  {
   "cell_type": "markdown",
   "metadata": {},
   "source": [
    "- When you did a linear regression model in Module 5, you used hospital charges as a continuous dependent variable, and here you used a categorical version of that same variable. How are the results of the two models similar and how do they differ? Describe different situations when you would use each of the models."
   ]
  },
  {
   "cell_type": "markdown",
   "metadata": {},
   "source": []
  }
 ],
 "metadata": {
  "kernelspec": {
   "display_name": "R",
   "language": "R",
   "name": "ir"
  },
  "language_info": {
   "codemirror_mode": "r",
   "file_extension": ".r",
   "mimetype": "text/x-r-source",
   "name": "R",
   "pygments_lexer": "r",
   "version": "4.2.2"
  },
  "orig_nbformat": 4
 },
 "nbformat": 4,
 "nbformat_minor": 2
}
