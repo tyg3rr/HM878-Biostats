{
 "cells": [
  {
   "cell_type": "markdown",
   "metadata": {},
   "source": [
    "## Project #5: Survival Analysis: Cox Proportional Hazards Regression and Kaplan Meier Analysis\n",
    "\n",
    "Lillian Jensen"
   ]
  },
  {
   "cell_type": "markdown",
   "metadata": {},
   "source": [
    "**Goal**\n",
    "\n",
    "Students will use R to conduct and interpret a Cox Proportional Hazards Regression and Kaplan Meier Analyses and compare the results. \n",
    "\n",
    "Note: We are using data from the Framingham Heart Study for this analysis.  Framingham is one of the longest running longitudinal studies following the same population for several decades.  You can access more about the study [here](https://www.framinghamheartstudy.org/)  if you wish to learn more about it.\n",
    "\n",
    "In this problem set, you will be comparing Kaplan Meier Analysis results with the Cox Regression results.\n"
   ]
  },
  {
   "cell_type": "markdown",
   "metadata": {},
   "source": [
    "---"
   ]
  },
  {
   "cell_type": "markdown",
   "metadata": {},
   "source": [
    "## Part 1\n",
    "\n",
    "Run a Cox Proportional Hazards Regression using the following variables from the dataset: TimeDeathYears as the “Time” variable. Death as the “Status” variable.  Use cursmoke, diabetes, educ, prevchd, age, bmi, and sex as the covariates.  For the categorical variables, make sure that not a current smoker, no diabetes, the lowest education category, no CHD, and female sex are all reference categories (All of these are the lowest coded values for each). As a refresher:\n",
    "\n",
    "Import your data, account for missing values if necessary, determine which variables are categorical (see the codebook). For categorical variables, remember to convert them to factor variables\n"
   ]
  },
  {
   "cell_type": "code",
   "execution_count": 7,
   "metadata": {
    "vscode": {
     "languageId": "r"
    }
   },
   "outputs": [
    {
     "name": "stderr",
     "output_type": "stream",
     "text": [
      "Warning message:\n",
      "\"package 'fastDummies' was built under R version 4.2.3\"\n"
     ]
    }
   ],
   "source": [
    "# Setting up code environment\n",
    "suppressPackageStartupMessages(library(tidyverse))\n",
    "suppressPackageStartupMessages(library(survival))\n",
    "suppressPackageStartupMessages(library(fastDummies))"
   ]
  },
  {
   "cell_type": "code",
   "execution_count": 19,
   "metadata": {
    "vscode": {
     "languageId": "r"
    }
   },
   "outputs": [],
   "source": [
    "df <- read.csv(\"C:\\\\Users\\\\ljens\\\\Downloads\\\\HM 878 730 Clements - Survival Analysis R Data.csv\")"
   ]
  },
  {
   "cell_type": "code",
   "execution_count": 20,
   "metadata": {
    "vscode": {
     "languageId": "r"
    }
   },
   "outputs": [
    {
     "data": {
      "text/html": [
       "<style>\n",
       ".list-inline {list-style: none; margin:0; padding: 0}\n",
       ".list-inline>li {display: inline-block}\n",
       ".list-inline>li:not(:last-child)::after {content: \"\\00b7\"; padding: 0 .5ex}\n",
       "</style>\n",
       "<ol class=list-inline><li>'randid'</li><li>'TimeDeathYears'</li><li>'death'</li><li>'cursmoke'</li><li>'diabetes'</li><li>'educ'</li><li>'prevchd'</li><li>'age'</li><li>'bmi'</li><li>'sex'</li></ol>\n"
      ],
      "text/latex": [
       "\\begin{enumerate*}\n",
       "\\item 'randid'\n",
       "\\item 'TimeDeathYears'\n",
       "\\item 'death'\n",
       "\\item 'cursmoke'\n",
       "\\item 'diabetes'\n",
       "\\item 'educ'\n",
       "\\item 'prevchd'\n",
       "\\item 'age'\n",
       "\\item 'bmi'\n",
       "\\item 'sex'\n",
       "\\end{enumerate*}\n"
      ],
      "text/markdown": [
       "1. 'randid'\n",
       "2. 'TimeDeathYears'\n",
       "3. 'death'\n",
       "4. 'cursmoke'\n",
       "5. 'diabetes'\n",
       "6. 'educ'\n",
       "7. 'prevchd'\n",
       "8. 'age'\n",
       "9. 'bmi'\n",
       "10. 'sex'\n",
       "\n",
       "\n"
      ],
      "text/plain": [
       " [1] \"randid\"         \"TimeDeathYears\" \"death\"          \"cursmoke\"      \n",
       " [5] \"diabetes\"       \"educ\"           \"prevchd\"        \"age\"           \n",
       " [9] \"bmi\"            \"sex\"           "
      ]
     },
     "metadata": {},
     "output_type": "display_data"
    }
   ],
   "source": [
    "colnames(df)"
   ]
  },
  {
   "cell_type": "code",
   "execution_count": 21,
   "metadata": {
    "vscode": {
     "languageId": "r"
    }
   },
   "outputs": [
    {
     "data": {
      "text/plain": [
       "     randid        TimeDeathYears      death           cursmoke     \n",
       " Min.   :   2448   Min.   : 2.00   Min.   :0.0000   Min.   :0.0000  \n",
       " 1st Qu.:2509944   1st Qu.:15.00   1st Qu.:0.0000   1st Qu.:0.0000  \n",
       " Median :5050572   Median :15.00   Median :0.0000   Median :0.0000  \n",
       " Mean   :5028933   Mean   :13.57   Mean   :0.2375   Mean   :0.3435  \n",
       " 3rd Qu.:7501310   3rd Qu.:15.00   3rd Qu.:0.0000   3rd Qu.:1.0000  \n",
       " Max.   :9999312   Max.   :15.00   Max.   :1.0000   Max.   :1.0000  \n",
       "                                                                    \n",
       "    diabetes            educ          prevchd            age       \n",
       " Min.   :0.00000   Min.   :1.000   Min.   :0.0000   Min.   :44.00  \n",
       " 1st Qu.:0.00000   1st Qu.:1.000   1st Qu.:0.0000   1st Qu.:54.00  \n",
       " Median :0.00000   Median :2.000   Median :0.0000   Median :60.00  \n",
       " Mean   :0.07784   Mean   :2.014   Mean   :0.1103   Mean   :60.65  \n",
       " 3rd Qu.:0.00000   3rd Qu.:3.000   3rd Qu.:0.0000   3rd Qu.:67.00  \n",
       " Max.   :1.00000   Max.   :4.000   Max.   :1.0000   Max.   :81.00  \n",
       "                   NA's   :82                                      \n",
       "      bmi             sex        \n",
       " Min.   :14.43   Min.   :0.0000  \n",
       " 1st Qu.:23.19   1st Qu.:0.0000  \n",
       " Median :25.46   Median :0.0000  \n",
       " Mean   :25.89   Mean   :0.4251  \n",
       " 3rd Qu.:28.06   3rd Qu.:1.0000  \n",
       " Max.   :56.80   Max.   :1.0000  \n",
       " NA's   :17                      "
      ]
     },
     "metadata": {},
     "output_type": "display_data"
    }
   ],
   "source": [
    "summary(df)"
   ]
  },
  {
   "cell_type": "code",
   "execution_count": 26,
   "metadata": {
    "vscode": {
     "languageId": "r"
    }
   },
   "outputs": [],
   "source": [
    "df <- cbind(df, dummy_cols(df$educ, remove_first_dummy = TRUE))"
   ]
  },
  {
   "cell_type": "code",
   "execution_count": 27,
   "metadata": {
    "vscode": {
     "languageId": "r"
    }
   },
   "outputs": [
    {
     "data": {
      "text/html": [
       "<style>\n",
       ".list-inline {list-style: none; margin:0; padding: 0}\n",
       ".list-inline>li {display: inline-block}\n",
       ".list-inline>li:not(:last-child)::after {content: \"\\00b7\"; padding: 0 .5ex}\n",
       "</style>\n",
       "<ol class=list-inline><li>'randid'</li><li>'TimeDeathYears'</li><li>'death'</li><li>'cursmoke'</li><li>'diabetes'</li><li>'educ'</li><li>'prevchd'</li><li>'age'</li><li>'bmi'</li><li>'sex'</li><li>'.data'</li><li>'.data_2'</li><li>'.data_3'</li><li>'.data_4'</li><li>'.data_NA'</li></ol>\n"
      ],
      "text/latex": [
       "\\begin{enumerate*}\n",
       "\\item 'randid'\n",
       "\\item 'TimeDeathYears'\n",
       "\\item 'death'\n",
       "\\item 'cursmoke'\n",
       "\\item 'diabetes'\n",
       "\\item 'educ'\n",
       "\\item 'prevchd'\n",
       "\\item 'age'\n",
       "\\item 'bmi'\n",
       "\\item 'sex'\n",
       "\\item '.data'\n",
       "\\item '.data\\_2'\n",
       "\\item '.data\\_3'\n",
       "\\item '.data\\_4'\n",
       "\\item '.data\\_NA'\n",
       "\\end{enumerate*}\n"
      ],
      "text/markdown": [
       "1. 'randid'\n",
       "2. 'TimeDeathYears'\n",
       "3. 'death'\n",
       "4. 'cursmoke'\n",
       "5. 'diabetes'\n",
       "6. 'educ'\n",
       "7. 'prevchd'\n",
       "8. 'age'\n",
       "9. 'bmi'\n",
       "10. 'sex'\n",
       "11. '.data'\n",
       "12. '.data_2'\n",
       "13. '.data_3'\n",
       "14. '.data_4'\n",
       "15. '.data_NA'\n",
       "\n",
       "\n"
      ],
      "text/plain": [
       " [1] \"randid\"         \"TimeDeathYears\" \"death\"          \"cursmoke\"      \n",
       " [5] \"diabetes\"       \"educ\"           \"prevchd\"        \"age\"           \n",
       " [9] \"bmi\"            \"sex\"            \".data\"          \".data_2\"       \n",
       "[13] \".data_3\"        \".data_4\"        \".data_NA\"      "
      ]
     },
     "metadata": {},
     "output_type": "display_data"
    }
   ],
   "source": [
    "colnames(df)"
   ]
  },
  {
   "cell_type": "code",
   "execution_count": 28,
   "metadata": {
    "vscode": {
     "languageId": "r"
    }
   },
   "outputs": [],
   "source": [
    "df <- rename(df, \n",
    "        #\"0-11 years\"= '.data_1', \n",
    "        \"HSdiploma.or.GED\" = '.data_2', \n",
    "        \"some.college\" = '.data_3', \n",
    "        \"college.degree\" = '.data_4'\n",
    "            )"
   ]
  },
  {
   "cell_type": "code",
   "execution_count": 29,
   "metadata": {
    "vscode": {
     "languageId": "r"
    }
   },
   "outputs": [],
   "source": [
    "df <- subset(df, select = -c(.data,.data_NA))"
   ]
  },
  {
   "cell_type": "code",
   "execution_count": 30,
   "metadata": {
    "vscode": {
     "languageId": "r"
    }
   },
   "outputs": [
    {
     "data": {
      "text/html": [
       "<table class=\"dataframe\">\n",
       "<caption>A data.frame: 6 × 13</caption>\n",
       "<thead>\n",
       "\t<tr><th></th><th scope=col>randid</th><th scope=col>TimeDeathYears</th><th scope=col>death</th><th scope=col>cursmoke</th><th scope=col>diabetes</th><th scope=col>educ</th><th scope=col>prevchd</th><th scope=col>age</th><th scope=col>bmi</th><th scope=col>sex</th><th scope=col>HSdiploma.or.GED</th><th scope=col>some.college</th><th scope=col>college.degree</th></tr>\n",
       "\t<tr><th></th><th scope=col>&lt;int&gt;</th><th scope=col>&lt;int&gt;</th><th scope=col>&lt;int&gt;</th><th scope=col>&lt;int&gt;</th><th scope=col>&lt;int&gt;</th><th scope=col>&lt;int&gt;</th><th scope=col>&lt;int&gt;</th><th scope=col>&lt;int&gt;</th><th scope=col>&lt;dbl&gt;</th><th scope=col>&lt;int&gt;</th><th scope=col>&lt;int&gt;</th><th scope=col>&lt;int&gt;</th><th scope=col>&lt;int&gt;</th></tr>\n",
       "</thead>\n",
       "<tbody>\n",
       "\t<tr><th scope=row>1</th><td> 2448</td><td>15</td><td>0</td><td>0</td><td>0</td><td>4</td><td>0</td><td>52</td><td>   NA</td><td>1</td><td>0</td><td>0</td><td>1</td></tr>\n",
       "\t<tr><th scope=row>2</th><td> 6238</td><td>15</td><td>0</td><td>0</td><td>0</td><td>2</td><td>0</td><td>58</td><td>28.50</td><td>0</td><td>1</td><td>0</td><td>0</td></tr>\n",
       "\t<tr><th scope=row>3</th><td>11252</td><td>15</td><td>0</td><td>1</td><td>0</td><td>3</td><td>0</td><td>58</td><td>24.61</td><td>0</td><td>0</td><td>1</td><td>0</td></tr>\n",
       "\t<tr><th scope=row>4</th><td>11263</td><td>15</td><td>0</td><td>0</td><td>1</td><td>2</td><td>0</td><td>55</td><td>31.17</td><td>0</td><td>1</td><td>0</td><td>0</td></tr>\n",
       "\t<tr><th scope=row>5</th><td>12806</td><td>15</td><td>0</td><td>1</td><td>0</td><td>2</td><td>0</td><td>57</td><td>22.02</td><td>0</td><td>1</td><td>0</td><td>0</td></tr>\n",
       "\t<tr><th scope=row>6</th><td>14367</td><td>15</td><td>0</td><td>0</td><td>0</td><td>1</td><td>0</td><td>64</td><td>25.72</td><td>1</td><td>0</td><td>0</td><td>0</td></tr>\n",
       "</tbody>\n",
       "</table>\n"
      ],
      "text/latex": [
       "A data.frame: 6 × 13\n",
       "\\begin{tabular}{r|lllllllllllll}\n",
       "  & randid & TimeDeathYears & death & cursmoke & diabetes & educ & prevchd & age & bmi & sex & HSdiploma.or.GED & some.college & college.degree\\\\\n",
       "  & <int> & <int> & <int> & <int> & <int> & <int> & <int> & <int> & <dbl> & <int> & <int> & <int> & <int>\\\\\n",
       "\\hline\n",
       "\t1 &  2448 & 15 & 0 & 0 & 0 & 4 & 0 & 52 &    NA & 1 & 0 & 0 & 1\\\\\n",
       "\t2 &  6238 & 15 & 0 & 0 & 0 & 2 & 0 & 58 & 28.50 & 0 & 1 & 0 & 0\\\\\n",
       "\t3 & 11252 & 15 & 0 & 1 & 0 & 3 & 0 & 58 & 24.61 & 0 & 0 & 1 & 0\\\\\n",
       "\t4 & 11263 & 15 & 0 & 0 & 1 & 2 & 0 & 55 & 31.17 & 0 & 1 & 0 & 0\\\\\n",
       "\t5 & 12806 & 15 & 0 & 1 & 0 & 2 & 0 & 57 & 22.02 & 0 & 1 & 0 & 0\\\\\n",
       "\t6 & 14367 & 15 & 0 & 0 & 0 & 1 & 0 & 64 & 25.72 & 1 & 0 & 0 & 0\\\\\n",
       "\\end{tabular}\n"
      ],
      "text/markdown": [
       "\n",
       "A data.frame: 6 × 13\n",
       "\n",
       "| <!--/--> | randid &lt;int&gt; | TimeDeathYears &lt;int&gt; | death &lt;int&gt; | cursmoke &lt;int&gt; | diabetes &lt;int&gt; | educ &lt;int&gt; | prevchd &lt;int&gt; | age &lt;int&gt; | bmi &lt;dbl&gt; | sex &lt;int&gt; | HSdiploma.or.GED &lt;int&gt; | some.college &lt;int&gt; | college.degree &lt;int&gt; |\n",
       "|---|---|---|---|---|---|---|---|---|---|---|---|---|---|\n",
       "| 1 |  2448 | 15 | 0 | 0 | 0 | 4 | 0 | 52 |    NA | 1 | 0 | 0 | 1 |\n",
       "| 2 |  6238 | 15 | 0 | 0 | 0 | 2 | 0 | 58 | 28.50 | 0 | 1 | 0 | 0 |\n",
       "| 3 | 11252 | 15 | 0 | 1 | 0 | 3 | 0 | 58 | 24.61 | 0 | 0 | 1 | 0 |\n",
       "| 4 | 11263 | 15 | 0 | 0 | 1 | 2 | 0 | 55 | 31.17 | 0 | 1 | 0 | 0 |\n",
       "| 5 | 12806 | 15 | 0 | 1 | 0 | 2 | 0 | 57 | 22.02 | 0 | 1 | 0 | 0 |\n",
       "| 6 | 14367 | 15 | 0 | 0 | 0 | 1 | 0 | 64 | 25.72 | 1 | 0 | 0 | 0 |\n",
       "\n"
      ],
      "text/plain": [
       "  randid TimeDeathYears death cursmoke diabetes educ prevchd age bmi   sex\n",
       "1  2448  15             0     0        0        4    0       52     NA 1  \n",
       "2  6238  15             0     0        0        2    0       58  28.50 0  \n",
       "3 11252  15             0     1        0        3    0       58  24.61 0  \n",
       "4 11263  15             0     0        1        2    0       55  31.17 0  \n",
       "5 12806  15             0     1        0        2    0       57  22.02 0  \n",
       "6 14367  15             0     0        0        1    0       64  25.72 1  \n",
       "  HSdiploma.or.GED some.college college.degree\n",
       "1 0                0            1             \n",
       "2 1                0            0             \n",
       "3 0                1            0             \n",
       "4 1                0            0             \n",
       "5 1                0            0             \n",
       "6 0                0            0             "
      ]
     },
     "metadata": {},
     "output_type": "display_data"
    }
   ],
   "source": [
    "head(df)"
   ]
  },
  {
   "cell_type": "code",
   "execution_count": 34,
   "metadata": {
    "vscode": {
     "languageId": "r"
    }
   },
   "outputs": [
    {
     "data": {
      "text/plain": [
       "Call:\n",
       "coxph(formula = Surv(TimeDeathYears, death) ~ cursmoke + diabetes + \n",
       "    prevchd + age + bmi + sex + HSdiploma.or.GED + some.college + \n",
       "    college.degree, data = df)\n",
       "\n",
       "  n= 3165, number of events= 746 \n",
       "   (98 observations deleted due to missingness)\n",
       "\n",
       "                      coef exp(coef)  se(coef)      z Pr(>|z|)    \n",
       "cursmoke          0.432597  1.541256  0.081165  5.330 9.83e-08 ***\n",
       "diabetes          0.741622  2.099338  0.100251  7.398 1.39e-13 ***\n",
       "prevchd           0.790013  2.203425  0.086862  9.095  < 2e-16 ***\n",
       "age               0.092917  1.097370  0.005068 18.333  < 2e-16 ***\n",
       "bmi              -0.012792  0.987290  0.009667 -1.323  0.18575    \n",
       "sex               0.672732  1.959583  0.075393  8.923  < 2e-16 ***\n",
       "HSdiploma.or.GED -0.007861  0.992169  0.092149 -0.085  0.93201    \n",
       "some.college     -0.158231  0.853652  0.111205 -1.423  0.15477    \n",
       "college.degree   -0.454487  0.634773  0.131159 -3.465  0.00053 ***\n",
       "---\n",
       "Signif. codes:  0 '***' 0.001 '**' 0.01 '*' 0.05 '.' 0.1 ' ' 1\n",
       "\n",
       "                 exp(coef) exp(-coef) lower .95 upper .95\n",
       "cursmoke            1.5413     0.6488    1.3146    1.8070\n",
       "diabetes            2.0993     0.4763    1.7248    2.5551\n",
       "prevchd             2.2034     0.4538    1.8585    2.6124\n",
       "age                 1.0974     0.9113    1.0865    1.1083\n",
       "bmi                 0.9873     1.0129    0.9688    1.0062\n",
       "sex                 1.9596     0.5103    1.6904    2.2716\n",
       "HSdiploma.or.GED    0.9922     1.0079    0.8282    1.1886\n",
       "some.college        0.8537     1.1714    0.6865    1.0615\n",
       "college.degree      0.6348     1.5754    0.4909    0.8208\n",
       "\n",
       "Concordance= 0.761  (se = 0.009 )\n",
       "Likelihood ratio test= 688.4  on 9 df,   p=<2e-16\n",
       "Wald test            = 686.8  on 9 df,   p=<2e-16\n",
       "Score (logrank) test = 783.3  on 9 df,   p=<2e-16\n"
      ]
     },
     "metadata": {},
     "output_type": "display_data"
    }
   ],
   "source": [
    "cox.model <- coxph(\n",
    "                    Surv(TimeDeathYears, death) ~ \n",
    "                    cursmoke + diabetes + prevchd + \n",
    "                    age + bmi + sex + HSdiploma.or.GED + \n",
    "                    some.college + college.degree,\n",
    "                    data=df\n",
    "                    )\n",
    "\n",
    "summary(cox.model)"
   ]
  },
  {
   "cell_type": "code",
   "execution_count": 35,
   "metadata": {
    "vscode": {
     "languageId": "r"
    }
   },
   "outputs": [],
   "source": [
    "curvy.survival.diabetes <- survfit(\n",
    "                                    Surv(TimeDeathYears, death) ~ \n",
    "                                    diabetes, \n",
    "                                    data=df\n",
    "                                    )"
   ]
  },
  {
   "cell_type": "code",
   "execution_count": 51,
   "metadata": {
    "vscode": {
     "languageId": "r"
    }
   },
   "outputs": [
    {
     "data": {
      "image/png": "[encoded data removed]",
      "text/plain": [
       "plot without title"
      ]
     },
     "metadata": {
      "image/png": {
       "height": 420,
       "width": 420
      }
     },
     "output_type": "display_data"
    }
   ],
   "source": [
    "plot(\n",
    "    curvy.survival.diabetes, \n",
    "    xlab='Time (years)', \n",
    "    ylab='Proportion Still Alive',\n",
    "    lwd=2,\n",
    "    conf.int=F, \n",
    "    col = c('green','red')\n",
    "    ) \n",
    "\n",
    "legend(\n",
    "    'bottomleft',\n",
    "    #legend=df$'diabetes',\n",
    "    legend = c('No Diabetes','Diabetes'),\n",
    "    col=c('green','red'),\n",
    "    lwd=2,bty='n'\n",
    "    )"
   ]
  },
  {
   "cell_type": "markdown",
   "metadata": {},
   "source": [
    "1. Fully interpret the hazard ratios for each IV (p-values, HR, and 95% HR are boxed on the table above) and the survival curve."
   ]
  },
  {
   "cell_type": "markdown",
   "metadata": {},
   "source": [
    "---"
   ]
  },
  {
   "cell_type": "markdown",
   "metadata": {},
   "source": [
    "## Part 2\n",
    "\n",
    "Run Kaplan Meier analyses with “Time Since Baseline” as the Time to Event variable, and death as the Event Status Variable.  Run five separate analyses (survival curves) with each of the categorical variables as the “Factor” variable. You can only include one IV at a time, so you’ll need to run it five times (one for each IV) to get the results. You can’t used this procedure for the continuous numerical variables (age, bmi).\n"
   ]
  },
  {
   "cell_type": "code",
   "execution_count": 52,
   "metadata": {
    "vscode": {
     "languageId": "r"
    }
   },
   "outputs": [
    {
     "data": {
      "text/html": [
       "<style>\n",
       ".list-inline {list-style: none; margin:0; padding: 0}\n",
       ".list-inline>li {display: inline-block}\n",
       ".list-inline>li:not(:last-child)::after {content: \"\\00b7\"; padding: 0 .5ex}\n",
       "</style>\n",
       "<ol class=list-inline><li>'randid'</li><li>'TimeDeathYears'</li><li>'death'</li><li>'cursmoke'</li><li>'diabetes'</li><li>'educ'</li><li>'prevchd'</li><li>'age'</li><li>'bmi'</li><li>'sex'</li><li>'HSdiploma.or.GED'</li><li>'some.college'</li><li>'college.degree'</li></ol>\n"
      ],
      "text/latex": [
       "\\begin{enumerate*}\n",
       "\\item 'randid'\n",
       "\\item 'TimeDeathYears'\n",
       "\\item 'death'\n",
       "\\item 'cursmoke'\n",
       "\\item 'diabetes'\n",
       "\\item 'educ'\n",
       "\\item 'prevchd'\n",
       "\\item 'age'\n",
       "\\item 'bmi'\n",
       "\\item 'sex'\n",
       "\\item 'HSdiploma.or.GED'\n",
       "\\item 'some.college'\n",
       "\\item 'college.degree'\n",
       "\\end{enumerate*}\n"
      ],
      "text/markdown": [
       "1. 'randid'\n",
       "2. 'TimeDeathYears'\n",
       "3. 'death'\n",
       "4. 'cursmoke'\n",
       "5. 'diabetes'\n",
       "6. 'educ'\n",
       "7. 'prevchd'\n",
       "8. 'age'\n",
       "9. 'bmi'\n",
       "10. 'sex'\n",
       "11. 'HSdiploma.or.GED'\n",
       "12. 'some.college'\n",
       "13. 'college.degree'\n",
       "\n",
       "\n"
      ],
      "text/plain": [
       " [1] \"randid\"           \"TimeDeathYears\"   \"death\"            \"cursmoke\"        \n",
       " [5] \"diabetes\"         \"educ\"             \"prevchd\"          \"age\"             \n",
       " [9] \"bmi\"              \"sex\"              \"HSdiploma.or.GED\" \"some.college\"    \n",
       "[13] \"college.degree\"  "
      ]
     },
     "metadata": {},
     "output_type": "display_data"
    }
   ],
   "source": [
    "colnames(df)"
   ]
  },
  {
   "cell_type": "code",
   "execution_count": 68,
   "metadata": {
    "vscode": {
     "languageId": "r"
    }
   },
   "outputs": [],
   "source": [
    "df$smoke <- factor(df$cursmoke)"
   ]
  },
  {
   "cell_type": "code",
   "execution_count": 69,
   "metadata": {
    "vscode": {
     "languageId": "r"
    }
   },
   "outputs": [],
   "source": [
    "km.cursmoke.0 <- survfit(Surv(TimeDeathYears, death) ~ 1, data = df)\n",
    "km.cursmoke.1 <- survfit(Surv(TimeDeathYears, death) ~\n",
    "smoke, data=df\n",
    ")"
   ]
  },
  {
   "cell_type": "code",
   "execution_count": 70,
   "metadata": {
    "vscode": {
     "languageId": "r"
    }
   },
   "outputs": [
    {
     "data": {
      "text/plain": [
       "Call: survfit(formula = Surv(TimeDeathYears, death) ~ smoke, data = df)\n",
       "\n",
       "           n events median 0.95LCL 0.95UCL\n",
       "smoke=0 2142    501     NA      NA      NA\n",
       "smoke=1 1121    274     NA      NA      NA"
      ]
     },
     "metadata": {},
     "output_type": "display_data"
    }
   ],
   "source": [
    "km.cursmoke.1"
   ]
  },
  {
   "cell_type": "code",
   "execution_count": 71,
   "metadata": {
    "vscode": {
     "languageId": "r"
    }
   },
   "outputs": [
    {
     "data": {
      "image/png": "[encoded data removed]",
      "text/plain": [
       "plot without title"
      ]
     },
     "metadata": {
      "image/png": {
       "height": 420,
       "width": 420
      }
     },
     "output_type": "display_data"
    }
   ],
   "source": [
    "plot(km.cursmoke.1)"
   ]
  },
  {
   "cell_type": "code",
   "execution_count": 72,
   "metadata": {
    "vscode": {
     "languageId": "r"
    }
   },
   "outputs": [
    {
     "name": "stdout",
     "output_type": "stream",
     "text": [
      "Call: survfit(formula = Surv(TimeDeathYears, death) ~ smoke, data = df)\n",
      "\n",
      "           n events rmean* se(rmean) median 0.95LCL 0.95UCL\n",
      "smoke=0 2142    501   13.6    0.0649     NA      NA      NA\n",
      "smoke=1 1121    274   13.5    0.0922     NA      NA      NA\n",
      "    * restricted mean with upper limit =  15 \n"
     ]
    }
   ],
   "source": [
    "print(km.cursmoke.1, print.rmean = T)"
   ]
  },
  {
   "cell_type": "code",
   "execution_count": 73,
   "metadata": {
    "vscode": {
     "languageId": "r"
    }
   },
   "outputs": [
    {
     "data": {
      "text/html": [
       "<dl>\n",
       "\t<dt>$quantile</dt>\n",
       "\t\t<dd><table class=\"dataframe\">\n",
       "<caption>A matrix: 2 × 1 of type dbl</caption>\n",
       "<thead>\n",
       "\t<tr><th></th><th scope=col>50</th></tr>\n",
       "</thead>\n",
       "<tbody>\n",
       "\t<tr><th scope=row>smoke=0</th><td>NA</td></tr>\n",
       "\t<tr><th scope=row>smoke=1</th><td>NA</td></tr>\n",
       "</tbody>\n",
       "</table>\n",
       "</dd>\n",
       "\t<dt>$lower</dt>\n",
       "\t\t<dd><table class=\"dataframe\">\n",
       "<caption>A matrix: 2 × 1 of type dbl</caption>\n",
       "<thead>\n",
       "\t<tr><th></th><th scope=col>50</th></tr>\n",
       "</thead>\n",
       "<tbody>\n",
       "\t<tr><th scope=row>smoke=0</th><td>NA</td></tr>\n",
       "\t<tr><th scope=row>smoke=1</th><td>NA</td></tr>\n",
       "</tbody>\n",
       "</table>\n",
       "</dd>\n",
       "\t<dt>$upper</dt>\n",
       "\t\t<dd><table class=\"dataframe\">\n",
       "<caption>A matrix: 2 × 1 of type dbl</caption>\n",
       "<thead>\n",
       "\t<tr><th></th><th scope=col>50</th></tr>\n",
       "</thead>\n",
       "<tbody>\n",
       "\t<tr><th scope=row>smoke=0</th><td>NA</td></tr>\n",
       "\t<tr><th scope=row>smoke=1</th><td>NA</td></tr>\n",
       "</tbody>\n",
       "</table>\n",
       "</dd>\n",
       "</dl>\n"
      ],
      "text/latex": [
       "\\begin{description}\n",
       "\\item[\\$quantile] A matrix: 2 × 1 of type dbl\n",
       "\\begin{tabular}{r|l}\n",
       "  & 50\\\\\n",
       "\\hline\n",
       "\tsmoke=0 & NA\\\\\n",
       "\tsmoke=1 & NA\\\\\n",
       "\\end{tabular}\n",
       "\n",
       "\\item[\\$lower] A matrix: 2 × 1 of type dbl\n",
       "\\begin{tabular}{r|l}\n",
       "  & 50\\\\\n",
       "\\hline\n",
       "\tsmoke=0 & NA\\\\\n",
       "\tsmoke=1 & NA\\\\\n",
       "\\end{tabular}\n",
       "\n",
       "\\item[\\$upper] A matrix: 2 × 1 of type dbl\n",
       "\\begin{tabular}{r|l}\n",
       "  & 50\\\\\n",
       "\\hline\n",
       "\tsmoke=0 & NA\\\\\n",
       "\tsmoke=1 & NA\\\\\n",
       "\\end{tabular}\n",
       "\n",
       "\\end{description}\n"
      ],
      "text/markdown": [
       "$quantile\n",
       ":   \n",
       "A matrix: 2 × 1 of type dbl\n",
       "\n",
       "| <!--/--> | 50 |\n",
       "|---|---|\n",
       "| smoke=0 | NA |\n",
       "| smoke=1 | NA |\n",
       "\n",
       "\n",
       "$lower\n",
       ":   \n",
       "A matrix: 2 × 1 of type dbl\n",
       "\n",
       "| <!--/--> | 50 |\n",
       "|---|---|\n",
       "| smoke=0 | NA |\n",
       "| smoke=1 | NA |\n",
       "\n",
       "\n",
       "$upper\n",
       ":   \n",
       "A matrix: 2 × 1 of type dbl\n",
       "\n",
       "| <!--/--> | 50 |\n",
       "|---|---|\n",
       "| smoke=0 | NA |\n",
       "| smoke=1 | NA |\n",
       "\n",
       "\n",
       "\n",
       "\n"
      ],
      "text/plain": [
       "$quantile\n",
       "        50\n",
       "smoke=0 NA\n",
       "smoke=1 NA\n",
       "\n",
       "$lower\n",
       "        50\n",
       "smoke=0 NA\n",
       "smoke=1 NA\n",
       "\n",
       "$upper\n",
       "        50\n",
       "smoke=0 NA\n",
       "smoke=1 NA\n"
      ]
     },
     "metadata": {},
     "output_type": "display_data"
    }
   ],
   "source": [
    "quantile(km.cursmoke.1, probs = c(0.5))"
   ]
  },
  {
   "cell_type": "markdown",
   "metadata": {},
   "source": [
    "---"
   ]
  },
  {
   "cell_type": "markdown",
   "metadata": {},
   "source": [
    "1. For each Kaplan Meier Analysis:\n",
    "\n",
    "    • Interpret the summary: \n",
    "\n",
    "        > print(MODEL_NAME)\n",
    "\n",
    "    • Calculate and interpret the mean survival time: \n",
    "\n",
    "        > print(MODEL_NAME, print.rmean = TRUE)\n",
    "\n",
    "    • Calculate and interpret the median survival time: \n",
    "\n",
    "        > quantile(MODEL_NAME, probs = c(0.5))\n",
    "\n",
    "    • Calculate and interpret the Log Rank Mantel-Cox Test\n",
    "\n",
    "        > log_rank_test_IV <- survdiff(Surv(Time to Event Variable, Event Status Variable) ~ IV, data = data)\n",
    "\n",
    "        > print(log_rank_test_IV)\n",
    "\n",
    "    • Survival Curves – estimate survival probability at 10 years for each group in the respective plots.\n",
    "\n",
    "    • Compare and contrast these results for each of the categorical variables.\n"
   ]
  },
  {
   "cell_type": "code",
   "execution_count": null,
   "metadata": {
    "vscode": {
     "languageId": "r"
    }
   },
   "outputs": [],
   "source": []
  },
  {
   "cell_type": "markdown",
   "metadata": {},
   "source": [
    "---"
   ]
  },
  {
   "cell_type": "markdown",
   "metadata": {},
   "source": [
    "2. Compare and contrast the “Log Rank Mantel-Cox Test” for each Kaplan Meier analysis to the model fit statistics from the Cox Proportional Hazards Regression Do the results from each align with each other? Describe why or why not. In other words, are the results you get from one expected, based on the results of the other?\n"
   ]
  },
  {
   "cell_type": "markdown",
   "metadata": {},
   "source": [
    "---"
   ]
  },
  {
   "cell_type": "markdown",
   "metadata": {},
   "source": [
    "3. Finally, describe situations when you would use these two analyses. When would you use a Cox Regression and when would you use a Kaplan Meier analysis? Is one better than the other?"
   ]
  },
  {
   "cell_type": "markdown",
   "metadata": {},
   "source": []
  }
 ],
 "metadata": {
  "kernelspec": {
   "display_name": "R",
   "language": "R",
   "name": "ir"
  },
  "language_info": {
   "codemirror_mode": "r",
   "file_extension": ".r",
   "mimetype": "text/x-r-source",
   "name": "R",
   "pygments_lexer": "r",
   "version": "4.2.2"
  }
 },
 "nbformat": 4,
 "nbformat_minor": 2
}
