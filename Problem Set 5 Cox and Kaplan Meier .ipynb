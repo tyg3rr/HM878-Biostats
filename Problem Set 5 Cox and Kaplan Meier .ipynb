{
 "cells": [
  {
   "cell_type": "markdown",
   "metadata": {},
   "source": [
    "## Project #5: Survival Analysis: Cox Proportional Hazards Regression and Kaplan Meier Analysis\n",
    "\n",
    "Lillian Jensen"
   ]
  },
  {
   "cell_type": "markdown",
   "metadata": {},
   "source": [
    "**Goal**\n",
    "\n",
    "Students will use R to conduct and interpret a Cox Proportional Hazards Regression and Kaplan Meier Analyses and compare the results. \n",
    "\n",
    "Note: We are using data from the Framingham Heart Study for this analysis.  Framingham is one of the longest running longitudinal studies following the same population for several decades.  You can access more about the study [here](https://www.framinghamheartstudy.org/)  if you wish to learn more about it.\n",
    "\n",
    "In this problem set, you will be comparing Kaplan Meier Analysis results with the Cox Regression results.\n"
   ]
  },
  {
   "cell_type": "markdown",
   "metadata": {},
   "source": [
    "---"
   ]
  },
  {
   "cell_type": "markdown",
   "metadata": {},
   "source": [
    "## Part 1\n",
    "\n",
    "Run a Cox Proportional Hazards Regression using the following variables from the dataset: TimeDeathYears as the “Time” variable. Death as the “Status” variable.  Use cursmoke, diabetes, educ, prevchd, age, bmi, and sex as the covariates.  For the categorical variables, make sure that not a current smoker, no diabetes, the lowest education category, no CHD, and female sex are all reference categories (All of these are the lowest coded values for each). As a refresher:\n",
    "\n",
    "Import your data, account for missing values if necessary, determine which variables are categorical (see the codebook). For categorical variables, remember to convert them to factor variables\n"
   ]
  },
  {
   "cell_type": "code",
   "execution_count": 30,
   "metadata": {
    "vscode": {
     "languageId": "r"
    }
   },
   "outputs": [],
   "source": [
    "# Setting up code environment\n",
    "suppressPackageStartupMessages(library(tidyverse))\n",
    "suppressPackageStartupMessages(library(survival))"
   ]
  },
  {
   "cell_type": "code",
   "execution_count": 31,
   "metadata": {
    "vscode": {
     "languageId": "r"
    }
   },
   "outputs": [],
   "source": [
    "df <- read.csv(\"C:\\\\Users\\\\ljens\\\\Downloads\\\\HM 878 730 Clements - Survival Analysis R Data.csv\")"
   ]
  },
  {
   "cell_type": "code",
   "execution_count": 32,
   "metadata": {
    "vscode": {
     "languageId": "r"
    }
   },
   "outputs": [
    {
     "data": {
      "text/html": [
       "<style>\n",
       ".list-inline {list-style: none; margin:0; padding: 0}\n",
       ".list-inline>li {display: inline-block}\n",
       ".list-inline>li:not(:last-child)::after {content: \"\\00b7\"; padding: 0 .5ex}\n",
       "</style>\n",
       "<ol class=list-inline><li>'randid'</li><li>'TimeDeathYears'</li><li>'death'</li><li>'cursmoke'</li><li>'diabetes'</li><li>'educ'</li><li>'prevchd'</li><li>'age'</li><li>'bmi'</li><li>'sex'</li></ol>\n"
      ],
      "text/latex": [
       "\\begin{enumerate*}\n",
       "\\item 'randid'\n",
       "\\item 'TimeDeathYears'\n",
       "\\item 'death'\n",
       "\\item 'cursmoke'\n",
       "\\item 'diabetes'\n",
       "\\item 'educ'\n",
       "\\item 'prevchd'\n",
       "\\item 'age'\n",
       "\\item 'bmi'\n",
       "\\item 'sex'\n",
       "\\end{enumerate*}\n"
      ],
      "text/markdown": [
       "1. 'randid'\n",
       "2. 'TimeDeathYears'\n",
       "3. 'death'\n",
       "4. 'cursmoke'\n",
       "5. 'diabetes'\n",
       "6. 'educ'\n",
       "7. 'prevchd'\n",
       "8. 'age'\n",
       "9. 'bmi'\n",
       "10. 'sex'\n",
       "\n",
       "\n"
      ],
      "text/plain": [
       " [1] \"randid\"         \"TimeDeathYears\" \"death\"          \"cursmoke\"      \n",
       " [5] \"diabetes\"       \"educ\"           \"prevchd\"        \"age\"           \n",
       " [9] \"bmi\"            \"sex\"           "
      ]
     },
     "metadata": {},
     "output_type": "display_data"
    }
   ],
   "source": [
    "colnames(df)"
   ]
  },
  {
   "cell_type": "code",
   "execution_count": 33,
   "metadata": {
    "vscode": {
     "languageId": "r"
    }
   },
   "outputs": [
    {
     "data": {
      "text/plain": [
       "     randid        TimeDeathYears      death           cursmoke     \n",
       " Min.   :   2448   Min.   : 2.00   Min.   :0.0000   Min.   :0.0000  \n",
       " 1st Qu.:2509944   1st Qu.:15.00   1st Qu.:0.0000   1st Qu.:0.0000  \n",
       " Median :5050572   Median :15.00   Median :0.0000   Median :0.0000  \n",
       " Mean   :5028933   Mean   :13.57   Mean   :0.2375   Mean   :0.3435  \n",
       " 3rd Qu.:7501310   3rd Qu.:15.00   3rd Qu.:0.0000   3rd Qu.:1.0000  \n",
       " Max.   :9999312   Max.   :15.00   Max.   :1.0000   Max.   :1.0000  \n",
       "                                                                    \n",
       "    diabetes            educ          prevchd            age       \n",
       " Min.   :0.00000   Min.   :1.000   Min.   :0.0000   Min.   :44.00  \n",
       " 1st Qu.:0.00000   1st Qu.:1.000   1st Qu.:0.0000   1st Qu.:54.00  \n",
       " Median :0.00000   Median :2.000   Median :0.0000   Median :60.00  \n",
       " Mean   :0.07784   Mean   :2.014   Mean   :0.1103   Mean   :60.65  \n",
       " 3rd Qu.:0.00000   3rd Qu.:3.000   3rd Qu.:0.0000   3rd Qu.:67.00  \n",
       " Max.   :1.00000   Max.   :4.000   Max.   :1.0000   Max.   :81.00  \n",
       "                   NA's   :82                                      \n",
       "      bmi             sex        \n",
       " Min.   :14.43   Min.   :0.0000  \n",
       " 1st Qu.:23.19   1st Qu.:0.0000  \n",
       " Median :25.46   Median :0.0000  \n",
       " Mean   :25.89   Mean   :0.4251  \n",
       " 3rd Qu.:28.06   3rd Qu.:1.0000  \n",
       " Max.   :56.80   Max.   :1.0000  \n",
       " NA's   :17                      "
      ]
     },
     "metadata": {},
     "output_type": "display_data"
    }
   ],
   "source": [
    "summary(df)"
   ]
  },
  {
   "cell_type": "code",
   "execution_count": 34,
   "metadata": {
    "vscode": {
     "languageId": "r"
    }
   },
   "outputs": [],
   "source": [
    "df$cursmoke <- factor(df$cursmoke, levels = c(0,1), labels = c('Not a smoker','Smoker'))\n",
    "df$diabetes <- factor(df$diabetes, levels = c(0, 1), labels = c(\"Not diabetic\", \"Diabetic\"))\n",
    "df$educ <- factor(df$educ, levels = c(1, 2, 3, 4),\n",
    "                  labels = c(\"0-11 years\", \"HSdiploma.or.GED\", \n",
    "                             \"some.college\",\n",
    "                             \"college.degree\"))\n",
    "df$prevchd <- factor(df$prevchd, levels = c(0, 1), labels = c(\"No\", \"Yes\"))\n",
    "df$sex <- factor(df$sex, levels = c(0, 1), labels = c(\"Female\", \"Male\"))"
   ]
  },
  {
   "cell_type": "code",
   "execution_count": 38,
   "metadata": {
    "vscode": {
     "languageId": "r"
    }
   },
   "outputs": [
    {
     "data": {
      "text/html": [
       "<table class=\"dataframe\">\n",
       "<caption>A data.frame: 6 × 10</caption>\n",
       "<thead>\n",
       "\t<tr><th></th><th scope=col>randid</th><th scope=col>TimeDeathYears</th><th scope=col>death</th><th scope=col>cursmoke</th><th scope=col>diabetes</th><th scope=col>educ</th><th scope=col>prevchd</th><th scope=col>age</th><th scope=col>bmi</th><th scope=col>sex</th></tr>\n",
       "\t<tr><th></th><th scope=col>&lt;int&gt;</th><th scope=col>&lt;int&gt;</th><th scope=col>&lt;int&gt;</th><th scope=col>&lt;fct&gt;</th><th scope=col>&lt;fct&gt;</th><th scope=col>&lt;fct&gt;</th><th scope=col>&lt;fct&gt;</th><th scope=col>&lt;int&gt;</th><th scope=col>&lt;dbl&gt;</th><th scope=col>&lt;fct&gt;</th></tr>\n",
       "</thead>\n",
       "<tbody>\n",
       "\t<tr><th scope=row>1</th><td> 2448</td><td>15</td><td>0</td><td>Not a smoker</td><td>Not diabetic</td><td>college.degree  </td><td>No</td><td>52</td><td>   NA</td><td>Male  </td></tr>\n",
       "\t<tr><th scope=row>2</th><td> 6238</td><td>15</td><td>0</td><td>Not a smoker</td><td>Not diabetic</td><td>HSdiploma.or.GED</td><td>No</td><td>58</td><td>28.50</td><td>Female</td></tr>\n",
       "\t<tr><th scope=row>3</th><td>11252</td><td>15</td><td>0</td><td>Smoker      </td><td>Not diabetic</td><td>some.college    </td><td>No</td><td>58</td><td>24.61</td><td>Female</td></tr>\n",
       "\t<tr><th scope=row>4</th><td>11263</td><td>15</td><td>0</td><td>Not a smoker</td><td>Diabetic    </td><td>HSdiploma.or.GED</td><td>No</td><td>55</td><td>31.17</td><td>Female</td></tr>\n",
       "\t<tr><th scope=row>5</th><td>12806</td><td>15</td><td>0</td><td>Smoker      </td><td>Not diabetic</td><td>HSdiploma.or.GED</td><td>No</td><td>57</td><td>22.02</td><td>Female</td></tr>\n",
       "\t<tr><th scope=row>6</th><td>14367</td><td>15</td><td>0</td><td>Not a smoker</td><td>Not diabetic</td><td>0-11 years      </td><td>No</td><td>64</td><td>25.72</td><td>Male  </td></tr>\n",
       "</tbody>\n",
       "</table>\n"
      ],
      "text/latex": [
       "A data.frame: 6 × 10\n",
       "\\begin{tabular}{r|llllllllll}\n",
       "  & randid & TimeDeathYears & death & cursmoke & diabetes & educ & prevchd & age & bmi & sex\\\\\n",
       "  & <int> & <int> & <int> & <fct> & <fct> & <fct> & <fct> & <int> & <dbl> & <fct>\\\\\n",
       "\\hline\n",
       "\t1 &  2448 & 15 & 0 & Not a smoker & Not diabetic & college.degree   & No & 52 &    NA & Male  \\\\\n",
       "\t2 &  6238 & 15 & 0 & Not a smoker & Not diabetic & HSdiploma.or.GED & No & 58 & 28.50 & Female\\\\\n",
       "\t3 & 11252 & 15 & 0 & Smoker       & Not diabetic & some.college     & No & 58 & 24.61 & Female\\\\\n",
       "\t4 & 11263 & 15 & 0 & Not a smoker & Diabetic     & HSdiploma.or.GED & No & 55 & 31.17 & Female\\\\\n",
       "\t5 & 12806 & 15 & 0 & Smoker       & Not diabetic & HSdiploma.or.GED & No & 57 & 22.02 & Female\\\\\n",
       "\t6 & 14367 & 15 & 0 & Not a smoker & Not diabetic & 0-11 years       & No & 64 & 25.72 & Male  \\\\\n",
       "\\end{tabular}\n"
      ],
      "text/markdown": [
       "\n",
       "A data.frame: 6 × 10\n",
       "\n",
       "| <!--/--> | randid &lt;int&gt; | TimeDeathYears &lt;int&gt; | death &lt;int&gt; | cursmoke &lt;fct&gt; | diabetes &lt;fct&gt; | educ &lt;fct&gt; | prevchd &lt;fct&gt; | age &lt;int&gt; | bmi &lt;dbl&gt; | sex &lt;fct&gt; |\n",
       "|---|---|---|---|---|---|---|---|---|---|---|\n",
       "| 1 |  2448 | 15 | 0 | Not a smoker | Not diabetic | college.degree   | No | 52 |    NA | Male   |\n",
       "| 2 |  6238 | 15 | 0 | Not a smoker | Not diabetic | HSdiploma.or.GED | No | 58 | 28.50 | Female |\n",
       "| 3 | 11252 | 15 | 0 | Smoker       | Not diabetic | some.college     | No | 58 | 24.61 | Female |\n",
       "| 4 | 11263 | 15 | 0 | Not a smoker | Diabetic     | HSdiploma.or.GED | No | 55 | 31.17 | Female |\n",
       "| 5 | 12806 | 15 | 0 | Smoker       | Not diabetic | HSdiploma.or.GED | No | 57 | 22.02 | Female |\n",
       "| 6 | 14367 | 15 | 0 | Not a smoker | Not diabetic | 0-11 years       | No | 64 | 25.72 | Male   |\n",
       "\n"
      ],
      "text/plain": [
       "  randid TimeDeathYears death cursmoke     diabetes     educ            \n",
       "1  2448  15             0     Not a smoker Not diabetic college.degree  \n",
       "2  6238  15             0     Not a smoker Not diabetic HSdiploma.or.GED\n",
       "3 11252  15             0     Smoker       Not diabetic some.college    \n",
       "4 11263  15             0     Not a smoker Diabetic     HSdiploma.or.GED\n",
       "5 12806  15             0     Smoker       Not diabetic HSdiploma.or.GED\n",
       "6 14367  15             0     Not a smoker Not diabetic 0-11 years      \n",
       "  prevchd age bmi   sex   \n",
       "1 No      52     NA Male  \n",
       "2 No      58  28.50 Female\n",
       "3 No      58  24.61 Female\n",
       "4 No      55  31.17 Female\n",
       "5 No      57  22.02 Female\n",
       "6 No      64  25.72 Male  "
      ]
     },
     "metadata": {},
     "output_type": "display_data"
    }
   ],
   "source": [
    "head(df)"
   ]
  },
  {
   "cell_type": "markdown",
   "metadata": {},
   "source": [
    "Looks good. Let's create the Cox Proportional Hazards model"
   ]
  },
  {
   "cell_type": "code",
   "execution_count": 39,
   "metadata": {
    "vscode": {
     "languageId": "r"
    }
   },
   "outputs": [
    {
     "data": {
      "text/plain": [
       "Call:\n",
       "coxph(formula = Surv(TimeDeathYears, death) ~ cursmoke + diabetes + \n",
       "    prevchd + age + bmi + sex + educ, data = df)\n",
       "\n",
       "  n= 3165, number of events= 746 \n",
       "   (98 observations deleted due to missingness)\n",
       "\n",
       "                          coef exp(coef)  se(coef)      z Pr(>|z|)    \n",
       "cursmokeSmoker        0.432597  1.541256  0.081165  5.330 9.83e-08 ***\n",
       "diabetesDiabetic      0.741622  2.099338  0.100251  7.398 1.39e-13 ***\n",
       "prevchdYes            0.790013  2.203425  0.086862  9.095  < 2e-16 ***\n",
       "age                   0.092917  1.097370  0.005068 18.333  < 2e-16 ***\n",
       "bmi                  -0.012792  0.987290  0.009667 -1.323  0.18575    \n",
       "sexMale               0.672732  1.959583  0.075393  8.923  < 2e-16 ***\n",
       "educHSdiploma.or.GED -0.007861  0.992169  0.092149 -0.085  0.93201    \n",
       "educsome.college     -0.158231  0.853652  0.111205 -1.423  0.15477    \n",
       "educcollege.degree   -0.454487  0.634773  0.131159 -3.465  0.00053 ***\n",
       "---\n",
       "Signif. codes:  0 '***' 0.001 '**' 0.01 '*' 0.05 '.' 0.1 ' ' 1\n",
       "\n",
       "                     exp(coef) exp(-coef) lower .95 upper .95\n",
       "cursmokeSmoker          1.5413     0.6488    1.3146    1.8070\n",
       "diabetesDiabetic        2.0993     0.4763    1.7248    2.5551\n",
       "prevchdYes              2.2034     0.4538    1.8585    2.6124\n",
       "age                     1.0974     0.9113    1.0865    1.1083\n",
       "bmi                     0.9873     1.0129    0.9688    1.0062\n",
       "sexMale                 1.9596     0.5103    1.6904    2.2716\n",
       "educHSdiploma.or.GED    0.9922     1.0079    0.8282    1.1886\n",
       "educsome.college        0.8537     1.1714    0.6865    1.0615\n",
       "educcollege.degree      0.6348     1.5754    0.4909    0.8208\n",
       "\n",
       "Concordance= 0.761  (se = 0.009 )\n",
       "Likelihood ratio test= 688.4  on 9 df,   p=<2e-16\n",
       "Wald test            = 686.8  on 9 df,   p=<2e-16\n",
       "Score (logrank) test = 783.3  on 9 df,   p=<2e-16\n"
      ]
     },
     "metadata": {},
     "output_type": "display_data"
    }
   ],
   "source": [
    "cox.model <- coxph(\n",
    "                    Surv(TimeDeathYears, death) ~ \n",
    "                    cursmoke + diabetes + prevchd + \n",
    "                    age + bmi + sex + educ,\n",
    "                    data=df\n",
    "                    )\n",
    "\n",
    "summary(cox.model)"
   ]
  },
  {
   "cell_type": "markdown",
   "metadata": {},
   "source": [
    "**Interpretation**"
   ]
  },
  {
   "cell_type": "markdown",
   "metadata": {},
   "source": [
    "_________________________exp(coef) exp(-coef)  lower .95  upper .95    z Pr(>|z|) \n",
    "\n",
    "\n",
    "cursmoke_______________1.5413     0.6488    1.3146    1.8070    5.330 9.83e-08 ***\n",
    "\n",
    "        Current smokers had 54% higher risk of dying compared to the reference category (nonsmokers). These results were significant, with p-value < 0.000\n",
    "         \n",
    "diabetes_______________2.0993     0.4763    1.7248    2.5551    7.398 1.39e-13 ***\n",
    "\n",
    "        Folks with diabetes had 110% higher risk of dying compared to the reference category (no diabetes). These results were significant, with p-value < 0.000\n",
    "\n",
    "prevchd________________2.2034     0.4538    1.8585    2.6124    9.095  < 2e-16 ***\n",
    "\n",
    "        The presence of congestive heart failure increased risk of death by 120% compared to the reference (no CHD), with p-value < 0.000\n",
    "\n",
    "age____________________1.0974     0.9113    1.0865    1.1083   18.333  < 2e-16 ***\n",
    "\n",
    "        Each year of life increased risk of death by 9.7%, with a p-value < 0.000\n",
    "\n",
    "bmi____________________0.9873     1.0129    0.9688    1.0062   -1.323  0.18575  \n",
    "\n",
    "        These results are not significant. P-value > 0.05 and CI includes the value zero. If the results were significant, we would say that for each bmi point increase, risk of death decreased by 1.1%\n",
    "\n",
    "sex____________________1.9596     0.5103    1.6904    2.2716    8.923  < 2e-16 ***\n",
    "\n",
    "        Male sex assignment increased risk of death by 96% compared to the reference category (female). These results are significant, with p-value < 0.000\n",
    "\n",
    "HSdiploma.or.GED______0.9922     1.0079    0.8282    1.1886   -0.085  0.93201   \n",
    "\n",
    "        These results are not significant. P-value > 0.05 and CI includes the value zero. If the results were significant, we would say that having a high school diploma decreased risk of death by 0.8% compared to the reference category (0-11 years)\n",
    "\n",
    "some.college___________0.8537     1.1714    0.6865    1.0615   -1.423  0.15477    \n",
    "\n",
    "        These results are not significant. P-value > 0.05 and CI includes the value zero. If the results were significant, we would say that having some college decreased risk of death by 14.6% compared to the reference category (0-11 years)\n",
    "\n",
    "college.degree_________0.6348     1.5754    0.4909    0.8208   -3.465  0.00053 ***\n",
    "\n",
    "        Having a college degree decreased the risk of death by 36.5% compared to the reference category (0-11 years). These results are significant, with p-value = 0.001"
   ]
  },
  {
   "cell_type": "code",
   "execution_count": 40,
   "metadata": {
    "vscode": {
     "languageId": "r"
    }
   },
   "outputs": [],
   "source": [
    "survival.diabetes <- survfit(\n",
    "                            Surv(TimeDeathYears, death) ~ \n",
    "                            diabetes, \n",
    "                            data=df\n",
    "                            )"
   ]
  },
  {
   "cell_type": "code",
   "execution_count": 41,
   "metadata": {
    "vscode": {
     "languageId": "r"
    }
   },
   "outputs": [
    {
     "data": {
      "image/png": "[encoded data removed]",
      "text/plain": [
       "plot without title"
      ]
     },
     "metadata": {
      "image/png": {
       "height": 420,
       "width": 420
      }
     },
     "output_type": "display_data"
    }
   ],
   "source": [
    "plot(\n",
    "    survival.diabetes, \n",
    "    xlab='Time (years)', \n",
    "    ylab='Proportion Still Alive',\n",
    "    lwd=2,\n",
    "    conf.int=F, \n",
    "    col = c('green','red')\n",
    "    ) \n",
    "\n",
    "legend(\n",
    "    'bottomleft',\n",
    "    legend = c('No Diabetes','Diabetes'),\n",
    "    col=c('green','red'),\n",
    "    lwd=2,bty='n'\n",
    "    )"
   ]
  },
  {
   "cell_type": "markdown",
   "metadata": {},
   "source": [
    "**Interpretation**\n",
    "\n",
    "This survival curve displays the decreased overall survival experienced by those with diabetes. At 5 years, diabetes survival was approximately 85% and the no-diabetes group's survival was nearly 100%. At 15 years, diabetes' survival was approximately 45% and the no-diabetes group's survival was approximately 80%"
   ]
  },
  {
   "cell_type": "markdown",
   "metadata": {},
   "source": [
    "---"
   ]
  },
  {
   "cell_type": "markdown",
   "metadata": {},
   "source": [
    "## Part 2\n",
    "\n",
    "Run Kaplan Meier analyses with “Time Since Baseline” as the Time to Event variable, and death as the Event Status Variable.  Run five separate analyses (survival curves) with each of the categorical variables as the “Factor” variable. You can only include one IV at a time, so you’ll need to run it five times (one for each IV) to get the results. You can’t used this procedure for the continuous numerical variables (age, bmi).\n"
   ]
  },
  {
   "cell_type": "code",
   "execution_count": 81,
   "metadata": {
    "vscode": {
     "languageId": "r"
    }
   },
   "outputs": [
    {
     "data": {
      "text/plain": [
       "Call: survfit(formula = Surv(TimeDeathYears, death) ~ cursmoke, data = df)\n",
       "\n",
       "                         n events median 0.95LCL 0.95UCL\n",
       "cursmoke=Not a smoker 2142    501     NA      NA      NA\n",
       "cursmoke=Smoker       1121    274     NA      NA      NA"
      ]
     },
     "metadata": {},
     "output_type": "display_data"
    },
    {
     "name": "stdout",
     "output_type": "stream",
     "text": [
      "[1] \"---\"\n",
      "Call: survfit(formula = Surv(TimeDeathYears, death) ~ cursmoke, data = df)\n",
      "\n",
      "                         n events rmean* se(rmean) median 0.95LCL 0.95UCL\n",
      "cursmoke=Not a smoker 2142    501   13.6    0.0649     NA      NA      NA\n",
      "cursmoke=Smoker       1121    274   13.5    0.0922     NA      NA      NA\n",
      "    * restricted mean with upper limit =  15 \n",
      "[1] \"---\"\n",
      "Call: survfit(formula = Surv(TimeDeathYears, death) ~ cursmoke, data = df)\n",
      "\n",
      "                         n events median 0.95LCL 0.95UCL\n",
      "cursmoke=Not a smoker 2142    501     NA      NA      NA\n",
      "cursmoke=Smoker       1121    274     NA      NA      NA\n",
      "[1] \"---\"\n"
     ]
    },
    {
     "data": {
      "text/plain": [
       "Call:\n",
       "survdiff(formula = Surv(TimeDeathYears, death) ~ cursmoke, data = df)\n",
       "\n",
       "                         N Observed Expected (O-E)^2/E (O-E)^2/V\n",
       "cursmoke=Not a smoker 2142      501      510     0.173     0.517\n",
       "cursmoke=Smoker       1121      274      265     0.333     0.517\n",
       "\n",
       " Chisq= 0.5  on 1 degrees of freedom, p= 0.5 "
      ]
     },
     "metadata": {},
     "output_type": "display_data"
    }
   ],
   "source": [
    "km <- survfit(Surv(TimeDeathYears, death) ~ cursmoke, data=df)\n",
    "\n",
    "km\n",
    "print('---')\n",
    "print(km, print.rmean = T)\n",
    "print('---')\n",
    "print(km, probs = c(0.5))\n",
    "print('---')\n",
    "survdiff(Surv(TimeDeathYears, death) ~ cursmoke, data = df)\n"
   ]
  },
  {
   "cell_type": "markdown",
   "metadata": {},
   "source": [
    "Mean survival time for smokers: 13.6 years\n",
    "\n",
    "Mean survival time for nonsmokers: 13.5 years\n",
    "\n",
    "This is a statistically insignificant result, as seen in the log-rank p-value = 0.5"
   ]
  },
  {
   "cell_type": "code",
   "execution_count": 82,
   "metadata": {
    "vscode": {
     "languageId": "r"
    }
   },
   "outputs": [
    {
     "data": {
      "image/png": "[encoded data removed]",
      "text/plain": [
       "plot without title"
      ]
     },
     "metadata": {
      "image/png": {
       "height": 420,
       "width": 420
      }
     },
     "output_type": "display_data"
    }
   ],
   "source": [
    "plot(\n",
    "    km,\n",
    "    xlab='Time (years)', \n",
    "    ylab='Proportion Still Alive',\n",
    "    lwd=2,\n",
    "    conf.int=F, \n",
    "    col = c('green','red')\n",
    "    ) \n",
    "\n",
    "legend(\n",
    "    'bottomleft',\n",
    "    legend = c('Non-Smoker','Current Smoker'),\n",
    "    col=c('green','red'),\n",
    "    lwd=2,bty='n'\n",
    "    )"
   ]
  },
  {
   "cell_type": "markdown",
   "metadata": {},
   "source": [
    "survival probability at 10 years for nonsmokers ~ 94%\n",
    "\n",
    "survival probability at 10 years for smokers ~ 92%"
   ]
  },
  {
   "cell_type": "markdown",
   "metadata": {},
   "source": [
    "---"
   ]
  },
  {
   "cell_type": "code",
   "execution_count": 83,
   "metadata": {
    "vscode": {
     "languageId": "r"
    }
   },
   "outputs": [
    {
     "data": {
      "text/plain": [
       "Call: survfit(formula = Surv(TimeDeathYears, death) ~ diabetes, data = df)\n",
       "\n",
       "                         n events median 0.95LCL 0.95UCL\n",
       "diabetes=Not diabetic 3009    646     NA      NA      NA\n",
       "diabetes=Diabetic      254    129     14      13      NA"
      ]
     },
     "metadata": {},
     "output_type": "display_data"
    },
    {
     "name": "stdout",
     "output_type": "stream",
     "text": [
      "[1] \"---\"\n",
      "Call: survfit(formula = Surv(TimeDeathYears, death) ~ diabetes, data = df)\n",
      "\n",
      "                         n events rmean* se(rmean) median 0.95LCL 0.95UCL\n",
      "diabetes=Not diabetic 3009    646   13.7    0.0525     NA      NA      NA\n",
      "diabetes=Diabetic      254    129   11.8    0.2540     14      13      NA\n",
      "    * restricted mean with upper limit =  15 \n",
      "[1] \"---\"\n",
      "Call: survfit(formula = Surv(TimeDeathYears, death) ~ diabetes, data = df)\n",
      "\n",
      "                         n events median 0.95LCL 0.95UCL\n",
      "diabetes=Not diabetic 3009    646     NA      NA      NA\n",
      "diabetes=Diabetic      254    129     14      13      NA\n",
      "[1] \"---\"\n"
     ]
    },
    {
     "data": {
      "text/plain": [
       "Call:\n",
       "survdiff(formula = Surv(TimeDeathYears, death) ~ diabetes, data = df)\n",
       "\n",
       "                         N Observed Expected (O-E)^2/E (O-E)^2/V\n",
       "diabetes=Not diabetic 3009      646    724.5       8.5       133\n",
       "diabetes=Diabetic      254      129     50.5     121.8       133\n",
       "\n",
       " Chisq= 133  on 1 degrees of freedom, p= <2e-16 "
      ]
     },
     "metadata": {},
     "output_type": "display_data"
    }
   ],
   "source": [
    "km <- survfit(Surv(TimeDeathYears, death) ~ diabetes, data=df)\n",
    "\n",
    "km\n",
    "print('---')\n",
    "print(km, print.rmean = T)\n",
    "print('---')\n",
    "print(km, probs = c(0.5))\n",
    "print('---')\n",
    "survdiff(Surv(TimeDeathYears, death) ~ diabetes, data = df)\n"
   ]
  },
  {
   "cell_type": "markdown",
   "metadata": {},
   "source": [
    "Mean survival time for diabetics: 11.8 years\n",
    "\n",
    "Mean survival time for nondiabetics: 13.7 years\n",
    "\n",
    "This is a statistically significant result, as seen in the log-rank p-value < 0.5"
   ]
  },
  {
   "cell_type": "code",
   "execution_count": 84,
   "metadata": {
    "vscode": {
     "languageId": "r"
    }
   },
   "outputs": [
    {
     "data": {
      "image/png": "[encoded data removed]",
      "text/plain": [
       "plot without title"
      ]
     },
     "metadata": {
      "image/png": {
       "height": 420,
       "width": 420
      }
     },
     "output_type": "display_data"
    }
   ],
   "source": [
    "plot(\n",
    "    km,\n",
    "    xlab='Time (years)', \n",
    "    ylab='Proportion Still Alive',\n",
    "    lwd=2,\n",
    "    conf.int=F, \n",
    "    col = c('green','red')\n",
    "    ) \n",
    "\n",
    "legend(\n",
    "    'bottomleft',\n",
    "    legend = c('Non-Diabetic','Diabetic'),\n",
    "    col=c('green','red'),\n",
    "    lwd=2,bty='n'\n",
    "    )"
   ]
  },
  {
   "cell_type": "markdown",
   "metadata": {},
   "source": [
    "survival probability at 10 years for nondiabetics ~ 92%\n",
    "\n",
    "survival probability at 10 years for diabetics ~ 65%"
   ]
  },
  {
   "cell_type": "markdown",
   "metadata": {},
   "source": [
    "---"
   ]
  },
  {
   "cell_type": "code",
   "execution_count": 85,
   "metadata": {
    "vscode": {
     "languageId": "r"
    }
   },
   "outputs": [
    {
     "data": {
      "text/plain": [
       "Call: survfit(formula = Surv(TimeDeathYears, death) ~ prevchd, data = df)\n",
       "\n",
       "               n events median 0.95LCL 0.95UCL\n",
       "prevchd=No  2903    582     NA      NA      NA\n",
       "prevchd=Yes  360    193     14      12      NA"
      ]
     },
     "metadata": {},
     "output_type": "display_data"
    },
    {
     "name": "stdout",
     "output_type": "stream",
     "text": [
      "[1] \"---\"\n",
      "Call: survfit(formula = Surv(TimeDeathYears, death) ~ prevchd, data = df)\n",
      "\n",
      "               n events rmean* se(rmean) median 0.95LCL 0.95UCL\n",
      "prevchd=No  2903    582   13.8    0.0522     NA      NA      NA\n",
      "prevchd=Yes  360    193   11.7    0.2077     14      12      NA\n",
      "    * restricted mean with upper limit =  15 \n",
      "[1] \"---\"\n",
      "Call: survfit(formula = Surv(TimeDeathYears, death) ~ prevchd, data = df)\n",
      "\n",
      "               n events median 0.95LCL 0.95UCL\n",
      "prevchd=No  2903    582     NA      NA      NA\n",
      "prevchd=Yes  360    193     14      12      NA\n",
      "[1] \"---\"\n"
     ]
    },
    {
     "data": {
      "text/plain": [
       "Call:\n",
       "survdiff(formula = Surv(TimeDeathYears, death) ~ prevchd, data = df)\n",
       "\n",
       "               N Observed Expected (O-E)^2/E (O-E)^2/V\n",
       "prevchd=No  2903      582    704.1      21.2       237\n",
       "prevchd=Yes  360      193     70.9     210.4       237\n",
       "\n",
       " Chisq= 237  on 1 degrees of freedom, p= <2e-16 "
      ]
     },
     "metadata": {},
     "output_type": "display_data"
    }
   ],
   "source": [
    "km <- survfit(Surv(TimeDeathYears, death) ~ prevchd, data=df)\n",
    "\n",
    "km\n",
    "print('---')\n",
    "print(km, print.rmean = T)\n",
    "print('---')\n",
    "print(km, probs = c(0.5))\n",
    "print('---')\n",
    "survdiff(Surv(TimeDeathYears, death) ~ prevchd, data = df)\n"
   ]
  },
  {
   "cell_type": "markdown",
   "metadata": {},
   "source": [
    "Mean survival time for prevchd: 11.7 years\n",
    "\n",
    "Mean survival time for no prevchd: 13.8 years\n",
    "\n",
    "This is a statistically significant result, as seen in the log-rank p-value < 0.5"
   ]
  },
  {
   "cell_type": "code",
   "execution_count": 86,
   "metadata": {
    "vscode": {
     "languageId": "r"
    }
   },
   "outputs": [
    {
     "data": {
      "image/png": "[encoded data removed]",
      "text/plain": [
       "plot without title"
      ]
     },
     "metadata": {
      "image/png": {
       "height": 420,
       "width": 420
      }
     },
     "output_type": "display_data"
    }
   ],
   "source": [
    "plot(\n",
    "    km,\n",
    "    xlab='Time (years)', \n",
    "    ylab='Proportion Still Alive',\n",
    "    lwd=2,\n",
    "    conf.int=F, \n",
    "    col = c('green','red')\n",
    "    ) \n",
    "\n",
    "legend(\n",
    "    'bottomleft',\n",
    "    legend = c('No CHD','Prev. CHD'),\n",
    "    col=c('green','red'),\n",
    "    lwd=2,bty='n'\n",
    "    )"
   ]
  },
  {
   "cell_type": "markdown",
   "metadata": {},
   "source": [
    "survival probability at 10 years for no CHD ~ 92%\n",
    "\n",
    "survival probability at 10 years for Prev. CHD ~ 63%"
   ]
  },
  {
   "cell_type": "markdown",
   "metadata": {},
   "source": [
    "---"
   ]
  },
  {
   "cell_type": "code",
   "execution_count": 87,
   "metadata": {
    "vscode": {
     "languageId": "r"
    }
   },
   "outputs": [
    {
     "data": {
      "text/plain": [
       "Call: survfit(formula = Surv(TimeDeathYears, death) ~ sex, data = df)\n",
       "\n",
       "              n events median 0.95LCL 0.95UCL\n",
       "sex=Female 1876    345     NA      NA      NA\n",
       "sex=Male   1387    430     NA      NA      NA"
      ]
     },
     "metadata": {},
     "output_type": "display_data"
    },
    {
     "name": "stdout",
     "output_type": "stream",
     "text": [
      "[1] \"---\"\n",
      "Call: survfit(formula = Surv(TimeDeathYears, death) ~ sex, data = df)\n",
      "\n",
      "              n events rmean* se(rmean) median 0.95LCL 0.95UCL\n",
      "sex=Female 1876    345   13.9    0.0635     NA      NA      NA\n",
      "sex=Male   1387    430   13.1    0.0894     NA      NA      NA\n",
      "    * restricted mean with upper limit =  15 \n",
      "[1] \"---\"\n",
      "Call: survfit(formula = Surv(TimeDeathYears, death) ~ sex, data = df)\n",
      "\n",
      "              n events median 0.95LCL 0.95UCL\n",
      "sex=Female 1876    345     NA      NA      NA\n",
      "sex=Male   1387    430     NA      NA      NA\n",
      "[1] \"---\"\n"
     ]
    },
    {
     "data": {
      "text/plain": [
       "Call:\n",
       "survdiff(formula = Surv(TimeDeathYears, death) ~ sex, data = df)\n",
       "\n",
       "              N Observed Expected (O-E)^2/E (O-E)^2/V\n",
       "sex=Female 1876      345      458      28.0      70.1\n",
       "sex=Male   1387      430      317      40.5      70.1\n",
       "\n",
       " Chisq= 70.1  on 1 degrees of freedom, p= <2e-16 "
      ]
     },
     "metadata": {},
     "output_type": "display_data"
    }
   ],
   "source": [
    "km <- survfit(Surv(TimeDeathYears, death) ~ sex, data=df)\n",
    "\n",
    "km\n",
    "print('---')\n",
    "print(km, print.rmean = T)\n",
    "print('---')\n",
    "print(km, probs = c(0.5))\n",
    "print('---')\n",
    "survdiff(Surv(TimeDeathYears, death) ~ sex, data = df)\n"
   ]
  },
  {
   "cell_type": "markdown",
   "metadata": {},
   "source": [
    "Mean survival time for males: 13.1 years\n",
    "\n",
    "Mean survival time for females: 13.9 years\n",
    "\n",
    "This is a statistically significant result, as seen in the log-rank p-value < 0.5"
   ]
  },
  {
   "cell_type": "code",
   "execution_count": 89,
   "metadata": {
    "vscode": {
     "languageId": "r"
    }
   },
   "outputs": [
    {
     "data": {
      "image/png": "[encoded data removed]",
      "text/plain": [
       "plot without title"
      ]
     },
     "metadata": {
      "image/png": {
       "height": 420,
       "width": 420
      }
     },
     "output_type": "display_data"
    }
   ],
   "source": [
    "plot(\n",
    "    km,\n",
    "    xlab='Time (years)', \n",
    "    ylab='Proportion Still Alive',\n",
    "    lwd=2,\n",
    "    conf.int=F, \n",
    "    col = c('magenta','blue')\n",
    "    ) \n",
    "\n",
    "legend(\n",
    "    'bottomleft',\n",
    "    legend = c('Female','Male'),\n",
    "    col=c('magenta','blue'),\n",
    "    lwd=2,bty='n'\n",
    "    )"
   ]
  },
  {
   "cell_type": "markdown",
   "metadata": {},
   "source": [
    "survival probability at 10 years for females ~ 92%\n",
    "\n",
    "survival probability at 10 years ~ 80%"
   ]
  },
  {
   "cell_type": "markdown",
   "metadata": {},
   "source": [
    "---"
   ]
  },
  {
   "cell_type": "code",
   "execution_count": 90,
   "metadata": {
    "vscode": {
     "languageId": "r"
    }
   },
   "outputs": [
    {
     "data": {
      "text/plain": [
       "Call: survfit(formula = Surv(TimeDeathYears, death) ~ educ, data = df)\n",
       "\n",
       "   82 observations deleted due to missingness \n",
       "                         n events median 0.95LCL 0.95UCL\n",
       "educ=0-11 years       1281    381     NA      NA      NA\n",
       "educ=HSdiploma.or.GED  967    194     NA      NA      NA\n",
       "educ=some.college      542    108     NA      NA      NA\n",
       "educ=college.degree    391     71     NA      NA      NA"
      ]
     },
     "metadata": {},
     "output_type": "display_data"
    },
    {
     "name": "stdout",
     "output_type": "stream",
     "text": [
      "[1] \"---\"\n",
      "Call: survfit(formula = Surv(TimeDeathYears, death) ~ educ, data = df)\n",
      "\n",
      "   82 observations deleted due to missingness \n",
      "                         n events rmean* se(rmean) median 0.95LCL 0.95UCL\n",
      "educ=0-11 years       1281    381   13.2    0.0936     NA      NA      NA\n",
      "educ=HSdiploma.or.GED  967    194   13.8    0.0911     NA      NA      NA\n",
      "educ=some.college      542    108   13.9    0.1188     NA      NA      NA\n",
      "educ=college.degree    391     71   14.0    0.1275     NA      NA      NA\n",
      "    * restricted mean with upper limit =  15 \n",
      "[1] \"---\"\n",
      "Call: survfit(formula = Surv(TimeDeathYears, death) ~ educ, data = df)\n",
      "\n",
      "   82 observations deleted due to missingness \n",
      "                         n events median 0.95LCL 0.95UCL\n",
      "educ=0-11 years       1281    381     NA      NA      NA\n",
      "educ=HSdiploma.or.GED  967    194     NA      NA      NA\n",
      "educ=some.college      542    108     NA      NA      NA\n",
      "educ=college.degree    391     71     NA      NA      NA\n",
      "[1] \"---\"\n"
     ]
    },
    {
     "data": {
      "text/plain": [
       "Call:\n",
       "survdiff(formula = Surv(TimeDeathYears, death) ~ educ, data = df)\n",
       "\n",
       "n=3181, 82 observations deleted due to missingness.\n",
       "\n",
       "                         N Observed Expected (O-E)^2/E (O-E)^2/V\n",
       "educ=0-11 years       1281      381    291.6     27.40     45.74\n",
       "educ=HSdiploma.or.GED  967      194    234.0      6.84     10.14\n",
       "educ=some.college      542      108    131.9      4.32      5.36\n",
       "educ=college.degree    391       71     96.5      6.74      7.91\n",
       "\n",
       " Chisq= 46.4  on 3 degrees of freedom, p= 5e-10 "
      ]
     },
     "metadata": {},
     "output_type": "display_data"
    }
   ],
   "source": [
    "km <- survfit(Surv(TimeDeathYears, death) ~ educ, data=df)\n",
    "\n",
    "km\n",
    "print('---')\n",
    "print(km, print.rmean = T)\n",
    "print('---')\n",
    "print(km, probs = c(0.5))\n",
    "print('---')\n",
    "survdiff(Surv(TimeDeathYears, death) ~ educ, data = df)\n"
   ]
  },
  {
   "cell_type": "markdown",
   "metadata": {},
   "source": [
    "Mean survival time for educ=0-11 years: 13.2 years\n",
    "\n",
    "Mean survival time for educ=HSdiploma.or.GED: 13.8 years \n",
    "\n",
    "Mean survival time for some.college: 13.9 years\n",
    "\n",
    "Mean survival time for college.degree: 14.0 years\n",
    "\n",
    "\n",
    "This is a statistically significant result, as seen in the log-rank p-value < 0.5"
   ]
  },
  {
   "cell_type": "code",
   "execution_count": 91,
   "metadata": {
    "vscode": {
     "languageId": "r"
    }
   },
   "outputs": [
    {
     "data": {
      "image/png": "[encoded data removed]",
      "text/plain": [
       "plot without title"
      ]
     },
     "metadata": {
      "image/png": {
       "height": 420,
       "width": 420
      }
     },
     "output_type": "display_data"
    }
   ],
   "source": [
    "plot(\n",
    "    km,\n",
    "    xlab='Time (years)', \n",
    "    ylab='Proportion Still Alive',\n",
    "    lwd=2,\n",
    "    conf.int=F, \n",
    "    col = c('blue','green','violet','red')\n",
    "    ) \n",
    "\n",
    "legend(\n",
    "    'bottomleft',\n",
    "    legend = c('0-11 Years Schooling','HS Diploma or GED','Some College','College Degree'),\n",
    "    col=c('blue','green','violet','red'),\n",
    "    lwd=2,bty='n'\n",
    "    )"
   ]
  },
  {
   "cell_type": "markdown",
   "metadata": {},
   "source": [
    "survival probability at 10 years for 0-11 years schooling ~ 80%\n",
    "\n",
    "survival probability at 10 years for HS Diploma or GED ~ 88%\n",
    "\n",
    "survival probability at 10 years for some college ~ 89%\n",
    "\n",
    "survival probability at 10 years for college degree ~ 96%"
   ]
  },
  {
   "cell_type": "markdown",
   "metadata": {},
   "source": [
    "---"
   ]
  },
  {
   "cell_type": "markdown",
   "metadata": {},
   "source": [
    "2. Compare and contrast the “Log Rank Mantel-Cox Test” for each Kaplan Meier analysis to the model fit statistics from the Cox Proportional Hazards Regression Do the results from each align with each other? Describe why or why not. In other words, are the results you get from one expected, based on the results of the other?\n"
   ]
  },
  {
   "cell_type": "markdown",
   "metadata": {},
   "source": [
    "Log Rank Matel-Cox p-values\n",
    "\n",
    "    Schooling: p= 5e-10 \n",
    "    Sex: p= <2e-16\n",
    "    prevCHD:  p= <2e-16\n",
    "    Diabetes: p= <2e-16 \n",
    "    Smoking: p= 0.5 \n",
    "\n",
    "Cox Proportional Hazards p-values\n",
    "\n",
    "    Schooling: p= (0.93, 0.15, 0.001) \n",
    "    Sex: p= <2e-16\n",
    "    prevCHD:  p= <2e-16\n",
    "    Diabetes: p= <2e-16 \n",
    "    Smoking: p= 9.83e-08"
   ]
  },
  {
   "cell_type": "markdown",
   "metadata": {},
   "source": [
    "It is surprising to me that the cursmoker/non-cursmoker results are so different. The Cox model showed a significant difference in hazard of death between the two groups, but the Kaplan-Meier model's p-value for the groups was insignificant. \n",
    "\n",
    "I am not surprised by the discrepency between the tests for the schooling groups. The Log Rank Matel test collapsed the group's p-values to demonstrate that there is significant survival variance within the group. This may be explained by the overall differences between the lowest level of schooling and every other level. "
   ]
  },
  {
   "cell_type": "markdown",
   "metadata": {},
   "source": [
    "---"
   ]
  },
  {
   "cell_type": "markdown",
   "metadata": {},
   "source": [
    "3. Finally, describe situations when you would use these two analyses. When would you use a Cox Regression and when would you use a Kaplan Meier analysis? Is one better than the other?"
   ]
  },
  {
   "attachments": {
    "image.png": {
     "image/png": "[encoded data removed]"
    }
   },
   "cell_type": "markdown",
   "metadata": {},
   "source": [
    "Cox Proportional Hazards gives the instantaneous risk of the event (death) at a particular time, given survival up to that time. \n",
    "\n",
    "Kaplan-Meier represents the probability of survival from the point of origin to some time beyond the measured time T. \n",
    "\n",
    "The inverse of the Kaplan-Meier would represent the risk of death from the point of origin to some time beyond the measured time T. This may be a better way to compare the two analyses \n",
    "\n",
    "![image.png](attachment:image.png)"
   ]
  },
  {
   "cell_type": "markdown",
   "metadata": {},
   "source": [
    "Suppose we have a Survival Curve on the left and its inverse, a Death Curve (that would make a great band name) on the right. Cox proportional hazards gives the risk of death in a single instant - this would be the slope, or rate of change, of the curve on the right. Kaplan-Meier gives the cumulative chance of survival up to a specified point in time, or in other words, the inverse of the cumulative risk of death. This would be the inverse of the area under the Death Curve between origin (0) and the specified time. \n",
    "\n",
    "Kaplan-Meier is more intuitive. For instance, breast cancer outcomes are measured  with 5-year survival rates. Investigaters may follow women with breast cancer that's been treated with chemo/radiation/hormones, and compare their survival to the survival of women with untreated breast cancer. This is the area under the survival curve between 0-5 years, and would be measured with the Kaplan-Meier method. \n",
    "\n",
    "In contrast, the Cox proportional hazards model is a statistical modeling technique that can be used to to identify the impact of other confounding variables on survival time. This model assumes that the hazard rate is a function of its independent variables. \n",
    "\n",
    "In the breast cancer example, Cox Proportional Hazards might be used in scientific research where breast cancer treatment is examined alongside other covariates such as age, bmi, etc. "
   ]
  },
  {
   "cell_type": "markdown",
   "metadata": {},
   "source": [
    "Going back to the discrepency between our two models for cursmoker/non-cursmokers, we might say that there is less of a difference in overall survival between the groups (log rank), but smoking status does have a significant impact on risk of death at any given moment, in combination with the other covariates. "
   ]
  }
 ],
 "metadata": {
  "kernelspec": {
   "display_name": "R",
   "language": "R",
   "name": "ir"
  },
  "language_info": {
   "codemirror_mode": "r",
   "file_extension": ".r",
   "mimetype": "text/x-r-source",
   "name": "R",
   "pygments_lexer": "r",
   "version": "4.2.2"
  }
 },
 "nbformat": 4,
 "nbformat_minor": 2
}
