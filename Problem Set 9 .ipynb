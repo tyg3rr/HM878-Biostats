{
 "cells": [
  {
   "cell_type": "markdown",
   "metadata": {},
   "source": [
    "## Project #6: Factor Analysis\n",
    "\n",
    "Lillian Jensen\n",
    "\n",
    "**Goal**\n",
    "\n",
    "Students will use SPSS to conduct and interpret a Factor Analysis\n",
    "\n",
    "---\n",
    "\n",
    "**Note**\n",
    "\n",
    "We are using data from a new dataset for this analysis. Right now, I am not identifying the data source or the names of the variables, questions, or coding. Here’s the reason: Many times statisticians are blinded to the purpose of the study for which they are analyzing\n",
    "data. Most of the time, being blinded doesn’t matter. But sometimes, when interpreting results, knowing what they variables are and knowing what the research question is can bias the researchers. So, in this case, I’ve given you a scrubbed dataset. All you have is numbers. Remember, with factor analysis, the\n",
    "investigator has to interpret the data and determine what the variables are representing for each factor that is identified.\n",
    "\n",
    "There are two parts of instructions/materials for this project. The first part has you actually running the analysis and interpreting the results. The second part provides you with much more information about the variables and asks you to interpret the data in more detail. Please stop when you reach this warning and\n",
    "complete Part 1 before moving on\n",
    "\n",
    "> PLEASE STOP AND MAKE SURE TO COMPLETE THE FIRST PART OF THE PROJECT. WHEN YOU HAVE COMPLETED THE FIRST PART OF THE PROJECT YOU CAN SCROLL DOWN TO THE NEXT PAGE AND COMPLETE THE SECOND PART.\n",
    "\n",
    "Obviously, this is on the honor system, but you will get much more out of this if you don’t skip ahead to see the rest of the information.\n",
    "Note: I highly encourage you to watch the “Lecture” and “Analysis Demonstration” videos on D2L BEFORE doing this project. There are different ways of doing this and each has value. The instructions below show you how I want you to do it for this project.\n",
    "\n",
    "---\n",
    "\n",
    "## Part 1 \n",
    "\n",
    "**Instructions**\n",
    "\n",
    "1. Open the dataset in SPSS, Click on Analyze -> Dimension Reduction -> Factor\n",
    "2. Move all of the variables to the *Variables* box, EXCEPT for the variable called *ID*\n",
    "3. Descriptives: Keep *Initial Solution* clicked on. Click on *Coefficients* and *KMO and Bartlett’s test of sphericity.* Click *Continue.*\n",
    "4. Extraction:\n",
    "    - *Method* dropdown box: Choose Principal axis factoring (teachable moment. This is for running a factor analysis; the reason for this method is that we believe the factors we will identify are correlated AND it can be used to measure latent factors. Latent factors are basically things we can’t measure directly with a single question/variable such as a broad concept like intelligence, or job satisfaction, etc.)\n",
    "    - Click *Scree plot*\n",
    "    - Leave everything else the way it is, click *Continue*\n",
    "5. Rotation: Click on *Direct Oblimin* (another teachable moment. Why Direct Oblimin? This is explained in one of the videos and the textbook reading). Make sure *Rotated Solution* and *Loading plots* are both checked. Click *Continue*\n",
    "6. Options: *Exclude cases listwise* should already be checked. Check *Sorted by size* and *Suppress small coefficients*. Enter 0.30 in the *Absolute value below* box. Click *Continue*\n",
    "7. Once you have specified the conditions to run the analysis, Click *OK*.\n",
    "8. For now, scroll to the end of the output and double click on the Factor Plot. A window with the plot will pop up. On the second menu bar row is an icon that allows you to rotate the 3-D chart. Click on the icon. A smaller box will open. Enter 60 in the vertical box, and 45 in the horizontal box. Notice how the perspective of the plot changes. Close out the pop-up window by clicking the “X” in the top right corner.\n"
   ]
  },
  {
   "cell_type": "markdown",
   "metadata": {},
   "source": [
    "    SPSS Syntax:\n",
    "\n",
    "        FACTOR\n",
    "        /VARIABLES V1 V2 V3 V4 V5 V6 V7 V8 V9 V10 V11 V12\n",
    "        /MISSING LISTWISE\n",
    "        /ANALYSIS V1 V2 V3 V4 V5 V6 V7 V8 V9 V10 V11 V12\n",
    "        /PRINT UNIVARIATE INITIAL CORRELATION KMO EXTRACTION ROTATION\n",
    "        /FORMAT SORT BLANK(.3)\n",
    "        /PLOT EIGEN ROTATION\n",
    "        /CRITERIA MINEIGEN(1) ITERATE(25)\n",
    "        /EXTRACTION PAF\n",
    "        /CRITERIA KAISER  ITERATE(25) DELTA(0)\n",
    "        /ROTATION OBLIMIN\n",
    "        /METHOD=CORRELATION."
   ]
  },
  {
   "cell_type": "markdown",
   "metadata": {},
   "source": [
    "---"
   ]
  },
  {
   "cell_type": "markdown",
   "metadata": {},
   "source": [
    "**Questions**\n",
    "\n",
    "1. List the Approx. chi-square, degrees of freedom, and significance value of the Bartlett’s Test of Sphericity. What does this test tell us?"
   ]
  },
  {
   "cell_type": "markdown",
   "metadata": {},
   "source": [
    "<div>\n",
    "<img src= \"assets/kmo bartlett.png\" width = 500/>\n",
    "</div>"
   ]
  },
  {
   "cell_type": "markdown",
   "metadata": {},
   "source": [
    "Bartlett's Test of Sphericity is used to check if any of the variables in the dataset are correlated with one another, which is a neccessary condition for factor analysis. \n",
    "\n",
    "The null hypothesis is that all correlation coefficients are equal to zero. If the test produces a statistically significant result, we reject the null and accept the alternative hypothesis that at least one pair of variables have correlation between them.\n",
    "\n",
    "The above results tell us that we can proceed with factor analysis on our dataset."
   ]
  },
  {
   "cell_type": "markdown",
   "metadata": {},
   "source": [
    "---"
   ]
  },
  {
   "cell_type": "markdown",
   "metadata": {},
   "source": [
    "2. What does the KMO Measure of Sampling adequacy tell us?"
   ]
  },
  {
   "cell_type": "markdown",
   "metadata": {},
   "source": [
    "The KMO Measure of Sampling Adequacy tells us how much of of the variables' variance may be caused by underlying factors. The measure is a proportion - the closer the measure is to 1.0, the more useful factor analysis might be with the data. \n",
    "\n",
    "Our measure of 0.781 further supports our plan to do factor analysis on this dataset."
   ]
  },
  {
   "cell_type": "markdown",
   "metadata": {},
   "source": [
    "---"
   ]
  },
  {
   "cell_type": "markdown",
   "metadata": {},
   "source": [
    "4. Compare the “Structure Matrix” table with the “Factor Plot in Rotated Factor Space” plot.\n",
    "    - List each Factor by number and list the corresponding variables that load on each factor.\n",
    "    - Do the table and plot provide similar results? Explain."
   ]
  },
  {
   "cell_type": "markdown",
   "metadata": {},
   "source": [
    "<div>\n",
    "<img src= \"assets/factor rotation plot.png\" width = 300/>\n",
    "<img src= \"assets/structure matrix.png\" width = 300/>\n",
    "</div>"
   ]
  },
  {
   "cell_type": "markdown",
   "metadata": {},
   "source": [
    "- Factor 1: v1, v7, v11, v4, v6\n",
    "- Factor 2: v12, v3, v5, v8\n",
    "- Factor 3: v10, v9\n",
    "\n",
    "The table and the plot do provide similar results, but the plot is easier to interpret on paper. The factor plot is a visualization of the matrix, with each factor mapped onto a spatial dimension. In the case of an oblique rotation (like Oblimin), the factor space plot may be a bit misleading because the orthogonally displayed factor dimensions fail to illustrate any potential oblique relationships between the factors. "
   ]
  },
  {
   "cell_type": "markdown",
   "metadata": {},
   "source": [
    "---"
   ]
  },
  {
   "cell_type": "markdown",
   "metadata": {},
   "source": [
    "3. Review the “Total Variance Explained” table and the “Scree Plot.”\n",
    "    - How many factors are identified by the table (include eigenvalues for each factor) and the plot?\n",
    "    - Could the table and plot be interpreted differently? Explain.\n",
    "    - How much variance in the data is explained by the identified factors?\n"
   ]
  },
  {
   "cell_type": "markdown",
   "metadata": {},
   "source": [
    "<div>\n",
    "<img src= \"assets/total variance.png\" width = 500/>\n",
    "</div>\n"
   ]
  },
  {
   "cell_type": "markdown",
   "metadata": {},
   "source": [
    "The Total Variance Explained table identifies three factors with eigenvalues > 1.0:\n",
    "- Factor 1 has an eigenvalue of 3.235 and explains 26.96% of the variance\n",
    "- Factor 2 has an eigenvalue of 2.199 and explains 18.32% of the variance\n",
    "- Factor 3 has an eigenvalue of 1.371 and explains 11.43% of the variance\n",
    "\n",
    "These three factors are the most important, and explain a total of 56.71% of the variance in the dataset. "
   ]
  },
  {
   "cell_type": "markdown",
   "metadata": {},
   "source": [
    "<div>\n",
    "<img src= \"assets/scree plot.png\" width = 500/>\n",
    "</div>"
   ]
  },
  {
   "cell_type": "markdown",
   "metadata": {},
   "source": [
    "Factors are typically retained when their eigenvalue is >= 1.0, however, another option is to select the point of the scree plot where the slope changes dramatically. \n",
    "\n",
    "The above Scree Plot could be interpreted differently than the Total Variance Explained table. We might consider including the 4th factor based on the plot, as this is where the elbow of the curve is. Indeed, the fourth factor's eigenvalue is close to 1.0; it would be reasonable to include that fourth factor."
   ]
  },
  {
   "cell_type": "markdown",
   "metadata": {},
   "source": [
    "---\n",
    "\n",
    "> PLEASE STOP AND MAKE SURE TO COMPLETE THE FIRST PART OF THE PROJECT. WHEN YOU HAVE COMPLETED THE FIRST PART OF THE PROJECT YOU CAN SCROLL DOWN TO THE NEXT PAGE AND COMPLETE THE SECOND PART.\n",
    "\n",
    "---\n",
    "\n",
    " ## Part 2 \n",
    "\n",
    "**Instructions**\n",
    "\n",
    "The data set for this project was obtained from the [General Social Survey](https://www.norc.org/Research/Projects/Pages/general-social-survey.aspx) (GSS). According to the GSS website, “The GSS aims to gather data on contemporary American society in order to monitor and explain trends and constants in attitudes, behaviors, and attributes; to examine the structure and functioning of society in general as well as the role played by relevant subgroups; to compare the United States to other societies in order to place American society in comparative perspective and develop cross-national models of human society; and to make high-quality data easily accessible to scholars, students, policy makers, and others, with minimal cost and waiting.”\n",
    "\n",
    "The text of each question of the survey used for this project, as well as the coding, is included in the codebook.  Using this information, answer the following:\n",
    "\n",
    "5.\tReview which variables are included in each factor.  Considering the questions that are aligned with each variable, and how each variable loads on a factor, provide a description of the latent measure that each factor might represent.  In other words, based on the first part of the project, you should have identified 3 factors; what do these factors measure (theoretically)?  In thinking about this data and these questions, why might it be important that statisticians and investigators be blinded to survey items? "
   ]
  },
  {
   "cell_type": "markdown",
   "metadata": {},
   "source": [
    "Factor 1\n",
    "\n",
    "- v01: Is the Bible the literal word of god, inspired word of god, or book of fables?\n",
    "- v07: Born-again experience\n",
    "- v11: Have you ever tried to 'save' someone's soul?\n",
    "- v04: Do you practice liberally or fundamentally?\n",
    "- v06: Belief in life after death\n",
    "\n",
    "        Factor 1 may represent Christain denomination, or, level of evangelicalism. \n",
    "\n",
    "Factor 2\n",
    "\n",
    "- v12: Should the Muslim clergyman be allowed to make a speech about hatred of the US in your community?\n",
    "- v03: Feelings about allowing Muslim clergyman preaching US hate to teach in a college\n",
    "- v05: Feelings about removing the Muslim clergyman-authored US Haterd book from the library\n",
    "- v08: Should religious extremists be allowed to hold public meetings?\n",
    "\n",
    "        Factor 2 may represent tolerance of free speech of 'other' religions, or religious practices that are percieved as wrong\n",
    "\n",
    "Factor 3\n",
    "\n",
    "- v09: Do world religions bring more conflict, or more peace?\n",
    "- v10: Are strongly religious folks often too intolerant of others?\n",
    "\n",
    "        Factor 3 may represent views on religions' impact globally, or perhaps general tolerance of other religions\n",
    "\n",
    "Not captured by a factor:\n",
    "\n",
    "- v02: Should religious leaders be allowed to influence folks' votes in elections?\n",
    "\n",
    "This dataset is an excellent example of the benefit of blinding statisticians during analysis. The survey is measuring opinions on a very sensitive topic, and the background of the analyst may introduce bias if they're not blinded. A practicing evangelical christian may bring in bias that minimizes the negative impact of their religion, whereas an individual with religious trauma might bring in bias that overrepresents any harms associated with their family-of-origin's religion.\n",
    "\n"
   ]
  },
  {
   "cell_type": "markdown",
   "metadata": {},
   "source": [
    "---"
   ]
  },
  {
   "cell_type": "markdown",
   "metadata": {},
   "source": [
    "6.\tReview the “Factors Correlation Matrix” table of your analysis output.  Remember that these represent how each factor correlates with the other.  Based on how each variable is coded (see below) and how each variable loads on to a factor, interpret these correlations; do they make sense?  Explain."
   ]
  },
  {
   "cell_type": "markdown",
   "metadata": {},
   "source": [
    "<div>\n",
    "<img src= \"assets/Factor Correlation Matrix.png\" width = 500/>\n",
    "</div>"
   ]
  },
  {
   "cell_type": "markdown",
   "metadata": {},
   "source": [
    "The lower the value for factor 1, the more fundamentalist the respondent is. \n",
    "\n",
    "The lower the value for factor 2, the less tolerance of free speech by members of other, 'wrong' religions, or of Islam. \n",
    "\n",
    "The lower the value for factor 3, the lower the likelihood that respondent believes religions bring more harm than good on a global scale. \n",
    "\n",
    "The above-shown correlations make sense for our factors. \n",
    "\n",
    "- 1x2: As fundamentalism increases, tolerance of free speech for other religions decreases.\n",
    "- 1x3: As fundamentalism increases, the likelihood of believing that religions bring more good than harm increases.\n",
    "- 2x3: As tolerance for other religions increases, the likelihood of believing that religions bring more harm than good increases."
   ]
  },
  {
   "cell_type": "markdown",
   "metadata": {},
   "source": [
    "---"
   ]
  }
 ],
 "metadata": {
  "language_info": {
   "name": "python"
  }
 },
 "nbformat": 4,
 "nbformat_minor": 2
}
