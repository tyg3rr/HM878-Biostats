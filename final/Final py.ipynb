{
 "cells": [
  {
   "cell_type": "markdown",
   "metadata": {},
   "source": [
    "## Forecasting Influenza-Like Illness in Kent County, Michigan\n",
    "\n",
    "**Lillian Jensen**\n",
    "\n",
    "---\n",
    "**Research Question**\n",
    "\n",
    "Does a county-specific time series model of ILI incidence with local syndromic data, Google search trends data, weather data, and air quality data have a statistically significant improvement on ILI prediction compared to historical trends alone?\n",
    "\n",
    "**Datasets to be Used**\n",
    "\n",
    "This analysis uses heterogeneous, multi-source data. Kent County ILI incidence data is from the Michigan Disease Surveillance System (MDSS), ED visits data is from the Michigan Syndromic Surveillance System (MSSS), historical air quality data is from a publicly available EPA database, search term trends come from Google’s Health Trends API, and climate data was sourced from the NOAA Climate Online Data Access.\n"
   ]
  },
  {
   "cell_type": "markdown",
   "metadata": {},
   "source": [
    "---\n",
    "*Setting up code environment*"
   ]
  },
  {
   "cell_type": "code",
   "execution_count": 1,
   "metadata": {},
   "outputs": [],
   "source": [
    "import pandas as pd\n",
    "import plotly.express as px\n",
    "from datetime import datetime\n",
    "from epiweeks import Week, Year\n",
    "import matplotlib.pyplot as plt\n",
    "from sklearn import preprocessing\n",
    "import numpy as np\n",
    "from statsmodels.tsa.stattools import adfuller\n",
    "import statsmodels.tsa.stattools as smt\n",
    "import statsmodels.api as sm\n",
    "from statsmodels.tsa.ar_model import AutoReg, ar_select_order\n",
    "from statsmodels.graphics.tsaplots import plot_acf, plot_pacf\n",
    "from statsmodels.tsa.seasonal import STL\n",
    "\n",
    "## Some helpful functions ##\n",
    "\n",
    "def plot_ccf_sm(target, exog, unbiased=False, nlags=10):\n",
    "    \"\"\"Plot CCF using Statsmodels\"\"\"\n",
    "    ccfs = smt.ccf(target, exog, unbiased=False)[:nlags+1]\n",
    "    lags = np.arange(len(ccfs))[:nlags+1]\n",
    "    _ = plt.stem(lags, ccfs, use_line_collection=True)\n",
    "    _ = plt.title(f\"Cross Correlation (Statsmodels): {target.name} & {exog.name}\")\n",
    "\n",
    "def crosscorr(x: pd.Series, y: pd.Series, lag: int=0) -> float:\n",
    "    \"\"\" Lag-N cross correlation. \n",
    "    Shifted data (y) filled with NaNs \n",
    "    \"\"\"\n",
    "    return x.corr(y.shift(lag))\n",
    "\n",
    "\n",
    "def plot_ccf_manual(target, exog, nlags=10):\n",
    "    \"\"\"PLot CCF using manual calculations\"\"\"\n",
    "    lags = []\n",
    "    ccfs = []\n",
    "    for i in np.arange(0,nlags+1):\n",
    "        lags.append(i)\n",
    "        ccfs.append(crosscorr(target, exog, lag=i))\n",
    "\n",
    "    _ = plt.stem(lags, ccfs, use_line_collection=True)\n",
    "    _ = plt.title(f\"Cross Correlation (Manual): {target.name} & {exog.name}\")\n",
    "\n",
    "def difference(dataset, n):\n",
    "    \"\"\" this function intakes a list of values, \n",
    "    subtracts the nth prior value,\n",
    "    and returns the list of differenced values.\n",
    "    \"\"\"\n",
    "    return pd.Series([dataset[i] - dataset[i - n] for i in range(1, len(dataset))])\n",
    "\n",
    "def ADF(time_series, max_lags):\n",
    "    t_stat, p_value, lags, _, critical_values, _ = adfuller(\n",
    "    time_series,\n",
    "    maxlag=max_lags\n",
    "    )\n",
    "    print(f'ADF Statistic: {t_stat:.2f}')\n",
    "    print(f'p-value: {p_value:.2f}')\n",
    "    print(f'lags: {lags}')\n",
    "    for key, value in critical_values.items():\n",
    "        print('Critial Values:')\n",
    "        print(f'   {key}, {value:.2f}')"
   ]
  },
  {
   "cell_type": "markdown",
   "metadata": {},
   "source": [
    "---\n",
    "Monthly means will be calculated for each continuous variable alongside box&whiskers plots to visualize variable spreads. "
   ]
  },
  {
   "cell_type": "code",
   "execution_count": null,
   "metadata": {},
   "outputs": [],
   "source": []
  },
  {
   "cell_type": "markdown",
   "metadata": {},
   "source": [
    "---\n",
    "Associations between month and main pollutant will be explored with Chi2 test of association and visualized with a stacked bar chart. \n"
   ]
  },
  {
   "cell_type": "code",
   "execution_count": null,
   "metadata": {},
   "outputs": [],
   "source": []
  },
  {
   "cell_type": "markdown",
   "metadata": {},
   "source": [
    "---\n",
    "Continuous variables’ multicollinearity will be assessed with Spearman correlation and Variance Inflation Factors\n"
   ]
  },
  {
   "cell_type": "code",
   "execution_count": null,
   "metadata": {},
   "outputs": [],
   "source": []
  },
  {
   "cell_type": "markdown",
   "metadata": {},
   "source": [
    "---\n",
    "ILI cases will be modeled with months alone and with months + other variables to explore the impact of the other variables on cases.\n"
   ]
  },
  {
   "cell_type": "code",
   "execution_count": null,
   "metadata": {},
   "outputs": [],
   "source": []
  },
  {
   "cell_type": "markdown",
   "metadata": {},
   "source": [
    "---\n",
    "The stationarity of ILI cases will be tested using the Adfuller Test of Stationarity. If the series fails to show stationarity, another Adfuller test will be performed on the first-differenced data.\n"
   ]
  },
  {
   "cell_type": "code",
   "execution_count": null,
   "metadata": {},
   "outputs": [],
   "source": []
  },
  {
   "cell_type": "markdown",
   "metadata": {},
   "source": [
    "---\n",
    "If the cases series or its first-differenced transformation are indeed stationary, an autoregression model will be developed to explore any lagged-effects of past weeks in the data.\n"
   ]
  },
  {
   "cell_type": "code",
   "execution_count": null,
   "metadata": {},
   "outputs": [],
   "source": []
  },
  {
   "cell_type": "markdown",
   "metadata": {},
   "source": [
    "---\n",
    "Delayed-effects of independent variables on ILI cases will be explored with cross-correlation plots to select lagged terms which may have an influence on cases. \n"
   ]
  },
  {
   "cell_type": "code",
   "execution_count": null,
   "metadata": {},
   "outputs": [],
   "source": []
  },
  {
   "cell_type": "markdown",
   "metadata": {},
   "source": [
    "---\n",
    "These lagged terms will be included in a multiple linear regression model, alongside auto-lags, months, and other terms\n"
   ]
  },
  {
   "cell_type": "code",
   "execution_count": null,
   "metadata": {},
   "outputs": [],
   "source": []
  }
 ],
 "metadata": {
  "kernelspec": {
   "display_name": "Python 3",
   "language": "python",
   "name": "python3"
  },
  "language_info": {
   "codemirror_mode": {
    "name": "ipython",
    "version": 3
   },
   "file_extension": ".py",
   "mimetype": "text/x-python",
   "name": "python",
   "nbconvert_exporter": "python",
   "pygments_lexer": "ipython3",
   "version": "3.11.5"
  }
 },
 "nbformat": 4,
 "nbformat_minor": 2
}
