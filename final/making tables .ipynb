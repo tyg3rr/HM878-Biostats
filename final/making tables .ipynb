{
 "cells": [
  {
   "cell_type": "markdown",
   "metadata": {},
   "source": [
    "## Makin' Tables\n",
    "\n",
    "Something R does better than Python"
   ]
  },
  {
   "cell_type": "code",
   "execution_count": 4,
   "metadata": {
    "vscode": {
     "languageId": "r"
    }
   },
   "outputs": [
    {
     "name": "stderr",
     "output_type": "stream",
     "text": [
      "Warning message:\n",
      "\"package 'flextable' was built under R version 4.2.3\"\n"
     ]
    },
    {
     "name": "stderr",
     "output_type": "stream",
     "text": [
      "── \u001b[1mAttaching core tidyverse packages\u001b[22m ──────────────────────── tidyverse 2.0.0 ──\n",
      "\u001b[32m✔\u001b[39m \u001b[34mdplyr    \u001b[39m 1.1.0     \u001b[32m✔\u001b[39m \u001b[34mreadr    \u001b[39m 2.1.4\n",
      "\u001b[32m✔\u001b[39m \u001b[34mforcats  \u001b[39m 1.0.0     \u001b[32m✔\u001b[39m \u001b[34mstringr  \u001b[39m 1.5.0\n",
      "\u001b[32m✔\u001b[39m \u001b[34mggplot2  \u001b[39m 3.4.1     \u001b[32m✔\u001b[39m \u001b[34mtibble   \u001b[39m 3.1.8\n",
      "\u001b[32m✔\u001b[39m \u001b[34mlubridate\u001b[39m 1.9.2     \u001b[32m✔\u001b[39m \u001b[34mtidyr    \u001b[39m 1.3.0\n",
      "\u001b[32m✔\u001b[39m \u001b[34mpurrr    \u001b[39m 1.0.1     \n",
      "── \u001b[1mConflicts\u001b[22m ────────────────────────────────────────── tidyverse_conflicts() ──\n",
      "\u001b[31m✖\u001b[39m \u001b[34mpurrr\u001b[39m::\u001b[32mcompose()\u001b[39m masks \u001b[34mflextable\u001b[39m::compose()\n",
      "\u001b[31m✖\u001b[39m \u001b[34mdplyr\u001b[39m::\u001b[32mfilter()\u001b[39m  masks \u001b[34mstats\u001b[39m::filter()\n",
      "\u001b[31m✖\u001b[39m \u001b[34mdplyr\u001b[39m::\u001b[32mlag()\u001b[39m     masks \u001b[34mstats\u001b[39m::lag()\n",
      "\u001b[36mℹ\u001b[39m Use the conflicted package (\u001b[3m\u001b[34m<http://conflicted.r-lib.org/>\u001b[39m\u001b[23m) to force all conflicts to become errors\n"
     ]
    }
   ],
   "source": [
    "library(flextable)\n",
    "library(tidyverse)"
   ]
  },
  {
   "cell_type": "code",
   "execution_count": 5,
   "metadata": {
    "vscode": {
     "languageId": "r"
    }
   },
   "outputs": [],
   "source": [
    "pretty.means <- read.csv('pretty means .csv')"
   ]
  },
  {
   "cell_type": "code",
   "execution_count": 6,
   "metadata": {
    "vscode": {
     "languageId": "r"
    }
   },
   "outputs": [
    {
     "data": {
      "text/html": [
       "<table class=\"dataframe\">\n",
       "<caption>A data.frame: 15 × 13</caption>\n",
       "<thead>\n",
       "\t<tr><th scope=col>X</th><th scope=col>January</th><th scope=col>February</th><th scope=col>March</th><th scope=col>April</th><th scope=col>May</th><th scope=col>June</th><th scope=col>July</th><th scope=col>August</th><th scope=col>September</th><th scope=col>October</th><th scope=col>November</th><th scope=col>December</th></tr>\n",
       "\t<tr><th scope=col>&lt;chr&gt;</th><th scope=col>&lt;dbl&gt;</th><th scope=col>&lt;dbl&gt;</th><th scope=col>&lt;dbl&gt;</th><th scope=col>&lt;dbl&gt;</th><th scope=col>&lt;dbl&gt;</th><th scope=col>&lt;dbl&gt;</th><th scope=col>&lt;dbl&gt;</th><th scope=col>&lt;dbl&gt;</th><th scope=col>&lt;dbl&gt;</th><th scope=col>&lt;dbl&gt;</th><th scope=col>&lt;dbl&gt;</th><th scope=col>&lt;dbl&gt;</th></tr>\n",
       "</thead>\n",
       "<tbody>\n",
       "\t<tr><td>Cases      </td><td>1720</td><td>1842</td><td>1730</td><td> 875</td><td> 865</td><td> 150</td><td>   5</td><td>  29</td><td> 742</td><td>1412</td><td>1246</td><td>1017</td></tr>\n",
       "\t<tr><td>EDVisits   </td><td> 108</td><td> 126</td><td> 113</td><td>  66</td><td>  57</td><td>  35</td><td>  28</td><td>  27</td><td>  46</td><td>  78</td><td>  75</td><td> 112</td></tr>\n",
       "\t<tr><td>Wind       </td><td>  10</td><td>  10</td><td>  10</td><td>  11</td><td>   9</td><td>   8</td><td>   7</td><td>   7</td><td>   8</td><td>   9</td><td>  10</td><td>  10</td></tr>\n",
       "\t<tr><td>Precip (in)</td><td>   0</td><td>   0</td><td>   0</td><td>   0</td><td>   0</td><td>   0</td><td>   0</td><td>   0</td><td>   0</td><td>   0</td><td>   0</td><td>   0</td></tr>\n",
       "\t<tr><td>Snow (in)  </td><td>   1</td><td>   1</td><td>   0</td><td>   0</td><td>   0</td><td>   0</td><td>   0</td><td>   0</td><td>   0</td><td>   0</td><td>   0</td><td>   1</td></tr>\n",
       "\t<tr><td>Temp (F)   </td><td>  25</td><td>  25</td><td>  36</td><td>  48</td><td>  60</td><td>  69</td><td>  74</td><td>  71</td><td>  64</td><td>  51</td><td>  39</td><td>  30</td></tr>\n",
       "\t<tr><td>AQI        </td><td>  41</td><td>  42</td><td>  43</td><td>  47</td><td>  52</td><td>  54</td><td>  55</td><td>  47</td><td>  40</td><td>  32</td><td>  39</td><td>  39</td></tr>\n",
       "\t<tr><td>CO         </td><td>   5</td><td>   5</td><td>   4</td><td>   4</td><td>   3</td><td>   4</td><td>   4</td><td>   4</td><td>   4</td><td>   5</td><td>   5</td><td>   5</td></tr>\n",
       "\t<tr><td>Ozone      </td><td>  18</td><td>  22</td><td>  28</td><td>  45</td><td>  51</td><td>  51</td><td>  53</td><td>  43</td><td>  36</td><td>  19</td><td>  17</td><td>  17</td></tr>\n",
       "\t<tr><td>PM10       </td><td>   2</td><td>   2</td><td>   2</td><td>   2</td><td>   3</td><td>   3</td><td>   3</td><td>   3</td><td>   3</td><td>   2</td><td>   2</td><td>   2</td></tr>\n",
       "\t<tr><td>PM2.5      </td><td>  37</td><td>  36</td><td>  35</td><td>  26</td><td>  28</td><td>  32</td><td>  34</td><td>  33</td><td>  29</td><td>  26</td><td>  34</td><td>  34</td></tr>\n",
       "\t<tr><td>NO2        </td><td>  27</td><td>  26</td><td>  29</td><td>  14</td><td>  12</td><td>  11</td><td>  13</td><td>  15</td><td>  16</td><td>  18</td><td>  17</td><td>  17</td></tr>\n",
       "\t<tr><td>Flu GS     </td><td>1272</td><td>1104</td><td> 765</td><td>1184</td><td> 806</td><td> 535</td><td> 603</td><td> 636</td><td> 923</td><td>1556</td><td>1175</td><td>1055</td></tr>\n",
       "\t<tr><td>Cough GS   </td><td> 670</td><td> 661</td><td> 593</td><td> 526</td><td> 481</td><td> 451</td><td> 442</td><td> 440</td><td> 539</td><td> 581</td><td> 643</td><td> 746</td></tr>\n",
       "\t<tr><td>Cold GS    </td><td>3295</td><td>3053</td><td>2773</td><td>2704</td><td>2610</td><td>2422</td><td>2460</td><td>2445</td><td>2657</td><td>2823</td><td>3101</td><td>3475</td></tr>\n",
       "</tbody>\n",
       "</table>\n"
      ],
      "text/latex": [
       "A data.frame: 15 × 13\n",
       "\\begin{tabular}{lllllllllllll}\n",
       " X & January & February & March & April & May & June & July & August & September & October & November & December\\\\\n",
       " <chr> & <dbl> & <dbl> & <dbl> & <dbl> & <dbl> & <dbl> & <dbl> & <dbl> & <dbl> & <dbl> & <dbl> & <dbl>\\\\\n",
       "\\hline\n",
       "\t Cases       & 1720 & 1842 & 1730 &  875 &  865 &  150 &    5 &   29 &  742 & 1412 & 1246 & 1017\\\\\n",
       "\t EDVisits    &  108 &  126 &  113 &   66 &   57 &   35 &   28 &   27 &   46 &   78 &   75 &  112\\\\\n",
       "\t Wind        &   10 &   10 &   10 &   11 &    9 &    8 &    7 &    7 &    8 &    9 &   10 &   10\\\\\n",
       "\t Precip (in) &    0 &    0 &    0 &    0 &    0 &    0 &    0 &    0 &    0 &    0 &    0 &    0\\\\\n",
       "\t Snow (in)   &    1 &    1 &    0 &    0 &    0 &    0 &    0 &    0 &    0 &    0 &    0 &    1\\\\\n",
       "\t Temp (F)    &   25 &   25 &   36 &   48 &   60 &   69 &   74 &   71 &   64 &   51 &   39 &   30\\\\\n",
       "\t AQI         &   41 &   42 &   43 &   47 &   52 &   54 &   55 &   47 &   40 &   32 &   39 &   39\\\\\n",
       "\t CO          &    5 &    5 &    4 &    4 &    3 &    4 &    4 &    4 &    4 &    5 &    5 &    5\\\\\n",
       "\t Ozone       &   18 &   22 &   28 &   45 &   51 &   51 &   53 &   43 &   36 &   19 &   17 &   17\\\\\n",
       "\t PM10        &    2 &    2 &    2 &    2 &    3 &    3 &    3 &    3 &    3 &    2 &    2 &    2\\\\\n",
       "\t PM2.5       &   37 &   36 &   35 &   26 &   28 &   32 &   34 &   33 &   29 &   26 &   34 &   34\\\\\n",
       "\t NO2         &   27 &   26 &   29 &   14 &   12 &   11 &   13 &   15 &   16 &   18 &   17 &   17\\\\\n",
       "\t Flu GS      & 1272 & 1104 &  765 & 1184 &  806 &  535 &  603 &  636 &  923 & 1556 & 1175 & 1055\\\\\n",
       "\t Cough GS    &  670 &  661 &  593 &  526 &  481 &  451 &  442 &  440 &  539 &  581 &  643 &  746\\\\\n",
       "\t Cold GS     & 3295 & 3053 & 2773 & 2704 & 2610 & 2422 & 2460 & 2445 & 2657 & 2823 & 3101 & 3475\\\\\n",
       "\\end{tabular}\n"
      ],
      "text/markdown": [
       "\n",
       "A data.frame: 15 × 13\n",
       "\n",
       "| X &lt;chr&gt; | January &lt;dbl&gt; | February &lt;dbl&gt; | March &lt;dbl&gt; | April &lt;dbl&gt; | May &lt;dbl&gt; | June &lt;dbl&gt; | July &lt;dbl&gt; | August &lt;dbl&gt; | September &lt;dbl&gt; | October &lt;dbl&gt; | November &lt;dbl&gt; | December &lt;dbl&gt; |\n",
       "|---|---|---|---|---|---|---|---|---|---|---|---|---|\n",
       "| Cases       | 1720 | 1842 | 1730 |  875 |  865 |  150 |    5 |   29 |  742 | 1412 | 1246 | 1017 |\n",
       "| EDVisits    |  108 |  126 |  113 |   66 |   57 |   35 |   28 |   27 |   46 |   78 |   75 |  112 |\n",
       "| Wind        |   10 |   10 |   10 |   11 |    9 |    8 |    7 |    7 |    8 |    9 |   10 |   10 |\n",
       "| Precip (in) |    0 |    0 |    0 |    0 |    0 |    0 |    0 |    0 |    0 |    0 |    0 |    0 |\n",
       "| Snow (in)   |    1 |    1 |    0 |    0 |    0 |    0 |    0 |    0 |    0 |    0 |    0 |    1 |\n",
       "| Temp (F)    |   25 |   25 |   36 |   48 |   60 |   69 |   74 |   71 |   64 |   51 |   39 |   30 |\n",
       "| AQI         |   41 |   42 |   43 |   47 |   52 |   54 |   55 |   47 |   40 |   32 |   39 |   39 |\n",
       "| CO          |    5 |    5 |    4 |    4 |    3 |    4 |    4 |    4 |    4 |    5 |    5 |    5 |\n",
       "| Ozone       |   18 |   22 |   28 |   45 |   51 |   51 |   53 |   43 |   36 |   19 |   17 |   17 |\n",
       "| PM10        |    2 |    2 |    2 |    2 |    3 |    3 |    3 |    3 |    3 |    2 |    2 |    2 |\n",
       "| PM2.5       |   37 |   36 |   35 |   26 |   28 |   32 |   34 |   33 |   29 |   26 |   34 |   34 |\n",
       "| NO2         |   27 |   26 |   29 |   14 |   12 |   11 |   13 |   15 |   16 |   18 |   17 |   17 |\n",
       "| Flu GS      | 1272 | 1104 |  765 | 1184 |  806 |  535 |  603 |  636 |  923 | 1556 | 1175 | 1055 |\n",
       "| Cough GS    |  670 |  661 |  593 |  526 |  481 |  451 |  442 |  440 |  539 |  581 |  643 |  746 |\n",
       "| Cold GS     | 3295 | 3053 | 2773 | 2704 | 2610 | 2422 | 2460 | 2445 | 2657 | 2823 | 3101 | 3475 |\n",
       "\n"
      ],
      "text/plain": [
       "   X           January February March April May  June July August September\n",
       "1  Cases       1720    1842     1730   875   865  150    5   29    742     \n",
       "2  EDVisits     108     126      113    66    57   35   28   27     46     \n",
       "3  Wind          10      10       10    11     9    8    7    7      8     \n",
       "4  Precip (in)    0       0        0     0     0    0    0    0      0     \n",
       "5  Snow (in)      1       1        0     0     0    0    0    0      0     \n",
       "6  Temp (F)      25      25       36    48    60   69   74   71     64     \n",
       "7  AQI           41      42       43    47    52   54   55   47     40     \n",
       "8  CO             5       5        4     4     3    4    4    4      4     \n",
       "9  Ozone         18      22       28    45    51   51   53   43     36     \n",
       "10 PM10           2       2        2     2     3    3    3    3      3     \n",
       "11 PM2.5         37      36       35    26    28   32   34   33     29     \n",
       "12 NO2           27      26       29    14    12   11   13   15     16     \n",
       "13 Flu GS      1272    1104      765  1184   806  535  603  636    923     \n",
       "14 Cough GS     670     661      593   526   481  451  442  440    539     \n",
       "15 Cold GS     3295    3053     2773  2704  2610 2422 2460 2445   2657     \n",
       "   October November December\n",
       "1  1412    1246     1017    \n",
       "2    78      75      112    \n",
       "3     9      10       10    \n",
       "4     0       0        0    \n",
       "5     0       0        1    \n",
       "6    51      39       30    \n",
       "7    32      39       39    \n",
       "8     5       5        5    \n",
       "9    19      17       17    \n",
       "10    2       2        2    \n",
       "11   26      34       34    \n",
       "12   18      17       17    \n",
       "13 1556    1175     1055    \n",
       "14  581     643      746    \n",
       "15 2823    3101     3475    "
      ]
     },
     "metadata": {},
     "output_type": "display_data"
    }
   ],
   "source": [
    "pretty.means"
   ]
  },
  {
   "cell_type": "code",
   "execution_count": 8,
   "metadata": {
    "vscode": {
     "languageId": "r"
    }
   },
   "outputs": [],
   "source": [
    "ft <- flextable(pretty.means)"
   ]
  },
  {
   "cell_type": "code",
   "execution_count": 12,
   "metadata": {
    "vscode": {
     "languageId": "r"
    }
   },
   "outputs": [
    {
     "name": "stdout",
     "output_type": "stream",
     "text": [
      "a flextable object.\n",
      "col_keys: `X`, `January`, `February`, `March`, `April`, `May`, `June`, `July`, `August`, `September`, `October`, `November`, `December` \n",
      "header has 1 row(s) \n",
      "body has 15 row(s) \n",
      "original dataset sample: \n",
      "            X January February March April May June July August September\n",
      "1       Cases    1720     1842  1730   875 865  150    5     29       742\n",
      "2    EDVisits     108      126   113    66  57   35   28     27        46\n",
      "3        Wind      10       10    10    11   9    8    7      7         8\n",
      "4 Precip (in)       0        0     0     0   0    0    0      0         0\n",
      "5   Snow (in)       1        1     0     0   0    0    0      0         0\n",
      "  October November December\n",
      "1    1412     1246     1017\n",
      "2      78       75      112\n",
      "3       9       10       10\n",
      "4       0        0        0\n",
      "5       0        0        1\n"
     ]
    }
   ],
   "source": [
    "ft <- theme_vanilla(ft)\n",
    "ft <- set_caption(ft, caption = 'Continuous Variable Means')\n",
    "print(ft)"
   ]
  },
  {
   "cell_type": "code",
   "execution_count": 13,
   "metadata": {
    "vscode": {
     "languageId": "r"
    }
   },
   "outputs": [
    {
     "name": "stderr",
     "output_type": "stream",
     "text": [
      "Installing package into 'C:/Users/ljens/AppData/Local/R/win-library/4.2'\n",
      "(as 'lib' is unspecified)\n",
      "\n",
      "also installing the dependencies 'webshot', 'svglite'\n",
      "\n",
      "\n"
     ]
    },
    {
     "name": "stdout",
     "output_type": "stream",
     "text": [
      "\n",
      "  There is a binary version available but the source version is later:\n",
      "        binary source needs_compilation\n",
      "svglite  2.1.2  2.1.3              TRUE\n",
      "\n",
      "  Binaries will be installed\n",
      "package 'webshot' successfully unpacked and MD5 sums checked\n",
      "package 'svglite' successfully unpacked and MD5 sums checked\n",
      "package 'kableExtra' successfully unpacked and MD5 sums checked\n",
      "\n",
      "The downloaded binary packages are in\n",
      "\tC:\\Users\\ljens\\AppData\\Local\\Temp\\RtmpGywxf0\\downloaded_packages\n"
     ]
    }
   ],
   "source": [
    "install.packages(\"kableExtra\")\n"
   ]
  },
  {
   "cell_type": "code",
   "execution_count": 6,
   "metadata": {
    "vscode": {
     "languageId": "r"
    }
   },
   "outputs": [
    {
     "name": "stderr",
     "output_type": "stream",
     "text": [
      "Warning message:\n",
      "\"package 'kableExtra' was built under R version 4.2.3\"\n"
     ]
    },
    {
     "name": "stderr",
     "output_type": "stream",
     "text": [
      "\n",
      "Attaching package: 'kableExtra'\n",
      "\n",
      "\n",
      "The following object is masked from 'package:dplyr':\n",
      "\n",
      "    group_rows\n",
      "\n",
      "\n",
      "The following objects are masked from 'package:flextable':\n",
      "\n",
      "    as_image, footnote\n",
      "\n",
      "\n"
     ]
    }
   ],
   "source": [
    "library(kableExtra)"
   ]
  },
  {
   "cell_type": "code",
   "execution_count": 15,
   "metadata": {
    "vscode": {
     "languageId": "r"
    }
   },
   "outputs": [
    {
     "data": {
      "text/plain": [
       "<table>\n",
       " <thead>\n",
       "  <tr>\n",
       "   <th style=\"text-align:left;\"> X </th>\n",
       "   <th style=\"text-align:right;\"> January </th>\n",
       "   <th style=\"text-align:right;\"> February </th>\n",
       "   <th style=\"text-align:right;\"> March </th>\n",
       "   <th style=\"text-align:right;\"> April </th>\n",
       "   <th style=\"text-align:right;\"> May </th>\n",
       "   <th style=\"text-align:right;\"> June </th>\n",
       "   <th style=\"text-align:right;\"> July </th>\n",
       "   <th style=\"text-align:right;\"> August </th>\n",
       "   <th style=\"text-align:right;\"> September </th>\n",
       "   <th style=\"text-align:right;\"> October </th>\n",
       "   <th style=\"text-align:right;\"> November </th>\n",
       "   <th style=\"text-align:right;\"> December </th>\n",
       "  </tr>\n",
       " </thead>\n",
       "<tbody>\n",
       "  <tr>\n",
       "   <td style=\"text-align:left;\"> Cases </td>\n",
       "   <td style=\"text-align:right;\"> 1720 </td>\n",
       "   <td style=\"text-align:right;\"> 1842 </td>\n",
       "   <td style=\"text-align:right;\"> 1730 </td>\n",
       "   <td style=\"text-align:right;\"> 875 </td>\n",
       "   <td style=\"text-align:right;\"> 865 </td>\n",
       "   <td style=\"text-align:right;\"> 150 </td>\n",
       "   <td style=\"text-align:right;\"> 5 </td>\n",
       "   <td style=\"text-align:right;\"> 29 </td>\n",
       "   <td style=\"text-align:right;\"> 742 </td>\n",
       "   <td style=\"text-align:right;\"> 1412 </td>\n",
       "   <td style=\"text-align:right;\"> 1246 </td>\n",
       "   <td style=\"text-align:right;\"> 1017 </td>\n",
       "  </tr>\n",
       "  <tr>\n",
       "   <td style=\"text-align:left;\"> EDVisits </td>\n",
       "   <td style=\"text-align:right;\"> 108 </td>\n",
       "   <td style=\"text-align:right;\"> 126 </td>\n",
       "   <td style=\"text-align:right;\"> 113 </td>\n",
       "   <td style=\"text-align:right;\"> 66 </td>\n",
       "   <td style=\"text-align:right;\"> 57 </td>\n",
       "   <td style=\"text-align:right;\"> 35 </td>\n",
       "   <td style=\"text-align:right;\"> 28 </td>\n",
       "   <td style=\"text-align:right;\"> 27 </td>\n",
       "   <td style=\"text-align:right;\"> 46 </td>\n",
       "   <td style=\"text-align:right;\"> 78 </td>\n",
       "   <td style=\"text-align:right;\"> 75 </td>\n",
       "   <td style=\"text-align:right;\"> 112 </td>\n",
       "  </tr>\n",
       "  <tr>\n",
       "   <td style=\"text-align:left;\"> Wind </td>\n",
       "   <td style=\"text-align:right;\"> 10 </td>\n",
       "   <td style=\"text-align:right;\"> 10 </td>\n",
       "   <td style=\"text-align:right;\"> 10 </td>\n",
       "   <td style=\"text-align:right;\"> 11 </td>\n",
       "   <td style=\"text-align:right;\"> 9 </td>\n",
       "   <td style=\"text-align:right;\"> 8 </td>\n",
       "   <td style=\"text-align:right;\"> 7 </td>\n",
       "   <td style=\"text-align:right;\"> 7 </td>\n",
       "   <td style=\"text-align:right;\"> 8 </td>\n",
       "   <td style=\"text-align:right;\"> 9 </td>\n",
       "   <td style=\"text-align:right;\"> 10 </td>\n",
       "   <td style=\"text-align:right;\"> 10 </td>\n",
       "  </tr>\n",
       "  <tr>\n",
       "   <td style=\"text-align:left;\"> Precip (in) </td>\n",
       "   <td style=\"text-align:right;\"> 0 </td>\n",
       "   <td style=\"text-align:right;\"> 0 </td>\n",
       "   <td style=\"text-align:right;\"> 0 </td>\n",
       "   <td style=\"text-align:right;\"> 0 </td>\n",
       "   <td style=\"text-align:right;\"> 0 </td>\n",
       "   <td style=\"text-align:right;\"> 0 </td>\n",
       "   <td style=\"text-align:right;\"> 0 </td>\n",
       "   <td style=\"text-align:right;\"> 0 </td>\n",
       "   <td style=\"text-align:right;\"> 0 </td>\n",
       "   <td style=\"text-align:right;\"> 0 </td>\n",
       "   <td style=\"text-align:right;\"> 0 </td>\n",
       "   <td style=\"text-align:right;\"> 0 </td>\n",
       "  </tr>\n",
       "  <tr>\n",
       "   <td style=\"text-align:left;\"> Snow (in) </td>\n",
       "   <td style=\"text-align:right;\"> 1 </td>\n",
       "   <td style=\"text-align:right;\"> 1 </td>\n",
       "   <td style=\"text-align:right;\"> 0 </td>\n",
       "   <td style=\"text-align:right;\"> 0 </td>\n",
       "   <td style=\"text-align:right;\"> 0 </td>\n",
       "   <td style=\"text-align:right;\"> 0 </td>\n",
       "   <td style=\"text-align:right;\"> 0 </td>\n",
       "   <td style=\"text-align:right;\"> 0 </td>\n",
       "   <td style=\"text-align:right;\"> 0 </td>\n",
       "   <td style=\"text-align:right;\"> 0 </td>\n",
       "   <td style=\"text-align:right;\"> 0 </td>\n",
       "   <td style=\"text-align:right;\"> 1 </td>\n",
       "  </tr>\n",
       "  <tr>\n",
       "   <td style=\"text-align:left;\"> Temp (F) </td>\n",
       "   <td style=\"text-align:right;\"> 25 </td>\n",
       "   <td style=\"text-align:right;\"> 25 </td>\n",
       "   <td style=\"text-align:right;\"> 36 </td>\n",
       "   <td style=\"text-align:right;\"> 48 </td>\n",
       "   <td style=\"text-align:right;\"> 60 </td>\n",
       "   <td style=\"text-align:right;\"> 69 </td>\n",
       "   <td style=\"text-align:right;\"> 74 </td>\n",
       "   <td style=\"text-align:right;\"> 71 </td>\n",
       "   <td style=\"text-align:right;\"> 64 </td>\n",
       "   <td style=\"text-align:right;\"> 51 </td>\n",
       "   <td style=\"text-align:right;\"> 39 </td>\n",
       "   <td style=\"text-align:right;\"> 30 </td>\n",
       "  </tr>\n",
       "  <tr>\n",
       "   <td style=\"text-align:left;\"> AQI </td>\n",
       "   <td style=\"text-align:right;\"> 41 </td>\n",
       "   <td style=\"text-align:right;\"> 42 </td>\n",
       "   <td style=\"text-align:right;\"> 43 </td>\n",
       "   <td style=\"text-align:right;\"> 47 </td>\n",
       "   <td style=\"text-align:right;\"> 52 </td>\n",
       "   <td style=\"text-align:right;\"> 54 </td>\n",
       "   <td style=\"text-align:right;\"> 55 </td>\n",
       "   <td style=\"text-align:right;\"> 47 </td>\n",
       "   <td style=\"text-align:right;\"> 40 </td>\n",
       "   <td style=\"text-align:right;\"> 32 </td>\n",
       "   <td style=\"text-align:right;\"> 39 </td>\n",
       "   <td style=\"text-align:right;\"> 39 </td>\n",
       "  </tr>\n",
       "  <tr>\n",
       "   <td style=\"text-align:left;\"> CO </td>\n",
       "   <td style=\"text-align:right;\"> 5 </td>\n",
       "   <td style=\"text-align:right;\"> 5 </td>\n",
       "   <td style=\"text-align:right;\"> 4 </td>\n",
       "   <td style=\"text-align:right;\"> 4 </td>\n",
       "   <td style=\"text-align:right;\"> 3 </td>\n",
       "   <td style=\"text-align:right;\"> 4 </td>\n",
       "   <td style=\"text-align:right;\"> 4 </td>\n",
       "   <td style=\"text-align:right;\"> 4 </td>\n",
       "   <td style=\"text-align:right;\"> 4 </td>\n",
       "   <td style=\"text-align:right;\"> 5 </td>\n",
       "   <td style=\"text-align:right;\"> 5 </td>\n",
       "   <td style=\"text-align:right;\"> 5 </td>\n",
       "  </tr>\n",
       "  <tr>\n",
       "   <td style=\"text-align:left;\"> Ozone </td>\n",
       "   <td style=\"text-align:right;\"> 18 </td>\n",
       "   <td style=\"text-align:right;\"> 22 </td>\n",
       "   <td style=\"text-align:right;\"> 28 </td>\n",
       "   <td style=\"text-align:right;\"> 45 </td>\n",
       "   <td style=\"text-align:right;\"> 51 </td>\n",
       "   <td style=\"text-align:right;\"> 51 </td>\n",
       "   <td style=\"text-align:right;\"> 53 </td>\n",
       "   <td style=\"text-align:right;\"> 43 </td>\n",
       "   <td style=\"text-align:right;\"> 36 </td>\n",
       "   <td style=\"text-align:right;\"> 19 </td>\n",
       "   <td style=\"text-align:right;\"> 17 </td>\n",
       "   <td style=\"text-align:right;\"> 17 </td>\n",
       "  </tr>\n",
       "  <tr>\n",
       "   <td style=\"text-align:left;\"> PM10 </td>\n",
       "   <td style=\"text-align:right;\"> 2 </td>\n",
       "   <td style=\"text-align:right;\"> 2 </td>\n",
       "   <td style=\"text-align:right;\"> 2 </td>\n",
       "   <td style=\"text-align:right;\"> 2 </td>\n",
       "   <td style=\"text-align:right;\"> 3 </td>\n",
       "   <td style=\"text-align:right;\"> 3 </td>\n",
       "   <td style=\"text-align:right;\"> 3 </td>\n",
       "   <td style=\"text-align:right;\"> 3 </td>\n",
       "   <td style=\"text-align:right;\"> 3 </td>\n",
       "   <td style=\"text-align:right;\"> 2 </td>\n",
       "   <td style=\"text-align:right;\"> 2 </td>\n",
       "   <td style=\"text-align:right;\"> 2 </td>\n",
       "  </tr>\n",
       "  <tr>\n",
       "   <td style=\"text-align:left;\"> PM2.5 </td>\n",
       "   <td style=\"text-align:right;\"> 37 </td>\n",
       "   <td style=\"text-align:right;\"> 36 </td>\n",
       "   <td style=\"text-align:right;\"> 35 </td>\n",
       "   <td style=\"text-align:right;\"> 26 </td>\n",
       "   <td style=\"text-align:right;\"> 28 </td>\n",
       "   <td style=\"text-align:right;\"> 32 </td>\n",
       "   <td style=\"text-align:right;\"> 34 </td>\n",
       "   <td style=\"text-align:right;\"> 33 </td>\n",
       "   <td style=\"text-align:right;\"> 29 </td>\n",
       "   <td style=\"text-align:right;\"> 26 </td>\n",
       "   <td style=\"text-align:right;\"> 34 </td>\n",
       "   <td style=\"text-align:right;\"> 34 </td>\n",
       "  </tr>\n",
       "  <tr>\n",
       "   <td style=\"text-align:left;\"> NO2 </td>\n",
       "   <td style=\"text-align:right;\"> 27 </td>\n",
       "   <td style=\"text-align:right;\"> 26 </td>\n",
       "   <td style=\"text-align:right;\"> 29 </td>\n",
       "   <td style=\"text-align:right;\"> 14 </td>\n",
       "   <td style=\"text-align:right;\"> 12 </td>\n",
       "   <td style=\"text-align:right;\"> 11 </td>\n",
       "   <td style=\"text-align:right;\"> 13 </td>\n",
       "   <td style=\"text-align:right;\"> 15 </td>\n",
       "   <td style=\"text-align:right;\"> 16 </td>\n",
       "   <td style=\"text-align:right;\"> 18 </td>\n",
       "   <td style=\"text-align:right;\"> 17 </td>\n",
       "   <td style=\"text-align:right;\"> 17 </td>\n",
       "  </tr>\n",
       "  <tr>\n",
       "   <td style=\"text-align:left;\"> Flu GS </td>\n",
       "   <td style=\"text-align:right;\"> 1272 </td>\n",
       "   <td style=\"text-align:right;\"> 1104 </td>\n",
       "   <td style=\"text-align:right;\"> 765 </td>\n",
       "   <td style=\"text-align:right;\"> 1184 </td>\n",
       "   <td style=\"text-align:right;\"> 806 </td>\n",
       "   <td style=\"text-align:right;\"> 535 </td>\n",
       "   <td style=\"text-align:right;\"> 603 </td>\n",
       "   <td style=\"text-align:right;\"> 636 </td>\n",
       "   <td style=\"text-align:right;\"> 923 </td>\n",
       "   <td style=\"text-align:right;\"> 1556 </td>\n",
       "   <td style=\"text-align:right;\"> 1175 </td>\n",
       "   <td style=\"text-align:right;\"> 1055 </td>\n",
       "  </tr>\n",
       "  <tr>\n",
       "   <td style=\"text-align:left;\"> Cough GS </td>\n",
       "   <td style=\"text-align:right;\"> 670 </td>\n",
       "   <td style=\"text-align:right;\"> 661 </td>\n",
       "   <td style=\"text-align:right;\"> 593 </td>\n",
       "   <td style=\"text-align:right;\"> 526 </td>\n",
       "   <td style=\"text-align:right;\"> 481 </td>\n",
       "   <td style=\"text-align:right;\"> 451 </td>\n",
       "   <td style=\"text-align:right;\"> 442 </td>\n",
       "   <td style=\"text-align:right;\"> 440 </td>\n",
       "   <td style=\"text-align:right;\"> 539 </td>\n",
       "   <td style=\"text-align:right;\"> 581 </td>\n",
       "   <td style=\"text-align:right;\"> 643 </td>\n",
       "   <td style=\"text-align:right;\"> 746 </td>\n",
       "  </tr>\n",
       "  <tr>\n",
       "   <td style=\"text-align:left;\"> Cold GS </td>\n",
       "   <td style=\"text-align:right;\"> 3295 </td>\n",
       "   <td style=\"text-align:right;\"> 3053 </td>\n",
       "   <td style=\"text-align:right;\"> 2773 </td>\n",
       "   <td style=\"text-align:right;\"> 2704 </td>\n",
       "   <td style=\"text-align:right;\"> 2610 </td>\n",
       "   <td style=\"text-align:right;\"> 2422 </td>\n",
       "   <td style=\"text-align:right;\"> 2460 </td>\n",
       "   <td style=\"text-align:right;\"> 2445 </td>\n",
       "   <td style=\"text-align:right;\"> 2657 </td>\n",
       "   <td style=\"text-align:right;\"> 2823 </td>\n",
       "   <td style=\"text-align:right;\"> 3101 </td>\n",
       "   <td style=\"text-align:right;\"> 3475 </td>\n",
       "  </tr>\n",
       "</tbody>\n",
       "</table>"
      ]
     },
     "metadata": {},
     "output_type": "display_data"
    }
   ],
   "source": [
    "kbl(pretty.means)"
   ]
  },
  {
   "cell_type": "code",
   "execution_count": 18,
   "metadata": {
    "vscode": {
     "languageId": "r"
    }
   },
   "outputs": [
    {
     "data": {
      "text/plain": [
       "<table class=\" lightable-minimal\" style='font-family: \"Trebuchet MS\", verdana, sans-serif; margin-left: auto; margin-right: auto;'>\n",
       " <thead>\n",
       "  <tr>\n",
       "   <th style=\"text-align:left;\"> X </th>\n",
       "   <th style=\"text-align:right;\"> January </th>\n",
       "   <th style=\"text-align:right;\"> February </th>\n",
       "   <th style=\"text-align:right;\"> March </th>\n",
       "   <th style=\"text-align:right;\"> April </th>\n",
       "   <th style=\"text-align:right;\"> May </th>\n",
       "   <th style=\"text-align:right;\"> June </th>\n",
       "   <th style=\"text-align:right;\"> July </th>\n",
       "   <th style=\"text-align:right;\"> August </th>\n",
       "   <th style=\"text-align:right;\"> September </th>\n",
       "   <th style=\"text-align:right;\"> October </th>\n",
       "   <th style=\"text-align:right;\"> November </th>\n",
       "   <th style=\"text-align:right;\"> December </th>\n",
       "  </tr>\n",
       " </thead>\n",
       "<tbody>\n",
       "  <tr>\n",
       "   <td style=\"text-align:left;\"> Cases </td>\n",
       "   <td style=\"text-align:right;\"> 1720 </td>\n",
       "   <td style=\"text-align:right;\"> 1842 </td>\n",
       "   <td style=\"text-align:right;\"> 1730 </td>\n",
       "   <td style=\"text-align:right;\"> 875 </td>\n",
       "   <td style=\"text-align:right;\"> 865 </td>\n",
       "   <td style=\"text-align:right;\"> 150 </td>\n",
       "   <td style=\"text-align:right;\"> 5 </td>\n",
       "   <td style=\"text-align:right;\"> 29 </td>\n",
       "   <td style=\"text-align:right;\"> 742 </td>\n",
       "   <td style=\"text-align:right;\"> 1412 </td>\n",
       "   <td style=\"text-align:right;\"> 1246 </td>\n",
       "   <td style=\"text-align:right;\"> 1017 </td>\n",
       "  </tr>\n",
       "  <tr>\n",
       "   <td style=\"text-align:left;\"> EDVisits </td>\n",
       "   <td style=\"text-align:right;\"> 108 </td>\n",
       "   <td style=\"text-align:right;\"> 126 </td>\n",
       "   <td style=\"text-align:right;\"> 113 </td>\n",
       "   <td style=\"text-align:right;\"> 66 </td>\n",
       "   <td style=\"text-align:right;\"> 57 </td>\n",
       "   <td style=\"text-align:right;\"> 35 </td>\n",
       "   <td style=\"text-align:right;\"> 28 </td>\n",
       "   <td style=\"text-align:right;\"> 27 </td>\n",
       "   <td style=\"text-align:right;\"> 46 </td>\n",
       "   <td style=\"text-align:right;\"> 78 </td>\n",
       "   <td style=\"text-align:right;\"> 75 </td>\n",
       "   <td style=\"text-align:right;\"> 112 </td>\n",
       "  </tr>\n",
       "  <tr>\n",
       "   <td style=\"text-align:left;\"> Wind </td>\n",
       "   <td style=\"text-align:right;\"> 10 </td>\n",
       "   <td style=\"text-align:right;\"> 10 </td>\n",
       "   <td style=\"text-align:right;\"> 10 </td>\n",
       "   <td style=\"text-align:right;\"> 11 </td>\n",
       "   <td style=\"text-align:right;\"> 9 </td>\n",
       "   <td style=\"text-align:right;\"> 8 </td>\n",
       "   <td style=\"text-align:right;\"> 7 </td>\n",
       "   <td style=\"text-align:right;\"> 7 </td>\n",
       "   <td style=\"text-align:right;\"> 8 </td>\n",
       "   <td style=\"text-align:right;\"> 9 </td>\n",
       "   <td style=\"text-align:right;\"> 10 </td>\n",
       "   <td style=\"text-align:right;\"> 10 </td>\n",
       "  </tr>\n",
       "  <tr>\n",
       "   <td style=\"text-align:left;\"> Precip (in) </td>\n",
       "   <td style=\"text-align:right;\"> 0 </td>\n",
       "   <td style=\"text-align:right;\"> 0 </td>\n",
       "   <td style=\"text-align:right;\"> 0 </td>\n",
       "   <td style=\"text-align:right;\"> 0 </td>\n",
       "   <td style=\"text-align:right;\"> 0 </td>\n",
       "   <td style=\"text-align:right;\"> 0 </td>\n",
       "   <td style=\"text-align:right;\"> 0 </td>\n",
       "   <td style=\"text-align:right;\"> 0 </td>\n",
       "   <td style=\"text-align:right;\"> 0 </td>\n",
       "   <td style=\"text-align:right;\"> 0 </td>\n",
       "   <td style=\"text-align:right;\"> 0 </td>\n",
       "   <td style=\"text-align:right;\"> 0 </td>\n",
       "  </tr>\n",
       "  <tr>\n",
       "   <td style=\"text-align:left;\"> Snow (in) </td>\n",
       "   <td style=\"text-align:right;\"> 1 </td>\n",
       "   <td style=\"text-align:right;\"> 1 </td>\n",
       "   <td style=\"text-align:right;\"> 0 </td>\n",
       "   <td style=\"text-align:right;\"> 0 </td>\n",
       "   <td style=\"text-align:right;\"> 0 </td>\n",
       "   <td style=\"text-align:right;\"> 0 </td>\n",
       "   <td style=\"text-align:right;\"> 0 </td>\n",
       "   <td style=\"text-align:right;\"> 0 </td>\n",
       "   <td style=\"text-align:right;\"> 0 </td>\n",
       "   <td style=\"text-align:right;\"> 0 </td>\n",
       "   <td style=\"text-align:right;\"> 0 </td>\n",
       "   <td style=\"text-align:right;\"> 1 </td>\n",
       "  </tr>\n",
       "  <tr>\n",
       "   <td style=\"text-align:left;\"> Temp (F) </td>\n",
       "   <td style=\"text-align:right;\"> 25 </td>\n",
       "   <td style=\"text-align:right;\"> 25 </td>\n",
       "   <td style=\"text-align:right;\"> 36 </td>\n",
       "   <td style=\"text-align:right;\"> 48 </td>\n",
       "   <td style=\"text-align:right;\"> 60 </td>\n",
       "   <td style=\"text-align:right;\"> 69 </td>\n",
       "   <td style=\"text-align:right;\"> 74 </td>\n",
       "   <td style=\"text-align:right;\"> 71 </td>\n",
       "   <td style=\"text-align:right;\"> 64 </td>\n",
       "   <td style=\"text-align:right;\"> 51 </td>\n",
       "   <td style=\"text-align:right;\"> 39 </td>\n",
       "   <td style=\"text-align:right;\"> 30 </td>\n",
       "  </tr>\n",
       "  <tr>\n",
       "   <td style=\"text-align:left;\"> AQI </td>\n",
       "   <td style=\"text-align:right;\"> 41 </td>\n",
       "   <td style=\"text-align:right;\"> 42 </td>\n",
       "   <td style=\"text-align:right;\"> 43 </td>\n",
       "   <td style=\"text-align:right;\"> 47 </td>\n",
       "   <td style=\"text-align:right;\"> 52 </td>\n",
       "   <td style=\"text-align:right;\"> 54 </td>\n",
       "   <td style=\"text-align:right;\"> 55 </td>\n",
       "   <td style=\"text-align:right;\"> 47 </td>\n",
       "   <td style=\"text-align:right;\"> 40 </td>\n",
       "   <td style=\"text-align:right;\"> 32 </td>\n",
       "   <td style=\"text-align:right;\"> 39 </td>\n",
       "   <td style=\"text-align:right;\"> 39 </td>\n",
       "  </tr>\n",
       "  <tr>\n",
       "   <td style=\"text-align:left;\"> CO </td>\n",
       "   <td style=\"text-align:right;\"> 5 </td>\n",
       "   <td style=\"text-align:right;\"> 5 </td>\n",
       "   <td style=\"text-align:right;\"> 4 </td>\n",
       "   <td style=\"text-align:right;\"> 4 </td>\n",
       "   <td style=\"text-align:right;\"> 3 </td>\n",
       "   <td style=\"text-align:right;\"> 4 </td>\n",
       "   <td style=\"text-align:right;\"> 4 </td>\n",
       "   <td style=\"text-align:right;\"> 4 </td>\n",
       "   <td style=\"text-align:right;\"> 4 </td>\n",
       "   <td style=\"text-align:right;\"> 5 </td>\n",
       "   <td style=\"text-align:right;\"> 5 </td>\n",
       "   <td style=\"text-align:right;\"> 5 </td>\n",
       "  </tr>\n",
       "  <tr>\n",
       "   <td style=\"text-align:left;\"> Ozone </td>\n",
       "   <td style=\"text-align:right;\"> 18 </td>\n",
       "   <td style=\"text-align:right;\"> 22 </td>\n",
       "   <td style=\"text-align:right;\"> 28 </td>\n",
       "   <td style=\"text-align:right;\"> 45 </td>\n",
       "   <td style=\"text-align:right;\"> 51 </td>\n",
       "   <td style=\"text-align:right;\"> 51 </td>\n",
       "   <td style=\"text-align:right;\"> 53 </td>\n",
       "   <td style=\"text-align:right;\"> 43 </td>\n",
       "   <td style=\"text-align:right;\"> 36 </td>\n",
       "   <td style=\"text-align:right;\"> 19 </td>\n",
       "   <td style=\"text-align:right;\"> 17 </td>\n",
       "   <td style=\"text-align:right;\"> 17 </td>\n",
       "  </tr>\n",
       "  <tr>\n",
       "   <td style=\"text-align:left;\"> PM10 </td>\n",
       "   <td style=\"text-align:right;\"> 2 </td>\n",
       "   <td style=\"text-align:right;\"> 2 </td>\n",
       "   <td style=\"text-align:right;\"> 2 </td>\n",
       "   <td style=\"text-align:right;\"> 2 </td>\n",
       "   <td style=\"text-align:right;\"> 3 </td>\n",
       "   <td style=\"text-align:right;\"> 3 </td>\n",
       "   <td style=\"text-align:right;\"> 3 </td>\n",
       "   <td style=\"text-align:right;\"> 3 </td>\n",
       "   <td style=\"text-align:right;\"> 3 </td>\n",
       "   <td style=\"text-align:right;\"> 2 </td>\n",
       "   <td style=\"text-align:right;\"> 2 </td>\n",
       "   <td style=\"text-align:right;\"> 2 </td>\n",
       "  </tr>\n",
       "  <tr>\n",
       "   <td style=\"text-align:left;\"> PM2.5 </td>\n",
       "   <td style=\"text-align:right;\"> 37 </td>\n",
       "   <td style=\"text-align:right;\"> 36 </td>\n",
       "   <td style=\"text-align:right;\"> 35 </td>\n",
       "   <td style=\"text-align:right;\"> 26 </td>\n",
       "   <td style=\"text-align:right;\"> 28 </td>\n",
       "   <td style=\"text-align:right;\"> 32 </td>\n",
       "   <td style=\"text-align:right;\"> 34 </td>\n",
       "   <td style=\"text-align:right;\"> 33 </td>\n",
       "   <td style=\"text-align:right;\"> 29 </td>\n",
       "   <td style=\"text-align:right;\"> 26 </td>\n",
       "   <td style=\"text-align:right;\"> 34 </td>\n",
       "   <td style=\"text-align:right;\"> 34 </td>\n",
       "  </tr>\n",
       "  <tr>\n",
       "   <td style=\"text-align:left;\"> NO2 </td>\n",
       "   <td style=\"text-align:right;\"> 27 </td>\n",
       "   <td style=\"text-align:right;\"> 26 </td>\n",
       "   <td style=\"text-align:right;\"> 29 </td>\n",
       "   <td style=\"text-align:right;\"> 14 </td>\n",
       "   <td style=\"text-align:right;\"> 12 </td>\n",
       "   <td style=\"text-align:right;\"> 11 </td>\n",
       "   <td style=\"text-align:right;\"> 13 </td>\n",
       "   <td style=\"text-align:right;\"> 15 </td>\n",
       "   <td style=\"text-align:right;\"> 16 </td>\n",
       "   <td style=\"text-align:right;\"> 18 </td>\n",
       "   <td style=\"text-align:right;\"> 17 </td>\n",
       "   <td style=\"text-align:right;\"> 17 </td>\n",
       "  </tr>\n",
       "  <tr>\n",
       "   <td style=\"text-align:left;\"> Flu GS </td>\n",
       "   <td style=\"text-align:right;\"> 1272 </td>\n",
       "   <td style=\"text-align:right;\"> 1104 </td>\n",
       "   <td style=\"text-align:right;\"> 765 </td>\n",
       "   <td style=\"text-align:right;\"> 1184 </td>\n",
       "   <td style=\"text-align:right;\"> 806 </td>\n",
       "   <td style=\"text-align:right;\"> 535 </td>\n",
       "   <td style=\"text-align:right;\"> 603 </td>\n",
       "   <td style=\"text-align:right;\"> 636 </td>\n",
       "   <td style=\"text-align:right;\"> 923 </td>\n",
       "   <td style=\"text-align:right;\"> 1556 </td>\n",
       "   <td style=\"text-align:right;\"> 1175 </td>\n",
       "   <td style=\"text-align:right;\"> 1055 </td>\n",
       "  </tr>\n",
       "  <tr>\n",
       "   <td style=\"text-align:left;\"> Cough GS </td>\n",
       "   <td style=\"text-align:right;\"> 670 </td>\n",
       "   <td style=\"text-align:right;\"> 661 </td>\n",
       "   <td style=\"text-align:right;\"> 593 </td>\n",
       "   <td style=\"text-align:right;\"> 526 </td>\n",
       "   <td style=\"text-align:right;\"> 481 </td>\n",
       "   <td style=\"text-align:right;\"> 451 </td>\n",
       "   <td style=\"text-align:right;\"> 442 </td>\n",
       "   <td style=\"text-align:right;\"> 440 </td>\n",
       "   <td style=\"text-align:right;\"> 539 </td>\n",
       "   <td style=\"text-align:right;\"> 581 </td>\n",
       "   <td style=\"text-align:right;\"> 643 </td>\n",
       "   <td style=\"text-align:right;\"> 746 </td>\n",
       "  </tr>\n",
       "  <tr>\n",
       "   <td style=\"text-align:left;\"> Cold GS </td>\n",
       "   <td style=\"text-align:right;\"> 3295 </td>\n",
       "   <td style=\"text-align:right;\"> 3053 </td>\n",
       "   <td style=\"text-align:right;\"> 2773 </td>\n",
       "   <td style=\"text-align:right;\"> 2704 </td>\n",
       "   <td style=\"text-align:right;\"> 2610 </td>\n",
       "   <td style=\"text-align:right;\"> 2422 </td>\n",
       "   <td style=\"text-align:right;\"> 2460 </td>\n",
       "   <td style=\"text-align:right;\"> 2445 </td>\n",
       "   <td style=\"text-align:right;\"> 2657 </td>\n",
       "   <td style=\"text-align:right;\"> 2823 </td>\n",
       "   <td style=\"text-align:right;\"> 3101 </td>\n",
       "   <td style=\"text-align:right;\"> 3475 </td>\n",
       "  </tr>\n",
       "</tbody>\n",
       "</table>"
      ]
     },
     "metadata": {},
     "output_type": "display_data"
    }
   ],
   "source": [
    "pretty.means |> kbl() |> kable_minimal()"
   ]
  },
  {
   "cell_type": "code",
   "execution_count": 20,
   "metadata": {
    "vscode": {
     "languageId": "r"
    }
   },
   "outputs": [
    {
     "data": {
      "text/html": [
       "<style>\n",
       ".list-inline {list-style: none; margin:0; padding: 0}\n",
       ".list-inline>li {display: inline-block}\n",
       ".list-inline>li:not(:last-child)::after {content: \"\\00b7\"; padding: 0 .5ex}\n",
       "</style>\n",
       "<ol class=list-inline><li>'X'</li><li>'January'</li><li>'February'</li><li>'March'</li><li>'April'</li><li>'May'</li><li>'June'</li><li>'July'</li><li>'August'</li><li>'September'</li><li>'October'</li><li>'November'</li><li>'December'</li></ol>\n"
      ],
      "text/latex": [
       "\\begin{enumerate*}\n",
       "\\item 'X'\n",
       "\\item 'January'\n",
       "\\item 'February'\n",
       "\\item 'March'\n",
       "\\item 'April'\n",
       "\\item 'May'\n",
       "\\item 'June'\n",
       "\\item 'July'\n",
       "\\item 'August'\n",
       "\\item 'September'\n",
       "\\item 'October'\n",
       "\\item 'November'\n",
       "\\item 'December'\n",
       "\\end{enumerate*}\n"
      ],
      "text/markdown": [
       "1. 'X'\n",
       "2. 'January'\n",
       "3. 'February'\n",
       "4. 'March'\n",
       "5. 'April'\n",
       "6. 'May'\n",
       "7. 'June'\n",
       "8. 'July'\n",
       "9. 'August'\n",
       "10. 'September'\n",
       "11. 'October'\n",
       "12. 'November'\n",
       "13. 'December'\n",
       "\n",
       "\n"
      ],
      "text/plain": [
       " [1] \"X\"         \"January\"   \"February\"  \"March\"     \"April\"     \"May\"      \n",
       " [7] \"June\"      \"July\"      \"August\"    \"September\" \"October\"   \"November\" \n",
       "[13] \"December\" "
      ]
     },
     "metadata": {},
     "output_type": "display_data"
    }
   ],
   "source": [
    "colnames(pretty.means)"
   ]
  },
  {
   "cell_type": "code",
   "execution_count": 25,
   "metadata": {
    "vscode": {
     "languageId": "r"
    }
   },
   "outputs": [],
   "source": [
    "pretty.means <- rename(pretty.means, 'Jan'='January','Feb'='February','Apr'='April','Jun'='June','Aug'='August','Sep'='September','Oct'='October','Nov'='November','Dec'='December')"
   ]
  },
  {
   "cell_type": "code",
   "execution_count": 41,
   "metadata": {
    "vscode": {
     "languageId": "r"
    }
   },
   "outputs": [],
   "source": [
    "pretty.means %>% kbl(caption='Continuous Variables Means') %>% kable_minimal('striped', full_width=F, html_font = 'Calibri') %>% save_kable(file='means.html')"
   ]
  },
  {
   "cell_type": "code",
   "execution_count": 50,
   "metadata": {
    "vscode": {
     "languageId": "r"
    }
   },
   "outputs": [],
   "source": [
    "rename(read.csv('0mod1.csv')[4:5], ' '='X2','  '='X3') %>% kbl(caption='Months-Only Model Fit') %>% kable_minimal('striped',full_width=F,html_font='Calibri') %>% save_kable(file='months model fit .html')"
   ]
  },
  {
   "cell_type": "code",
   "execution_count": 53,
   "metadata": {
    "vscode": {
     "languageId": "r"
    }
   },
   "outputs": [],
   "source": [
    "rename(read.csv('0mod2.csv')[4:5], ' '='X2','  '='X3') %>% kbl(caption='All-Variable Model Fit') %>% kable_minimal('striped',full_width=F,html_font='Calibri') %>% save_kable(file='all variable model fit .html')"
   ]
  },
  {
   "cell_type": "code",
   "execution_count": 54,
   "metadata": {
    "vscode": {
     "languageId": "r"
    }
   },
   "outputs": [
    {
     "data": {
      "text/html": [
       "<table class=\"dataframe\">\n",
       "<caption>A data.frame: 7 × 5</caption>\n",
       "<thead>\n",
       "\t<tr><th scope=col>X</th><th scope=col>X0</th><th scope=col>X1</th><th scope=col>X2</th><th scope=col>X3</th></tr>\n",
       "\t<tr><th scope=col>&lt;int&gt;</th><th scope=col>&lt;chr&gt;</th><th scope=col>&lt;chr&gt;</th><th scope=col>&lt;chr&gt;</th><th scope=col>&lt;dbl&gt;</th></tr>\n",
       "</thead>\n",
       "<tbody>\n",
       "\t<tr><td>0</td><td>Dep. Variable:</td><td>Cases           </td><td>  No. Observations:  </td><td> 752.000</td></tr>\n",
       "\t<tr><td>1</td><td>Model:        </td><td>AutoReg(52)     </td><td>  Log Likelihood     </td><td>-653.568</td></tr>\n",
       "\t<tr><td>2</td><td>Method:       </td><td>Conditional MLE </td><td>  S.D. of innovations</td><td>   0.616</td></tr>\n",
       "\t<tr><td>3</td><td>Date:         </td><td>Mon, 11 Dec 2023</td><td>  AIC                </td><td>1415.135</td></tr>\n",
       "\t<tr><td>4</td><td>Time:         </td><td>10:58:31        </td><td>  BIC                </td><td>1660.894</td></tr>\n",
       "\t<tr><td>5</td><td>Sample:       </td><td>07-30-2006      </td><td>  HQIC               </td><td>1510.136</td></tr>\n",
       "\t<tr><td>6</td><td>              </td><td>- 12-22-2019    </td><td>                     </td><td>      NA</td></tr>\n",
       "</tbody>\n",
       "</table>\n"
      ],
      "text/latex": [
       "A data.frame: 7 × 5\n",
       "\\begin{tabular}{lllll}\n",
       " X & X0 & X1 & X2 & X3\\\\\n",
       " <int> & <chr> & <chr> & <chr> & <dbl>\\\\\n",
       "\\hline\n",
       "\t 0 & Dep. Variable: & Cases            &   No. Observations:   &  752.000\\\\\n",
       "\t 1 & Model:         & AutoReg(52)      &   Log Likelihood      & -653.568\\\\\n",
       "\t 2 & Method:        & Conditional MLE  &   S.D. of innovations &    0.616\\\\\n",
       "\t 3 & Date:          & Mon, 11 Dec 2023 &   AIC                 & 1415.135\\\\\n",
       "\t 4 & Time:          & 10:58:31         &   BIC                 & 1660.894\\\\\n",
       "\t 5 & Sample:        & 07-30-2006       &   HQIC                & 1510.136\\\\\n",
       "\t 6 &                & - 12-22-2019     &                       &       NA\\\\\n",
       "\\end{tabular}\n"
      ],
      "text/markdown": [
       "\n",
       "A data.frame: 7 × 5\n",
       "\n",
       "| X &lt;int&gt; | X0 &lt;chr&gt; | X1 &lt;chr&gt; | X2 &lt;chr&gt; | X3 &lt;dbl&gt; |\n",
       "|---|---|---|---|---|\n",
       "| 0 | Dep. Variable: | Cases            |   No. Observations:   |  752.000 |\n",
       "| 1 | Model:         | AutoReg(52)      |   Log Likelihood      | -653.568 |\n",
       "| 2 | Method:        | Conditional MLE  |   S.D. of innovations |    0.616 |\n",
       "| 3 | Date:          | Mon, 11 Dec 2023 |   AIC                 | 1415.135 |\n",
       "| 4 | Time:          | 10:58:31         |   BIC                 | 1660.894 |\n",
       "| 5 | Sample:        | 07-30-2006       |   HQIC                | 1510.136 |\n",
       "| 6 | <!----> | - 12-22-2019     | <!----> |       NA |\n",
       "\n"
      ],
      "text/plain": [
       "  X X0             X1               X2                    X3      \n",
       "1 0 Dep. Variable: Cases              No. Observations:    752.000\n",
       "2 1 Model:         AutoReg(52)        Log Likelihood      -653.568\n",
       "3 2 Method:        Conditional MLE    S.D. of innovations    0.616\n",
       "4 3 Date:          Mon, 11 Dec 2023   AIC                 1415.135\n",
       "5 4 Time:          10:58:31           BIC                 1660.894\n",
       "6 5 Sample:        07-30-2006         HQIC                1510.136\n",
       "7 6                - 12-22-2019                                 NA"
      ]
     },
     "metadata": {},
     "output_type": "display_data"
    }
   ],
   "source": [
    "read.csv('0mod3.csv')"
   ]
  },
  {
   "cell_type": "code",
   "execution_count": 55,
   "metadata": {
    "vscode": {
     "languageId": "r"
    }
   },
   "outputs": [],
   "source": [
    "rename(read.csv('0mod3.csv')[4:5], ' '='X2','  '='X3') %>% kbl(caption='Non-Seasonal Autoreg Fit') %>% kable_minimal('striped',full_width=F,html_font='Calibri') %>% save_kable(file='nonseasonal autoreg fit .html')"
   ]
  },
  {
   "cell_type": "code",
   "execution_count": 56,
   "metadata": {
    "vscode": {
     "languageId": "r"
    }
   },
   "outputs": [],
   "source": [
    "rename(read.csv('0mod4.csv')[4:5], ' '='X2','  '='X3') %>% kbl(caption='Seasonal Autoreg Fit') %>% kable_minimal('striped',full_width=F,html_font='Calibri') %>% save_kable(file='seasonal autoreg fit .html')"
   ]
  },
  {
   "cell_type": "code",
   "execution_count": 28,
   "metadata": {
    "vscode": {
     "languageId": "r"
    }
   },
   "outputs": [],
   "source": [
    "df = read.csv('1mod1.csv')\n",
    "#names(df) <- df[1,]\n",
    "#df <- df[-1,-1]\n",
    "#df"
   ]
  },
  {
   "cell_type": "code",
   "execution_count": 29,
   "metadata": {
    "vscode": {
     "languageId": "r"
    }
   },
   "outputs": [
    {
     "data": {
      "text/html": [
       "<table class=\"dataframe\">\n",
       "<caption>A data.frame: 12 × 5</caption>\n",
       "<thead>\n",
       "\t<tr><th scope=col>X</th><th scope=col>coeff</th><th scope=col>pvals</th><th scope=col>conf_lower</th><th scope=col>conf_higher</th></tr>\n",
       "\t<tr><th scope=col>&lt;chr&gt;</th><th scope=col>&lt;dbl&gt;</th><th scope=col>&lt;dbl&gt;</th><th scope=col>&lt;dbl&gt;</th><th scope=col>&lt;dbl&gt;</th></tr>\n",
       "</thead>\n",
       "<tbody>\n",
       "\t<tr><td>const    </td><td>-0.878</td><td>0.000</td><td>-1.066</td><td>-0.690</td></tr>\n",
       "\t<tr><td>January  </td><td> 1.700</td><td>0.000</td><td> 1.436</td><td> 1.964</td></tr>\n",
       "\t<tr><td>February </td><td> 1.833</td><td>0.000</td><td> 1.562</td><td> 2.103</td></tr>\n",
       "\t<tr><td>March    </td><td> 1.711</td><td>0.000</td><td> 1.447</td><td> 1.974</td></tr>\n",
       "\t<tr><td>April    </td><td> 0.784</td><td>0.000</td><td> 0.520</td><td> 1.049</td></tr>\n",
       "\t<tr><td>May      </td><td> 0.774</td><td>0.000</td><td> 0.509</td><td> 1.038</td></tr>\n",
       "\t<tr><td>July     </td><td>-0.158</td><td>0.237</td><td>-0.419</td><td> 0.104</td></tr>\n",
       "\t<tr><td>August   </td><td>-0.131</td><td>0.323</td><td>-0.392</td><td> 0.129</td></tr>\n",
       "\t<tr><td>September</td><td> 0.641</td><td>0.000</td><td> 0.380</td><td> 0.901</td></tr>\n",
       "\t<tr><td>October  </td><td> 1.367</td><td>0.000</td><td> 1.107</td><td> 1.627</td></tr>\n",
       "\t<tr><td>November </td><td> 1.187</td><td>0.000</td><td> 0.925</td><td> 1.449</td></tr>\n",
       "\t<tr><td>December </td><td> 0.938</td><td>0.000</td><td> 0.677</td><td> 1.200</td></tr>\n",
       "</tbody>\n",
       "</table>\n"
      ],
      "text/latex": [
       "A data.frame: 12 × 5\n",
       "\\begin{tabular}{lllll}\n",
       " X & coeff & pvals & conf\\_lower & conf\\_higher\\\\\n",
       " <chr> & <dbl> & <dbl> & <dbl> & <dbl>\\\\\n",
       "\\hline\n",
       "\t const     & -0.878 & 0.000 & -1.066 & -0.690\\\\\n",
       "\t January   &  1.700 & 0.000 &  1.436 &  1.964\\\\\n",
       "\t February  &  1.833 & 0.000 &  1.562 &  2.103\\\\\n",
       "\t March     &  1.711 & 0.000 &  1.447 &  1.974\\\\\n",
       "\t April     &  0.784 & 0.000 &  0.520 &  1.049\\\\\n",
       "\t May       &  0.774 & 0.000 &  0.509 &  1.038\\\\\n",
       "\t July      & -0.158 & 0.237 & -0.419 &  0.104\\\\\n",
       "\t August    & -0.131 & 0.323 & -0.392 &  0.129\\\\\n",
       "\t September &  0.641 & 0.000 &  0.380 &  0.901\\\\\n",
       "\t October   &  1.367 & 0.000 &  1.107 &  1.627\\\\\n",
       "\t November  &  1.187 & 0.000 &  0.925 &  1.449\\\\\n",
       "\t December  &  0.938 & 0.000 &  0.677 &  1.200\\\\\n",
       "\\end{tabular}\n"
      ],
      "text/markdown": [
       "\n",
       "A data.frame: 12 × 5\n",
       "\n",
       "| X &lt;chr&gt; | coeff &lt;dbl&gt; | pvals &lt;dbl&gt; | conf_lower &lt;dbl&gt; | conf_higher &lt;dbl&gt; |\n",
       "|---|---|---|---|---|\n",
       "| const     | -0.878 | 0.000 | -1.066 | -0.690 |\n",
       "| January   |  1.700 | 0.000 |  1.436 |  1.964 |\n",
       "| February  |  1.833 | 0.000 |  1.562 |  2.103 |\n",
       "| March     |  1.711 | 0.000 |  1.447 |  1.974 |\n",
       "| April     |  0.784 | 0.000 |  0.520 |  1.049 |\n",
       "| May       |  0.774 | 0.000 |  0.509 |  1.038 |\n",
       "| July      | -0.158 | 0.237 | -0.419 |  0.104 |\n",
       "| August    | -0.131 | 0.323 | -0.392 |  0.129 |\n",
       "| September |  0.641 | 0.000 |  0.380 |  0.901 |\n",
       "| October   |  1.367 | 0.000 |  1.107 |  1.627 |\n",
       "| November  |  1.187 | 0.000 |  0.925 |  1.449 |\n",
       "| December  |  0.938 | 0.000 |  0.677 |  1.200 |\n",
       "\n"
      ],
      "text/plain": [
       "   X         coeff  pvals conf_lower conf_higher\n",
       "1  const     -0.878 0.000 -1.066     -0.690     \n",
       "2  January    1.700 0.000  1.436      1.964     \n",
       "3  February   1.833 0.000  1.562      2.103     \n",
       "4  March      1.711 0.000  1.447      1.974     \n",
       "5  April      0.784 0.000  0.520      1.049     \n",
       "6  May        0.774 0.000  0.509      1.038     \n",
       "7  July      -0.158 0.237 -0.419      0.104     \n",
       "8  August    -0.131 0.323 -0.392      0.129     \n",
       "9  September  0.641 0.000  0.380      0.901     \n",
       "10 October    1.367 0.000  1.107      1.627     \n",
       "11 November   1.187 0.000  0.925      1.449     \n",
       "12 December   0.938 0.000  0.677      1.200     "
      ]
     },
     "metadata": {},
     "output_type": "display_data"
    }
   ],
   "source": [
    "df"
   ]
  },
  {
   "cell_type": "code",
   "execution_count": 30,
   "metadata": {
    "vscode": {
     "languageId": "r"
    }
   },
   "outputs": [],
   "source": [
    "df %>% kbl(caption='Months-Only Model') %>% kable_minimal('striped',full_width=F,html_font='Calibri') %>% save_kable(file='Months Model.html')"
   ]
  },
  {
   "cell_type": "code",
   "execution_count": 23,
   "metadata": {
    "vscode": {
     "languageId": "r"
    }
   },
   "outputs": [],
   "source": [
    "df = read.csv('1mod2.csv')\n",
    "\n",
    "df %>% kbl(caption='All-Variable Model') %>% \n",
    "kable_minimal('striped',full_width=F,html_font='Calibri') %>% \n",
    "save_kable(file='All Variable Model.html')"
   ]
  },
  {
   "cell_type": "code",
   "execution_count": 33,
   "metadata": {
    "vscode": {
     "languageId": "r"
    }
   },
   "outputs": [],
   "source": [
    "df = read.csv('1mod3.csv')\n",
    "\n",
    "df %>% kbl(caption='Non-Seasonal Autoreg') %>% \n",
    "kable_minimal('striped',full_width=F,html_font='Calibri') %>% \n",
    "save_kable(file='Nonseasonal autoreg.html')"
   ]
  },
  {
   "cell_type": "code",
   "execution_count": 34,
   "metadata": {
    "vscode": {
     "languageId": "r"
    }
   },
   "outputs": [],
   "source": [
    "df = read.csv('1mod4.csv')\n",
    "\n",
    "df %>% kbl(caption='Seasonal Autoreg') %>% \n",
    "kable_minimal('striped',full_width=F,html_font='Calibri') %>% \n",
    "save_kable(file='seasonal autoreg.html')"
   ]
  },
  {
   "cell_type": "code",
   "execution_count": 26,
   "metadata": {
    "vscode": {
     "languageId": "r"
    }
   },
   "outputs": [],
   "source": [
    "read.csv('vif.csv')[2:3] %>%\n",
    "kbl(caption='Variance Inflation Factors') %>%\n",
    "kable_minimal('striped',full_width=F, html_font='Calibri') %>%\n",
    "save_kable(file='vif.html')"
   ]
  },
  {
   "cell_type": "code",
   "execution_count": 27,
   "metadata": {
    "vscode": {
     "languageId": "r"
    }
   },
   "outputs": [],
   "source": [
    "rename(read.csv('chisq.csv'),' '='X','  '='X0') %>%\n",
    "kbl(caption = 'Chi-Square Test of Association') %>%\n",
    "kable_minimal('striped',full_width=F,html_font='Calibri') %>%\n",
    "save_kable(file='chisq.html')"
   ]
  },
  {
   "cell_type": "code",
   "execution_count": 32,
   "metadata": {
    "vscode": {
     "languageId": "r"
    }
   },
   "outputs": [],
   "source": [
    "read.csv('adf.csv') %>%\n",
    "kbl(caption='Ad-Fuller Test') %>%\n",
    "kable_minimal('striped',full_width=F, html_font='Calibri') %>%\n",
    "save_kable(file='adf.html')"
   ]
  },
  {
   "cell_type": "code",
   "execution_count": null,
   "metadata": {
    "vscode": {
     "languageId": "r"
    }
   },
   "outputs": [],
   "source": [
    "read.csv('fits.csv') %>%\n",
    "kbl(caption='Model Fits') %>%\n",
    "kable_minimal('striped',full_width=F, html_font='Calibri') %>%\n",
    "save_kable(file='fits.html')"
   ]
  },
  {
   "cell_type": "code",
   "execution_count": null,
   "metadata": {
    "vscode": {
     "languageId": "r"
    }
   },
   "outputs": [],
   "source": []
  }
 ],
 "metadata": {
  "kernelspec": {
   "display_name": "R",
   "language": "R",
   "name": "ir"
  },
  "language_info": {
   "codemirror_mode": "r",
   "file_extension": ".r",
   "mimetype": "text/x-r-source",
   "name": "R",
   "pygments_lexer": "r",
   "version": "4.2.2"
  }
 },
 "nbformat": 4,
 "nbformat_minor": 2
}
