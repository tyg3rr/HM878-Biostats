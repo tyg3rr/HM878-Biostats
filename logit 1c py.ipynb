{
 "cells": [
  {
   "cell_type": "code",
   "execution_count": 89,
   "metadata": {},
   "outputs": [],
   "source": [
    "import pandas as pd\n",
    "import statsmodels.formula.api as smf\n",
    "import statsmodels as sm"
   ]
  },
  {
   "cell_type": "code",
   "execution_count": 45,
   "metadata": {},
   "outputs": [],
   "source": [
    "df = pd.read_csv(\"C:\\\\Users\\\\ljens\\\\Downloads\\\\Logistic  Regression Data.csv\")"
   ]
  },
  {
   "cell_type": "code",
   "execution_count": 46,
   "metadata": {},
   "outputs": [
    {
     "data": {
      "text/html": [
       "<div>\n",
       "<style scoped>\n",
       "    .dataframe tbody tr th:only-of-type {\n",
       "        vertical-align: middle;\n",
       "    }\n",
       "\n",
       "    .dataframe tbody tr th {\n",
       "        vertical-align: top;\n",
       "    }\n",
       "\n",
       "    .dataframe thead th {\n",
       "        text-align: right;\n",
       "    }\n",
       "</style>\n",
       "<table border=\"1\" class=\"dataframe\">\n",
       "  <thead>\n",
       "    <tr style=\"text-align: right;\">\n",
       "      <th></th>\n",
       "      <th>BMI_Categories</th>\n",
       "      <th>SEX</th>\n",
       "      <th>VEGESU1</th>\n",
       "      <th>RFSMOK3</th>\n",
       "      <th>HLTHPLN1</th>\n",
       "    </tr>\n",
       "  </thead>\n",
       "  <tbody>\n",
       "    <tr>\n",
       "      <th>0</th>\n",
       "      <td>0</td>\n",
       "      <td>0</td>\n",
       "      <td>3</td>\n",
       "      <td>0</td>\n",
       "      <td>1</td>\n",
       "    </tr>\n",
       "    <tr>\n",
       "      <th>1</th>\n",
       "      <td>1</td>\n",
       "      <td>1</td>\n",
       "      <td>1.17</td>\n",
       "      <td>1</td>\n",
       "      <td>1</td>\n",
       "    </tr>\n",
       "    <tr>\n",
       "      <th>2</th>\n",
       "      <td>0</td>\n",
       "      <td>1</td>\n",
       "      <td>3.29</td>\n",
       "      <td>0</td>\n",
       "      <td>1</td>\n",
       "    </tr>\n",
       "    <tr>\n",
       "      <th>3</th>\n",
       "      <td>1</td>\n",
       "      <td>1</td>\n",
       "      <td>2.58</td>\n",
       "      <td>0</td>\n",
       "      <td>1</td>\n",
       "    </tr>\n",
       "    <tr>\n",
       "      <th>4</th>\n",
       "      <td>1</td>\n",
       "      <td>0</td>\n",
       "      <td>2.29</td>\n",
       "      <td>0</td>\n",
       "      <td>1</td>\n",
       "    </tr>\n",
       "  </tbody>\n",
       "</table>\n",
       "</div>"
      ],
      "text/plain": [
       "  BMI_Categories  SEX VEGESU1  RFSMOK3  HLTHPLN1\n",
       "0              0    0       3        0         1\n",
       "1              1    1    1.17        1         1\n",
       "2              0    1    3.29        0         1\n",
       "3              1    1    2.58        0         1\n",
       "4              1    0    2.29        0         1"
      ]
     },
     "execution_count": 46,
     "metadata": {},
     "output_type": "execute_result"
    }
   ],
   "source": [
    "df.head()"
   ]
  },
  {
   "cell_type": "code",
   "execution_count": 47,
   "metadata": {},
   "outputs": [
    {
     "data": {
      "text/html": [
       "<div>\n",
       "<style scoped>\n",
       "    .dataframe tbody tr th:only-of-type {\n",
       "        vertical-align: middle;\n",
       "    }\n",
       "\n",
       "    .dataframe tbody tr th {\n",
       "        vertical-align: top;\n",
       "    }\n",
       "\n",
       "    .dataframe thead th {\n",
       "        text-align: right;\n",
       "    }\n",
       "</style>\n",
       "<table border=\"1\" class=\"dataframe\">\n",
       "  <thead>\n",
       "    <tr style=\"text-align: right;\">\n",
       "      <th></th>\n",
       "      <th>SEX</th>\n",
       "      <th>RFSMOK3</th>\n",
       "      <th>HLTHPLN1</th>\n",
       "    </tr>\n",
       "  </thead>\n",
       "  <tbody>\n",
       "    <tr>\n",
       "      <th>count</th>\n",
       "      <td>13375.000000</td>\n",
       "      <td>13375.000000</td>\n",
       "      <td>13375.000000</td>\n",
       "    </tr>\n",
       "    <tr>\n",
       "      <th>mean</th>\n",
       "      <td>0.448748</td>\n",
       "      <td>0.539589</td>\n",
       "      <td>0.949084</td>\n",
       "    </tr>\n",
       "    <tr>\n",
       "      <th>std</th>\n",
       "      <td>0.528860</td>\n",
       "      <td>1.847700</td>\n",
       "      <td>0.513051</td>\n",
       "    </tr>\n",
       "    <tr>\n",
       "      <th>min</th>\n",
       "      <td>0.000000</td>\n",
       "      <td>0.000000</td>\n",
       "      <td>0.000000</td>\n",
       "    </tr>\n",
       "    <tr>\n",
       "      <th>25%</th>\n",
       "      <td>0.000000</td>\n",
       "      <td>0.000000</td>\n",
       "      <td>1.000000</td>\n",
       "    </tr>\n",
       "    <tr>\n",
       "      <th>50%</th>\n",
       "      <td>0.000000</td>\n",
       "      <td>0.000000</td>\n",
       "      <td>1.000000</td>\n",
       "    </tr>\n",
       "    <tr>\n",
       "      <th>75%</th>\n",
       "      <td>1.000000</td>\n",
       "      <td>0.000000</td>\n",
       "      <td>1.000000</td>\n",
       "    </tr>\n",
       "    <tr>\n",
       "      <th>max</th>\n",
       "      <td>9.000000</td>\n",
       "      <td>9.000000</td>\n",
       "      <td>9.000000</td>\n",
       "    </tr>\n",
       "  </tbody>\n",
       "</table>\n",
       "</div>"
      ],
      "text/plain": [
       "                SEX       RFSMOK3      HLTHPLN1\n",
       "count  13375.000000  13375.000000  13375.000000\n",
       "mean       0.448748      0.539589      0.949084\n",
       "std        0.528860      1.847700      0.513051\n",
       "min        0.000000      0.000000      0.000000\n",
       "25%        0.000000      0.000000      1.000000\n",
       "50%        0.000000      0.000000      1.000000\n",
       "75%        1.000000      0.000000      1.000000\n",
       "max        9.000000      9.000000      9.000000"
      ]
     },
     "execution_count": 47,
     "metadata": {},
     "output_type": "execute_result"
    }
   ],
   "source": [
    "df.describe()"
   ]
  },
  {
   "cell_type": "code",
   "execution_count": 54,
   "metadata": {},
   "outputs": [],
   "source": [
    "df = df.loc[df['VEGESU1']!=' ']"
   ]
  },
  {
   "cell_type": "code",
   "execution_count": 56,
   "metadata": {},
   "outputs": [],
   "source": [
    "df = df.loc[df['BMI_Categories']!=' ']"
   ]
  },
  {
   "cell_type": "code",
   "execution_count": 80,
   "metadata": {},
   "outputs": [],
   "source": [
    "df['BMI_Categories'] = df['BMI_Categories'].astype('int')"
   ]
  },
  {
   "cell_type": "code",
   "execution_count": 95,
   "metadata": {},
   "outputs": [],
   "source": [
    "df['VEGESU1'] = df['VEGESU1'].astype('float')"
   ]
  },
  {
   "cell_type": "code",
   "execution_count": 81,
   "metadata": {},
   "outputs": [
    {
     "data": {
      "text/plain": [
       "0        0\n",
       "1        1\n",
       "2        0\n",
       "3        1\n",
       "4        1\n",
       "        ..\n",
       "13370    1\n",
       "13371    0\n",
       "13372    1\n",
       "13373    1\n",
       "13374    1\n",
       "Name: BMI_Categories, Length: 11190, dtype: int32"
      ]
     },
     "execution_count": 81,
     "metadata": {},
     "output_type": "execute_result"
    }
   ],
   "source": [
    "df['BMI_Categories']"
   ]
  },
  {
   "cell_type": "code",
   "execution_count": 96,
   "metadata": {},
   "outputs": [
    {
     "name": "stdout",
     "output_type": "stream",
     "text": [
      "Optimization terminated successfully.\n",
      "         Current function value: 0.621402\n",
      "         Iterations 5\n"
     ]
    }
   ],
   "source": [
    "mod = smf.logit(\n",
    "                formula= 'BMI_Categories ~ SEX + VEGESU1 + RFSMOK3 + HLTHPLN1', \n",
    "                data = df\n",
    "                ).fit()"
   ]
  },
  {
   "cell_type": "code",
   "execution_count": 97,
   "metadata": {},
   "outputs": [
    {
     "data": {
      "text/html": [
       "<table class=\"simpletable\">\n",
       "<caption>Logit Regression Results</caption>\n",
       "<tr>\n",
       "  <th>Dep. Variable:</th>    <td>BMI_Categories</td>  <th>  No. Observations:  </th>  <td> 11190</td>  \n",
       "</tr>\n",
       "<tr>\n",
       "  <th>Model:</th>                 <td>Logit</td>      <th>  Df Residuals:      </th>  <td> 11185</td>  \n",
       "</tr>\n",
       "<tr>\n",
       "  <th>Method:</th>                 <td>MLE</td>       <th>  Df Model:          </th>  <td>     4</td>  \n",
       "</tr>\n",
       "<tr>\n",
       "  <th>Date:</th>            <td>Mon, 18 Sep 2023</td> <th>  Pseudo R-squ.:     </th>  <td>0.01159</td> \n",
       "</tr>\n",
       "<tr>\n",
       "  <th>Time:</th>                <td>13:25:31</td>     <th>  Log-Likelihood:    </th> <td> -6953.5</td> \n",
       "</tr>\n",
       "<tr>\n",
       "  <th>converged:</th>             <td>True</td>       <th>  LL-Null:           </th> <td> -7035.0</td> \n",
       "</tr>\n",
       "<tr>\n",
       "  <th>Covariance Type:</th>     <td>nonrobust</td>    <th>  LLR p-value:       </th> <td>3.225e-34</td>\n",
       "</tr>\n",
       "</table>\n",
       "<table class=\"simpletable\">\n",
       "<tr>\n",
       "      <td></td>         <th>coef</th>     <th>std err</th>      <th>z</th>      <th>P>|z|</th>  <th>[0.025</th>    <th>0.975]</th>  \n",
       "</tr>\n",
       "<tr>\n",
       "  <th>Intercept</th> <td>    0.7310</td> <td>    0.053</td> <td>   13.892</td> <td> 0.000</td> <td>    0.628</td> <td>    0.834</td>\n",
       "</tr>\n",
       "<tr>\n",
       "  <th>SEX</th>       <td>    0.4716</td> <td>    0.041</td> <td>   11.445</td> <td> 0.000</td> <td>    0.391</td> <td>    0.552</td>\n",
       "</tr>\n",
       "<tr>\n",
       "  <th>VEGESU1</th>   <td>   -0.0112</td> <td>    0.007</td> <td>   -1.496</td> <td> 0.135</td> <td>   -0.026</td> <td>    0.003</td>\n",
       "</tr>\n",
       "<tr>\n",
       "  <th>RFSMOK3</th>   <td>   -0.0945</td> <td>    0.028</td> <td>   -3.340</td> <td> 0.001</td> <td>   -0.150</td> <td>   -0.039</td>\n",
       "</tr>\n",
       "<tr>\n",
       "  <th>HLTHPLN1</th>  <td>   -0.1621</td> <td>    0.044</td> <td>   -3.696</td> <td> 0.000</td> <td>   -0.248</td> <td>   -0.076</td>\n",
       "</tr>\n",
       "</table>"
      ],
      "text/latex": [
       "\\begin{center}\n",
       "\\begin{tabular}{lclc}\n",
       "\\toprule\n",
       "\\textbf{Dep. Variable:}   & BMI\\_Categories  & \\textbf{  No. Observations:  } &    11190    \\\\\n",
       "\\textbf{Model:}           &      Logit       & \\textbf{  Df Residuals:      } &    11185    \\\\\n",
       "\\textbf{Method:}          &       MLE        & \\textbf{  Df Model:          } &        4    \\\\\n",
       "\\textbf{Date:}            & Mon, 18 Sep 2023 & \\textbf{  Pseudo R-squ.:     } &  0.01159    \\\\\n",
       "\\textbf{Time:}            &     13:25:31     & \\textbf{  Log-Likelihood:    } &   -6953.5   \\\\\n",
       "\\textbf{converged:}       &       True       & \\textbf{  LL-Null:           } &   -7035.0   \\\\\n",
       "\\textbf{Covariance Type:} &    nonrobust     & \\textbf{  LLR p-value:       } & 3.225e-34   \\\\\n",
       "\\bottomrule\n",
       "\\end{tabular}\n",
       "\\begin{tabular}{lcccccc}\n",
       "                   & \\textbf{coef} & \\textbf{std err} & \\textbf{z} & \\textbf{P$> |$z$|$} & \\textbf{[0.025} & \\textbf{0.975]}  \\\\\n",
       "\\midrule\n",
       "\\textbf{Intercept} &       0.7310  &        0.053     &    13.892  &         0.000        &        0.628    &        0.834     \\\\\n",
       "\\textbf{SEX}       &       0.4716  &        0.041     &    11.445  &         0.000        &        0.391    &        0.552     \\\\\n",
       "\\textbf{VEGESU1}   &      -0.0112  &        0.007     &    -1.496  &         0.135        &       -0.026    &        0.003     \\\\\n",
       "\\textbf{RFSMOK3}   &      -0.0945  &        0.028     &    -3.340  &         0.001        &       -0.150    &       -0.039     \\\\\n",
       "\\textbf{HLTHPLN1}  &      -0.1621  &        0.044     &    -3.696  &         0.000        &       -0.248    &       -0.076     \\\\\n",
       "\\bottomrule\n",
       "\\end{tabular}\n",
       "%\\caption{Logit Regression Results}\n",
       "\\end{center}"
      ],
      "text/plain": [
       "<class 'statsmodels.iolib.summary.Summary'>\n",
       "\"\"\"\n",
       "                           Logit Regression Results                           \n",
       "==============================================================================\n",
       "Dep. Variable:         BMI_Categories   No. Observations:                11190\n",
       "Model:                          Logit   Df Residuals:                    11185\n",
       "Method:                           MLE   Df Model:                            4\n",
       "Date:                Mon, 18 Sep 2023   Pseudo R-squ.:                 0.01159\n",
       "Time:                        13:25:31   Log-Likelihood:                -6953.5\n",
       "converged:                       True   LL-Null:                       -7035.0\n",
       "Covariance Type:            nonrobust   LLR p-value:                 3.225e-34\n",
       "==============================================================================\n",
       "                 coef    std err          z      P>|z|      [0.025      0.975]\n",
       "------------------------------------------------------------------------------\n",
       "Intercept      0.7310      0.053     13.892      0.000       0.628       0.834\n",
       "SEX            0.4716      0.041     11.445      0.000       0.391       0.552\n",
       "VEGESU1       -0.0112      0.007     -1.496      0.135      -0.026       0.003\n",
       "RFSMOK3       -0.0945      0.028     -3.340      0.001      -0.150      -0.039\n",
       "HLTHPLN1      -0.1621      0.044     -3.696      0.000      -0.248      -0.076\n",
       "==============================================================================\n",
       "\"\"\""
      ]
     },
     "execution_count": 97,
     "metadata": {},
     "output_type": "execute_result"
    }
   ],
   "source": [
    "mod.summary()"
   ]
  },
  {
   "cell_type": "code",
   "execution_count": 99,
   "metadata": {},
   "outputs": [],
   "source": [
    "import math"
   ]
  },
  {
   "cell_type": "code",
   "execution_count": 100,
   "metadata": {},
   "outputs": [
    {
     "data": {
      "text/plain": [
       "Intercept    2.077246\n",
       "SEX          1.602519\n",
       "VEGESU1      0.988854\n",
       "RFSMOK3      0.909859\n",
       "HLTHPLN1     0.850318\n",
       "dtype: float64"
      ]
     },
     "execution_count": 100,
     "metadata": {},
     "output_type": "execute_result"
    }
   ],
   "source": [
    "mod.params.apply(lambda x: math.exp(x))"
   ]
  },
  {
   "cell_type": "code",
   "execution_count": 110,
   "metadata": {},
   "outputs": [],
   "source": [
    "confidence = mod.conf_int()"
   ]
  },
  {
   "cell_type": "code",
   "execution_count": 112,
   "metadata": {},
   "outputs": [],
   "source": [
    "for col in confidence.columns:\n",
    "    confidence[col] = confidence[col].apply(lambda x: math.exp(x))"
   ]
  },
  {
   "cell_type": "code",
   "execution_count": 113,
   "metadata": {},
   "outputs": [
    {
     "data": {
      "text/html": [
       "<div>\n",
       "<style scoped>\n",
       "    .dataframe tbody tr th:only-of-type {\n",
       "        vertical-align: middle;\n",
       "    }\n",
       "\n",
       "    .dataframe tbody tr th {\n",
       "        vertical-align: top;\n",
       "    }\n",
       "\n",
       "    .dataframe thead th {\n",
       "        text-align: right;\n",
       "    }\n",
       "</style>\n",
       "<table border=\"1\" class=\"dataframe\">\n",
       "  <thead>\n",
       "    <tr style=\"text-align: right;\">\n",
       "      <th></th>\n",
       "      <th>0</th>\n",
       "      <th>1</th>\n",
       "    </tr>\n",
       "  </thead>\n",
       "  <tbody>\n",
       "    <tr>\n",
       "      <th>Intercept</th>\n",
       "      <td>1.873677</td>\n",
       "      <td>2.302932</td>\n",
       "    </tr>\n",
       "    <tr>\n",
       "      <th>SEX</th>\n",
       "      <td>1.478186</td>\n",
       "      <td>1.737310</td>\n",
       "    </tr>\n",
       "    <tr>\n",
       "      <th>VEGESU1</th>\n",
       "      <td>0.974434</td>\n",
       "      <td>1.003487</td>\n",
       "    </tr>\n",
       "    <tr>\n",
       "      <th>RFSMOK3</th>\n",
       "      <td>0.860790</td>\n",
       "      <td>0.961724</td>\n",
       "    </tr>\n",
       "    <tr>\n",
       "      <th>HLTHPLN1</th>\n",
       "      <td>0.780262</td>\n",
       "      <td>0.926664</td>\n",
       "    </tr>\n",
       "  </tbody>\n",
       "</table>\n",
       "</div>"
      ],
      "text/plain": [
       "                  0         1\n",
       "Intercept  1.873677  2.302932\n",
       "SEX        1.478186  1.737310\n",
       "VEGESU1    0.974434  1.003487\n",
       "RFSMOK3    0.860790  0.961724\n",
       "HLTHPLN1   0.780262  0.926664"
      ]
     },
     "execution_count": 113,
     "metadata": {},
     "output_type": "execute_result"
    }
   ],
   "source": [
    "confidence"
   ]
  },
  {
   "cell_type": "code",
   "execution_count": 117,
   "metadata": {},
   "outputs": [
    {
     "name": "stdout",
     "output_type": "stream",
     "text": [
      "Optimization terminated successfully.\n",
      "         Current function value: 0.621402\n",
      "         Iterations 5\n"
     ]
    }
   ],
   "source": [
    "mod2 = smf.logit(\n",
    "                formula= 'BMI_Categories ~ SEX + VEGESU1 + RFSMOK3 + HLTHPLN1 + 1', \n",
    "                data = df\n",
    "                ).fit()"
   ]
  },
  {
   "cell_type": "code",
   "execution_count": 118,
   "metadata": {},
   "outputs": [
    {
     "data": {
      "text/html": [
       "<table class=\"simpletable\">\n",
       "<caption>Logit Regression Results</caption>\n",
       "<tr>\n",
       "  <th>Dep. Variable:</th>    <td>BMI_Categories</td>  <th>  No. Observations:  </th>  <td> 11190</td>  \n",
       "</tr>\n",
       "<tr>\n",
       "  <th>Model:</th>                 <td>Logit</td>      <th>  Df Residuals:      </th>  <td> 11185</td>  \n",
       "</tr>\n",
       "<tr>\n",
       "  <th>Method:</th>                 <td>MLE</td>       <th>  Df Model:          </th>  <td>     4</td>  \n",
       "</tr>\n",
       "<tr>\n",
       "  <th>Date:</th>            <td>Mon, 18 Sep 2023</td> <th>  Pseudo R-squ.:     </th>  <td>0.01159</td> \n",
       "</tr>\n",
       "<tr>\n",
       "  <th>Time:</th>                <td>13:49:48</td>     <th>  Log-Likelihood:    </th> <td> -6953.5</td> \n",
       "</tr>\n",
       "<tr>\n",
       "  <th>converged:</th>             <td>True</td>       <th>  LL-Null:           </th> <td> -7035.0</td> \n",
       "</tr>\n",
       "<tr>\n",
       "  <th>Covariance Type:</th>     <td>nonrobust</td>    <th>  LLR p-value:       </th> <td>3.225e-34</td>\n",
       "</tr>\n",
       "</table>\n",
       "<table class=\"simpletable\">\n",
       "<tr>\n",
       "      <td></td>         <th>coef</th>     <th>std err</th>      <th>z</th>      <th>P>|z|</th>  <th>[0.025</th>    <th>0.975]</th>  \n",
       "</tr>\n",
       "<tr>\n",
       "  <th>Intercept</th> <td>    0.7310</td> <td>    0.053</td> <td>   13.892</td> <td> 0.000</td> <td>    0.628</td> <td>    0.834</td>\n",
       "</tr>\n",
       "<tr>\n",
       "  <th>SEX</th>       <td>    0.4716</td> <td>    0.041</td> <td>   11.445</td> <td> 0.000</td> <td>    0.391</td> <td>    0.552</td>\n",
       "</tr>\n",
       "<tr>\n",
       "  <th>VEGESU1</th>   <td>   -0.0112</td> <td>    0.007</td> <td>   -1.496</td> <td> 0.135</td> <td>   -0.026</td> <td>    0.003</td>\n",
       "</tr>\n",
       "<tr>\n",
       "  <th>RFSMOK3</th>   <td>   -0.0945</td> <td>    0.028</td> <td>   -3.340</td> <td> 0.001</td> <td>   -0.150</td> <td>   -0.039</td>\n",
       "</tr>\n",
       "<tr>\n",
       "  <th>HLTHPLN1</th>  <td>   -0.1621</td> <td>    0.044</td> <td>   -3.696</td> <td> 0.000</td> <td>   -0.248</td> <td>   -0.076</td>\n",
       "</tr>\n",
       "</table>"
      ],
      "text/latex": [
       "\\begin{center}\n",
       "\\begin{tabular}{lclc}\n",
       "\\toprule\n",
       "\\textbf{Dep. Variable:}   & BMI\\_Categories  & \\textbf{  No. Observations:  } &    11190    \\\\\n",
       "\\textbf{Model:}           &      Logit       & \\textbf{  Df Residuals:      } &    11185    \\\\\n",
       "\\textbf{Method:}          &       MLE        & \\textbf{  Df Model:          } &        4    \\\\\n",
       "\\textbf{Date:}            & Mon, 18 Sep 2023 & \\textbf{  Pseudo R-squ.:     } &  0.01159    \\\\\n",
       "\\textbf{Time:}            &     13:49:48     & \\textbf{  Log-Likelihood:    } &   -6953.5   \\\\\n",
       "\\textbf{converged:}       &       True       & \\textbf{  LL-Null:           } &   -7035.0   \\\\\n",
       "\\textbf{Covariance Type:} &    nonrobust     & \\textbf{  LLR p-value:       } & 3.225e-34   \\\\\n",
       "\\bottomrule\n",
       "\\end{tabular}\n",
       "\\begin{tabular}{lcccccc}\n",
       "                   & \\textbf{coef} & \\textbf{std err} & \\textbf{z} & \\textbf{P$> |$z$|$} & \\textbf{[0.025} & \\textbf{0.975]}  \\\\\n",
       "\\midrule\n",
       "\\textbf{Intercept} &       0.7310  &        0.053     &    13.892  &         0.000        &        0.628    &        0.834     \\\\\n",
       "\\textbf{SEX}       &       0.4716  &        0.041     &    11.445  &         0.000        &        0.391    &        0.552     \\\\\n",
       "\\textbf{VEGESU1}   &      -0.0112  &        0.007     &    -1.496  &         0.135        &       -0.026    &        0.003     \\\\\n",
       "\\textbf{RFSMOK3}   &      -0.0945  &        0.028     &    -3.340  &         0.001        &       -0.150    &       -0.039     \\\\\n",
       "\\textbf{HLTHPLN1}  &      -0.1621  &        0.044     &    -3.696  &         0.000        &       -0.248    &       -0.076     \\\\\n",
       "\\bottomrule\n",
       "\\end{tabular}\n",
       "%\\caption{Logit Regression Results}\n",
       "\\end{center}"
      ],
      "text/plain": [
       "<class 'statsmodels.iolib.summary.Summary'>\n",
       "\"\"\"\n",
       "                           Logit Regression Results                           \n",
       "==============================================================================\n",
       "Dep. Variable:         BMI_Categories   No. Observations:                11190\n",
       "Model:                          Logit   Df Residuals:                    11185\n",
       "Method:                           MLE   Df Model:                            4\n",
       "Date:                Mon, 18 Sep 2023   Pseudo R-squ.:                 0.01159\n",
       "Time:                        13:49:48   Log-Likelihood:                -6953.5\n",
       "converged:                       True   LL-Null:                       -7035.0\n",
       "Covariance Type:            nonrobust   LLR p-value:                 3.225e-34\n",
       "==============================================================================\n",
       "                 coef    std err          z      P>|z|      [0.025      0.975]\n",
       "------------------------------------------------------------------------------\n",
       "Intercept      0.7310      0.053     13.892      0.000       0.628       0.834\n",
       "SEX            0.4716      0.041     11.445      0.000       0.391       0.552\n",
       "VEGESU1       -0.0112      0.007     -1.496      0.135      -0.026       0.003\n",
       "RFSMOK3       -0.0945      0.028     -3.340      0.001      -0.150      -0.039\n",
       "HLTHPLN1      -0.1621      0.044     -3.696      0.000      -0.248      -0.076\n",
       "==============================================================================\n",
       "\"\"\""
      ]
     },
     "execution_count": 118,
     "metadata": {},
     "output_type": "execute_result"
    }
   ],
   "source": [
    "mod2.summary()"
   ]
  },
  {
   "cell_type": "code",
   "execution_count": 119,
   "metadata": {},
   "outputs": [
    {
     "data": {
      "text/plain": [
       "Intercept    2.077246\n",
       "SEX          1.602519\n",
       "VEGESU1      0.988854\n",
       "RFSMOK3      0.909859\n",
       "HLTHPLN1     0.850318\n",
       "dtype: float64"
      ]
     },
     "execution_count": 119,
     "metadata": {},
     "output_type": "execute_result"
    }
   ],
   "source": [
    "mod2.params.apply(lambda x: math.exp(x))"
   ]
  },
  {
   "cell_type": "code",
   "execution_count": 120,
   "metadata": {},
   "outputs": [
    {
     "data": {
      "text/html": [
       "<div>\n",
       "<style scoped>\n",
       "    .dataframe tbody tr th:only-of-type {\n",
       "        vertical-align: middle;\n",
       "    }\n",
       "\n",
       "    .dataframe tbody tr th {\n",
       "        vertical-align: top;\n",
       "    }\n",
       "\n",
       "    .dataframe thead th {\n",
       "        text-align: right;\n",
       "    }\n",
       "</style>\n",
       "<table border=\"1\" class=\"dataframe\">\n",
       "  <thead>\n",
       "    <tr style=\"text-align: right;\">\n",
       "      <th></th>\n",
       "      <th>BMI_Categories</th>\n",
       "      <th>SEX</th>\n",
       "      <th>VEGESU1</th>\n",
       "      <th>RFSMOK3</th>\n",
       "      <th>HLTHPLN1</th>\n",
       "    </tr>\n",
       "  </thead>\n",
       "  <tbody>\n",
       "    <tr>\n",
       "      <th>0</th>\n",
       "      <td>0</td>\n",
       "      <td>0</td>\n",
       "      <td>3.00</td>\n",
       "      <td>0</td>\n",
       "      <td>1</td>\n",
       "    </tr>\n",
       "    <tr>\n",
       "      <th>1</th>\n",
       "      <td>1</td>\n",
       "      <td>1</td>\n",
       "      <td>1.17</td>\n",
       "      <td>1</td>\n",
       "      <td>1</td>\n",
       "    </tr>\n",
       "    <tr>\n",
       "      <th>2</th>\n",
       "      <td>0</td>\n",
       "      <td>1</td>\n",
       "      <td>3.29</td>\n",
       "      <td>0</td>\n",
       "      <td>1</td>\n",
       "    </tr>\n",
       "    <tr>\n",
       "      <th>3</th>\n",
       "      <td>1</td>\n",
       "      <td>1</td>\n",
       "      <td>2.58</td>\n",
       "      <td>0</td>\n",
       "      <td>1</td>\n",
       "    </tr>\n",
       "    <tr>\n",
       "      <th>4</th>\n",
       "      <td>1</td>\n",
       "      <td>0</td>\n",
       "      <td>2.29</td>\n",
       "      <td>0</td>\n",
       "      <td>1</td>\n",
       "    </tr>\n",
       "    <tr>\n",
       "      <th>...</th>\n",
       "      <td>...</td>\n",
       "      <td>...</td>\n",
       "      <td>...</td>\n",
       "      <td>...</td>\n",
       "      <td>...</td>\n",
       "    </tr>\n",
       "    <tr>\n",
       "      <th>13370</th>\n",
       "      <td>1</td>\n",
       "      <td>0</td>\n",
       "      <td>1.13</td>\n",
       "      <td>0</td>\n",
       "      <td>1</td>\n",
       "    </tr>\n",
       "    <tr>\n",
       "      <th>13371</th>\n",
       "      <td>0</td>\n",
       "      <td>0</td>\n",
       "      <td>0.84</td>\n",
       "      <td>0</td>\n",
       "      <td>1</td>\n",
       "    </tr>\n",
       "    <tr>\n",
       "      <th>13372</th>\n",
       "      <td>1</td>\n",
       "      <td>1</td>\n",
       "      <td>0.45</td>\n",
       "      <td>0</td>\n",
       "      <td>1</td>\n",
       "    </tr>\n",
       "    <tr>\n",
       "      <th>13373</th>\n",
       "      <td>1</td>\n",
       "      <td>0</td>\n",
       "      <td>3.04</td>\n",
       "      <td>0</td>\n",
       "      <td>1</td>\n",
       "    </tr>\n",
       "    <tr>\n",
       "      <th>13374</th>\n",
       "      <td>1</td>\n",
       "      <td>1</td>\n",
       "      <td>1.33</td>\n",
       "      <td>0</td>\n",
       "      <td>1</td>\n",
       "    </tr>\n",
       "  </tbody>\n",
       "</table>\n",
       "<p>11190 rows × 5 columns</p>\n",
       "</div>"
      ],
      "text/plain": [
       "       BMI_Categories  SEX  VEGESU1  RFSMOK3  HLTHPLN1\n",
       "0                   0    0     3.00        0         1\n",
       "1                   1    1     1.17        1         1\n",
       "2                   0    1     3.29        0         1\n",
       "3                   1    1     2.58        0         1\n",
       "4                   1    0     2.29        0         1\n",
       "...               ...  ...      ...      ...       ...\n",
       "13370               1    0     1.13        0         1\n",
       "13371               0    0     0.84        0         1\n",
       "13372               1    1     0.45        0         1\n",
       "13373               1    0     3.04        0         1\n",
       "13374               1    1     1.33        0         1\n",
       "\n",
       "[11190 rows x 5 columns]"
      ]
     },
     "execution_count": 120,
     "metadata": {},
     "output_type": "execute_result"
    }
   ],
   "source": [
    "df"
   ]
  },
  {
   "cell_type": "code",
   "execution_count": 123,
   "metadata": {},
   "outputs": [],
   "source": [
    "df = df.loc[df['SEX']!=9]\n",
    "df = df.loc[df['RFSMOK3']!=9]\n",
    "df = df.loc[df['HLTHPLN1']!=9]\n",
    "df = df.loc[df['HLTHPLN1']!=7]"
   ]
  },
  {
   "cell_type": "code",
   "execution_count": 124,
   "metadata": {},
   "outputs": [
    {
     "name": "stdout",
     "output_type": "stream",
     "text": [
      "Optimization terminated successfully.\n",
      "         Current function value: 0.619258\n",
      "         Iterations 5\n"
     ]
    }
   ],
   "source": [
    "mod3 = smf.logit(\n",
    "                formula= 'BMI_Categories ~ SEX + VEGESU1 + RFSMOK3 + HLTHPLN1 + 1', \n",
    "                data = df\n",
    "                ).fit()"
   ]
  },
  {
   "cell_type": "code",
   "execution_count": 125,
   "metadata": {},
   "outputs": [
    {
     "data": {
      "text/html": [
       "<table class=\"simpletable\">\n",
       "<caption>Logit Regression Results</caption>\n",
       "<tr>\n",
       "  <th>Dep. Variable:</th>    <td>BMI_Categories</td>  <th>  No. Observations:  </th>  <td> 11102</td>  \n",
       "</tr>\n",
       "<tr>\n",
       "  <th>Model:</th>                 <td>Logit</td>      <th>  Df Residuals:      </th>  <td> 11097</td>  \n",
       "</tr>\n",
       "<tr>\n",
       "  <th>Method:</th>                 <td>MLE</td>       <th>  Df Model:          </th>  <td>     4</td>  \n",
       "</tr>\n",
       "<tr>\n",
       "  <th>Date:</th>            <td>Mon, 18 Sep 2023</td> <th>  Pseudo R-squ.:     </th>  <td>0.01346</td> \n",
       "</tr>\n",
       "<tr>\n",
       "  <th>Time:</th>                <td>15:53:50</td>     <th>  Log-Likelihood:    </th> <td> -6875.0</td> \n",
       "</tr>\n",
       "<tr>\n",
       "  <th>converged:</th>             <td>True</td>       <th>  LL-Null:           </th> <td> -6968.8</td> \n",
       "</tr>\n",
       "<tr>\n",
       "  <th>Covariance Type:</th>     <td>nonrobust</td>    <th>  LLR p-value:       </th> <td>1.762e-39</td>\n",
       "</tr>\n",
       "</table>\n",
       "<table class=\"simpletable\">\n",
       "<tr>\n",
       "      <td></td>         <th>coef</th>     <th>std err</th>      <th>z</th>      <th>P>|z|</th>  <th>[0.025</th>    <th>0.975]</th>  \n",
       "</tr>\n",
       "<tr>\n",
       "  <th>Intercept</th> <td>    0.5967</td> <td>    0.082</td> <td>    7.261</td> <td> 0.000</td> <td>    0.436</td> <td>    0.758</td>\n",
       "</tr>\n",
       "<tr>\n",
       "  <th>SEX</th>       <td>    0.5167</td> <td>    0.042</td> <td>   12.390</td> <td> 0.000</td> <td>    0.435</td> <td>    0.598</td>\n",
       "</tr>\n",
       "<tr>\n",
       "  <th>VEGESU1</th>   <td>   -0.0122</td> <td>    0.008</td> <td>   -1.627</td> <td> 0.104</td> <td>   -0.027</td> <td>    0.003</td>\n",
       "</tr>\n",
       "<tr>\n",
       "  <th>RFSMOK3</th>   <td>   -0.3247</td> <td>    0.056</td> <td>   -5.825</td> <td> 0.000</td> <td>   -0.434</td> <td>   -0.215</td>\n",
       "</tr>\n",
       "<tr>\n",
       "  <th>HLTHPLN1</th>  <td>    0.0028</td> <td>    0.080</td> <td>    0.035</td> <td> 0.972</td> <td>   -0.154</td> <td>    0.159</td>\n",
       "</tr>\n",
       "</table>"
      ],
      "text/latex": [
       "\\begin{center}\n",
       "\\begin{tabular}{lclc}\n",
       "\\toprule\n",
       "\\textbf{Dep. Variable:}   & BMI\\_Categories  & \\textbf{  No. Observations:  } &    11102    \\\\\n",
       "\\textbf{Model:}           &      Logit       & \\textbf{  Df Residuals:      } &    11097    \\\\\n",
       "\\textbf{Method:}          &       MLE        & \\textbf{  Df Model:          } &        4    \\\\\n",
       "\\textbf{Date:}            & Mon, 18 Sep 2023 & \\textbf{  Pseudo R-squ.:     } &  0.01346    \\\\\n",
       "\\textbf{Time:}            &     15:53:50     & \\textbf{  Log-Likelihood:    } &   -6875.0   \\\\\n",
       "\\textbf{converged:}       &       True       & \\textbf{  LL-Null:           } &   -6968.8   \\\\\n",
       "\\textbf{Covariance Type:} &    nonrobust     & \\textbf{  LLR p-value:       } & 1.762e-39   \\\\\n",
       "\\bottomrule\n",
       "\\end{tabular}\n",
       "\\begin{tabular}{lcccccc}\n",
       "                   & \\textbf{coef} & \\textbf{std err} & \\textbf{z} & \\textbf{P$> |$z$|$} & \\textbf{[0.025} & \\textbf{0.975]}  \\\\\n",
       "\\midrule\n",
       "\\textbf{Intercept} &       0.5967  &        0.082     &     7.261  &         0.000        &        0.436    &        0.758     \\\\\n",
       "\\textbf{SEX}       &       0.5167  &        0.042     &    12.390  &         0.000        &        0.435    &        0.598     \\\\\n",
       "\\textbf{VEGESU1}   &      -0.0122  &        0.008     &    -1.627  &         0.104        &       -0.027    &        0.003     \\\\\n",
       "\\textbf{RFSMOK3}   &      -0.3247  &        0.056     &    -5.825  &         0.000        &       -0.434    &       -0.215     \\\\\n",
       "\\textbf{HLTHPLN1}  &       0.0028  &        0.080     &     0.035  &         0.972        &       -0.154    &        0.159     \\\\\n",
       "\\bottomrule\n",
       "\\end{tabular}\n",
       "%\\caption{Logit Regression Results}\n",
       "\\end{center}"
      ],
      "text/plain": [
       "<class 'statsmodels.iolib.summary.Summary'>\n",
       "\"\"\"\n",
       "                           Logit Regression Results                           \n",
       "==============================================================================\n",
       "Dep. Variable:         BMI_Categories   No. Observations:                11102\n",
       "Model:                          Logit   Df Residuals:                    11097\n",
       "Method:                           MLE   Df Model:                            4\n",
       "Date:                Mon, 18 Sep 2023   Pseudo R-squ.:                 0.01346\n",
       "Time:                        15:53:50   Log-Likelihood:                -6875.0\n",
       "converged:                       True   LL-Null:                       -6968.8\n",
       "Covariance Type:            nonrobust   LLR p-value:                 1.762e-39\n",
       "==============================================================================\n",
       "                 coef    std err          z      P>|z|      [0.025      0.975]\n",
       "------------------------------------------------------------------------------\n",
       "Intercept      0.5967      0.082      7.261      0.000       0.436       0.758\n",
       "SEX            0.5167      0.042     12.390      0.000       0.435       0.598\n",
       "VEGESU1       -0.0122      0.008     -1.627      0.104      -0.027       0.003\n",
       "RFSMOK3       -0.3247      0.056     -5.825      0.000      -0.434      -0.215\n",
       "HLTHPLN1       0.0028      0.080      0.035      0.972      -0.154       0.159\n",
       "==============================================================================\n",
       "\"\"\""
      ]
     },
     "execution_count": 125,
     "metadata": {},
     "output_type": "execute_result"
    }
   ],
   "source": [
    "mod3.summary()"
   ]
  },
  {
   "cell_type": "code",
   "execution_count": 127,
   "metadata": {},
   "outputs": [
    {
     "data": {
      "text/plain": [
       "Intercept    1.816096\n",
       "SEX          1.676427\n",
       "VEGESU1      0.987841\n",
       "RFSMOK3      0.722754\n",
       "HLTHPLN1     1.002821\n",
       "dtype: float64"
      ]
     },
     "execution_count": 127,
     "metadata": {},
     "output_type": "execute_result"
    }
   ],
   "source": [
    "\n",
    "mod3.params.apply(lambda x: math.exp(x))"
   ]
  },
  {
   "cell_type": "code",
   "execution_count": null,
   "metadata": {},
   "outputs": [],
   "source": []
  }
 ],
 "metadata": {
  "kernelspec": {
   "display_name": "Python 3",
   "language": "python",
   "name": "python3"
  },
  "language_info": {
   "codemirror_mode": {
    "name": "ipython",
    "version": 3
   },
   "file_extension": ".py",
   "mimetype": "text/x-python",
   "name": "python",
   "nbconvert_exporter": "python",
   "pygments_lexer": "ipython3",
   "version": "3.11.5"
  },
  "orig_nbformat": 4
 },
 "nbformat": 4,
 "nbformat_minor": 2
}
