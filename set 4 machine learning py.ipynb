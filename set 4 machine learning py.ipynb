{
 "cells": [
  {
   "cell_type": "code",
   "execution_count": 28,
   "metadata": {},
   "outputs": [],
   "source": [
    "import pandas as pd\n",
    "from sklearn.linear_model import LogisticRegression\n",
    "from sklearn.model_selection import train_test_split\n",
    "from sklearn.metrics import confusion_matrix, classification_report\n",
    "import numpy as np\n"
   ]
  },
  {
   "cell_type": "code",
   "execution_count": 2,
   "metadata": {},
   "outputs": [],
   "source": [
    "df = pd.read_csv(\"C:\\\\Users\\\\ljens\\\\Downloads\\\\HM 878 730 Clements - Logistic Regression R Data.csv\")"
   ]
  },
  {
   "cell_type": "code",
   "execution_count": 3,
   "metadata": {},
   "outputs": [
    {
     "data": {
      "text/html": [
       "<div>\n",
       "<style scoped>\n",
       "    .dataframe tbody tr th:only-of-type {\n",
       "        vertical-align: middle;\n",
       "    }\n",
       "\n",
       "    .dataframe tbody tr th {\n",
       "        vertical-align: top;\n",
       "    }\n",
       "\n",
       "    .dataframe thead th {\n",
       "        text-align: right;\n",
       "    }\n",
       "</style>\n",
       "<table border=\"1\" class=\"dataframe\">\n",
       "  <thead>\n",
       "    <tr style=\"text-align: right;\">\n",
       "      <th></th>\n",
       "      <th>HospCharges</th>\n",
       "      <th>Death</th>\n",
       "      <th>Age</th>\n",
       "      <th>Number_Diagnoses</th>\n",
       "      <th>Number_Procedures</th>\n",
       "      <th>Sex</th>\n",
       "      <th>Urban_Rural</th>\n",
       "      <th>Weighting</th>\n",
       "    </tr>\n",
       "  </thead>\n",
       "  <tbody>\n",
       "    <tr>\n",
       "      <th>count</th>\n",
       "      <td>200.000000</td>\n",
       "      <td>200.000000</td>\n",
       "      <td>200.000000</td>\n",
       "      <td>200.00000</td>\n",
       "      <td>200.000000</td>\n",
       "      <td>200.000000</td>\n",
       "      <td>200.000000</td>\n",
       "      <td>200.000000</td>\n",
       "    </tr>\n",
       "    <tr>\n",
       "      <th>mean</th>\n",
       "      <td>48429.370000</td>\n",
       "      <td>0.255000</td>\n",
       "      <td>51.345000</td>\n",
       "      <td>12.02500</td>\n",
       "      <td>1.760000</td>\n",
       "      <td>0.520000</td>\n",
       "      <td>0.185000</td>\n",
       "      <td>4.999986</td>\n",
       "    </tr>\n",
       "    <tr>\n",
       "      <th>std</th>\n",
       "      <td>62990.662813</td>\n",
       "      <td>0.436955</td>\n",
       "      <td>27.346391</td>\n",
       "      <td>7.34398</td>\n",
       "      <td>2.178562</td>\n",
       "      <td>0.500854</td>\n",
       "      <td>0.389272</td>\n",
       "      <td>0.000097</td>\n",
       "    </tr>\n",
       "    <tr>\n",
       "      <th>min</th>\n",
       "      <td>1514.000000</td>\n",
       "      <td>0.000000</td>\n",
       "      <td>0.000000</td>\n",
       "      <td>1.00000</td>\n",
       "      <td>0.000000</td>\n",
       "      <td>0.000000</td>\n",
       "      <td>0.000000</td>\n",
       "      <td>4.998868</td>\n",
       "    </tr>\n",
       "    <tr>\n",
       "      <th>25%</th>\n",
       "      <td>13995.500000</td>\n",
       "      <td>0.000000</td>\n",
       "      <td>29.000000</td>\n",
       "      <td>6.75000</td>\n",
       "      <td>0.000000</td>\n",
       "      <td>0.000000</td>\n",
       "      <td>0.000000</td>\n",
       "      <td>4.999986</td>\n",
       "    </tr>\n",
       "    <tr>\n",
       "      <th>50%</th>\n",
       "      <td>28266.500000</td>\n",
       "      <td>0.000000</td>\n",
       "      <td>57.000000</td>\n",
       "      <td>11.00000</td>\n",
       "      <td>1.000000</td>\n",
       "      <td>1.000000</td>\n",
       "      <td>0.000000</td>\n",
       "      <td>4.999997</td>\n",
       "    </tr>\n",
       "    <tr>\n",
       "      <th>75%</th>\n",
       "      <td>54737.250000</td>\n",
       "      <td>1.000000</td>\n",
       "      <td>74.000000</td>\n",
       "      <td>17.00000</td>\n",
       "      <td>3.000000</td>\n",
       "      <td>1.000000</td>\n",
       "      <td>0.000000</td>\n",
       "      <td>5.000004</td>\n",
       "    </tr>\n",
       "    <tr>\n",
       "      <th>max</th>\n",
       "      <td>446603.000000</td>\n",
       "      <td>1.000000</td>\n",
       "      <td>90.000000</td>\n",
       "      <td>40.00000</td>\n",
       "      <td>17.000000</td>\n",
       "      <td>1.000000</td>\n",
       "      <td>1.000000</td>\n",
       "      <td>5.000203</td>\n",
       "    </tr>\n",
       "  </tbody>\n",
       "</table>\n",
       "</div>"
      ],
      "text/plain": [
       "         HospCharges       Death         Age  Number_Diagnoses  \\\n",
       "count     200.000000  200.000000  200.000000         200.00000   \n",
       "mean    48429.370000    0.255000   51.345000          12.02500   \n",
       "std     62990.662813    0.436955   27.346391           7.34398   \n",
       "min      1514.000000    0.000000    0.000000           1.00000   \n",
       "25%     13995.500000    0.000000   29.000000           6.75000   \n",
       "50%     28266.500000    0.000000   57.000000          11.00000   \n",
       "75%     54737.250000    1.000000   74.000000          17.00000   \n",
       "max    446603.000000    1.000000   90.000000          40.00000   \n",
       "\n",
       "       Number_Procedures         Sex  Urban_Rural   Weighting  \n",
       "count         200.000000  200.000000   200.000000  200.000000  \n",
       "mean            1.760000    0.520000     0.185000    4.999986  \n",
       "std             2.178562    0.500854     0.389272    0.000097  \n",
       "min             0.000000    0.000000     0.000000    4.998868  \n",
       "25%             0.000000    0.000000     0.000000    4.999986  \n",
       "50%             1.000000    1.000000     0.000000    4.999997  \n",
       "75%             3.000000    1.000000     0.000000    5.000004  \n",
       "max            17.000000    1.000000     1.000000    5.000203  "
      ]
     },
     "execution_count": 3,
     "metadata": {},
     "output_type": "execute_result"
    }
   ],
   "source": [
    "df.describe()"
   ]
  },
  {
   "cell_type": "code",
   "execution_count": 9,
   "metadata": {},
   "outputs": [
    {
     "data": {
      "text/plain": [
       "Index(['HospCharges', 'Death', 'Age', 'Income_Zip', 'Insurance',\n",
       "       'Number_Diagnoses', 'Number_Procedures', 'Race', 'Sex', 'Urban_Rural',\n",
       "       'Weighting'],\n",
       "      dtype='object')"
      ]
     },
     "execution_count": 9,
     "metadata": {},
     "output_type": "execute_result"
    }
   ],
   "source": [
    "df.columns"
   ]
  },
  {
   "cell_type": "code",
   "execution_count": 37,
   "metadata": {},
   "outputs": [],
   "source": [
    "df = df.loc[df['Income_Zip']!=' ']"
   ]
  },
  {
   "cell_type": "code",
   "execution_count": 66,
   "metadata": {},
   "outputs": [
    {
     "data": {
      "text/plain": [
       "0    4\n",
       "1    4\n",
       "2    2\n",
       "3    1\n",
       "4    2\n",
       "Name: Income_Zip, dtype: object"
      ]
     },
     "execution_count": 66,
     "metadata": {},
     "output_type": "execute_result"
    }
   ],
   "source": [
    "df['Income_Zip'].head()"
   ]
  },
  {
   "cell_type": "code",
   "execution_count": 67,
   "metadata": {},
   "outputs": [
    {
     "data": {
      "text/plain": [
       "[NaN, NaN, NaN, NaN, NaN, ..., NaN, NaN, NaN, NaN, NaN]\n",
       "Length: 196\n",
       "Categories (5, object): ['Q1' < 'Q2' < 'Q3' < 'Q4' < 'Q5']"
      ]
     },
     "execution_count": 67,
     "metadata": {},
     "output_type": "execute_result"
    }
   ],
   "source": [
    "pd.Categorical(df['Income_Zip'] , categories=['Q1','Q2','Q3','Q4','Q5'], ordered=True) "
   ]
  },
  {
   "cell_type": "code",
   "execution_count": 59,
   "metadata": {},
   "outputs": [],
   "source": [
    "from sklearn.preprocessing import OrdinalEncoder"
   ]
  },
  {
   "cell_type": "code",
   "execution_count": null,
   "metadata": {},
   "outputs": [],
   "source": []
  },
  {
   "cell_type": "code",
   "execution_count": 71,
   "metadata": {},
   "outputs": [],
   "source": [
    "df['income'] = df['Income_Zip'].apply(lambda x: 'Q'+ str(x))"
   ]
  },
  {
   "cell_type": "code",
   "execution_count": 79,
   "metadata": {},
   "outputs": [
    {
     "data": {
      "text/plain": [
       "array([['Q4'],\n",
       "       ['Q4'],\n",
       "       ['Q2'],\n",
       "       ['Q1'],\n",
       "       ['Q2'],\n",
       "       ['Q4'],\n",
       "       ['Q1'],\n",
       "       ['Q1'],\n",
       "       ['Q4'],\n",
       "       ['Q2'],\n",
       "       ['Q3'],\n",
       "       ['Q1'],\n",
       "       ['Q3'],\n",
       "       ['Q3'],\n",
       "       ['Q3'],\n",
       "       ['Q3'],\n",
       "       ['Q4'],\n",
       "       ['Q3'],\n",
       "       ['Q2'],\n",
       "       ['Q4'],\n",
       "       ['Q4'],\n",
       "       ['Q3'],\n",
       "       ['Q3'],\n",
       "       ['Q4'],\n",
       "       ['Q2'],\n",
       "       ['Q2'],\n",
       "       ['Q2'],\n",
       "       ['Q1'],\n",
       "       ['Q4'],\n",
       "       ['Q2'],\n",
       "       ['Q3'],\n",
       "       ['Q4'],\n",
       "       ['Q1'],\n",
       "       ['Q2'],\n",
       "       ['Q4'],\n",
       "       ['Q2'],\n",
       "       ['Q4'],\n",
       "       ['Q2'],\n",
       "       ['Q2'],\n",
       "       ['Q1'],\n",
       "       ['Q4'],\n",
       "       ['Q1'],\n",
       "       ['Q3'],\n",
       "       ['Q2'],\n",
       "       ['Q4'],\n",
       "       ['Q2'],\n",
       "       ['Q2'],\n",
       "       ['Q3'],\n",
       "       ['Q1'],\n",
       "       ['Q1'],\n",
       "       ['Q4'],\n",
       "       ['Q2'],\n",
       "       ['Q2'],\n",
       "       ['Q2'],\n",
       "       ['Q2'],\n",
       "       ['Q3'],\n",
       "       ['Q3'],\n",
       "       ['Q2'],\n",
       "       ['Q2'],\n",
       "       ['Q3'],\n",
       "       ['Q1'],\n",
       "       ['Q1'],\n",
       "       ['Q1'],\n",
       "       ['Q3'],\n",
       "       ['Q2'],\n",
       "       ['Q2'],\n",
       "       ['Q4'],\n",
       "       ['Q1'],\n",
       "       ['Q2'],\n",
       "       ['Q3'],\n",
       "       ['Q4'],\n",
       "       ['Q3'],\n",
       "       ['Q4'],\n",
       "       ['Q4'],\n",
       "       ['Q3'],\n",
       "       ['Q2'],\n",
       "       ['Q4'],\n",
       "       ['Q2'],\n",
       "       ['Q3'],\n",
       "       ['Q1'],\n",
       "       ['Q1'],\n",
       "       ['Q3'],\n",
       "       ['Q2'],\n",
       "       ['Q1'],\n",
       "       ['Q2'],\n",
       "       ['Q1'],\n",
       "       ['Q1'],\n",
       "       ['Q2'],\n",
       "       ['Q2'],\n",
       "       ['Q1'],\n",
       "       ['Q3'],\n",
       "       ['Q4'],\n",
       "       ['Q1'],\n",
       "       ['Q2'],\n",
       "       ['Q2'],\n",
       "       ['Q3'],\n",
       "       ['Q3'],\n",
       "       ['Q2'],\n",
       "       ['Q3'],\n",
       "       ['Q2'],\n",
       "       ['Q2'],\n",
       "       ['Q4'],\n",
       "       ['Q2'],\n",
       "       ['Q1'],\n",
       "       ['Q1'],\n",
       "       ['Q2'],\n",
       "       ['Q2'],\n",
       "       ['Q4'],\n",
       "       ['Q2'],\n",
       "       ['Q2'],\n",
       "       ['Q1'],\n",
       "       ['Q1'],\n",
       "       ['Q2'],\n",
       "       ['Q3'],\n",
       "       ['Q3'],\n",
       "       ['Q1'],\n",
       "       ['Q1'],\n",
       "       ['Q2'],\n",
       "       ['Q2'],\n",
       "       ['Q4'],\n",
       "       ['Q3'],\n",
       "       ['Q1'],\n",
       "       ['Q2'],\n",
       "       ['Q1'],\n",
       "       ['Q2'],\n",
       "       ['Q1'],\n",
       "       ['Q1'],\n",
       "       ['Q1'],\n",
       "       ['Q1'],\n",
       "       ['Q1'],\n",
       "       ['Q4'],\n",
       "       ['Q1'],\n",
       "       ['Q4'],\n",
       "       ['Q1'],\n",
       "       ['Q2'],\n",
       "       ['Q2'],\n",
       "       ['Q1'],\n",
       "       ['Q1'],\n",
       "       ['Q4'],\n",
       "       ['Q2'],\n",
       "       ['Q1'],\n",
       "       ['Q4'],\n",
       "       ['Q3'],\n",
       "       ['Q3'],\n",
       "       ['Q3'],\n",
       "       ['Q2'],\n",
       "       ['Q2'],\n",
       "       ['Q4'],\n",
       "       ['Q1'],\n",
       "       ['Q3'],\n",
       "       ['Q2'],\n",
       "       ['Q2'],\n",
       "       ['Q3'],\n",
       "       ['Q4'],\n",
       "       ['Q3'],\n",
       "       ['Q1'],\n",
       "       ['Q3'],\n",
       "       ['Q3'],\n",
       "       ['Q2'],\n",
       "       ['Q2'],\n",
       "       ['Q1'],\n",
       "       ['Q2'],\n",
       "       ['Q3'],\n",
       "       ['Q4'],\n",
       "       ['Q4'],\n",
       "       ['Q4'],\n",
       "       ['Q4'],\n",
       "       ['Q1'],\n",
       "       ['Q3'],\n",
       "       ['Q4'],\n",
       "       ['Q1'],\n",
       "       ['Q2'],\n",
       "       ['Q2'],\n",
       "       ['Q2'],\n",
       "       ['Q2'],\n",
       "       ['Q4'],\n",
       "       ['Q1'],\n",
       "       ['Q4'],\n",
       "       ['Q4'],\n",
       "       ['Q4'],\n",
       "       ['Q2'],\n",
       "       ['Q3'],\n",
       "       ['Q3'],\n",
       "       ['Q4'],\n",
       "       ['Q4'],\n",
       "       ['Q3'],\n",
       "       ['Q3'],\n",
       "       ['Q3'],\n",
       "       ['Q3'],\n",
       "       ['Q2'],\n",
       "       ['Q4'],\n",
       "       ['Q3'],\n",
       "       ['Q2'],\n",
       "       ['Q3'],\n",
       "       ['Q2'],\n",
       "       ['Q2']], dtype=object)"
      ]
     },
     "execution_count": 79,
     "metadata": {},
     "output_type": "execute_result"
    }
   ],
   "source": [
    "np.array(df['income']).reshape(-1,1)"
   ]
  },
  {
   "cell_type": "code",
   "execution_count": 86,
   "metadata": {},
   "outputs": [],
   "source": [
    "enc = OrdinalEncoder(categories=[['Q1','Q2','Q3','Q4']])\n",
    "n = enc.fit_transform(np.array(df['income']).reshape(-1,1))\n",
    "#print(enc.transform(df['income']).reshape(-1,1))"
   ]
  },
  {
   "cell_type": "code",
   "execution_count": null,
   "metadata": {},
   "outputs": [],
   "source": []
  },
  {
   "cell_type": "code",
   "execution_count": null,
   "metadata": {},
   "outputs": [],
   "source": []
  },
  {
   "cell_type": "code",
   "execution_count": null,
   "metadata": {},
   "outputs": [],
   "source": []
  },
  {
   "cell_type": "code",
   "execution_count": null,
   "metadata": {},
   "outputs": [],
   "source": []
  },
  {
   "cell_type": "code",
   "execution_count": 10,
   "metadata": {},
   "outputs": [],
   "source": [
    "exog_variables = [\n",
    "    'Age','Income_Zip','Insurance','Number_Diagnoses'\n",
    "    ,'Number_Procedures','Race','Sex','Urban_Rural'\n",
    "    ]\n",
    "X = df[exog_variables]\n",
    "y = df['Death']"
   ]
  },
  {
   "cell_type": "code",
   "execution_count": 11,
   "metadata": {},
   "outputs": [],
   "source": [
    "X_train, X_test, y_train, t_test = train_test_split(X, y, test_size=0.25, random_state=16)"
   ]
  },
  {
   "cell_type": "code",
   "execution_count": 12,
   "metadata": {},
   "outputs": [
    {
     "ename": "ValueError",
     "evalue": "could not convert string to float: ' '",
     "output_type": "error",
     "traceback": [
      "\u001b[1;31m---------------------------------------------------------------------------\u001b[0m",
      "\u001b[1;31mValueError\u001b[0m                                Traceback (most recent call last)",
      "\u001b[1;32mc:\\Users\\ljens\\OneDrive\\Documents\\MSU MPH\\Coursework\\878\\HM878-Biostats\\set 4 machine learning py.ipynb Cell 7\u001b[0m line \u001b[0;36m2\n\u001b[0;32m      <a href='vscode-notebook-cell:/c%3A/Users/ljens/OneDrive/Documents/MSU%20MPH/Coursework/878/HM878-Biostats/set%204%20machine%20learning%20py.ipynb#W5sZmlsZQ%3D%3D?line=0'>1</a>\u001b[0m logreg \u001b[39m=\u001b[39m LogisticRegression(random_state\u001b[39m=\u001b[39m\u001b[39m16\u001b[39m)\n\u001b[1;32m----> <a href='vscode-notebook-cell:/c%3A/Users/ljens/OneDrive/Documents/MSU%20MPH/Coursework/878/HM878-Biostats/set%204%20machine%20learning%20py.ipynb#W5sZmlsZQ%3D%3D?line=1'>2</a>\u001b[0m logreg\u001b[39m.\u001b[39;49mfit(X_train, y_train)\n\u001b[0;32m      <a href='vscode-notebook-cell:/c%3A/Users/ljens/OneDrive/Documents/MSU%20MPH/Coursework/878/HM878-Biostats/set%204%20machine%20learning%20py.ipynb#W5sZmlsZQ%3D%3D?line=2'>3</a>\u001b[0m y_pred \u001b[39m=\u001b[39m logreg\u001b[39m.\u001b[39mpredict(X_test)\n",
      "File \u001b[1;32mc:\\Users\\ljens\\scoop\\apps\\python\\current\\Lib\\site-packages\\sklearn\\base.py:1151\u001b[0m, in \u001b[0;36m_fit_context.<locals>.decorator.<locals>.wrapper\u001b[1;34m(estimator, *args, **kwargs)\u001b[0m\n\u001b[0;32m   1144\u001b[0m     estimator\u001b[39m.\u001b[39m_validate_params()\n\u001b[0;32m   1146\u001b[0m \u001b[39mwith\u001b[39;00m config_context(\n\u001b[0;32m   1147\u001b[0m     skip_parameter_validation\u001b[39m=\u001b[39m(\n\u001b[0;32m   1148\u001b[0m         prefer_skip_nested_validation \u001b[39mor\u001b[39;00m global_skip_validation\n\u001b[0;32m   1149\u001b[0m     )\n\u001b[0;32m   1150\u001b[0m ):\n\u001b[1;32m-> 1151\u001b[0m     \u001b[39mreturn\u001b[39;00m fit_method(estimator, \u001b[39m*\u001b[39;49margs, \u001b[39m*\u001b[39;49m\u001b[39m*\u001b[39;49mkwargs)\n",
      "File \u001b[1;32mc:\\Users\\ljens\\scoop\\apps\\python\\current\\Lib\\site-packages\\sklearn\\linear_model\\_logistic.py:1207\u001b[0m, in \u001b[0;36mLogisticRegression.fit\u001b[1;34m(self, X, y, sample_weight)\u001b[0m\n\u001b[0;32m   1204\u001b[0m \u001b[39melse\u001b[39;00m:\n\u001b[0;32m   1205\u001b[0m     _dtype \u001b[39m=\u001b[39m [np\u001b[39m.\u001b[39mfloat64, np\u001b[39m.\u001b[39mfloat32]\n\u001b[1;32m-> 1207\u001b[0m X, y \u001b[39m=\u001b[39m \u001b[39mself\u001b[39;49m\u001b[39m.\u001b[39;49m_validate_data(\n\u001b[0;32m   1208\u001b[0m     X,\n\u001b[0;32m   1209\u001b[0m     y,\n\u001b[0;32m   1210\u001b[0m     accept_sparse\u001b[39m=\u001b[39;49m\u001b[39m\"\u001b[39;49m\u001b[39mcsr\u001b[39;49m\u001b[39m\"\u001b[39;49m,\n\u001b[0;32m   1211\u001b[0m     dtype\u001b[39m=\u001b[39;49m_dtype,\n\u001b[0;32m   1212\u001b[0m     order\u001b[39m=\u001b[39;49m\u001b[39m\"\u001b[39;49m\u001b[39mC\u001b[39;49m\u001b[39m\"\u001b[39;49m,\n\u001b[0;32m   1213\u001b[0m     accept_large_sparse\u001b[39m=\u001b[39;49msolver \u001b[39mnot\u001b[39;49;00m \u001b[39min\u001b[39;49;00m [\u001b[39m\"\u001b[39;49m\u001b[39mliblinear\u001b[39;49m\u001b[39m\"\u001b[39;49m, \u001b[39m\"\u001b[39;49m\u001b[39msag\u001b[39;49m\u001b[39m\"\u001b[39;49m, \u001b[39m\"\u001b[39;49m\u001b[39msaga\u001b[39;49m\u001b[39m\"\u001b[39;49m],\n\u001b[0;32m   1214\u001b[0m )\n\u001b[0;32m   1215\u001b[0m check_classification_targets(y)\n\u001b[0;32m   1216\u001b[0m \u001b[39mself\u001b[39m\u001b[39m.\u001b[39mclasses_ \u001b[39m=\u001b[39m np\u001b[39m.\u001b[39munique(y)\n",
      "File \u001b[1;32mc:\\Users\\ljens\\scoop\\apps\\python\\current\\Lib\\site-packages\\sklearn\\base.py:621\u001b[0m, in \u001b[0;36mBaseEstimator._validate_data\u001b[1;34m(self, X, y, reset, validate_separately, cast_to_ndarray, **check_params)\u001b[0m\n\u001b[0;32m    619\u001b[0m         y \u001b[39m=\u001b[39m check_array(y, input_name\u001b[39m=\u001b[39m\u001b[39m\"\u001b[39m\u001b[39my\u001b[39m\u001b[39m\"\u001b[39m, \u001b[39m*\u001b[39m\u001b[39m*\u001b[39mcheck_y_params)\n\u001b[0;32m    620\u001b[0m     \u001b[39melse\u001b[39;00m:\n\u001b[1;32m--> 621\u001b[0m         X, y \u001b[39m=\u001b[39m check_X_y(X, y, \u001b[39m*\u001b[39;49m\u001b[39m*\u001b[39;49mcheck_params)\n\u001b[0;32m    622\u001b[0m     out \u001b[39m=\u001b[39m X, y\n\u001b[0;32m    624\u001b[0m \u001b[39mif\u001b[39;00m \u001b[39mnot\u001b[39;00m no_val_X \u001b[39mand\u001b[39;00m check_params\u001b[39m.\u001b[39mget(\u001b[39m\"\u001b[39m\u001b[39mensure_2d\u001b[39m\u001b[39m\"\u001b[39m, \u001b[39mTrue\u001b[39;00m):\n",
      "File \u001b[1;32mc:\\Users\\ljens\\scoop\\apps\\python\\current\\Lib\\site-packages\\sklearn\\utils\\validation.py:1147\u001b[0m, in \u001b[0;36mcheck_X_y\u001b[1;34m(X, y, accept_sparse, accept_large_sparse, dtype, order, copy, force_all_finite, ensure_2d, allow_nd, multi_output, ensure_min_samples, ensure_min_features, y_numeric, estimator)\u001b[0m\n\u001b[0;32m   1142\u001b[0m         estimator_name \u001b[39m=\u001b[39m _check_estimator_name(estimator)\n\u001b[0;32m   1143\u001b[0m     \u001b[39mraise\u001b[39;00m \u001b[39mValueError\u001b[39;00m(\n\u001b[0;32m   1144\u001b[0m         \u001b[39mf\u001b[39m\u001b[39m\"\u001b[39m\u001b[39m{\u001b[39;00mestimator_name\u001b[39m}\u001b[39;00m\u001b[39m requires y to be passed, but the target y is None\u001b[39m\u001b[39m\"\u001b[39m\n\u001b[0;32m   1145\u001b[0m     )\n\u001b[1;32m-> 1147\u001b[0m X \u001b[39m=\u001b[39m check_array(\n\u001b[0;32m   1148\u001b[0m     X,\n\u001b[0;32m   1149\u001b[0m     accept_sparse\u001b[39m=\u001b[39;49maccept_sparse,\n\u001b[0;32m   1150\u001b[0m     accept_large_sparse\u001b[39m=\u001b[39;49maccept_large_sparse,\n\u001b[0;32m   1151\u001b[0m     dtype\u001b[39m=\u001b[39;49mdtype,\n\u001b[0;32m   1152\u001b[0m     order\u001b[39m=\u001b[39;49morder,\n\u001b[0;32m   1153\u001b[0m     copy\u001b[39m=\u001b[39;49mcopy,\n\u001b[0;32m   1154\u001b[0m     force_all_finite\u001b[39m=\u001b[39;49mforce_all_finite,\n\u001b[0;32m   1155\u001b[0m     ensure_2d\u001b[39m=\u001b[39;49mensure_2d,\n\u001b[0;32m   1156\u001b[0m     allow_nd\u001b[39m=\u001b[39;49mallow_nd,\n\u001b[0;32m   1157\u001b[0m     ensure_min_samples\u001b[39m=\u001b[39;49mensure_min_samples,\n\u001b[0;32m   1158\u001b[0m     ensure_min_features\u001b[39m=\u001b[39;49mensure_min_features,\n\u001b[0;32m   1159\u001b[0m     estimator\u001b[39m=\u001b[39;49mestimator,\n\u001b[0;32m   1160\u001b[0m     input_name\u001b[39m=\u001b[39;49m\u001b[39m\"\u001b[39;49m\u001b[39mX\u001b[39;49m\u001b[39m\"\u001b[39;49m,\n\u001b[0;32m   1161\u001b[0m )\n\u001b[0;32m   1163\u001b[0m y \u001b[39m=\u001b[39m _check_y(y, multi_output\u001b[39m=\u001b[39mmulti_output, y_numeric\u001b[39m=\u001b[39my_numeric, estimator\u001b[39m=\u001b[39mestimator)\n\u001b[0;32m   1165\u001b[0m check_consistent_length(X, y)\n",
      "File \u001b[1;32mc:\\Users\\ljens\\scoop\\apps\\python\\current\\Lib\\site-packages\\sklearn\\utils\\validation.py:917\u001b[0m, in \u001b[0;36mcheck_array\u001b[1;34m(array, accept_sparse, accept_large_sparse, dtype, order, copy, force_all_finite, ensure_2d, allow_nd, ensure_min_samples, ensure_min_features, estimator, input_name)\u001b[0m\n\u001b[0;32m    915\u001b[0m         array \u001b[39m=\u001b[39m xp\u001b[39m.\u001b[39mastype(array, dtype, copy\u001b[39m=\u001b[39m\u001b[39mFalse\u001b[39;00m)\n\u001b[0;32m    916\u001b[0m     \u001b[39melse\u001b[39;00m:\n\u001b[1;32m--> 917\u001b[0m         array \u001b[39m=\u001b[39m _asarray_with_order(array, order\u001b[39m=\u001b[39;49morder, dtype\u001b[39m=\u001b[39;49mdtype, xp\u001b[39m=\u001b[39;49mxp)\n\u001b[0;32m    918\u001b[0m \u001b[39mexcept\u001b[39;00m ComplexWarning \u001b[39mas\u001b[39;00m complex_warning:\n\u001b[0;32m    919\u001b[0m     \u001b[39mraise\u001b[39;00m \u001b[39mValueError\u001b[39;00m(\n\u001b[0;32m    920\u001b[0m         \u001b[39m\"\u001b[39m\u001b[39mComplex data not supported\u001b[39m\u001b[39m\\n\u001b[39;00m\u001b[39m{}\u001b[39;00m\u001b[39m\\n\u001b[39;00m\u001b[39m\"\u001b[39m\u001b[39m.\u001b[39mformat(array)\n\u001b[0;32m    921\u001b[0m     ) \u001b[39mfrom\u001b[39;00m \u001b[39mcomplex_warning\u001b[39;00m\n",
      "File \u001b[1;32mc:\\Users\\ljens\\scoop\\apps\\python\\current\\Lib\\site-packages\\sklearn\\utils\\_array_api.py:380\u001b[0m, in \u001b[0;36m_asarray_with_order\u001b[1;34m(array, dtype, order, copy, xp)\u001b[0m\n\u001b[0;32m    378\u001b[0m     array \u001b[39m=\u001b[39m numpy\u001b[39m.\u001b[39marray(array, order\u001b[39m=\u001b[39morder, dtype\u001b[39m=\u001b[39mdtype)\n\u001b[0;32m    379\u001b[0m \u001b[39melse\u001b[39;00m:\n\u001b[1;32m--> 380\u001b[0m     array \u001b[39m=\u001b[39m numpy\u001b[39m.\u001b[39;49masarray(array, order\u001b[39m=\u001b[39;49morder, dtype\u001b[39m=\u001b[39;49mdtype)\n\u001b[0;32m    382\u001b[0m \u001b[39m# At this point array is a NumPy ndarray. We convert it to an array\u001b[39;00m\n\u001b[0;32m    383\u001b[0m \u001b[39m# container that is consistent with the input's namespace.\u001b[39;00m\n\u001b[0;32m    384\u001b[0m \u001b[39mreturn\u001b[39;00m xp\u001b[39m.\u001b[39masarray(array)\n",
      "File \u001b[1;32mc:\\Users\\ljens\\scoop\\apps\\python\\current\\Lib\\site-packages\\pandas\\core\\generic.py:2070\u001b[0m, in \u001b[0;36mNDFrame.__array__\u001b[1;34m(self, dtype)\u001b[0m\n\u001b[0;32m   2069\u001b[0m \u001b[39mdef\u001b[39;00m \u001b[39m__array__\u001b[39m(\u001b[39mself\u001b[39m, dtype: npt\u001b[39m.\u001b[39mDTypeLike \u001b[39m|\u001b[39m \u001b[39mNone\u001b[39;00m \u001b[39m=\u001b[39m \u001b[39mNone\u001b[39;00m) \u001b[39m-\u001b[39m\u001b[39m>\u001b[39m np\u001b[39m.\u001b[39mndarray:\n\u001b[1;32m-> 2070\u001b[0m     \u001b[39mreturn\u001b[39;00m np\u001b[39m.\u001b[39;49masarray(\u001b[39mself\u001b[39;49m\u001b[39m.\u001b[39;49m_values, dtype\u001b[39m=\u001b[39;49mdtype)\n",
      "\u001b[1;31mValueError\u001b[0m: could not convert string to float: ' '"
     ]
    }
   ],
   "source": [
    "logreg = LogisticRegression(random_state=16)\n",
    "logreg.fit(X_train, y_train)\n",
    "y_pred = logreg.predict(X_test)"
   ]
  },
  {
   "cell_type": "code",
   "execution_count": null,
   "metadata": {},
   "outputs": [],
   "source": []
  }
 ],
 "metadata": {
  "kernelspec": {
   "display_name": "Python 3",
   "language": "python",
   "name": "python3"
  },
  "language_info": {
   "codemirror_mode": {
    "name": "ipython",
    "version": 3
   },
   "file_extension": ".py",
   "mimetype": "text/x-python",
   "name": "python",
   "nbconvert_exporter": "python",
   "pygments_lexer": "ipython3",
   "version": "3.11.5"
  }
 },
 "nbformat": 4,
 "nbformat_minor": 2
}
